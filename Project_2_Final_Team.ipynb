{
 "cells": [
  {
   "cell_type": "markdown",
   "metadata": {
    "id": "b-G77md2OYGg"
   },
   "source": [
    "# DS-7331 Machine Learning Project 2\n",
    "## Airbnb Price Data - Classification and Regression Tasks\n",
    "### Allen Miller, Ana Glaser, Jake Harrison, Lola Awodipe"
   ]
  },
  {
   "cell_type": "code",
   "execution_count": 9,
   "metadata": {
    "id": "uwnlnel6OYGk"
   },
   "outputs": [],
   "source": [
    "#loading libraries\n",
    "import warnings\n",
    "warnings.filterwarnings('ignore')\n",
    "\n",
    "import pandas as pd\n",
    "from sklearn.linear_model import LogisticRegression\n",
    "from sklearn.preprocessing import StandardScaler\n",
    "from sklearn.model_selection import StratifiedShuffleSplit\n",
    "\n",
    "import matplotlib.pyplot as plt\n",
    "%matplotlib inline\n",
    "\n",
    "import seaborn as sns\n",
    "\n",
    "from sklearn.model_selection import train_test_split\n",
    "\n",
    "import numpy as np\n",
    "from scipy import stats\n",
    "\n",
    "from sklearn import metrics as mt"
   ]
  },
  {
   "cell_type": "code",
   "execution_count": 10,
   "metadata": {
    "id": "58HEn4SPOsBh"
   },
   "outputs": [],
   "source": [
    "pdata = pd.read_csv(\"airbnb.csv\")"
   ]
  },
  {
   "cell_type": "markdown",
   "metadata": {
    "id": "UGxaK4W9OYGl"
   },
   "source": [
    "### Table of Contents\n",
    "\n",
    "0. Background\n",
    "<br>\n",
    "1. Data Preparation (Data Preparation 1)\n",
    "<br>\n",
    "    1.1 Data Preparation before task-oriented data split\n",
    "    <br>    \n",
    "    1.2 Data Preparation for Classification Models (Data Preparation 2 Pt. 1)\n",
    "    <br>\n",
    "    1.3 Data Preparation for Regression Models (Data Preparation 2 Pt. 2)\n",
    "    <br>\n",
    "2. Modeling and Evaluation\n",
    "<br>\n",
    "    2.1 Evaluation Metrics (Model and Evaluation 1)\n",
    "    <br>\n",
    "    2.2 Method for Splitting train and test data (Model and Evaluation 2)\n",
    "    <br>\n",
    "&nbsp;&nbsp;&nbsp;&nbsp;&nbsp;&nbsp; 2.2.1 Classification\n",
    "        <br>\n",
    "&nbsp;&nbsp;&nbsp;&nbsp;&nbsp;&nbsp; 2.2.2 Regression Models\n",
    "        <br>\n",
    "    2.3 Classification Models (Model and Evaluation 3 Pt. 1)\n",
    "    <br>\n",
    "&nbsp;&nbsp;&nbsp;&nbsp;&nbsp;&nbsp; 2.3.1 Random Forest\n",
    "        <br>\n",
    "&nbsp;&nbsp;&nbsp;&nbsp;&nbsp;&nbsp; 2.3.2 KNN\n",
    "        <br>\n",
    "&nbsp;&nbsp;&nbsp;&nbsp;&nbsp;&nbsp; 2.3.3 Logistic Regression\n",
    "        <br>\n",
    "    2.4 Regression Models (Model and Evaluation 3 Pt. 2)\n",
    "    <br>\n",
    "&nbsp;&nbsp;&nbsp;&nbsp;&nbsp;&nbsp; 2.4.1 LASSO\n",
    "        <br>\n",
    "&nbsp;&nbsp;&nbsp;&nbsp;&nbsp;&nbsp; 2.4.2 Random Forest\n",
    "        <br>\n",
    " &nbsp;&nbsp;&nbsp;&nbsp;&nbsp;&nbsp; 2.4.3 Ridge Regression\n",
    "        <br>\n",
    "    2.5 Comparison of Models (Model and Evaluation 4)\n",
    "    <br>\n",
    " &nbsp;&nbsp;&nbsp;&nbsp;&nbsp;&nbsp; 2.5.1 Classification Models\n",
    "        <br>\n",
    "&nbsp;&nbsp;&nbsp;&nbsp;&nbsp;&nbsp; 2.5.2 Regression Models\n",
    "        <br>\n",
    "    2.6 Advantages of Models (Model and Evaluation 5)\n",
    "    <br>\n",
    " &nbsp;&nbsp;&nbsp;&nbsp;&nbsp;&nbsp; 2.6.1 Classification Models\n",
    "        <br>\n",
    "&nbsp;&nbsp;&nbsp;&nbsp;&nbsp;&nbsp; 2.6.2 Regression Models\n",
    "        <br>\n",
    "     2.7 Comparison of Models (Model and Evaluation 4)\n",
    "    <br>\n",
    " &nbsp;&nbsp;&nbsp;&nbsp;&nbsp;&nbsp; 2.7.1 Classification Models\n",
    "        <br>\n",
    "&nbsp;&nbsp;&nbsp;&nbsp;&nbsp;&nbsp; 2.7.2 Regression Models\n",
    "        <br>\n",
    "3. Deployment\n",
    "<br>\n",
    "4. Exceptional Work\n"
   ]
  },
  {
   "cell_type": "markdown",
   "metadata": {
    "id": "B0TOExvBOYGm"
   },
   "source": [
    "#### Background\n",
    "We are using Airbnb data provided by Kaggle to estimate the price of Airbnb properties, as well as classifying the property type. In this project, we will perform two tasks: regression and classification.\n",
    "\n",
    "For the regression, we will be using models such as Lasso Regression, Ridge Regression and Random Forest to predict the price of a listing. We will assess these models by using MAPE, MAE, and RMSE.\n",
    "\n",
    "For the classification, we will be using the Logistic Regression, KNN, and Random Forest to predict the property type of the listing. We will assess these models using accuracy, precision, recall, F1 score, and confusion matrix."
   ]
  },
  {
   "cell_type": "markdown",
   "metadata": {
    "id": "wZmuH1MSOYGo"
   },
   "source": [
    "### 1. Data Preparation"
   ]
  },
  {
   "cell_type": "markdown",
   "metadata": {
    "id": "wRjv3HteOYGo"
   },
   "source": [
    "#### 1.1 Data Preparation before task-oriented data split"
   ]
  },
  {
   "cell_type": "code",
   "execution_count": 5,
   "metadata": {
    "colab": {
     "base_uri": "https://localhost:8080/"
    },
    "id": "nDnArhBtOYGp",
    "outputId": "86d81bd7-ee1d-4e68-fa81-b30988acdce8"
   },
   "outputs": [
    {
     "name": "stdout",
     "output_type": "stream",
     "text": [
      "<class 'pandas.core.frame.DataFrame'>\n",
      "RangeIndex: 74111 entries, 0 to 74110\n",
      "Data columns (total 26 columns):\n",
      " #   Column                  Non-Null Count  Dtype  \n",
      "---  ------                  --------------  -----  \n",
      " 0   id                      74111 non-null  int64  \n",
      " 1   log_price               74111 non-null  float64\n",
      " 2   property_type           74111 non-null  object \n",
      " 3   room_type               74111 non-null  object \n",
      " 4   accommodates            74111 non-null  int64  \n",
      " 5   bathrooms               73911 non-null  float64\n",
      " 6   bed_type                74111 non-null  object \n",
      " 7   cancellation_policy     74111 non-null  object \n",
      " 8   cleaning_fee            74111 non-null  bool   \n",
      " 9   city                    74111 non-null  object \n",
      " 10  description             74111 non-null  object \n",
      " 11  first_review            58247 non-null  object \n",
      " 12  host_has_profile_pic    73923 non-null  object \n",
      " 13  host_identity_verified  73923 non-null  object \n",
      " 14  host_response_rate      55812 non-null  object \n",
      " 15  host_since              73923 non-null  object \n",
      " 16  instant_bookable        74111 non-null  object \n",
      " 17  last_review             58284 non-null  object \n",
      " 18  latitude                74111 non-null  float64\n",
      " 19  longitude               74111 non-null  float64\n",
      " 20  neighbourhood           67239 non-null  object \n",
      " 21  number_of_reviews       74111 non-null  int64  \n",
      " 22  review_scores_rating    57389 non-null  float64\n",
      " 23  zipcode                 73145 non-null  object \n",
      " 24  bedrooms                74020 non-null  float64\n",
      " 25  beds                    73980 non-null  float64\n",
      "dtypes: bool(1), float64(7), int64(3), object(15)\n",
      "memory usage: 14.2+ MB\n"
     ]
    }
   ],
   "source": [
    "#Define Class variables\n",
    "pdata.info()"
   ]
  },
  {
   "cell_type": "code",
   "execution_count": 6,
   "metadata": {
    "colab": {
     "base_uri": "https://localhost:8080/"
    },
    "id": "ldcTaK2kOYGq",
    "outputId": "86445e94-6a06-474b-9103-ead596c3966d"
   },
   "outputs": [
    {
     "data": {
      "text/plain": [
       "id                     -0.260616\n",
       "log_price               0.514695\n",
       "accommodates            2.231561\n",
       "bathrooms               3.691453\n",
       "cleaning_fee           -1.059603\n",
       "latitude               -0.534766\n",
       "longitude              -0.407100\n",
       "number_of_reviews       3.702835\n",
       "review_scores_rating   -3.380861\n",
       "bedrooms                1.989849\n",
       "beds                    3.358000\n",
       "dtype: float64"
      ]
     },
     "execution_count": 6,
     "metadata": {
      "tags": []
     },
     "output_type": "execute_result"
    }
   ],
   "source": [
    "#Evaluating skewness\n",
    "pdata.skew()\n",
    "#Decided to make a cutoff for number_of_reviews, review_scores_rating, and beds because of outliers and non-normal data"
   ]
  },
  {
   "cell_type": "code",
   "execution_count": 11,
   "metadata": {
    "id": "A6u2jC2gOYGr"
   },
   "outputs": [],
   "source": [
    "#Pre-Processing Methods\n",
    "#removing outliers to reduce skewness of data \n",
    "z = pdata[pdata['number_of_reviews']> 100]\n",
    "for i in list (z[z['number_of_reviews']> 100].index):\n",
    "    pdata.loc[i,'number_of_reviews'] = 100\n",
    "    \n",
    "y = pdata[pdata['review_scores_rating']< 80]\n",
    "for i in list (y[y['review_scores_rating']< 80].index):\n",
    "    pdata.loc[i,'review_scores_rating'] = 80\n",
    "    \n",
    "x = pdata[pdata['beds']> 5]\n",
    "for i in list (x[x['beds']> 5].index):\n",
    "    pdata.loc[i,'beds'] = 5"
   ]
  },
  {
   "cell_type": "code",
   "execution_count": 8,
   "metadata": {
    "colab": {
     "base_uri": "https://localhost:8080/"
    },
    "id": "gnlT5yCqOYGs",
    "outputId": "d2289f3a-2c94-4fdf-ccd4-c909354c9f8a"
   },
   "outputs": [
    {
     "data": {
      "text/plain": [
       "id                     -0.260616\n",
       "log_price               0.514695\n",
       "accommodates            2.231561\n",
       "bathrooms               3.691453\n",
       "cleaning_fee           -1.059603\n",
       "latitude               -0.534766\n",
       "longitude              -0.407100\n",
       "number_of_reviews       1.841134\n",
       "review_scores_rating   -1.143345\n",
       "bedrooms                1.989849\n",
       "beds                    1.692681\n",
       "dtype: float64"
      ]
     },
     "execution_count": 8,
     "metadata": {
      "tags": []
     },
     "output_type": "execute_result"
    }
   ],
   "source": [
    "#evaluating data for skewness after outlier transformation\n",
    "pdata.skew()"
   ]
  },
  {
   "cell_type": "markdown",
   "metadata": {
    "id": "b5dZnNZROYGs"
   },
   "source": [
    "#### 1.2 Data Preperation for Classification Task"
   ]
  },
  {
   "cell_type": "code",
   "execution_count": 12,
   "metadata": {
    "id": "UnIxZT4IOYGt"
   },
   "outputs": [],
   "source": [
    "#dropping records with excess blank values, still had over 64k records to evaluate\n",
    "pdata_cls = pdata.dropna()"
   ]
  },
  {
   "cell_type": "code",
   "execution_count": 10,
   "metadata": {
    "colab": {
     "base_uri": "https://localhost:8080/"
    },
    "id": "7b-atM1TOYGt",
    "outputId": "b2393701-a6e1-495f-b7be-3a638f06b1ac"
   },
   "outputs": [
    {
     "data": {
      "text/plain": [
       "id                     -0.255823\n",
       "log_price               0.377120\n",
       "accommodates            2.119839\n",
       "bathrooms               3.705744\n",
       "cleaning_fee           -1.701312\n",
       "latitude               -0.649299\n",
       "longitude              -0.502707\n",
       "number_of_reviews       1.268297\n",
       "review_scores_rating   -1.155152\n",
       "bedrooms                1.874469\n",
       "beds                    1.539853\n",
       "dtype: float64"
      ]
     },
     "execution_count": 10,
     "metadata": {
      "tags": []
     },
     "output_type": "execute_result"
    }
   ],
   "source": [
    "#evaluating data for skewness after outlier transformation after splitting data based on task\n",
    "pdata_cls.skew()"
   ]
  },
  {
   "cell_type": "markdown",
   "metadata": {
    "id": "tfZ6iGc8OYGu"
   },
   "source": [
    "To assist in predicting the property type of an Airbnb we decided to make a couple of changes to the features that could increase the predictability. \n",
    "\n",
    "We first collapsed the property type feature to only contain two distinct values, making this a binary classification problem. A property type could only be classified as Apartment or Other. This eliminated the smaller sub-types of a property such as, Loft, Condo, House, etc. We chose Apartment due to the large amounts of observations that were present in the data set and saw an increase in our accuracy (found at the end of this report)\n",
    "\n",
    "Second, we decided to remove the longitude and latitude variables and replace them with a variable called region. This variable split the United States in half and classified the observation as either East or West. This increased the performance of our models and allowed us to reduce the number of predictors included in the models."
   ]
  },
  {
   "cell_type": "code",
   "execution_count": 13,
   "metadata": {
    "id": "0sV4uAtsOYGv"
   },
   "outputs": [],
   "source": [
    "#transforming the property type to a binary classification\n",
    "value_list = [\"Apartment\"]\n",
    "boolean_series = ~pdata_cls.property_type.isin(value_list)\n",
    "filtered_df = pdata_cls[boolean_series]\n",
    "\n",
    "filtered_df.head(100)\n",
    "\n",
    "for i in list (filtered_df.index):\n",
    "    pdata_cls.loc[i,'property_type'] = \"other\"\n",
    "\n",
    "#transforming the longitude and latitude variables to East / West\n",
    "pdata_cls[\"region\"] = pd.cut(pdata_cls.longitude,[-200,-100,0],2,labels=[\"West\",\"East\"])"
   ]
  },
  {
   "cell_type": "code",
   "execution_count": 12,
   "metadata": {
    "colab": {
     "base_uri": "https://localhost:8080/",
     "height": 530
    },
    "id": "ylLVTPp4OYGv",
    "outputId": "033edb8d-a0f3-4d4b-c590-ab262da4d583"
   },
   "outputs": [
    {
     "data": {
      "text/html": [
       "<div>\n",
       "<style scoped>\n",
       "    .dataframe tbody tr th:only-of-type {\n",
       "        vertical-align: middle;\n",
       "    }\n",
       "\n",
       "    .dataframe tbody tr th {\n",
       "        vertical-align: top;\n",
       "    }\n",
       "\n",
       "    .dataframe thead th {\n",
       "        text-align: right;\n",
       "    }\n",
       "</style>\n",
       "<table border=\"1\" class=\"dataframe\">\n",
       "  <thead>\n",
       "    <tr style=\"text-align: right;\">\n",
       "      <th></th>\n",
       "      <th>id</th>\n",
       "      <th>log_price</th>\n",
       "      <th>property_type</th>\n",
       "      <th>room_type</th>\n",
       "      <th>accommodates</th>\n",
       "      <th>bathrooms</th>\n",
       "      <th>bed_type</th>\n",
       "      <th>cancellation_policy</th>\n",
       "      <th>cleaning_fee</th>\n",
       "      <th>city</th>\n",
       "      <th>description</th>\n",
       "      <th>first_review</th>\n",
       "      <th>host_has_profile_pic</th>\n",
       "      <th>host_identity_verified</th>\n",
       "      <th>host_response_rate</th>\n",
       "      <th>host_since</th>\n",
       "      <th>instant_bookable</th>\n",
       "      <th>last_review</th>\n",
       "      <th>latitude</th>\n",
       "      <th>longitude</th>\n",
       "      <th>neighbourhood</th>\n",
       "      <th>number_of_reviews</th>\n",
       "      <th>review_scores_rating</th>\n",
       "      <th>zipcode</th>\n",
       "      <th>bedrooms</th>\n",
       "      <th>beds</th>\n",
       "      <th>region</th>\n",
       "    </tr>\n",
       "  </thead>\n",
       "  <tbody>\n",
       "    <tr>\n",
       "      <th>1</th>\n",
       "      <td>6304928</td>\n",
       "      <td>5.129899</td>\n",
       "      <td>Apartment</td>\n",
       "      <td>Entire home/apt</td>\n",
       "      <td>7</td>\n",
       "      <td>1.0</td>\n",
       "      <td>Real Bed</td>\n",
       "      <td>strict</td>\n",
       "      <td>True</td>\n",
       "      <td>NYC</td>\n",
       "      <td>Enjoy travelling during your stay in Manhattan...</td>\n",
       "      <td>8/5/2017</td>\n",
       "      <td>t</td>\n",
       "      <td>f</td>\n",
       "      <td>100%</td>\n",
       "      <td>6/19/2017</td>\n",
       "      <td>t</td>\n",
       "      <td>9/23/2017</td>\n",
       "      <td>40.766115</td>\n",
       "      <td>-73.989040</td>\n",
       "      <td>Hell's Kitchen</td>\n",
       "      <td>6</td>\n",
       "      <td>93.0</td>\n",
       "      <td>10019</td>\n",
       "      <td>3.0</td>\n",
       "      <td>3.0</td>\n",
       "      <td>East</td>\n",
       "    </tr>\n",
       "    <tr>\n",
       "      <th>2</th>\n",
       "      <td>7919400</td>\n",
       "      <td>4.976734</td>\n",
       "      <td>Apartment</td>\n",
       "      <td>Entire home/apt</td>\n",
       "      <td>5</td>\n",
       "      <td>1.0</td>\n",
       "      <td>Real Bed</td>\n",
       "      <td>moderate</td>\n",
       "      <td>True</td>\n",
       "      <td>NYC</td>\n",
       "      <td>The Oasis comes complete with a full backyard ...</td>\n",
       "      <td>4/30/2017</td>\n",
       "      <td>t</td>\n",
       "      <td>t</td>\n",
       "      <td>100%</td>\n",
       "      <td>10/25/2016</td>\n",
       "      <td>t</td>\n",
       "      <td>9/14/2017</td>\n",
       "      <td>40.808110</td>\n",
       "      <td>-73.943756</td>\n",
       "      <td>Harlem</td>\n",
       "      <td>10</td>\n",
       "      <td>92.0</td>\n",
       "      <td>10027</td>\n",
       "      <td>1.0</td>\n",
       "      <td>3.0</td>\n",
       "      <td>East</td>\n",
       "    </tr>\n",
       "    <tr>\n",
       "      <th>4</th>\n",
       "      <td>3808709</td>\n",
       "      <td>4.744932</td>\n",
       "      <td>Apartment</td>\n",
       "      <td>Entire home/apt</td>\n",
       "      <td>2</td>\n",
       "      <td>1.0</td>\n",
       "      <td>Real Bed</td>\n",
       "      <td>moderate</td>\n",
       "      <td>True</td>\n",
       "      <td>DC</td>\n",
       "      <td>Cool, cozy, and comfortable studio located in ...</td>\n",
       "      <td>5/12/2015</td>\n",
       "      <td>t</td>\n",
       "      <td>t</td>\n",
       "      <td>100%</td>\n",
       "      <td>3/1/2015</td>\n",
       "      <td>t</td>\n",
       "      <td>1/22/2017</td>\n",
       "      <td>38.925627</td>\n",
       "      <td>-77.034596</td>\n",
       "      <td>Columbia Heights</td>\n",
       "      <td>4</td>\n",
       "      <td>80.0</td>\n",
       "      <td>20009</td>\n",
       "      <td>0.0</td>\n",
       "      <td>1.0</td>\n",
       "      <td>East</td>\n",
       "    </tr>\n",
       "    <tr>\n",
       "      <th>5</th>\n",
       "      <td>12422935</td>\n",
       "      <td>4.442651</td>\n",
       "      <td>Apartment</td>\n",
       "      <td>Private room</td>\n",
       "      <td>2</td>\n",
       "      <td>1.0</td>\n",
       "      <td>Real Bed</td>\n",
       "      <td>strict</td>\n",
       "      <td>True</td>\n",
       "      <td>SF</td>\n",
       "      <td>Beautiful private room overlooking scenic view...</td>\n",
       "      <td>8/27/2017</td>\n",
       "      <td>t</td>\n",
       "      <td>t</td>\n",
       "      <td>100%</td>\n",
       "      <td>6/7/2017</td>\n",
       "      <td>t</td>\n",
       "      <td>9/5/2017</td>\n",
       "      <td>37.753164</td>\n",
       "      <td>-122.429526</td>\n",
       "      <td>Noe Valley</td>\n",
       "      <td>3</td>\n",
       "      <td>100.0</td>\n",
       "      <td>94131</td>\n",
       "      <td>1.0</td>\n",
       "      <td>1.0</td>\n",
       "      <td>West</td>\n",
       "    </tr>\n",
       "    <tr>\n",
       "      <th>7</th>\n",
       "      <td>13971273</td>\n",
       "      <td>4.787492</td>\n",
       "      <td>other</td>\n",
       "      <td>Entire home/apt</td>\n",
       "      <td>2</td>\n",
       "      <td>1.0</td>\n",
       "      <td>Real Bed</td>\n",
       "      <td>moderate</td>\n",
       "      <td>True</td>\n",
       "      <td>LA</td>\n",
       "      <td>Arguably the best location (and safest) in dow...</td>\n",
       "      <td>12/16/2016</td>\n",
       "      <td>t</td>\n",
       "      <td>t</td>\n",
       "      <td>100%</td>\n",
       "      <td>5/18/2013</td>\n",
       "      <td>f</td>\n",
       "      <td>4/12/2017</td>\n",
       "      <td>34.046737</td>\n",
       "      <td>-118.260439</td>\n",
       "      <td>Downtown</td>\n",
       "      <td>9</td>\n",
       "      <td>93.0</td>\n",
       "      <td>90015</td>\n",
       "      <td>1.0</td>\n",
       "      <td>1.0</td>\n",
       "      <td>West</td>\n",
       "    </tr>\n",
       "  </tbody>\n",
       "</table>\n",
       "</div>"
      ],
      "text/plain": [
       "         id  log_price property_type  ... bedrooms  beds  region\n",
       "1   6304928   5.129899     Apartment  ...      3.0   3.0    East\n",
       "2   7919400   4.976734     Apartment  ...      1.0   3.0    East\n",
       "4   3808709   4.744932     Apartment  ...      0.0   1.0    East\n",
       "5  12422935   4.442651     Apartment  ...      1.0   1.0    West\n",
       "7  13971273   4.787492         other  ...      1.0   1.0    West\n",
       "\n",
       "[5 rows x 27 columns]"
      ]
     },
     "execution_count": 12,
     "metadata": {
      "tags": []
     },
     "output_type": "execute_result"
    }
   ],
   "source": [
    "#evaluating the data after transformation\n",
    "pdata_cls.head()"
   ]
  },
  {
   "cell_type": "markdown",
   "metadata": {
    "id": "y-IhsdAXOYGw"
   },
   "source": [
    "To help our model we encoded all of the boolean features that were originally stored as character fields to reflect actual boolean type variables and reflected true values with a 1 and false values with a 0.\n",
    "\n",
    "We also encoded our response variable to 1 vs 2 to reflect Apartment vs Other."
   ]
  },
  {
   "cell_type": "code",
   "execution_count": 14,
   "metadata": {
    "id": "Wk-VEXT3OYGw"
   },
   "outputs": [],
   "source": [
    "#Encoding boolean and categorical variables\n",
    "replaceStruct = {\n",
    "                \"cleaning_fee\":     {True: 1, False: 0},\n",
    "                \"instant_bookable\":     {\"t\": 1, \"f\": 0},\n",
    "                \"host_identity_verified\":     {\"t\": 1, \"f\": 0},\n",
    "                \"property_type\":     {\"Apartment\": 0, \"other\": 1},\n",
    "                    }\n",
    "\n",
    "pdata_cls=pdata_cls.replace(replaceStruct)"
   ]
  },
  {
   "cell_type": "markdown",
   "metadata": {
    "id": "G7ZMeN1zOYGx"
   },
   "source": [
    "We proceeded to one hot encode the categorical variables that we were going to leave in our models. This created a reference variable (0) and allows us to interpret the coefficients of the variables easier.\n",
    "\n",
    "We also evaluated the number of unique values found in the categorical variables, since hot-encoding the neighborhood attribute, which seemed useful in predicting property type in some cases, had 590 distinct values.  This made the model run time very slow and only gained a modest amount of accuracy.\n",
    "\n",
    "We then dropped all of the other columns that would not be used in the proceeding models, like property descriptions, and those that lacked predictive power."
   ]
  },
  {
   "cell_type": "code",
   "execution_count": 14,
   "metadata": {
    "colab": {
     "base_uri": "https://localhost:8080/"
    },
    "id": "WwqKMc8dOYGx",
    "outputId": "3ce64411-cc15-48b4-e5f4-2f6de71f498c"
   },
   "outputs": [
    {
     "data": {
      "text/plain": [
       "id                        42775\n",
       "log_price                   643\n",
       "property_type                 2\n",
       "room_type                     3\n",
       "accommodates                 16\n",
       "bathrooms                    17\n",
       "bed_type                      5\n",
       "cancellation_policy           5\n",
       "cleaning_fee                  2\n",
       "city                          6\n",
       "description               42424\n",
       "first_review               2489\n",
       "host_has_profile_pic          2\n",
       "host_identity_verified        2\n",
       "host_response_rate           77\n",
       "host_since                 3000\n",
       "instant_bookable              2\n",
       "last_review                1100\n",
       "latitude                  42758\n",
       "longitude                 42734\n",
       "neighbourhood               590\n",
       "number_of_reviews           100\n",
       "review_scores_rating         21\n",
       "zipcode                     577\n",
       "bedrooms                     11\n",
       "beds                          6\n",
       "region                        2\n",
       "dtype: int64"
      ]
     },
     "execution_count": 14,
     "metadata": {
      "tags": []
     },
     "output_type": "execute_result"
    }
   ],
   "source": [
    "#evaluating categorical value count for one-hot-encoding\n",
    "pdata_cls.nunique()"
   ]
  },
  {
   "cell_type": "code",
   "execution_count": 15,
   "metadata": {
    "colab": {
     "base_uri": "https://localhost:8080/",
     "height": 396
    },
    "id": "g4tE7j_dOYGx",
    "outputId": "448c2aaf-fd0f-45f3-e956-73ef273ad440"
   },
   "outputs": [
    {
     "data": {
      "text/html": [
       "<div>\n",
       "<style scoped>\n",
       "    .dataframe tbody tr th:only-of-type {\n",
       "        vertical-align: middle;\n",
       "    }\n",
       "\n",
       "    .dataframe tbody tr th {\n",
       "        vertical-align: top;\n",
       "    }\n",
       "\n",
       "    .dataframe thead th {\n",
       "        text-align: right;\n",
       "    }\n",
       "</style>\n",
       "<table border=\"1\" class=\"dataframe\">\n",
       "  <thead>\n",
       "    <tr style=\"text-align: right;\">\n",
       "      <th></th>\n",
       "      <th>log_price</th>\n",
       "      <th>property_type</th>\n",
       "      <th>accommodates</th>\n",
       "      <th>bathrooms</th>\n",
       "      <th>host_identity_verified</th>\n",
       "      <th>instant_bookable</th>\n",
       "      <th>number_of_reviews</th>\n",
       "      <th>review_scores_rating</th>\n",
       "      <th>bedrooms</th>\n",
       "      <th>beds</th>\n",
       "      <th>...</th>\n",
       "      <th>city_Chicago</th>\n",
       "      <th>city_DC</th>\n",
       "      <th>city_LA</th>\n",
       "      <th>city_NYC</th>\n",
       "      <th>city_SF</th>\n",
       "      <th>cancellation_policy_moderate</th>\n",
       "      <th>cancellation_policy_strict</th>\n",
       "      <th>cancellation_policy_super_strict_30</th>\n",
       "      <th>cancellation_policy_super_strict_60</th>\n",
       "      <th>region_East</th>\n",
       "    </tr>\n",
       "  </thead>\n",
       "  <tbody>\n",
       "    <tr>\n",
       "      <th>1</th>\n",
       "      <td>5.129899</td>\n",
       "      <td>0</td>\n",
       "      <td>7</td>\n",
       "      <td>1.0</td>\n",
       "      <td>0</td>\n",
       "      <td>1</td>\n",
       "      <td>6</td>\n",
       "      <td>93.0</td>\n",
       "      <td>3.0</td>\n",
       "      <td>3.0</td>\n",
       "      <td>...</td>\n",
       "      <td>0</td>\n",
       "      <td>0</td>\n",
       "      <td>0</td>\n",
       "      <td>1</td>\n",
       "      <td>0</td>\n",
       "      <td>0</td>\n",
       "      <td>1</td>\n",
       "      <td>0</td>\n",
       "      <td>0</td>\n",
       "      <td>1</td>\n",
       "    </tr>\n",
       "    <tr>\n",
       "      <th>2</th>\n",
       "      <td>4.976734</td>\n",
       "      <td>0</td>\n",
       "      <td>5</td>\n",
       "      <td>1.0</td>\n",
       "      <td>1</td>\n",
       "      <td>1</td>\n",
       "      <td>10</td>\n",
       "      <td>92.0</td>\n",
       "      <td>1.0</td>\n",
       "      <td>3.0</td>\n",
       "      <td>...</td>\n",
       "      <td>0</td>\n",
       "      <td>0</td>\n",
       "      <td>0</td>\n",
       "      <td>1</td>\n",
       "      <td>0</td>\n",
       "      <td>1</td>\n",
       "      <td>0</td>\n",
       "      <td>0</td>\n",
       "      <td>0</td>\n",
       "      <td>1</td>\n",
       "    </tr>\n",
       "    <tr>\n",
       "      <th>4</th>\n",
       "      <td>4.744932</td>\n",
       "      <td>0</td>\n",
       "      <td>2</td>\n",
       "      <td>1.0</td>\n",
       "      <td>1</td>\n",
       "      <td>1</td>\n",
       "      <td>4</td>\n",
       "      <td>80.0</td>\n",
       "      <td>0.0</td>\n",
       "      <td>1.0</td>\n",
       "      <td>...</td>\n",
       "      <td>0</td>\n",
       "      <td>1</td>\n",
       "      <td>0</td>\n",
       "      <td>0</td>\n",
       "      <td>0</td>\n",
       "      <td>1</td>\n",
       "      <td>0</td>\n",
       "      <td>0</td>\n",
       "      <td>0</td>\n",
       "      <td>1</td>\n",
       "    </tr>\n",
       "    <tr>\n",
       "      <th>5</th>\n",
       "      <td>4.442651</td>\n",
       "      <td>0</td>\n",
       "      <td>2</td>\n",
       "      <td>1.0</td>\n",
       "      <td>1</td>\n",
       "      <td>1</td>\n",
       "      <td>3</td>\n",
       "      <td>100.0</td>\n",
       "      <td>1.0</td>\n",
       "      <td>1.0</td>\n",
       "      <td>...</td>\n",
       "      <td>0</td>\n",
       "      <td>0</td>\n",
       "      <td>0</td>\n",
       "      <td>0</td>\n",
       "      <td>1</td>\n",
       "      <td>0</td>\n",
       "      <td>1</td>\n",
       "      <td>0</td>\n",
       "      <td>0</td>\n",
       "      <td>0</td>\n",
       "    </tr>\n",
       "    <tr>\n",
       "      <th>7</th>\n",
       "      <td>4.787492</td>\n",
       "      <td>1</td>\n",
       "      <td>2</td>\n",
       "      <td>1.0</td>\n",
       "      <td>1</td>\n",
       "      <td>0</td>\n",
       "      <td>9</td>\n",
       "      <td>93.0</td>\n",
       "      <td>1.0</td>\n",
       "      <td>1.0</td>\n",
       "      <td>...</td>\n",
       "      <td>0</td>\n",
       "      <td>0</td>\n",
       "      <td>1</td>\n",
       "      <td>0</td>\n",
       "      <td>0</td>\n",
       "      <td>1</td>\n",
       "      <td>0</td>\n",
       "      <td>0</td>\n",
       "      <td>0</td>\n",
       "      <td>0</td>\n",
       "    </tr>\n",
       "    <tr>\n",
       "      <th>8</th>\n",
       "      <td>4.787492</td>\n",
       "      <td>1</td>\n",
       "      <td>2</td>\n",
       "      <td>1.0</td>\n",
       "      <td>0</td>\n",
       "      <td>0</td>\n",
       "      <td>100</td>\n",
       "      <td>99.0</td>\n",
       "      <td>1.0</td>\n",
       "      <td>1.0</td>\n",
       "      <td>...</td>\n",
       "      <td>0</td>\n",
       "      <td>0</td>\n",
       "      <td>0</td>\n",
       "      <td>0</td>\n",
       "      <td>1</td>\n",
       "      <td>1</td>\n",
       "      <td>0</td>\n",
       "      <td>0</td>\n",
       "      <td>0</td>\n",
       "      <td>0</td>\n",
       "    </tr>\n",
       "    <tr>\n",
       "      <th>10</th>\n",
       "      <td>4.605170</td>\n",
       "      <td>0</td>\n",
       "      <td>2</td>\n",
       "      <td>1.0</td>\n",
       "      <td>1</td>\n",
       "      <td>0</td>\n",
       "      <td>82</td>\n",
       "      <td>93.0</td>\n",
       "      <td>1.0</td>\n",
       "      <td>1.0</td>\n",
       "      <td>...</td>\n",
       "      <td>0</td>\n",
       "      <td>0</td>\n",
       "      <td>0</td>\n",
       "      <td>1</td>\n",
       "      <td>0</td>\n",
       "      <td>0</td>\n",
       "      <td>1</td>\n",
       "      <td>0</td>\n",
       "      <td>0</td>\n",
       "      <td>1</td>\n",
       "    </tr>\n",
       "    <tr>\n",
       "      <th>11</th>\n",
       "      <td>5.010635</td>\n",
       "      <td>1</td>\n",
       "      <td>4</td>\n",
       "      <td>1.5</td>\n",
       "      <td>1</td>\n",
       "      <td>0</td>\n",
       "      <td>29</td>\n",
       "      <td>97.0</td>\n",
       "      <td>2.0</td>\n",
       "      <td>2.0</td>\n",
       "      <td>...</td>\n",
       "      <td>0</td>\n",
       "      <td>0</td>\n",
       "      <td>1</td>\n",
       "      <td>0</td>\n",
       "      <td>0</td>\n",
       "      <td>0</td>\n",
       "      <td>1</td>\n",
       "      <td>0</td>\n",
       "      <td>0</td>\n",
       "      <td>0</td>\n",
       "    </tr>\n",
       "    <tr>\n",
       "      <th>13</th>\n",
       "      <td>5.298317</td>\n",
       "      <td>0</td>\n",
       "      <td>6</td>\n",
       "      <td>1.5</td>\n",
       "      <td>1</td>\n",
       "      <td>1</td>\n",
       "      <td>13</td>\n",
       "      <td>89.0</td>\n",
       "      <td>2.0</td>\n",
       "      <td>3.0</td>\n",
       "      <td>...</td>\n",
       "      <td>0</td>\n",
       "      <td>1</td>\n",
       "      <td>0</td>\n",
       "      <td>0</td>\n",
       "      <td>0</td>\n",
       "      <td>0</td>\n",
       "      <td>1</td>\n",
       "      <td>0</td>\n",
       "      <td>0</td>\n",
       "      <td>1</td>\n",
       "    </tr>\n",
       "    <tr>\n",
       "      <th>17</th>\n",
       "      <td>4.595120</td>\n",
       "      <td>1</td>\n",
       "      <td>2</td>\n",
       "      <td>2.0</td>\n",
       "      <td>1</td>\n",
       "      <td>0</td>\n",
       "      <td>12</td>\n",
       "      <td>88.0</td>\n",
       "      <td>1.0</td>\n",
       "      <td>1.0</td>\n",
       "      <td>...</td>\n",
       "      <td>0</td>\n",
       "      <td>0</td>\n",
       "      <td>0</td>\n",
       "      <td>0</td>\n",
       "      <td>0</td>\n",
       "      <td>0</td>\n",
       "      <td>1</td>\n",
       "      <td>0</td>\n",
       "      <td>0</td>\n",
       "      <td>1</td>\n",
       "    </tr>\n",
       "  </tbody>\n",
       "</table>\n",
       "<p>10 rows × 26 columns</p>\n",
       "</div>"
      ],
      "text/plain": [
       "    log_price  property_type  accommodates  bathrooms  host_identity_verified  \\\n",
       "1    5.129899              0             7        1.0                       0   \n",
       "2    4.976734              0             5        1.0                       1   \n",
       "4    4.744932              0             2        1.0                       1   \n",
       "5    4.442651              0             2        1.0                       1   \n",
       "7    4.787492              1             2        1.0                       1   \n",
       "8    4.787492              1             2        1.0                       0   \n",
       "10   4.605170              0             2        1.0                       1   \n",
       "11   5.010635              1             4        1.5                       1   \n",
       "13   5.298317              0             6        1.5                       1   \n",
       "17   4.595120              1             2        2.0                       1   \n",
       "\n",
       "    instant_bookable  number_of_reviews  review_scores_rating  bedrooms  beds  \\\n",
       "1                  1                  6                  93.0       3.0   3.0   \n",
       "2                  1                 10                  92.0       1.0   3.0   \n",
       "4                  1                  4                  80.0       0.0   1.0   \n",
       "5                  1                  3                 100.0       1.0   1.0   \n",
       "7                  0                  9                  93.0       1.0   1.0   \n",
       "8                  0                100                  99.0       1.0   1.0   \n",
       "10                 0                 82                  93.0       1.0   1.0   \n",
       "11                 0                 29                  97.0       2.0   2.0   \n",
       "13                 1                 13                  89.0       2.0   3.0   \n",
       "17                 0                 12                  88.0       1.0   1.0   \n",
       "\n",
       "    ...  city_Chicago  city_DC  city_LA  city_NYC  city_SF  \\\n",
       "1   ...             0        0        0         1        0   \n",
       "2   ...             0        0        0         1        0   \n",
       "4   ...             0        1        0         0        0   \n",
       "5   ...             0        0        0         0        1   \n",
       "7   ...             0        0        1         0        0   \n",
       "8   ...             0        0        0         0        1   \n",
       "10  ...             0        0        0         1        0   \n",
       "11  ...             0        0        1         0        0   \n",
       "13  ...             0        1        0         0        0   \n",
       "17  ...             0        0        0         0        0   \n",
       "\n",
       "    cancellation_policy_moderate  cancellation_policy_strict  \\\n",
       "1                              0                           1   \n",
       "2                              1                           0   \n",
       "4                              1                           0   \n",
       "5                              0                           1   \n",
       "7                              1                           0   \n",
       "8                              1                           0   \n",
       "10                             0                           1   \n",
       "11                             0                           1   \n",
       "13                             0                           1   \n",
       "17                             0                           1   \n",
       "\n",
       "    cancellation_policy_super_strict_30  cancellation_policy_super_strict_60  \\\n",
       "1                                     0                                    0   \n",
       "2                                     0                                    0   \n",
       "4                                     0                                    0   \n",
       "5                                     0                                    0   \n",
       "7                                     0                                    0   \n",
       "8                                     0                                    0   \n",
       "10                                    0                                    0   \n",
       "11                                    0                                    0   \n",
       "13                                    0                                    0   \n",
       "17                                    0                                    0   \n",
       "\n",
       "    region_East  \n",
       "1             1  \n",
       "2             1  \n",
       "4             1  \n",
       "5             0  \n",
       "7             0  \n",
       "8             0  \n",
       "10            1  \n",
       "11            0  \n",
       "13            1  \n",
       "17            1  \n",
       "\n",
       "[10 rows x 26 columns]"
      ]
     },
     "execution_count": 15,
     "metadata": {},
     "output_type": "execute_result"
    }
   ],
   "source": [
    "#one hot encoding categorical variables and dropping columns that are not used\n",
    "oneHotCols=[\"room_type\",\"bed_type\",\"city\",\"cancellation_policy\",\"region\"]\n",
    "pdata_cls.drop(['description','host_response_rate','first_review','host_since','last_review','zipcode','id','latitude','longitude','neighbourhood','cleaning_fee','host_has_profile_pic'], axis=1, inplace=True)\n",
    "pdata_cls=pd.get_dummies(pdata_cls, columns=oneHotCols,drop_first=True)\n",
    "pdata_cls.head(10)"
   ]
  },
  {
   "cell_type": "code",
   "execution_count": 16,
   "metadata": {
    "id": "-gTbujkbOYGy"
   },
   "outputs": [],
   "source": [
    "# Creating the X and y variables for the Classification Model\n",
    "X_cls = pdata_cls.drop('property_type',axis=1).values     \n",
    "y_cls = pdata_cls['property_type'].values\n",
    "\n",
    "#Scaling the Classification input\n",
    "yhat_cls = np.zeros(y_cls.shape) # we will fill this with predictions\n",
    "scl_cls = StandardScaler()\n",
    "X_scaled_cls = scl_cls.fit_transform(X_cls)"
   ]
  },
  {
   "cell_type": "code",
   "execution_count": 17,
   "metadata": {
    "colab": {
     "base_uri": "https://localhost:8080/"
    },
    "id": "FsD9ggcJOYGy",
    "outputId": "0d4be004-0837-483b-ff6b-97e87349e306"
   },
   "outputs": [
    {
     "name": "stdout",
     "output_type": "stream",
     "text": [
      "<class 'pandas.core.frame.DataFrame'>\n",
      "Int64Index: 42775 entries, 1 to 74110\n",
      "Data columns (total 26 columns):\n",
      " #   Column                               Non-Null Count  Dtype  \n",
      "---  ------                               --------------  -----  \n",
      " 0   log_price                            42775 non-null  float64\n",
      " 1   property_type                        42775 non-null  int64  \n",
      " 2   accommodates                         42775 non-null  int64  \n",
      " 3   bathrooms                            42775 non-null  float64\n",
      " 4   host_identity_verified               42775 non-null  int64  \n",
      " 5   instant_bookable                     42775 non-null  int64  \n",
      " 6   number_of_reviews                    42775 non-null  int64  \n",
      " 7   review_scores_rating                 42775 non-null  float64\n",
      " 8   bedrooms                             42775 non-null  float64\n",
      " 9   beds                                 42775 non-null  float64\n",
      " 10  room_type_Private room               42775 non-null  uint8  \n",
      " 11  room_type_Shared room                42775 non-null  uint8  \n",
      " 12  bed_type_Couch                       42775 non-null  uint8  \n",
      " 13  bed_type_Futon                       42775 non-null  uint8  \n",
      " 14  bed_type_Pull-out Sofa               42775 non-null  uint8  \n",
      " 15  bed_type_Real Bed                    42775 non-null  uint8  \n",
      " 16  city_Chicago                         42775 non-null  uint8  \n",
      " 17  city_DC                              42775 non-null  uint8  \n",
      " 18  city_LA                              42775 non-null  uint8  \n",
      " 19  city_NYC                             42775 non-null  uint8  \n",
      " 20  city_SF                              42775 non-null  uint8  \n",
      " 21  cancellation_policy_moderate         42775 non-null  uint8  \n",
      " 22  cancellation_policy_strict           42775 non-null  uint8  \n",
      " 23  cancellation_policy_super_strict_30  42775 non-null  uint8  \n",
      " 24  cancellation_policy_super_strict_60  42775 non-null  uint8  \n",
      " 25  region_East                          42775 non-null  uint8  \n",
      "dtypes: float64(5), int64(5), uint8(16)\n",
      "memory usage: 5.5 MB\n"
     ]
    }
   ],
   "source": [
    "#Describe the final dataset\n",
    "pdata_cls.info()"
   ]
  },
  {
   "cell_type": "markdown",
   "metadata": {
    "id": "j3z9ApPqOYGz"
   },
   "source": [
    "#### 1.3 Data Preparation for Regression Models"
   ]
  },
  {
   "cell_type": "code",
   "execution_count": 17,
   "metadata": {
    "id": "2fI8DvB9OYGz"
   },
   "outputs": [],
   "source": [
    "#imputing missing numerical data by using the median, removing records with missing categorical values\n",
    "pdata_reg = pdata.fillna(pdata.median())\n",
    "pdata_reg = pdata_reg.dropna()"
   ]
  },
  {
   "cell_type": "code",
   "execution_count": 19,
   "metadata": {
    "colab": {
     "base_uri": "https://localhost:8080/"
    },
    "id": "BpWvmtqfOYGz",
    "outputId": "67a99aeb-aa12-438a-f0c3-164ed6e4772e"
   },
   "outputs": [
    {
     "data": {
      "text/plain": [
       "id                     -0.254923\n",
       "log_price               0.381099\n",
       "accommodates            2.129464\n",
       "bathrooms               3.716646\n",
       "cleaning_fee           -1.678508\n",
       "latitude               -0.650879\n",
       "longitude              -0.504401\n",
       "number_of_reviews       1.276446\n",
       "review_scores_rating   -1.162697\n",
       "bedrooms                1.877781\n",
       "beds                    1.546403\n",
       "dtype: float64"
      ]
     },
     "execution_count": 19,
     "metadata": {
      "tags": []
     },
     "output_type": "execute_result"
    }
   ],
   "source": [
    "# evaluating data after imputing with median\n",
    "pdata_reg.skew()"
   ]
  },
  {
   "cell_type": "markdown",
   "metadata": {
    "id": "CL4xSRgdOYG0"
   },
   "source": [
    "To help our model we encoded all of the boolean features that were originally stored as character fields to reflect actual boolean type variables and reflected true values with a 1 and false values with a 0."
   ]
  },
  {
   "cell_type": "code",
   "execution_count": 18,
   "metadata": {
    "colab": {
     "base_uri": "https://localhost:8080/",
     "height": 530
    },
    "id": "Ty6hw9lCOYG0",
    "outputId": "1d8cf80a-248b-4996-f750-8590d3f615a4"
   },
   "outputs": [
    {
     "data": {
      "text/html": [
       "<div>\n",
       "<style scoped>\n",
       "    .dataframe tbody tr th:only-of-type {\n",
       "        vertical-align: middle;\n",
       "    }\n",
       "\n",
       "    .dataframe tbody tr th {\n",
       "        vertical-align: top;\n",
       "    }\n",
       "\n",
       "    .dataframe thead th {\n",
       "        text-align: right;\n",
       "    }\n",
       "</style>\n",
       "<table border=\"1\" class=\"dataframe\">\n",
       "  <thead>\n",
       "    <tr style=\"text-align: right;\">\n",
       "      <th></th>\n",
       "      <th>id</th>\n",
       "      <th>log_price</th>\n",
       "      <th>property_type</th>\n",
       "      <th>room_type</th>\n",
       "      <th>accommodates</th>\n",
       "      <th>bathrooms</th>\n",
       "      <th>bed_type</th>\n",
       "      <th>cancellation_policy</th>\n",
       "      <th>cleaning_fee</th>\n",
       "      <th>city</th>\n",
       "      <th>...</th>\n",
       "      <th>instant_bookable</th>\n",
       "      <th>last_review</th>\n",
       "      <th>latitude</th>\n",
       "      <th>longitude</th>\n",
       "      <th>neighbourhood</th>\n",
       "      <th>number_of_reviews</th>\n",
       "      <th>review_scores_rating</th>\n",
       "      <th>zipcode</th>\n",
       "      <th>bedrooms</th>\n",
       "      <th>beds</th>\n",
       "    </tr>\n",
       "  </thead>\n",
       "  <tbody>\n",
       "    <tr>\n",
       "      <th>1</th>\n",
       "      <td>6304928</td>\n",
       "      <td>5.129899</td>\n",
       "      <td>Apartment</td>\n",
       "      <td>Entire home/apt</td>\n",
       "      <td>7</td>\n",
       "      <td>1.0</td>\n",
       "      <td>Real Bed</td>\n",
       "      <td>strict</td>\n",
       "      <td>1</td>\n",
       "      <td>NYC</td>\n",
       "      <td>...</td>\n",
       "      <td>1</td>\n",
       "      <td>9/23/2017</td>\n",
       "      <td>40.766115</td>\n",
       "      <td>-73.989040</td>\n",
       "      <td>Hell's Kitchen</td>\n",
       "      <td>6</td>\n",
       "      <td>93.0</td>\n",
       "      <td>10019</td>\n",
       "      <td>3.0</td>\n",
       "      <td>3.0</td>\n",
       "    </tr>\n",
       "    <tr>\n",
       "      <th>2</th>\n",
       "      <td>7919400</td>\n",
       "      <td>4.976734</td>\n",
       "      <td>Apartment</td>\n",
       "      <td>Entire home/apt</td>\n",
       "      <td>5</td>\n",
       "      <td>1.0</td>\n",
       "      <td>Real Bed</td>\n",
       "      <td>moderate</td>\n",
       "      <td>1</td>\n",
       "      <td>NYC</td>\n",
       "      <td>...</td>\n",
       "      <td>1</td>\n",
       "      <td>9/14/2017</td>\n",
       "      <td>40.808110</td>\n",
       "      <td>-73.943756</td>\n",
       "      <td>Harlem</td>\n",
       "      <td>10</td>\n",
       "      <td>92.0</td>\n",
       "      <td>10027</td>\n",
       "      <td>1.0</td>\n",
       "      <td>3.0</td>\n",
       "    </tr>\n",
       "    <tr>\n",
       "      <th>4</th>\n",
       "      <td>3808709</td>\n",
       "      <td>4.744932</td>\n",
       "      <td>Apartment</td>\n",
       "      <td>Entire home/apt</td>\n",
       "      <td>2</td>\n",
       "      <td>1.0</td>\n",
       "      <td>Real Bed</td>\n",
       "      <td>moderate</td>\n",
       "      <td>1</td>\n",
       "      <td>DC</td>\n",
       "      <td>...</td>\n",
       "      <td>1</td>\n",
       "      <td>1/22/2017</td>\n",
       "      <td>38.925627</td>\n",
       "      <td>-77.034596</td>\n",
       "      <td>Columbia Heights</td>\n",
       "      <td>4</td>\n",
       "      <td>80.0</td>\n",
       "      <td>20009</td>\n",
       "      <td>0.0</td>\n",
       "      <td>1.0</td>\n",
       "    </tr>\n",
       "    <tr>\n",
       "      <th>5</th>\n",
       "      <td>12422935</td>\n",
       "      <td>4.442651</td>\n",
       "      <td>Apartment</td>\n",
       "      <td>Private room</td>\n",
       "      <td>2</td>\n",
       "      <td>1.0</td>\n",
       "      <td>Real Bed</td>\n",
       "      <td>strict</td>\n",
       "      <td>1</td>\n",
       "      <td>SF</td>\n",
       "      <td>...</td>\n",
       "      <td>1</td>\n",
       "      <td>9/5/2017</td>\n",
       "      <td>37.753164</td>\n",
       "      <td>-122.429526</td>\n",
       "      <td>Noe Valley</td>\n",
       "      <td>3</td>\n",
       "      <td>100.0</td>\n",
       "      <td>94131</td>\n",
       "      <td>1.0</td>\n",
       "      <td>1.0</td>\n",
       "    </tr>\n",
       "    <tr>\n",
       "      <th>7</th>\n",
       "      <td>13971273</td>\n",
       "      <td>4.787492</td>\n",
       "      <td>Condominium</td>\n",
       "      <td>Entire home/apt</td>\n",
       "      <td>2</td>\n",
       "      <td>1.0</td>\n",
       "      <td>Real Bed</td>\n",
       "      <td>moderate</td>\n",
       "      <td>1</td>\n",
       "      <td>LA</td>\n",
       "      <td>...</td>\n",
       "      <td>0</td>\n",
       "      <td>4/12/2017</td>\n",
       "      <td>34.046737</td>\n",
       "      <td>-118.260439</td>\n",
       "      <td>Downtown</td>\n",
       "      <td>9</td>\n",
       "      <td>93.0</td>\n",
       "      <td>90015</td>\n",
       "      <td>1.0</td>\n",
       "      <td>1.0</td>\n",
       "    </tr>\n",
       "  </tbody>\n",
       "</table>\n",
       "<p>5 rows × 26 columns</p>\n",
       "</div>"
      ],
      "text/plain": [
       "         id  log_price property_type        room_type  accommodates  \\\n",
       "1   6304928   5.129899     Apartment  Entire home/apt             7   \n",
       "2   7919400   4.976734     Apartment  Entire home/apt             5   \n",
       "4   3808709   4.744932     Apartment  Entire home/apt             2   \n",
       "5  12422935   4.442651     Apartment     Private room             2   \n",
       "7  13971273   4.787492   Condominium  Entire home/apt             2   \n",
       "\n",
       "   bathrooms  bed_type cancellation_policy  cleaning_fee city  ...  \\\n",
       "1        1.0  Real Bed              strict             1  NYC  ...   \n",
       "2        1.0  Real Bed            moderate             1  NYC  ...   \n",
       "4        1.0  Real Bed            moderate             1   DC  ...   \n",
       "5        1.0  Real Bed              strict             1   SF  ...   \n",
       "7        1.0  Real Bed            moderate             1   LA  ...   \n",
       "\n",
       "  instant_bookable last_review   latitude   longitude     neighbourhood  \\\n",
       "1                1   9/23/2017  40.766115  -73.989040    Hell's Kitchen   \n",
       "2                1   9/14/2017  40.808110  -73.943756            Harlem   \n",
       "4                1   1/22/2017  38.925627  -77.034596  Columbia Heights   \n",
       "5                1    9/5/2017  37.753164 -122.429526        Noe Valley   \n",
       "7                0   4/12/2017  34.046737 -118.260439          Downtown   \n",
       "\n",
       "  number_of_reviews  review_scores_rating zipcode  bedrooms  beds  \n",
       "1                 6                  93.0   10019       3.0   3.0  \n",
       "2                10                  92.0   10027       1.0   3.0  \n",
       "4                 4                  80.0   20009       0.0   1.0  \n",
       "5                 3                 100.0   94131       1.0   1.0  \n",
       "7                 9                  93.0   90015       1.0   1.0  \n",
       "\n",
       "[5 rows x 26 columns]"
      ]
     },
     "execution_count": 18,
     "metadata": {},
     "output_type": "execute_result"
    }
   ],
   "source": [
    "replaceStruct = {\n",
    "                \"cleaning_fee\":     {True: 1, False: 0},\n",
    "                \"instant_bookable\":     {\"t\": 1, \"f\": 0},\n",
    "                \"host_identity_verified\":     {\"t\": 1, \"f\": 0},\n",
    "                    }\n",
    "pdata_reg=pdata_reg.replace(replaceStruct)\n",
    "pdata_reg.head()"
   ]
  },
  {
   "cell_type": "markdown",
   "metadata": {
    "id": "LQvcISRVOYG1"
   },
   "source": [
    "We proceeded to one hot encode the categorical variables that we were going to leave in our models. This created a reference variable (0) and allows us to interpret the coefficients of the variables easier.\n",
    "\n",
    "Unlike our classification task, we did not make property_type a binary attribute, instead we allow all distinct property_types to be one hot encoded and incorporated in the model."
   ]
  },
  {
   "cell_type": "code",
   "execution_count": 19,
   "metadata": {
    "colab": {
     "base_uri": "https://localhost:8080/",
     "height": 396
    },
    "id": "1RGC1-KLOYG1",
    "outputId": "da4811e7-0502-4f8f-d59b-5381f03ac6dd"
   },
   "outputs": [
    {
     "data": {
      "text/html": [
       "<div>\n",
       "<style scoped>\n",
       "    .dataframe tbody tr th:only-of-type {\n",
       "        vertical-align: middle;\n",
       "    }\n",
       "\n",
       "    .dataframe tbody tr th {\n",
       "        vertical-align: top;\n",
       "    }\n",
       "\n",
       "    .dataframe thead th {\n",
       "        text-align: right;\n",
       "    }\n",
       "</style>\n",
       "<table border=\"1\" class=\"dataframe\">\n",
       "  <thead>\n",
       "    <tr style=\"text-align: right;\">\n",
       "      <th></th>\n",
       "      <th>log_price</th>\n",
       "      <th>accommodates</th>\n",
       "      <th>bathrooms</th>\n",
       "      <th>host_identity_verified</th>\n",
       "      <th>instant_bookable</th>\n",
       "      <th>latitude</th>\n",
       "      <th>longitude</th>\n",
       "      <th>number_of_reviews</th>\n",
       "      <th>review_scores_rating</th>\n",
       "      <th>bedrooms</th>\n",
       "      <th>...</th>\n",
       "      <th>property_type_Serviced apartment</th>\n",
       "      <th>property_type_Tent</th>\n",
       "      <th>property_type_Timeshare</th>\n",
       "      <th>property_type_Tipi</th>\n",
       "      <th>property_type_Townhouse</th>\n",
       "      <th>property_type_Train</th>\n",
       "      <th>property_type_Treehouse</th>\n",
       "      <th>property_type_Vacation home</th>\n",
       "      <th>property_type_Villa</th>\n",
       "      <th>property_type_Yurt</th>\n",
       "    </tr>\n",
       "  </thead>\n",
       "  <tbody>\n",
       "    <tr>\n",
       "      <th>1</th>\n",
       "      <td>5.129899</td>\n",
       "      <td>7</td>\n",
       "      <td>1.0</td>\n",
       "      <td>0</td>\n",
       "      <td>1</td>\n",
       "      <td>40.766115</td>\n",
       "      <td>-73.989040</td>\n",
       "      <td>6</td>\n",
       "      <td>93.0</td>\n",
       "      <td>3.0</td>\n",
       "      <td>...</td>\n",
       "      <td>0</td>\n",
       "      <td>0</td>\n",
       "      <td>0</td>\n",
       "      <td>0</td>\n",
       "      <td>0</td>\n",
       "      <td>0</td>\n",
       "      <td>0</td>\n",
       "      <td>0</td>\n",
       "      <td>0</td>\n",
       "      <td>0</td>\n",
       "    </tr>\n",
       "    <tr>\n",
       "      <th>2</th>\n",
       "      <td>4.976734</td>\n",
       "      <td>5</td>\n",
       "      <td>1.0</td>\n",
       "      <td>1</td>\n",
       "      <td>1</td>\n",
       "      <td>40.808110</td>\n",
       "      <td>-73.943756</td>\n",
       "      <td>10</td>\n",
       "      <td>92.0</td>\n",
       "      <td>1.0</td>\n",
       "      <td>...</td>\n",
       "      <td>0</td>\n",
       "      <td>0</td>\n",
       "      <td>0</td>\n",
       "      <td>0</td>\n",
       "      <td>0</td>\n",
       "      <td>0</td>\n",
       "      <td>0</td>\n",
       "      <td>0</td>\n",
       "      <td>0</td>\n",
       "      <td>0</td>\n",
       "    </tr>\n",
       "    <tr>\n",
       "      <th>4</th>\n",
       "      <td>4.744932</td>\n",
       "      <td>2</td>\n",
       "      <td>1.0</td>\n",
       "      <td>1</td>\n",
       "      <td>1</td>\n",
       "      <td>38.925627</td>\n",
       "      <td>-77.034596</td>\n",
       "      <td>4</td>\n",
       "      <td>80.0</td>\n",
       "      <td>0.0</td>\n",
       "      <td>...</td>\n",
       "      <td>0</td>\n",
       "      <td>0</td>\n",
       "      <td>0</td>\n",
       "      <td>0</td>\n",
       "      <td>0</td>\n",
       "      <td>0</td>\n",
       "      <td>0</td>\n",
       "      <td>0</td>\n",
       "      <td>0</td>\n",
       "      <td>0</td>\n",
       "    </tr>\n",
       "    <tr>\n",
       "      <th>5</th>\n",
       "      <td>4.442651</td>\n",
       "      <td>2</td>\n",
       "      <td>1.0</td>\n",
       "      <td>1</td>\n",
       "      <td>1</td>\n",
       "      <td>37.753164</td>\n",
       "      <td>-122.429526</td>\n",
       "      <td>3</td>\n",
       "      <td>100.0</td>\n",
       "      <td>1.0</td>\n",
       "      <td>...</td>\n",
       "      <td>0</td>\n",
       "      <td>0</td>\n",
       "      <td>0</td>\n",
       "      <td>0</td>\n",
       "      <td>0</td>\n",
       "      <td>0</td>\n",
       "      <td>0</td>\n",
       "      <td>0</td>\n",
       "      <td>0</td>\n",
       "      <td>0</td>\n",
       "    </tr>\n",
       "    <tr>\n",
       "      <th>7</th>\n",
       "      <td>4.787492</td>\n",
       "      <td>2</td>\n",
       "      <td>1.0</td>\n",
       "      <td>1</td>\n",
       "      <td>0</td>\n",
       "      <td>34.046737</td>\n",
       "      <td>-118.260439</td>\n",
       "      <td>9</td>\n",
       "      <td>93.0</td>\n",
       "      <td>1.0</td>\n",
       "      <td>...</td>\n",
       "      <td>0</td>\n",
       "      <td>0</td>\n",
       "      <td>0</td>\n",
       "      <td>0</td>\n",
       "      <td>0</td>\n",
       "      <td>0</td>\n",
       "      <td>0</td>\n",
       "      <td>0</td>\n",
       "      <td>0</td>\n",
       "      <td>0</td>\n",
       "    </tr>\n",
       "    <tr>\n",
       "      <th>8</th>\n",
       "      <td>4.787492</td>\n",
       "      <td>2</td>\n",
       "      <td>1.0</td>\n",
       "      <td>0</td>\n",
       "      <td>0</td>\n",
       "      <td>37.781128</td>\n",
       "      <td>-122.501095</td>\n",
       "      <td>100</td>\n",
       "      <td>99.0</td>\n",
       "      <td>1.0</td>\n",
       "      <td>...</td>\n",
       "      <td>0</td>\n",
       "      <td>0</td>\n",
       "      <td>0</td>\n",
       "      <td>0</td>\n",
       "      <td>0</td>\n",
       "      <td>0</td>\n",
       "      <td>0</td>\n",
       "      <td>0</td>\n",
       "      <td>0</td>\n",
       "      <td>0</td>\n",
       "    </tr>\n",
       "    <tr>\n",
       "      <th>10</th>\n",
       "      <td>4.605170</td>\n",
       "      <td>2</td>\n",
       "      <td>1.0</td>\n",
       "      <td>1</td>\n",
       "      <td>0</td>\n",
       "      <td>40.723883</td>\n",
       "      <td>-73.983880</td>\n",
       "      <td>82</td>\n",
       "      <td>93.0</td>\n",
       "      <td>1.0</td>\n",
       "      <td>...</td>\n",
       "      <td>0</td>\n",
       "      <td>0</td>\n",
       "      <td>0</td>\n",
       "      <td>0</td>\n",
       "      <td>0</td>\n",
       "      <td>0</td>\n",
       "      <td>0</td>\n",
       "      <td>0</td>\n",
       "      <td>0</td>\n",
       "      <td>0</td>\n",
       "    </tr>\n",
       "    <tr>\n",
       "      <th>11</th>\n",
       "      <td>5.010635</td>\n",
       "      <td>4</td>\n",
       "      <td>1.5</td>\n",
       "      <td>1</td>\n",
       "      <td>0</td>\n",
       "      <td>33.875862</td>\n",
       "      <td>-118.403293</td>\n",
       "      <td>29</td>\n",
       "      <td>97.0</td>\n",
       "      <td>2.0</td>\n",
       "      <td>...</td>\n",
       "      <td>0</td>\n",
       "      <td>0</td>\n",
       "      <td>0</td>\n",
       "      <td>0</td>\n",
       "      <td>0</td>\n",
       "      <td>0</td>\n",
       "      <td>0</td>\n",
       "      <td>0</td>\n",
       "      <td>0</td>\n",
       "      <td>0</td>\n",
       "    </tr>\n",
       "    <tr>\n",
       "      <th>13</th>\n",
       "      <td>5.298317</td>\n",
       "      <td>6</td>\n",
       "      <td>1.5</td>\n",
       "      <td>1</td>\n",
       "      <td>1</td>\n",
       "      <td>38.919630</td>\n",
       "      <td>-77.031189</td>\n",
       "      <td>13</td>\n",
       "      <td>89.0</td>\n",
       "      <td>2.0</td>\n",
       "      <td>...</td>\n",
       "      <td>0</td>\n",
       "      <td>0</td>\n",
       "      <td>0</td>\n",
       "      <td>0</td>\n",
       "      <td>0</td>\n",
       "      <td>0</td>\n",
       "      <td>0</td>\n",
       "      <td>0</td>\n",
       "      <td>0</td>\n",
       "      <td>0</td>\n",
       "    </tr>\n",
       "    <tr>\n",
       "      <th>17</th>\n",
       "      <td>4.595120</td>\n",
       "      <td>2</td>\n",
       "      <td>2.0</td>\n",
       "      <td>1</td>\n",
       "      <td>0</td>\n",
       "      <td>42.339194</td>\n",
       "      <td>-71.049672</td>\n",
       "      <td>12</td>\n",
       "      <td>88.0</td>\n",
       "      <td>1.0</td>\n",
       "      <td>...</td>\n",
       "      <td>0</td>\n",
       "      <td>0</td>\n",
       "      <td>0</td>\n",
       "      <td>0</td>\n",
       "      <td>1</td>\n",
       "      <td>0</td>\n",
       "      <td>0</td>\n",
       "      <td>0</td>\n",
       "      <td>0</td>\n",
       "      <td>0</td>\n",
       "    </tr>\n",
       "  </tbody>\n",
       "</table>\n",
       "<p>10 rows × 56 columns</p>\n",
       "</div>"
      ],
      "text/plain": [
       "    log_price  accommodates  bathrooms  host_identity_verified  \\\n",
       "1    5.129899             7        1.0                       0   \n",
       "2    4.976734             5        1.0                       1   \n",
       "4    4.744932             2        1.0                       1   \n",
       "5    4.442651             2        1.0                       1   \n",
       "7    4.787492             2        1.0                       1   \n",
       "8    4.787492             2        1.0                       0   \n",
       "10   4.605170             2        1.0                       1   \n",
       "11   5.010635             4        1.5                       1   \n",
       "13   5.298317             6        1.5                       1   \n",
       "17   4.595120             2        2.0                       1   \n",
       "\n",
       "    instant_bookable   latitude   longitude  number_of_reviews  \\\n",
       "1                  1  40.766115  -73.989040                  6   \n",
       "2                  1  40.808110  -73.943756                 10   \n",
       "4                  1  38.925627  -77.034596                  4   \n",
       "5                  1  37.753164 -122.429526                  3   \n",
       "7                  0  34.046737 -118.260439                  9   \n",
       "8                  0  37.781128 -122.501095                100   \n",
       "10                 0  40.723883  -73.983880                 82   \n",
       "11                 0  33.875862 -118.403293                 29   \n",
       "13                 1  38.919630  -77.031189                 13   \n",
       "17                 0  42.339194  -71.049672                 12   \n",
       "\n",
       "    review_scores_rating  bedrooms  ...  property_type_Serviced apartment  \\\n",
       "1                   93.0       3.0  ...                                 0   \n",
       "2                   92.0       1.0  ...                                 0   \n",
       "4                   80.0       0.0  ...                                 0   \n",
       "5                  100.0       1.0  ...                                 0   \n",
       "7                   93.0       1.0  ...                                 0   \n",
       "8                   99.0       1.0  ...                                 0   \n",
       "10                  93.0       1.0  ...                                 0   \n",
       "11                  97.0       2.0  ...                                 0   \n",
       "13                  89.0       2.0  ...                                 0   \n",
       "17                  88.0       1.0  ...                                 0   \n",
       "\n",
       "    property_type_Tent  property_type_Timeshare  property_type_Tipi  \\\n",
       "1                    0                        0                   0   \n",
       "2                    0                        0                   0   \n",
       "4                    0                        0                   0   \n",
       "5                    0                        0                   0   \n",
       "7                    0                        0                   0   \n",
       "8                    0                        0                   0   \n",
       "10                   0                        0                   0   \n",
       "11                   0                        0                   0   \n",
       "13                   0                        0                   0   \n",
       "17                   0                        0                   0   \n",
       "\n",
       "    property_type_Townhouse  property_type_Train  property_type_Treehouse  \\\n",
       "1                         0                    0                        0   \n",
       "2                         0                    0                        0   \n",
       "4                         0                    0                        0   \n",
       "5                         0                    0                        0   \n",
       "7                         0                    0                        0   \n",
       "8                         0                    0                        0   \n",
       "10                        0                    0                        0   \n",
       "11                        0                    0                        0   \n",
       "13                        0                    0                        0   \n",
       "17                        1                    0                        0   \n",
       "\n",
       "    property_type_Vacation home  property_type_Villa  property_type_Yurt  \n",
       "1                             0                    0                   0  \n",
       "2                             0                    0                   0  \n",
       "4                             0                    0                   0  \n",
       "5                             0                    0                   0  \n",
       "7                             0                    0                   0  \n",
       "8                             0                    0                   0  \n",
       "10                            0                    0                   0  \n",
       "11                            0                    0                   0  \n",
       "13                            0                    0                   0  \n",
       "17                            0                    0                   0  \n",
       "\n",
       "[10 rows x 56 columns]"
      ]
     },
     "execution_count": 19,
     "metadata": {},
     "output_type": "execute_result"
    }
   ],
   "source": [
    "#one hot encoding categorical variables and dropping columns that are not used\n",
    "oneHotCols=[\"room_type\",\"bed_type\",\"city\",\"cancellation_policy\", \"property_type\"]\n",
    "pdata_reg.drop(['description','host_response_rate','first_review','host_since', 'zipcode','last_review','id','neighbourhood','cleaning_fee','host_has_profile_pic'], axis=1, inplace=True)\n",
    "pdata_reg=pd.get_dummies(pdata_reg, columns=oneHotCols,drop_first=True)\n",
    "pdata_reg.head(10)"
   ]
  },
  {
   "cell_type": "code",
   "execution_count": 20,
   "metadata": {
    "id": "1zyDeHuEOYG2"
   },
   "outputs": [],
   "source": [
    "# create regression x and y \n",
    "X_reg = pdata_reg.drop('log_price',axis=1).values     \n",
    "y_reg = pdata_reg['log_price'].values\n",
    "\n",
    "#Scaling the x\n",
    "yhat_reg = np.zeros(y_reg.shape) # we will fill this with predictions\n",
    "scl_reg = StandardScaler()\n",
    "X_scaled_reg = scl_reg.fit_transform(X_reg)"
   ]
  },
  {
   "cell_type": "code",
   "execution_count": 23,
   "metadata": {
    "colab": {
     "base_uri": "https://localhost:8080/"
    },
    "id": "yEGin6yDOYG2",
    "outputId": "b3489241-79df-4d3b-9ad3-5fd5baa59e1b"
   },
   "outputs": [
    {
     "name": "stdout",
     "output_type": "stream",
     "text": [
      "<class 'pandas.core.frame.DataFrame'>\n",
      "Int64Index: 43320 entries, 1 to 74110\n",
      "Data columns (total 56 columns):\n",
      " #   Column                               Non-Null Count  Dtype  \n",
      "---  ------                               --------------  -----  \n",
      " 0   log_price                            43320 non-null  float64\n",
      " 1   accommodates                         43320 non-null  int64  \n",
      " 2   bathrooms                            43320 non-null  float64\n",
      " 3   host_identity_verified               43320 non-null  int64  \n",
      " 4   instant_bookable                     43320 non-null  int64  \n",
      " 5   latitude                             43320 non-null  float64\n",
      " 6   longitude                            43320 non-null  float64\n",
      " 7   number_of_reviews                    43320 non-null  int64  \n",
      " 8   review_scores_rating                 43320 non-null  float64\n",
      " 9   bedrooms                             43320 non-null  float64\n",
      " 10  beds                                 43320 non-null  float64\n",
      " 11  room_type_Private room               43320 non-null  uint8  \n",
      " 12  room_type_Shared room                43320 non-null  uint8  \n",
      " 13  bed_type_Couch                       43320 non-null  uint8  \n",
      " 14  bed_type_Futon                       43320 non-null  uint8  \n",
      " 15  bed_type_Pull-out Sofa               43320 non-null  uint8  \n",
      " 16  bed_type_Real Bed                    43320 non-null  uint8  \n",
      " 17  city_Chicago                         43320 non-null  uint8  \n",
      " 18  city_DC                              43320 non-null  uint8  \n",
      " 19  city_LA                              43320 non-null  uint8  \n",
      " 20  city_NYC                             43320 non-null  uint8  \n",
      " 21  city_SF                              43320 non-null  uint8  \n",
      " 22  cancellation_policy_moderate         43320 non-null  uint8  \n",
      " 23  cancellation_policy_strict           43320 non-null  uint8  \n",
      " 24  cancellation_policy_super_strict_30  43320 non-null  uint8  \n",
      " 25  cancellation_policy_super_strict_60  43320 non-null  uint8  \n",
      " 26  property_type_Bed & Breakfast        43320 non-null  uint8  \n",
      " 27  property_type_Boat                   43320 non-null  uint8  \n",
      " 28  property_type_Boutique hotel         43320 non-null  uint8  \n",
      " 29  property_type_Bungalow               43320 non-null  uint8  \n",
      " 30  property_type_Cabin                  43320 non-null  uint8  \n",
      " 31  property_type_Camper/RV              43320 non-null  uint8  \n",
      " 32  property_type_Castle                 43320 non-null  uint8  \n",
      " 33  property_type_Cave                   43320 non-null  uint8  \n",
      " 34  property_type_Chalet                 43320 non-null  uint8  \n",
      " 35  property_type_Condominium            43320 non-null  uint8  \n",
      " 36  property_type_Dorm                   43320 non-null  uint8  \n",
      " 37  property_type_Earth House            43320 non-null  uint8  \n",
      " 38  property_type_Guest suite            43320 non-null  uint8  \n",
      " 39  property_type_Guesthouse             43320 non-null  uint8  \n",
      " 40  property_type_Hostel                 43320 non-null  uint8  \n",
      " 41  property_type_House                  43320 non-null  uint8  \n",
      " 42  property_type_Hut                    43320 non-null  uint8  \n",
      " 43  property_type_In-law                 43320 non-null  uint8  \n",
      " 44  property_type_Loft                   43320 non-null  uint8  \n",
      " 45  property_type_Other                  43320 non-null  uint8  \n",
      " 46  property_type_Serviced apartment     43320 non-null  uint8  \n",
      " 47  property_type_Tent                   43320 non-null  uint8  \n",
      " 48  property_type_Timeshare              43320 non-null  uint8  \n",
      " 49  property_type_Tipi                   43320 non-null  uint8  \n",
      " 50  property_type_Townhouse              43320 non-null  uint8  \n",
      " 51  property_type_Train                  43320 non-null  uint8  \n",
      " 52  property_type_Treehouse              43320 non-null  uint8  \n",
      " 53  property_type_Vacation home          43320 non-null  uint8  \n",
      " 54  property_type_Villa                  43320 non-null  uint8  \n",
      " 55  property_type_Yurt                   43320 non-null  uint8  \n",
      "dtypes: float64(7), int64(4), uint8(45)\n",
      "memory usage: 5.8 MB\n"
     ]
    }
   ],
   "source": [
    "#Describing the final dataset for regression\n",
    "pdata_reg.info()"
   ]
  },
  {
   "cell_type": "markdown",
   "metadata": {
    "id": "eUZozSgdOYG3"
   },
   "source": [
    "### 2. Modeling and Evaluation"
   ]
  },
  {
   "cell_type": "markdown",
   "metadata": {
    "id": "nQr3xncSOYG3"
   },
   "source": [
    "#### 2.1 Evaluation Metrics (Model and Evaluation 1)"
   ]
  },
  {
   "cell_type": "markdown",
   "metadata": {
    "id": "XlSRfQM8OYG4"
   },
   "source": [
    "Classification:\n",
    "<br> \n",
    "&nbsp;&nbsp;&nbsp; Accuracy - Fraction of samples predicted correctly, mainly used in classification tasks. This can be highly misleading in unbalanced datasets. \n",
    "<br> &nbsp;&nbsp;&nbsp;&nbsp;&nbsp;&nbsp; Formula: ((TP+TN)/(TP+TN+FP+FN))\n",
    "<br>\n",
    "&nbsp;&nbsp;&nbsp;&nbsp;&nbsp;&nbsp; [TP - True Positive, TN - True Negative, FP - False Positive, FN - False Negative]\n",
    "<br>\n",
    "&nbsp;&nbsp;&nbsp; Precision - Fraction of predicted positive events that are actually positive.\n",
    "<br> &nbsp;&nbsp;&nbsp;&nbsp;&nbsp;&nbsp; Formula: ((TP)/(TP+FP))\n",
    "<br>\n",
    "&nbsp;&nbsp;&nbsp;&nbsp;&nbsp;&nbsp; [TP - True Positive, FP - False Positive]\n",
    "<br>\n",
    "&nbsp;&nbsp;&nbsp; Recall - Fraction of positives that were predicted correctly.\n",
    "<br> &nbsp;&nbsp;&nbsp;&nbsp;&nbsp;&nbsp; Formula: ((TP)/(TP+FN))\n",
    "<br>\n",
    "&nbsp;&nbsp;&nbsp;&nbsp;&nbsp;&nbsp; [TP - True Positive, FN - False Negative]\n",
    "<br>\n",
    "&nbsp;&nbsp;&nbsp; F-Measure - Harmonized mean of recall and precision which is the best metric used for unbalanced classification tasks.\n",
    "<br> &nbsp;&nbsp;&nbsp;&nbsp;&nbsp;&nbsp; Formula: (2(precision x recall)/(precision+recall))\n",
    "<br>\n",
    "&nbsp;&nbsp;&nbsp; Confusion Matrix - Table that enables us to visualizing the performance of the classification task. Since the accuracy can be misleading, this method allows us to determine how well the model classifies.\n",
    "<br>\n",
    "<br>\n",
    "Regression:\n",
    "<br>\n",
    "&nbsp;&nbsp;&nbsp; MSE [Mean Squared Error] - The MSE is calculated as the mean or average of the squared differences between predicted and expected target values in a dataset. Our goal is to minimize the mean squared error between predictions and expected values. Use MSE to train a model.\n",
    "<br>\n",
    "&nbsp;&nbsp;&nbsp; RMSE [Root Mean Squared Error] - The RMSE is an extension of MSE because it is the square root of MSE. RMSE determines the performance after testing the model(s) in cross-validation.\n",
    "<br>\n",
    "&nbsp;&nbsp;&nbsp; MAE [Mean Average Error] - The average of the absolute error from the predcited to the actual which helps us understand the magnitude of the error - not necessarily the direction.\n",
    "<br>\n",
    "&nbsp;&nbsp;&nbsp; MAPE [Mean Absolute Percent Error] - The measurement of how accurate a prediction is as a percentage."
   ]
  },
  {
   "cell_type": "markdown",
   "metadata": {
    "id": "Rv80M1cFOYG4"
   },
   "source": [
    "#### 2.2 Method for Splitting train and test data (Model and Evaluation 2)"
   ]
  },
  {
   "cell_type": "markdown",
   "metadata": {
    "id": "tRVHytSFOYG5"
   },
   "source": [
    "##### 2.2.1 Classification Task"
   ]
  },
  {
   "cell_type": "markdown",
   "metadata": {
    "id": "fKtuc8zvOYG5"
   },
   "source": [
    "We used stratified shuffle split in our classification data split because we have an unbalanced dataset and we want to ensure smaller classes are equally represented in our train/test splits.\n",
    "A 10-fold cross-validation with an 80/20 train/test split was applied."
   ]
  },
  {
   "cell_type": "code",
   "execution_count": 15,
   "metadata": {
    "id": "6TFhTe7bOYG5"
   },
   "outputs": [],
   "source": [
    "# create cross validation iterator\n",
    "cv = StratifiedShuffleSplit(n_splits=10, test_size = 0.2, train_size = 0.8)\n",
    "\n",
    "# now iterate through and get predictions, saved to the correct row in yhat\n",
    "# NOTE: you can parallelize this using the cross_val_predict method\n",
    "# fill in the training and testing data and save as separate variables\n",
    "for trainidx, testidx in cv.split(X_scaled_cls,y_cls):\n",
    "    # note that these are sparse matrices\n",
    "    X_train_scaled_cls = X_scaled_cls[trainidx]\n",
    "    X_test_scaled_cls = X_scaled_cls[testidx]\n",
    "    y_train_cls = y_cls[trainidx]\n",
    "    y_test_cls = y_cls[testidx]"
   ]
  },
  {
   "cell_type": "code",
   "execution_count": 25,
   "metadata": {
    "colab": {
     "base_uri": "https://localhost:8080/"
    },
    "id": "eno0uMFIOYG6",
    "outputId": "453acf60-078a-4a6d-c8c6-cfcd9cf30053"
   },
   "outputs": [
    {
     "name": "stdout",
     "output_type": "stream",
     "text": [
      "80.00% data is in training set\n",
      "20.00% data is in test set\n"
     ]
    }
   ],
   "source": [
    "#verifying the test vs train split\n",
    "print(\"{0:0.2f}% data is in training set\".format((len(X_train_scaled_cls)/len(pdata_cls.index)) * 100))\n",
    "print(\"{0:0.2f}% data is in test set\".format((len(X_test_scaled_cls)/len(pdata_cls.index)) * 100))"
   ]
  },
  {
   "cell_type": "markdown",
   "metadata": {
    "id": "pP335p1KOYG6"
   },
   "source": [
    "##### 2.2.2 Regression Task"
   ]
  },
  {
   "cell_type": "markdown",
   "metadata": {
    "id": "-27-zUhaOYG6"
   },
   "source": [
    "We used a shuffle split in our regression data split because we have a continuous response variable. A 10-fold cross-validation with an 80/20 train/test split was applied."
   ]
  },
  {
   "cell_type": "code",
   "execution_count": 21,
   "metadata": {
    "id": "j66zgwV0OYG7"
   },
   "outputs": [],
   "source": [
    "# create cross validation iterator\n",
    "from sklearn.model_selection import ShuffleSplit\n",
    "cv_reg = ShuffleSplit(n_splits=10, test_size = 0.2, train_size = 0.8)\n",
    "\n",
    "# now iterate through and get predictions, saved to the correct row in yhat\n",
    "# NOTE: you can parallelize this using the cross_val_predict method\n",
    "# fill in the training and testing data and save as separate variables\n",
    "for trainidx, testidx in cv_reg.split(X_scaled_reg,y_reg):\n",
    "    # note that these are sparse matrices\n",
    "    X_train_scaled_reg = X_scaled_reg[trainidx]\n",
    "    X_test_scaled_reg = X_scaled_reg[testidx]\n",
    "    y_train_reg = y_reg[trainidx]\n",
    "    y_test_reg = y_reg[testidx]"
   ]
  },
  {
   "cell_type": "code",
   "execution_count": 27,
   "metadata": {
    "colab": {
     "base_uri": "https://localhost:8080/"
    },
    "id": "nI2WdbljOYG7",
    "outputId": "de076d3a-d979-4424-a914-ced6be4b6ce5"
   },
   "outputs": [
    {
     "name": "stdout",
     "output_type": "stream",
     "text": [
      "80.00% data is in training set\n",
      "20.00% data is in test set\n"
     ]
    }
   ],
   "source": [
    "#verifying the test vs train split\n",
    "print(\"{0:0.2f}% data is in training set\".format((len(X_train_scaled_reg)/len(pdata_reg.index)) * 100))\n",
    "print(\"{0:0.2f}% data is in test set\".format((len(X_test_scaled_reg)/len(pdata_reg.index)) * 100))"
   ]
  },
  {
   "cell_type": "markdown",
   "metadata": {
    "id": "j0cOZ_uCOYG7"
   },
   "source": [
    "#### 2.3 Classification Models (Model and Evaluation 3 Pt. 1) - Random Forest, KNN, Logistic Regression"
   ]
  },
  {
   "cell_type": "markdown",
   "metadata": {
    "id": "44vSw3od6E8R"
   },
   "source": [
    "For each model we performed a Grid Search and/or Random Search to optimize the hyperparameters."
   ]
  },
  {
   "cell_type": "markdown",
   "metadata": {
    "id": "oYv72s9gOYG8"
   },
   "source": [
    "##### 2.3.1 Random Forest Classifier"
   ]
  },
  {
   "cell_type": "code",
   "execution_count": 18,
   "metadata": {
    "id": "tA18q3lpOYG8"
   },
   "outputs": [],
   "source": [
    "from sklearn.ensemble import RandomForestClassifier\n",
    "\n",
    "#Upload the Random Forest Classifier to the Grid Search\n",
    "modelGRID_RFC = RandomForestClassifier()\n",
    "\n",
    "#parameters_RFC = {'n_estimators' : [5,10,15,20,25,30,50,75,100,500],'max_features' : ['auto', 'sqrt', 'log2'],'max_depth' : [5,10,15,20,25,30,35,'None'],'min_samples_split' : [2,5,10],'min_samples_leaf' : [1,2,4],'bootstrap' : [True, False]}\n",
    "#When ran, the optimal solution is: {'bootstrap': False,'max_depth': 15,'max_features': 'auto','min_samples_leaf': 2,'min_samples_split': 2,'n_estimators': 500}\n",
    "#Therefore, we wanted to rerun the model with different estimators\n",
    "\n",
    "parameters_RFC = {'n_estimators' : [5,100,500,1000],\n",
    "                 'max_features' : ['auto', 'sqrt', 'log2'],\n",
    "                 'max_depth' : [5,10,15,20,35,'None'],\n",
    "                 'min_samples_split' : [2,3,4,5],\n",
    "                 'min_samples_leaf' : [1,2,3,4],\n",
    "                 'bootstrap' : [True, False]}"
   ]
  },
  {
   "cell_type": "code",
   "execution_count": 29,
   "metadata": {
    "colab": {
     "base_uri": "https://localhost:8080/"
    },
    "id": "zsC_NKlgOYG8",
    "outputId": "0c72901c-176a-4ce4-aeec-37215bdac379"
   },
   "outputs": [
    {
     "data": {
      "text/plain": [
       "GridSearchCV(cv=3, error_score=nan,\n",
       "             estimator=RandomForestClassifier(bootstrap=True, ccp_alpha=0.0,\n",
       "                                              class_weight=None,\n",
       "                                              criterion='gini', max_depth=None,\n",
       "                                              max_features='auto',\n",
       "                                              max_leaf_nodes=None,\n",
       "                                              max_samples=None,\n",
       "                                              min_impurity_decrease=0.0,\n",
       "                                              min_impurity_split=None,\n",
       "                                              min_samples_leaf=1,\n",
       "                                              min_samples_split=2,\n",
       "                                              min_weight_fraction_leaf=0.0,\n",
       "                                              n_estimators=100, n_jobs=None,...\n",
       "                                              random_state=None, verbose=0,\n",
       "                                              warm_start=False),\n",
       "             iid='deprecated', n_jobs=25,\n",
       "             param_grid={'bootstrap': [True, False],\n",
       "                         'max_depth': [5, 10, 15, 20, 35, 'None'],\n",
       "                         'max_features': ['auto', 'sqrt', 'log2'],\n",
       "                         'min_samples_leaf': [1, 2, 3, 4],\n",
       "                         'min_samples_split': [2, 3, 4, 5],\n",
       "                         'n_estimators': [5, 100, 500, 1000]},\n",
       "             pre_dispatch='2*n_jobs', refit=True, return_train_score=False,\n",
       "             scoring='accuracy', verbose=0)"
      ]
     },
     "execution_count": 29,
     "metadata": {
      "tags": []
     },
     "output_type": "execute_result"
    }
   ],
   "source": [
    "#GridSearch\n",
    "from sklearn.model_selection import GridSearchCV\n",
    "gs_RFC = GridSearchCV(modelGRID_RFC, n_jobs = 25, param_grid=parameters_RFC,cv=3,scoring='accuracy')\n",
    "gs_RFC.fit(X_train_scaled_cls, y_train_cls)"
   ]
  },
  {
   "cell_type": "code",
   "execution_count": 19,
   "metadata": {
    "colab": {
     "base_uri": "https://localhost:8080/"
    },
    "id": "owAK2QfhOYG9",
    "outputId": "fba62425-12b0-4ce4-e7d0-10d4ee245b53"
   },
   "outputs": [
    {
     "name": "stdout",
     "output_type": "stream",
     "text": [
      "Fitting 3 folds for each of 50 candidates, totalling 150 fits\n"
     ]
    },
    {
     "data": {
      "text/plain": [
       "RandomizedSearchCV(cv=3, estimator=RandomForestClassifier(), n_iter=50,\n",
       "                   n_jobs=25,\n",
       "                   param_distributions={'bootstrap': [True, False],\n",
       "                                        'max_depth': [5, 10, 15, 20, 35,\n",
       "                                                      'None'],\n",
       "                                        'max_features': ['auto', 'sqrt',\n",
       "                                                         'log2'],\n",
       "                                        'min_samples_leaf': [1, 2, 3, 4],\n",
       "                                        'min_samples_split': [2, 3, 4, 5],\n",
       "                                        'n_estimators': [5, 100, 500, 1000]},\n",
       "                   random_state=42, scoring='accuracy', verbose=2)"
      ]
     },
     "execution_count": 19,
     "metadata": {},
     "output_type": "execute_result"
    }
   ],
   "source": [
    "#Random Search CV for optimazation\n",
    "from sklearn.model_selection import RandomizedSearchCV\n",
    "rs_RFC = RandomizedSearchCV(estimator = modelGRID_RFC, param_distributions = parameters_RFC, n_iter = 50, cv = 3, verbose=2, random_state=42, n_jobs = 25,scoring='accuracy')\n",
    "rs_RFC.fit(X_train_scaled_cls, y_train_cls)"
   ]
  },
  {
   "cell_type": "code",
   "execution_count": 21,
   "metadata": {
    "id": "4t7IuTOV7Shk"
   },
   "outputs": [
    {
     "data": {
      "text/plain": [
       "{'n_estimators': 500,\n",
       " 'min_samples_split': 5,\n",
       " 'min_samples_leaf': 2,\n",
       " 'max_features': 'sqrt',\n",
       " 'max_depth': 35,\n",
       " 'bootstrap': True}"
      ]
     },
     "execution_count": 21,
     "metadata": {},
     "output_type": "execute_result"
    }
   ],
   "source": [
    "#parameter combination with the highest score for random search\n",
    "rs_RFC.best_params_"
   ]
  },
  {
   "cell_type": "code",
   "execution_count": 23,
   "metadata": {
    "id": "40vFMoNA8ZXE"
   },
   "outputs": [],
   "source": [
    "modelFINAL_RFC_RS = RandomForestClassifier(n_estimators=500,\n",
    "                                             min_samples_split = 5,\n",
    "                                             min_samples_leaf= 2,\n",
    "                                             max_features= 'sqrt',\n",
    "                                             max_depth= 35,\n",
    "                                             bootstrap= True)\n",
    "modelFINAL_RFC_RS.fit(X_train_scaled_cls,y_train_cls)\n",
    "y_hat_RFC_RS = modelFINAL_RFC_RS.predict(X_test_scaled_cls)"
   ]
  },
  {
   "cell_type": "code",
   "execution_count": 24,
   "metadata": {
    "id": "KZrh1pcuHn4S"
   },
   "outputs": [
    {
     "name": "stdout",
     "output_type": "stream",
     "text": [
      "[0.75745178 0.76668615 0.75569842 0.75546464 0.76201052 0.75920514\n",
      " 0.7597896  0.75862069 0.7648159  0.76551724]\n"
     ]
    }
   ],
   "source": [
    "from sklearn.model_selection import cross_val_score\n",
    "accuracies_RFC = cross_val_score(modelFINAL_RFC_RS, X_scaled_cls, y=y_cls, cv=cv) # this also can help with parallelism\n",
    "print(accuracies_RFC)"
   ]
  },
  {
   "cell_type": "code",
   "execution_count": 25,
   "metadata": {
    "id": "QrL_qTf98NOE"
   },
   "outputs": [
    {
     "name": "stdout",
     "output_type": "stream",
     "text": [
      "Training accuracy 0.889\n",
      "\n",
      "Testing accuracy 0.76\n",
      "\n",
      "Confusion Matrix\n"
     ]
    },
    {
     "data": {
      "image/png": "[encoded data removed]",
      "text/plain": [
       "<Figure size 432x288 with 2 Axes>"
      ]
     },
     "metadata": {
      "needs_background": "light"
     },
     "output_type": "display_data"
    },
    {
     "name": "stdout",
     "output_type": "stream",
     "text": [
      "None\n",
      "              precision    recall  f1-score   support\n",
      "\n",
      "           0       0.78      0.87      0.82      5523\n",
      "           1       0.70      0.56      0.62      3032\n",
      "\n",
      "    accuracy                           0.76      8555\n",
      "   macro avg       0.74      0.72      0.72      8555\n",
      "weighted avg       0.75      0.76      0.75      8555\n",
      "\n"
     ]
    }
   ],
   "source": [
    "#Confusion Matrix for Random Forest Classifier w/ RandomSearch\n",
    "from sklearn.metrics import classification_report, confusion_matrix\n",
    "from sklearn.ensemble import RandomForestClassifier\n",
    "\n",
    "## function to get confusion matrix in a proper format\n",
    "def draw_cm( actual, predicted ):\n",
    "    cm = confusion_matrix( actual, predicted)\n",
    "    sns.heatmap(cm, annot=True,  fmt='.2f', xticklabels = [0,1] , yticklabels = [0,1] )\n",
    "    plt.ylabel('Observed')\n",
    "    plt.xlabel('Predicted')\n",
    "    plt.show()\n",
    "\n",
    "print(\"Training accuracy\",round(modelFINAL_RFC_RS.score(X_train_scaled_cls,y_train_cls),ndigits=3))\n",
    "print()\n",
    "print(\"Testing accuracy\",round(mt.accuracy_score(y_test_cls, y_hat_RFC_RS),ndigits=3))\n",
    "print()\n",
    "print('Confusion Matrix')\n",
    "print(draw_cm(y_test_cls,y_hat_RFC_RS))\n",
    "\n",
    "print(classification_report(y_test_cls,y_hat_RFC_RS))"
   ]
  },
  {
   "cell_type": "code",
   "execution_count": 26,
   "metadata": {
    "id": "nKFEPdFK8NZ4"
   },
   "outputs": [
    {
     "name": "stdout",
     "output_type": "stream",
     "text": [
      "0.76\n"
     ]
    }
   ],
   "source": [
    "RF_ac = round(mt.accuracy_score(y_test_cls, y_hat_RFC_RS),ndigits=3)\n",
    "\n",
    "print(RF_ac)"
   ]
  },
  {
   "cell_type": "code",
   "execution_count": 27,
   "metadata": {
    "id": "0tDQK1yv84hE"
   },
   "outputs": [
    {
     "data": {
      "image/png": "[encoded data removed]",
      "text/plain": [
       "<Figure size 432x288 with 1 Axes>"
      ]
     },
     "metadata": {
      "needs_background": "light"
     },
     "output_type": "display_data"
    }
   ],
   "source": [
    "#https://machinelearningmastery.com/roc-curves-and-precision-recall-curves-for-classification-in-python/\n",
    "\n",
    "from sklearn.metrics import roc_auc_score\n",
    "from sklearn.metrics import roc_curve\n",
    "\n",
    "log_roc_auc = roc_auc_score(y_test_cls, modelFINAL_RFC_RS.predict(X_test_scaled_cls))\n",
    "fpr, tpr, thresholds = roc_curve(y_test_cls, modelFINAL_RFC_RS.predict_proba(X_test_scaled_cls)[:,1])\n",
    "\n",
    "plt.figure()\n",
    "plt.plot(fpr, tpr, color='blue', label='Random Forest Classifier (area = %0.2f)' % log_roc_auc)\n",
    "plt.plot([0, 1], [0, 1],'r--')\n",
    "plt.xlim([0.0, 1.0])\n",
    "plt.ylim([0.0, 1.05])\n",
    "plt.xlabel('False Positive Rate')\n",
    "plt.ylabel('True Positive Rate')\n",
    "plt.title('Random Forest Classifier Performance')\n",
    "plt.legend(loc=\"lower right\")\n",
    "plt.show()"
   ]
  },
  {
   "cell_type": "markdown",
   "metadata": {
    "id": "20gVETnyOYG9"
   },
   "source": [
    "##### 2.3.2 K-Nearest Neighbors Classification"
   ]
  },
  {
   "cell_type": "code",
   "execution_count": 34,
   "metadata": {
    "colab": {
     "base_uri": "https://localhost:8080/"
    },
    "id": "s0KiJVYwOYG9",
    "outputId": "80acdefd-9d34-4e0d-eaa5-2b37c45b2a75"
   },
   "outputs": [
    {
     "name": "stdout",
     "output_type": "stream",
     "text": [
      "Wall time: 0 ns\n"
     ]
    },
    {
     "data": {
      "text/plain": [
       "Pipeline(steps=[('scale', StandardScaler()),\n",
       "                ('knn', KNeighborsClassifier(n_neighbors=45))])"
      ]
     },
     "execution_count": 34,
     "metadata": {},
     "output_type": "execute_result"
    }
   ],
   "source": [
    "get_ipython().run_line_magic('time', '')\n",
    "from sklearn.pipeline import make_pipeline\n",
    "from sklearn.neighbors import KNeighborsClassifier\n",
    "from sklearn.preprocessing import StandardScaler\n",
    "from sklearn.model_selection import GridSearchCV\n",
    "from sklearn.model_selection import ShuffleSplit\n",
    "from sklearn.pipeline import Pipeline\n",
    "\n",
    "\n",
    "#pipe = make_pipeline(('scale', StandardScaler()),  ('knn', KNeighborsClassifier()))\n",
    "\n",
    "pipe = Pipeline([('scale', StandardScaler()),  \n",
    "                         ('knn', KNeighborsClassifier())]) \n",
    "\n",
    "# Define a range of hyper parameters for grid search\n",
    "parameters = { 'knn__n_neighbors': [10,45,50]\n",
    "              , 'knn__algorithm' : [\"auto\", \"ball_tree\", \"kd_tree\", \"brute\"]\n",
    "             }\n",
    "\n",
    "#Perform the grid search using accuracy as a metric during cross validation.\n",
    "gridKnn = GridSearchCV(pipe, parameters, cv=cv, scoring='accuracy') # can try f1_micro, f1_maco accuracy....\n",
    "\n",
    "#Use the best features from recursive feature elimination during the grid search\n",
    "gridKnn.fit(X_train_scaled_cls, y_train_cls)\n",
    "\n",
    "#display the best pipeline model identified during the grid search\n",
    "gridKnn.best_estimator_"
   ]
  },
  {
   "cell_type": "code",
   "execution_count": 35,
   "metadata": {
    "id": "rOBPxVFj9h3C"
   },
   "outputs": [
    {
     "data": {
      "text/plain": [
       "{'knn__algorithm': 'auto', 'knn__n_neighbors': 45}"
      ]
     },
     "execution_count": 35,
     "metadata": {},
     "output_type": "execute_result"
    }
   ],
   "source": [
    "gridKnn.best_params_"
   ]
  },
  {
   "cell_type": "code",
   "execution_count": 36,
   "metadata": {
    "id": "-6k5J5M89ife"
   },
   "outputs": [],
   "source": [
    "KNNmodelFINAL = KNeighborsClassifier(algorithm = 'auto', n_neighbors = 45) # get object\n",
    "KNNmodelFINAL.fit(X_train_scaled_cls, y_train_cls)\n",
    "KNNy_hat = KNNmodelFINAL.predict(X_test_scaled_cls)"
   ]
  },
  {
   "cell_type": "code",
   "execution_count": 37,
   "metadata": {
    "id": "1H0hI1ZH9isp"
   },
   "outputs": [
    {
     "name": "stdout",
     "output_type": "stream",
     "text": [
      "[0.74611338 0.7434249  0.7395675  0.74786674 0.74564582 0.74272355\n",
      " 0.74576271 0.74739918 0.74751607 0.74330801]\n"
     ]
    }
   ],
   "source": [
    "from sklearn.model_selection import cross_val_score\n",
    "KNNaccuracies = cross_val_score(KNNmodelFINAL, X_scaled_cls, y=y_cls, cv=cv) # this also can help with parallelism\n",
    "print(KNNaccuracies)"
   ]
  },
  {
   "cell_type": "code",
   "execution_count": 38,
   "metadata": {
    "id": "3WlK4CzJ9i7L"
   },
   "outputs": [
    {
     "name": "stdout",
     "output_type": "stream",
     "text": [
      "Training accuracy 0.754\n",
      "\n",
      "Testing accuracy 0.747\n",
      "\n",
      "Confusion Matrix\n"
     ]
    },
    {
     "data": {
      "image/png": "[encoded data removed]",
      "text/plain": [
       "<Figure size 432x288 with 2 Axes>"
      ]
     },
     "metadata": {
      "needs_background": "light"
     },
     "output_type": "display_data"
    },
    {
     "name": "stdout",
     "output_type": "stream",
     "text": [
      "None\n",
      "              precision    recall  f1-score   support\n",
      "\n",
      "           0       0.76      0.88      0.82      5523\n",
      "           1       0.70      0.50      0.58      3032\n",
      "\n",
      "    accuracy                           0.75      8555\n",
      "   macro avg       0.73      0.69      0.70      8555\n",
      "weighted avg       0.74      0.75      0.73      8555\n",
      "\n"
     ]
    }
   ],
   "source": [
    "from sklearn.metrics import classification_report, confusion_matrix\n",
    "\n",
    "## function to get confusion matrix in a proper format\n",
    "def draw_cm( actual, predicted ):\n",
    "    cm = confusion_matrix( actual, predicted)\n",
    "    sns.heatmap(cm, annot=True,  fmt='.2f', xticklabels = [0,1] , yticklabels = [0,1] )\n",
    "    plt.ylabel('Observed')\n",
    "    plt.xlabel('Predicted')\n",
    "    plt.show()\n",
    "\n",
    "print(\"Training accuracy\",round(KNNmodelFINAL.score(X_train_scaled_cls,y_train_cls),ndigits=3))\n",
    "print()\n",
    "print(\"Testing accuracy\",round(mt.accuracy_score(y_test_cls, KNNy_hat),ndigits=3))\n",
    "print()\n",
    "print('Confusion Matrix')\n",
    "print(draw_cm(y_test_cls,KNNy_hat))\n",
    "\n",
    "print(classification_report(y_test_cls,KNNy_hat))"
   ]
  },
  {
   "cell_type": "code",
   "execution_count": 39,
   "metadata": {
    "id": "r6M-_zet-BnT"
   },
   "outputs": [
    {
     "name": "stdout",
     "output_type": "stream",
     "text": [
      "0.747\n"
     ]
    }
   ],
   "source": [
    "KNN_ac = round(mt.accuracy_score(y_test_cls, KNNy_hat),ndigits=3)\n",
    "\n",
    "print(KNN_ac)"
   ]
  },
  {
   "cell_type": "markdown",
   "metadata": {
    "id": "c6DmcOJKOYG9"
   },
   "source": [
    "##### 2.3.3 Logistic Regression "
   ]
  },
  {
   "cell_type": "code",
   "execution_count": 42,
   "metadata": {
    "id": "zWdeb2zxOYG-"
   },
   "outputs": [],
   "source": [
    "#run a grid search to evaluate the parameters as part of hyperparameter tuning\n",
    "modelGRID = LogisticRegression()\n",
    "\n",
    "parameters = {'penalty': ['l2'],\n",
    "             'C': [.001,.75,10],\n",
    "             'solver': ['newton-cg','liblinear','sag','saga'],\n",
    "              'max_iter':[100],\n",
    "              'class_weight': ['balanced']\n",
    "            }"
   ]
  },
  {
   "cell_type": "code",
   "execution_count": 43,
   "metadata": {
    "colab": {
     "base_uri": "https://localhost:8080/"
    },
    "id": "ksz6drr4OYG-",
    "outputId": "31bd082f-2c17-48c2-8377-e13553293af8"
   },
   "outputs": [
    {
     "data": {
      "text/plain": [
       "GridSearchCV(cv=10, estimator=LogisticRegression(), n_jobs=25,\n",
       "             param_grid={'C': [0.001, 0.75, 10], 'class_weight': ['balanced'],\n",
       "                         'max_iter': [100], 'penalty': ['l2'],\n",
       "                         'solver': ['newton-cg', 'liblinear', 'sag', 'saga']},\n",
       "             scoring='accuracy')"
      ]
     },
     "execution_count": 43,
     "metadata": {},
     "output_type": "execute_result"
    }
   ],
   "source": [
    "#identify the best parameters as determined by our grid search accuracy results\n",
    "from sklearn.model_selection import GridSearchCV\n",
    "gs = GridSearchCV(modelGRID,n_jobs=25,param_grid=parameters,cv=10,scoring='accuracy')\n",
    "gs.fit(X_train_scaled_cls, y_train_cls)"
   ]
  },
  {
   "cell_type": "code",
   "execution_count": 44,
   "metadata": {
    "colab": {
     "base_uri": "https://localhost:8080/"
    },
    "id": "v5sqjyBdOYG-",
    "outputId": "7a312a86-d0f6-47c2-c2b3-ea92c9501410"
   },
   "outputs": [
    {
     "name": "stdout",
     "output_type": "stream",
     "text": [
      "{'C': 0.001, 'class_weight': 'balanced', 'max_iter': 100, 'penalty': 'l2', 'solver': 'newton-cg'} has an accuracy of 0.71\n",
      "{'C': 0.001, 'class_weight': 'balanced', 'max_iter': 100, 'penalty': 'l2', 'solver': 'liblinear'} has an accuracy of 0.71\n",
      "{'C': 0.001, 'class_weight': 'balanced', 'max_iter': 100, 'penalty': 'l2', 'solver': 'sag'} has an accuracy of 0.71\n",
      "{'C': 0.001, 'class_weight': 'balanced', 'max_iter': 100, 'penalty': 'l2', 'solver': 'saga'} has an accuracy of 0.71\n",
      "{'C': 0.75, 'class_weight': 'balanced', 'max_iter': 100, 'penalty': 'l2', 'solver': 'newton-cg'} has an accuracy of 0.71\n",
      "{'C': 0.75, 'class_weight': 'balanced', 'max_iter': 100, 'penalty': 'l2', 'solver': 'liblinear'} has an accuracy of 0.71\n",
      "{'C': 0.75, 'class_weight': 'balanced', 'max_iter': 100, 'penalty': 'l2', 'solver': 'sag'} has an accuracy of 0.71\n",
      "{'C': 0.75, 'class_weight': 'balanced', 'max_iter': 100, 'penalty': 'l2', 'solver': 'saga'} has an accuracy of 0.71\n",
      "{'C': 10, 'class_weight': 'balanced', 'max_iter': 100, 'penalty': 'l2', 'solver': 'newton-cg'} has an accuracy of 0.71\n",
      "{'C': 10, 'class_weight': 'balanced', 'max_iter': 100, 'penalty': 'l2', 'solver': 'liblinear'} has an accuracy of 0.71\n",
      "{'C': 10, 'class_weight': 'balanced', 'max_iter': 100, 'penalty': 'l2', 'solver': 'sag'} has an accuracy of 0.71\n",
      "{'C': 10, 'class_weight': 'balanced', 'max_iter': 100, 'penalty': 'l2', 'solver': 'saga'} has an accuracy of 0.71\n"
     ]
    }
   ],
   "source": [
    "#mean test score values associated with each grid search parameter combination \n",
    "params = gs.cv_results_['params']\n",
    "result = gs.cv_results_['mean_test_score']\n",
    "for params,result in zip(params, result):\n",
    "    print(params, 'has an accuracy of', round(result,ndigits=2))"
   ]
  },
  {
   "cell_type": "code",
   "execution_count": 45,
   "metadata": {
    "colab": {
     "base_uri": "https://localhost:8080/"
    },
    "id": "2taKP5OHOYG_",
    "outputId": "29d1cbcf-eb3c-475a-f20f-fa3380f15ec2"
   },
   "outputs": [
    {
     "data": {
      "text/plain": [
       "{'C': 10,\n",
       " 'class_weight': 'balanced',\n",
       " 'max_iter': 100,\n",
       " 'penalty': 'l2',\n",
       " 'solver': 'newton-cg'}"
      ]
     },
     "execution_count": 45,
     "metadata": {},
     "output_type": "execute_result"
    }
   ],
   "source": [
    "#parameter combination with the highest score\n",
    "gs.best_params_"
   ]
  },
  {
   "cell_type": "code",
   "execution_count": 46,
   "metadata": {
    "id": "SzVzWNcxOYG_"
   },
   "outputs": [],
   "source": [
    "#Logistic Regression\n",
    "modelFINAL = LogisticRegression(penalty='l2', C=10, class_weight='balanced', solver='newton-cg' ) # get object\n",
    "modelFINAL.fit(X_train_scaled_cls, y_train_cls)\n",
    "y_hat = modelFINAL.predict(X_test_scaled_cls)"
   ]
  },
  {
   "cell_type": "code",
   "execution_count": 47,
   "metadata": {
    "colab": {
     "base_uri": "https://localhost:8080/"
    },
    "id": "_e2ZTqaROYG_",
    "outputId": "de15c658-a5ec-4fdf-fcbc-067c074e2e57"
   },
   "outputs": [
    {
     "name": "stdout",
     "output_type": "stream",
     "text": [
      "[0.71642314 0.70917592 0.71373466 0.71104617 0.71081239 0.71724138\n",
      " 0.71174752 0.7132671  0.71852718 0.71303331]\n"
     ]
    }
   ],
   "source": [
    "from sklearn.model_selection import cross_val_score\n",
    "accuracies = cross_val_score(modelFINAL, X_scaled_cls, y=y_cls, cv=cv) # this also can help with parallelism\n",
    "print(accuracies)"
   ]
  },
  {
   "cell_type": "code",
   "execution_count": 48,
   "metadata": {
    "colab": {
     "base_uri": "https://localhost:8080/",
     "height": 534
    },
    "id": "tg_2G7X7OYG_",
    "outputId": "b4bcbb83-f308-46b3-91b2-9bb8736f4feb"
   },
   "outputs": [
    {
     "name": "stdout",
     "output_type": "stream",
     "text": [
      "Training accuracy 0.714\n",
      "\n",
      "Testing accuracy 0.714\n",
      "\n",
      "Confusion Matrix\n"
     ]
    },
    {
     "data": {
      "image/png": "[encoded data removed]",
      "text/plain": [
       "<Figure size 432x288 with 2 Axes>"
      ]
     },
     "metadata": {
      "needs_background": "light"
     },
     "output_type": "display_data"
    },
    {
     "name": "stdout",
     "output_type": "stream",
     "text": [
      "None\n",
      "              precision    recall  f1-score   support\n",
      "\n",
      "           0       0.81      0.72      0.76      5523\n",
      "           1       0.58      0.70      0.63      3032\n",
      "\n",
      "    accuracy                           0.71      8555\n",
      "   macro avg       0.70      0.71      0.70      8555\n",
      "weighted avg       0.73      0.71      0.72      8555\n",
      "\n"
     ]
    }
   ],
   "source": [
    "from sklearn.metrics import classification_report, confusion_matrix\n",
    "from sklearn.linear_model import LogisticRegression\n",
    "\n",
    "## function to get confusion matrix in a proper format\n",
    "def draw_cm( actual, predicted ):\n",
    "    cm = confusion_matrix( actual, predicted)\n",
    "    sns.heatmap(cm, annot=True,  fmt='.2f', xticklabels = [0,1] , yticklabels = [0,1] )\n",
    "    plt.ylabel('Observed')\n",
    "    plt.xlabel('Predicted')\n",
    "    plt.show()\n",
    "\n",
    "print(\"Training accuracy\",round(modelFINAL.score(X_train_scaled_cls,y_train_cls),ndigits=3))\n",
    "print()\n",
    "print(\"Testing accuracy\",round(mt.accuracy_score(y_test_cls, y_hat),ndigits=3))\n",
    "print()\n",
    "print('Confusion Matrix')\n",
    "print(draw_cm(y_test_cls,y_hat))\n",
    "\n",
    "print(classification_report(y_test_cls,y_hat))"
   ]
  },
  {
   "cell_type": "code",
   "execution_count": 49,
   "metadata": {
    "id": "TSp-esKq_cX9"
   },
   "outputs": [
    {
     "name": "stdout",
     "output_type": "stream",
     "text": [
      "0.714\n"
     ]
    }
   ],
   "source": [
    "LOG_ac = round(mt.accuracy_score(y_test_cls, y_hat),ndigits=3)\n",
    "\n",
    "print(LOG_ac)"
   ]
  },
  {
   "cell_type": "code",
   "execution_count": 50,
   "metadata": {
    "colab": {
     "base_uri": "https://localhost:8080/"
    },
    "id": "SLqQn8ooOYHA",
    "outputId": "ec8c7df0-f70d-4c9b-efd6-710347412fcf"
   },
   "outputs": [
    {
     "name": "stdout",
     "output_type": "stream",
     "text": [
      "log_price has weight of -0.09\n",
      "property_type has weight of 0.11\n",
      "accommodates has weight of 0.35\n",
      "bathrooms has weight of -0.04\n",
      "host_identity_verified has weight of -0.01\n",
      "instant_bookable has weight of 0.08\n",
      "number_of_reviews has weight of 0.13\n",
      "review_scores_rating has weight of 0.22\n",
      "bedrooms has weight of 0.15\n",
      "beds has weight of 0.53\n",
      "room_type_Private room has weight of 0.08\n",
      "room_type_Shared room has weight of 0.01\n",
      "bed_type_Couch has weight of 0.06\n",
      "bed_type_Futon has weight of 0.04\n",
      "bed_type_Pull-out Sofa has weight of 0.09\n",
      "bed_type_Real Bed has weight of -0.06\n",
      "city_Chicago has weight of 0.17\n",
      "city_DC has weight of 0.23\n",
      "city_LA has weight of -0.43\n",
      "city_NYC has weight of 0.06\n",
      "city_SF has weight of 0.01\n",
      "cancellation_policy_moderate has weight of -0.05\n",
      "cancellation_policy_strict has weight of -0.04\n",
      "cancellation_policy_super_strict_30 has weight of 0.15\n",
      "cancellation_policy_super_strict_60 has weight of -0.25\n"
     ]
    }
   ],
   "source": [
    "#coefficient output based on in-class example\n",
    "weights = modelFINAL.coef_.T\n",
    "x = pd.DataFrame(pdata_cls)\n",
    "variable_names = x.columns\n",
    "for coef,name in zip(weights, variable_names):\n",
    "    print(name, 'has weight of', round(coef[0],ndigits=2))"
   ]
  },
  {
   "cell_type": "code",
   "execution_count": 51,
   "metadata": {
    "colab": {
     "base_uri": "https://localhost:8080/",
     "height": 432
    },
    "id": "eqT95a05OYHA",
    "outputId": "1dad826a-4af3-418d-d9f6-c2da676d0a05"
   },
   "outputs": [
    {
     "data": {
      "image/png": "[encoded data removed]",
      "text/plain": [
       "<Figure size 432x288 with 1 Axes>"
      ]
     },
     "metadata": {},
     "output_type": "display_data"
    }
   ],
   "source": [
    "#coeffient plot from class example\n",
    "\n",
    "from matplotlib import pyplot as pyplot\n",
    "%matplotlib inline\n",
    "variable_names = list(pdata_cls)[0:-1]\n",
    "plt.style.use('ggplot')\n",
    "\n",
    "weights = pd.Series(modelFINAL.coef_[0],index=variable_names)\n",
    "weights.plot(kind='bar')\n",
    "plt.show()"
   ]
  },
  {
   "cell_type": "code",
   "execution_count": 52,
   "metadata": {
    "colab": {
     "base_uri": "https://localhost:8080/",
     "height": 299
    },
    "id": "95wntvPlOYHB",
    "outputId": "811787c8-236e-4727-9f4b-95820d20bbc4"
   },
   "outputs": [
    {
     "data": {
      "image/png": "[encoded data removed]",
      "text/plain": [
       "<Figure size 432x288 with 1 Axes>"
      ]
     },
     "metadata": {},
     "output_type": "display_data"
    }
   ],
   "source": [
    "#https://machinelearningmastery.com/roc-curves-and-precision-recall-curves-for-classification-in-python/\n",
    "\n",
    "from sklearn.metrics import roc_auc_score\n",
    "from sklearn.metrics import roc_curve\n",
    "\n",
    "log_roc_auc = roc_auc_score(y_test_cls, modelFINAL.predict(X_test_scaled_cls))\n",
    "fpr, tpr, thresholds = roc_curve(y_test_cls, modelFINAL.predict_proba(X_test_scaled_cls)[:,1])\n",
    "\n",
    "plt.figure()\n",
    "plt.plot(fpr, tpr, color='blue', label='Logistic Regression (area = %0.2f)' % log_roc_auc)\n",
    "plt.plot([0, 1], [0, 1],'r--')\n",
    "plt.xlim([0.0, 1.0])\n",
    "plt.ylim([0.0, 1.05])\n",
    "plt.xlabel('False Positive Rate')\n",
    "plt.ylabel('True Positive Rate')\n",
    "plt.title('Logistic Regression Performance')\n",
    "plt.legend(loc=\"lower right\")\n",
    "#plt.savefig('Log_ROC')\n",
    "plt.show()"
   ]
  },
  {
   "cell_type": "code",
   "execution_count": 53,
   "metadata": {
    "colab": {
     "base_uri": "https://localhost:8080/",
     "height": 299
    },
    "id": "jTLibd9COYHB",
    "outputId": "f3634b92-e3d2-4f11-e131-2f2ee5339810"
   },
   "outputs": [
    {
     "data": {
      "image/png": "[encoded data removed]",
      "text/plain": [
       "<Figure size 432x288 with 1 Axes>"
      ]
     },
     "metadata": {},
     "output_type": "display_data"
    }
   ],
   "source": [
    "#https://machinelearningmastery.com/roc-curves-and-precision-recall-curves-for-classification-in-python/\n",
    "\n",
    "from sklearn.metrics import roc_auc_score\n",
    "from sklearn.metrics import roc_curve\n",
    "from sklearn.metrics import precision_recall_curve\n",
    "\n",
    "log_roc_auc = roc_auc_score(y_test_cls, modelFINAL.predict(X_test_scaled_cls))\n",
    "lr_precision, lr_recall, _ = precision_recall_curve(y_test_cls, modelFINAL.predict_proba(X_test_scaled_cls)[:,1])\n",
    "\n",
    "plt.figure()\n",
    "pyplot.plot(lr_recall, lr_precision, marker='.', label='Logistic',color='blue')\n",
    "plt.xlabel('Recall')\n",
    "plt.ylabel('Precision')\n",
    "plt.title('Precision vs Recall Curve')\n",
    "plt.legend(loc=\"lower right\")\n",
    "#plt.savefig('Log_PR')\n",
    "plt.show()"
   ]
  },
  {
   "cell_type": "markdown",
   "metadata": {
    "id": "OW1OuYb1OYHC"
   },
   "source": [
    "#### 2.4 Regression Models (Model and Evaluation 3 Pt. 2)"
   ]
  },
  {
   "cell_type": "markdown",
   "metadata": {
    "id": "lZTczyiSOYHC"
   },
   "source": [
    "##### 2.4.1 LASSO Regression"
   ]
  },
  {
   "cell_type": "code",
   "execution_count": 45,
   "metadata": {
    "colab": {
     "base_uri": "https://localhost:8080/"
    },
    "id": "aqRM--ySOYHC",
    "outputId": "5fc666b6-bd92-45f8-b527-89250d9d2f0f"
   },
   "outputs": [
    {
     "name": "stdout",
     "output_type": "stream",
     "text": [
      "Fitting 10 folds for each of 16 candidates, totalling 160 fits\n"
     ]
    },
    {
     "data": {
      "text/plain": [
       "GridSearchCV(cv=ShuffleSplit(n_splits=10, random_state=None, test_size=0.2, train_size=0.8),\n",
       "             estimator=Lasso(alpha=0.001, random_state=42, warm_start='True'),\n",
       "             n_jobs=25,\n",
       "             param_grid={'alpha': [0.001, 0.1, 1, 10],\n",
       "                         'selection': ['cyclic', 'random'],\n",
       "                         'warm_start': [True, False]},\n",
       "             verbose=1)"
      ]
     },
     "execution_count": 45,
     "metadata": {},
     "output_type": "execute_result"
    }
   ],
   "source": [
    "#Create a regression object and perform a grid search to find the best parameters\n",
    "from sklearn.linear_model import Lasso\n",
    "from sklearn.base import BaseEstimator, RegressorMixin\n",
    "\n",
    "reg = Lasso(alpha=.001, selection = 'cyclic', warm_start = 'True', random_state=42)\n",
    "\n",
    "#Test parameters \n",
    "alpha = [0.001, 0.1, 1, 10]\n",
    "selection = ['cyclic','random']\n",
    "warm_start = [True, False]\n",
    "parameters = {'alpha': alpha, 'selection': selection, 'warm_start': warm_start}\n",
    "\n",
    "#Create a grid search object using the parameters above\n",
    "from sklearn.model_selection import GridSearchCV\n",
    "regGridSearch = GridSearchCV(estimator=reg\n",
    "                   , n_jobs=25 # jobs to run in parallel\n",
    "                   , verbose=1 # low verbosity\n",
    "                   , param_grid=parameters\n",
    "                   , cv=cv_reg # KFolds = 10\n",
    "                   )\n",
    "\n",
    "#Perform hyperparameter search to find the best combination of parameters for our data\n",
    "regGridSearch.fit(X_scaled_reg, y_reg)"
   ]
  },
  {
   "cell_type": "code",
   "execution_count": 55,
   "metadata": {
    "colab": {
     "base_uri": "https://localhost:8080/"
    },
    "id": "Sdbkqtq2OYHD",
    "outputId": "188ec727-ce67-49e2-9941-eea485837165"
   },
   "outputs": [
    {
     "data": {
      "text/plain": [
       "{'alpha': 0.001, 'selection': 'cyclic', 'warm_start': True}"
      ]
     },
     "execution_count": 55,
     "metadata": {},
     "output_type": "execute_result"
    }
   ],
   "source": [
    "regGridSearch.best_params_"
   ]
  },
  {
   "cell_type": "code",
   "execution_count": 46,
   "metadata": {
    "colab": {
     "base_uri": "https://localhost:8080/"
    },
    "id": "FXDedHPOOYHD",
    "outputId": "63f20f8a-5f58-4fc1-c55f-408eb9ca56e6"
   },
   "outputs": [
    {
     "name": "stdout",
     "output_type": "stream",
     "text": [
      "Lasso model: [ 0.13618101  0.08217805  0.00728453 -0.02064798  0.05011657 -0.\n",
      " -0.01242254  0.05785133  0.11811725 -0.00862517 -0.30239388 -0.16911205\n",
      "  0.00162669 -0.0030578   0.00081078  0.00727501 -0.07253987 -0.01306196\n",
      " -0.          0.00100811  0.09728548  0.00323321  0.02388013  0.01428858\n",
      "  0.00787483  0.00801659  0.00553727  0.00202711 -0.00238455 -0.00328759\n",
      " -0.0128323   0.00154061  0.00105339  0.          0.01730337 -0.0201845\n",
      "  0.         -0.00413256 -0.00734676 -0.01983781 -0.0211535  -0.0036364\n",
      " -0.00993595  0.02052785  0.00074284  0.00340716 -0.00392424  0.01017677\n",
      "  0.00117104 -0.00413382  0.00299666  0.00334884  0.00226601  0.00400929\n",
      " -0.0004878 ]\n"
     ]
    }
   ],
   "source": [
    "reg = Lasso(alpha=.001, selection = 'cyclic', warm_start = 'True', random_state=42)\n",
    "reg.fit(X_train_scaled_reg, y_train_reg)\n",
    "print (\"Lasso model:\", (reg.coef_))\n",
    "#EvaluateRegressionEstimator(regEstimator, X_scaled_reg, y_reg, cv_reg)"
   ]
  },
  {
   "cell_type": "code",
   "execution_count": 57,
   "metadata": {
    "colab": {
     "base_uri": "https://localhost:8080/"
    },
    "id": "5mycUZaxOYHD",
    "outputId": "e8300e39-b31a-4ac1-85d7-839688adb7b4"
   },
   "outputs": [
    {
     "name": "stdout",
     "output_type": "stream",
     "text": [
      "0.6205015509089382\n",
      "0.6121436460652123\n"
     ]
    }
   ],
   "source": [
    "print(reg.score(X_train_scaled_reg, y_train_reg))\n",
    "print(reg.score(X_test_scaled_reg, y_test_reg))"
   ]
  },
  {
   "cell_type": "code",
   "execution_count": 58,
   "metadata": {
    "colab": {
     "base_uri": "https://localhost:8080/"
    },
    "id": "7Znx0866OYHE",
    "outputId": "099eb2e9-0153-41f1-f3fe-09e878532236"
   },
   "outputs": [
    {
     "name": "stdout",
     "output_type": "stream",
     "text": [
      "log_price has weight of 0.14\n",
      "accommodates has weight of 0.08\n",
      "bathrooms has weight of 0.01\n",
      "host_identity_verified has weight of -0.02\n",
      "instant_bookable has weight of 0.05\n",
      "latitude has weight of -0.0\n",
      "longitude has weight of -0.01\n",
      "number_of_reviews has weight of 0.06\n",
      "review_scores_rating has weight of 0.12\n",
      "bedrooms has weight of -0.01\n",
      "beds has weight of -0.3\n",
      "room_type_Private room has weight of -0.17\n",
      "room_type_Shared room has weight of 0.0\n",
      "bed_type_Couch has weight of -0.0\n",
      "bed_type_Futon has weight of 0.01\n",
      "bed_type_Pull-out Sofa has weight of 0.01\n",
      "bed_type_Real Bed has weight of -0.07\n",
      "city_Chicago has weight of -0.01\n",
      "city_DC has weight of -0.0\n",
      "city_LA has weight of 0.0\n",
      "city_NYC has weight of 0.1\n",
      "city_SF has weight of 0.0\n",
      "cancellation_policy_moderate has weight of 0.02\n",
      "cancellation_policy_strict has weight of 0.01\n",
      "cancellation_policy_super_strict_30 has weight of 0.0\n",
      "cancellation_policy_super_strict_60 has weight of 0.01\n",
      "property_type_Bed & Breakfast has weight of 0.01\n",
      "property_type_Boat has weight of 0.0\n",
      "property_type_Boutique hotel has weight of -0.0\n",
      "property_type_Bungalow has weight of -0.0\n",
      "property_type_Cabin has weight of -0.01\n",
      "property_type_Camper/RV has weight of 0.0\n",
      "property_type_Castle has weight of 0.0\n",
      "property_type_Cave has weight of -0.0\n",
      "property_type_Chalet has weight of 0.02\n",
      "property_type_Condominium has weight of -0.02\n",
      "property_type_Dorm has weight of 0.0\n",
      "property_type_Earth House has weight of -0.0\n",
      "property_type_Guest suite has weight of -0.01\n",
      "property_type_Guesthouse has weight of -0.02\n",
      "property_type_Hostel has weight of -0.02\n",
      "property_type_House has weight of -0.0\n",
      "property_type_Hut has weight of -0.01\n",
      "property_type_In-law has weight of 0.02\n",
      "property_type_Loft has weight of 0.0\n",
      "property_type_Other has weight of 0.0\n",
      "property_type_Serviced apartment has weight of -0.0\n",
      "property_type_Tent has weight of 0.01\n",
      "property_type_Timeshare has weight of 0.0\n",
      "property_type_Tipi has weight of -0.01\n",
      "property_type_Townhouse has weight of 0.0\n",
      "property_type_Train has weight of 0.0\n",
      "property_type_Treehouse has weight of 0.0\n",
      "property_type_Vacation home has weight of 0.0\n",
      "property_type_Villa has weight of -0.0\n"
     ]
    }
   ],
   "source": [
    "#coefficient output based on in-class example\n",
    "weights_reg = reg.coef_.T\n",
    "variable_names = list(pdata_reg)[0:-1]\n",
    "\n",
    "#x = pd.DataFrame(pdata_reg)\n",
    "#variable_names_reg = x.columns\n",
    "for coef,name in zip(weights_reg, variable_names):\n",
    "    print(name, 'has weight of', round(coef, ndigits=2))"
   ]
  },
  {
   "cell_type": "markdown",
   "metadata": {
    "id": "BwBiM0MSOYHE"
   },
   "source": [
    "When alpha is .001 as dictated by the grid search the predictions seem more aligned to the actuals"
   ]
  },
  {
   "cell_type": "code",
   "execution_count": 59,
   "metadata": {
    "colab": {
     "base_uri": "https://localhost:8080/",
     "height": 282
    },
    "id": "_-I-AosxOYHE",
    "outputId": "0cd0a41c-403f-46c1-f5f4-73b53dc89328"
   },
   "outputs": [
    {
     "data": {
      "image/png": "[encoded data removed]",
      "text/plain": [
       "<Figure size 432x288 with 1 Axes>"
      ]
     },
     "metadata": {},
     "output_type": "display_data"
    }
   ],
   "source": [
    "#https://scikit-learn.org/stable/auto_examples/model_selection/plot_cv_predict.html#sphx-glr-auto-examples-model-selection-plot-cv-predict-py\n",
    "from sklearn.model_selection import cross_val_predict\n",
    "\n",
    "# cross_val_predict returns an array of the same size as `y` where each entry\n",
    "# is a prediction obtained by cross validation:\n",
    "predicted = cross_val_predict(reg, X_scaled_reg, y_reg, cv=10)\n",
    "\n",
    "fig, ax = plt.subplots()\n",
    "ax.scatter(y_reg, predicted, edgecolors=(0, 0, 0))\n",
    "ax.plot([y_reg.min(), y_reg.max()], [y_reg.min(), y_reg.max()], 'k--', lw=4)\n",
    "ax.set_xlabel('Measured')\n",
    "ax.set_ylabel('Predicted')\n",
    "plt.show()"
   ]
  },
  {
   "cell_type": "code",
   "execution_count": 49,
   "metadata": {
    "colab": {
     "base_uri": "https://localhost:8080/"
    },
    "id": "Hsvm2wUYOYHF",
    "outputId": "5dd4de23-7078-4684-db5e-0b2fa3c38e32"
   },
   "outputs": [
    {
     "data": {
      "text/html": [
       "<div>\n",
       "<style scoped>\n",
       "    .dataframe tbody tr th:only-of-type {\n",
       "        vertical-align: middle;\n",
       "    }\n",
       "\n",
       "    .dataframe tbody tr th {\n",
       "        vertical-align: top;\n",
       "    }\n",
       "\n",
       "    .dataframe thead th {\n",
       "        text-align: right;\n",
       "    }\n",
       "</style>\n",
       "<table border=\"1\" class=\"dataframe\">\n",
       "  <thead>\n",
       "    <tr style=\"text-align: right;\">\n",
       "      <th></th>\n",
       "      <th>Scorer</th>\n",
       "      <th>Accuracy</th>\n",
       "    </tr>\n",
       "  </thead>\n",
       "  <tbody>\n",
       "    <tr>\n",
       "      <th>0</th>\n",
       "      <td>MSE</td>\n",
       "      <td>0.17</td>\n",
       "    </tr>\n",
       "    <tr>\n",
       "      <th>1</th>\n",
       "      <td>MAE</td>\n",
       "      <td>0.32</td>\n",
       "    </tr>\n",
       "  </tbody>\n",
       "</table>\n",
       "</div>"
      ],
      "text/plain": [
       "  Scorer  Accuracy\n",
       "0    MSE      0.17\n",
       "1    MAE      0.32"
      ]
     },
     "execution_count": 49,
     "metadata": {},
     "output_type": "execute_result"
    }
   ],
   "source": [
    "#http://www.science.smith.edu/~jcrouser/SDS293/labs/lab10-py.html\n",
    "from sklearn.metrics import mean_squared_error\n",
    "from sklearn.metrics import mean_squared_error, mean_absolute_error\n",
    "\n",
    "round(mean_squared_error(y_test_reg, reg.predict(X_test_scaled_reg)), ndigits=2)\n",
    "LASSO_MSE = round(mean_squared_error(y_test_reg, reg.predict(X_test_scaled_reg)), ndigits=2)\n",
    "LASSO_MAE = round(mean_absolute_error(y_test_reg, reg.predict(X_test_scaled_reg)),ndigits=2)\n",
    "LASSO_MAPE = round(mean_absolute_percentage_error(y_test_reg, reg.predict(X_test_scaled_reg)),ndigits=2)\n",
    "LASSO_stats = pd.DataFrame({\"Scorer\":[\"MSE\",\"MAE\"], \"Accuracy\":[LASSO_MSE,LASSO_MAE]})\n",
    "LASSO_stats"
   ]
  },
  {
   "cell_type": "code",
   "execution_count": 62,
   "metadata": {
    "colab": {
     "base_uri": "https://localhost:8080/"
    },
    "id": "RZ-VWXfsOYHH",
    "outputId": "2c9a9b12-f66f-4ea5-ed40-4356bc044727"
   },
   "outputs": [
    {
     "name": "stdout",
     "output_type": "stream",
     "text": [
      "log_price has weight of 0.14\n",
      "accommodates has weight of 0.08\n",
      "bathrooms has weight of 0.01\n",
      "host_identity_verified has weight of -0.02\n",
      "instant_bookable has weight of 0.05\n",
      "latitude has weight of -0.0\n",
      "longitude has weight of -0.01\n",
      "number_of_reviews has weight of 0.06\n",
      "review_scores_rating has weight of 0.12\n",
      "bedrooms has weight of -0.01\n",
      "beds has weight of -0.3\n",
      "room_type_Private room has weight of -0.17\n",
      "room_type_Shared room has weight of 0.0\n",
      "bed_type_Couch has weight of -0.0\n",
      "bed_type_Futon has weight of 0.01\n",
      "bed_type_Pull-out Sofa has weight of 0.01\n",
      "bed_type_Real Bed has weight of -0.07\n",
      "city_Chicago has weight of -0.01\n",
      "city_DC has weight of -0.0\n",
      "city_LA has weight of 0.0\n",
      "city_NYC has weight of 0.1\n",
      "city_SF has weight of 0.0\n",
      "cancellation_policy_moderate has weight of 0.02\n",
      "cancellation_policy_strict has weight of 0.01\n",
      "cancellation_policy_super_strict_30 has weight of 0.0\n",
      "cancellation_policy_super_strict_60 has weight of 0.01\n",
      "property_type_Bed & Breakfast has weight of 0.01\n",
      "property_type_Boat has weight of 0.0\n",
      "property_type_Boutique hotel has weight of -0.0\n",
      "property_type_Bungalow has weight of -0.0\n",
      "property_type_Cabin has weight of -0.01\n",
      "property_type_Camper/RV has weight of 0.0\n",
      "property_type_Castle has weight of 0.0\n",
      "property_type_Cave has weight of -0.0\n",
      "property_type_Chalet has weight of 0.02\n",
      "property_type_Condominium has weight of -0.02\n",
      "property_type_Dorm has weight of 0.0\n",
      "property_type_Earth House has weight of -0.0\n",
      "property_type_Guest suite has weight of -0.01\n",
      "property_type_Guesthouse has weight of -0.02\n",
      "property_type_Hostel has weight of -0.02\n",
      "property_type_House has weight of -0.0\n",
      "property_type_Hut has weight of -0.01\n",
      "property_type_In-law has weight of 0.02\n",
      "property_type_Loft has weight of 0.0\n",
      "property_type_Other has weight of 0.0\n",
      "property_type_Serviced apartment has weight of -0.0\n",
      "property_type_Tent has weight of 0.01\n",
      "property_type_Timeshare has weight of 0.0\n",
      "property_type_Tipi has weight of -0.01\n",
      "property_type_Townhouse has weight of 0.0\n",
      "property_type_Train has weight of 0.0\n",
      "property_type_Treehouse has weight of 0.0\n",
      "property_type_Vacation home has weight of 0.0\n",
      "property_type_Villa has weight of -0.0\n"
     ]
    }
   ],
   "source": [
    "#coefficient output based on in-class example\n",
    "weights_reg = reg.coef_.T\n",
    "variable_names = list(pdata_reg)[0:-1]\n",
    "\n",
    "#x = pd.DataFrame(pdata_reg)\n",
    "#variable_names_reg = x.columns\n",
    "for coef,name in zip(weights_reg, variable_names):\n",
    "    print(name, 'has weight of', round(coef, ndigits=2))"
   ]
  },
  {
   "cell_type": "markdown",
   "metadata": {
    "id": "GWMv21_kOYHI"
   },
   "source": [
    "##### 2.4.2 Random Forest Regression - Code adapted from Class Notebook 7"
   ]
  },
  {
   "cell_type": "code",
   "execution_count": 23,
   "metadata": {
    "id": "Rhpj7Q1WOYHI"
   },
   "outputs": [],
   "source": [
    "#Use mean absolute error (MAE) to score the regression models created \n",
    "#(the scale of MAE is identical to the response variable)\n",
    "from sklearn.metrics import mean_absolute_error, make_scorer, mean_squared_error\n",
    "\n",
    "#Function for Root mean squared error\n",
    "#https://stackoverflow.com/questions/17197492/root-mean-square-error-in-python\n",
    "def rmse(y_actual, y_predicted):\n",
    "    return np.sqrt(mean_squared_error(y_actual, y_predicted))\n",
    "\n",
    "#Function for Mean Absolute Percentage Error (MAPE) - Untested\n",
    "#Adapted from - https://stackoverflow.com/questions/42250958/how-to-optimize-mape-code-in-python\n",
    "def mape(y_actual, y_predicted): \n",
    "    mask = y_actual != 0\n",
    "    return (np.fabs(y_actual - y_predicted)/y_actual)[mask].mean() * 100\n",
    "\n",
    "#Create scorers for rmse and mape functions\n",
    "mae_scorer = make_scorer(score_func=mean_absolute_error, greater_is_better=False)\n",
    "rmse_scorer = make_scorer(score_func=rmse, greater_is_better=False)\n",
    "mape_scorer = make_scorer(score_func=mape, greater_is_better=False)\n",
    "\n",
    "#Make scorer array to pass into cross_validate() function for producing mutiple scores for each cv fold.\n",
    "errorScoring = {'MAE':  mae_scorer, \n",
    "                'RMSE': rmse_scorer,\n",
    "                'MAPE': mape_scorer\n",
    "               } "
   ]
  },
  {
   "cell_type": "code",
   "execution_count": 51,
   "metadata": {
    "id": "MHpL6XPPOYHJ"
   },
   "outputs": [],
   "source": [
    "#example from class\n",
    "from sklearn.model_selection import cross_validate\n",
    "\n",
    "def EvaluateRegressionEstimator(regEstimator, X, y, cv):\n",
    "    \n",
    "    scores = cross_validate(regEstimator, X, y, scoring=errorScoring, cv=cv, return_train_score=True)\n",
    "\n",
    "    #cross val score sign-flips the outputs of MAE\n",
    "    # https://github.com/scikit-learn/scikit-learn/issues/2439\n",
    "    scores['test_MAE'] = scores['test_MAE'] * -1\n",
    "    scores['test_MAPE'] = scores['test_MAPE'] * -1\n",
    "    scores['test_RMSE'] = scores['test_RMSE'] * -1\n",
    "\n",
    "    #print mean MAE for all folds \n",
    "    maeAvg = scores['test_MAE'].mean()\n",
    "    print_str = \"The average MAE for all cv folds is: \\t\\t\\t {maeAvg:.5}\"\n",
    "    print(print_str.format(maeAvg=maeAvg))\n",
    "\n",
    "    #print mean test_MAPE for all folds\n",
    "    scores['test_MAPE'] = scores['test_MAPE']\n",
    "    mape_avg = scores['test_MAPE'].mean()\n",
    "    print_str = \"The average MAE percentage (MAPE) for all cv folds is: \\t {mape_avg:.5}\"\n",
    "    print(print_str.format(mape_avg=mape_avg))\n",
    "\n",
    "    #print mean MAE for all folds \n",
    "    RMSEavg = scores['test_RMSE'].mean()\n",
    "    print_str = \"The average RMSE for all cv folds is: \\t\\t\\t {RMSEavg:.5}\"\n",
    "    print(print_str.format(RMSEavg=RMSEavg))\n",
    "    print('*********************************************************')\n",
    "\n",
    "    print('Cross Validation Fold Mean Error Scores')\n",
    "    scoresResults = pd.DataFrame()\n",
    "    scoresResults['MAE'] = scores['test_MAE']\n",
    "    scoresResults['MAPE'] = scores['test_MAPE']\n",
    "    scoresResults['RMSE'] = scores['test_RMSE']\n",
    "    return scoresResults"
   ]
  },
  {
   "cell_type": "code",
   "execution_count": 25,
   "metadata": {},
   "outputs": [],
   "source": [
    ">>> from sklearn.ensemble import RandomForestRegressor\n",
    ">>> from sklearn.datasets import make_regression\n",
    "from sklearn.metrics import mean_absolute_error, make_scorer, mean_squared_error\n",
    "\n",
    "mae_scorer = make_scorer(score_func=mean_absolute_error, greater_is_better=False)\n"
   ]
  },
  {
   "cell_type": "code",
   "execution_count": 58,
   "metadata": {
    "colab": {
     "base_uri": "https://localhost:8080/"
    },
    "id": "2nsG76W4OYHJ",
    "outputId": "511fe395-581d-4012-ad37-5e3bcfe521c7"
   },
   "outputs": [
    {
     "name": "stdout",
     "output_type": "stream",
     "text": [
      "Fitting 10 folds for each of 4 candidates, totalling 40 fits\n"
     ]
    },
    {
     "name": "stderr",
     "output_type": "stream",
     "text": [
      "[Parallel(n_jobs=14)]: Using backend LokyBackend with 14 concurrent workers.\n",
      "[Parallel(n_jobs=14)]: Done  40 out of  40 | elapsed: 347.0min finished\n"
     ]
    },
    {
     "data": {
      "text/plain": [
       "GridSearchCV(cv=ShuffleSplit(n_splits=10, random_state=None, test_size=0.2, train_size=0.8),\n",
       "             error_score=nan,\n",
       "             estimator=RandomForestRegressor(bootstrap=True, ccp_alpha=0.0,\n",
       "                                             criterion='mse', max_depth=None,\n",
       "                                             max_features='auto',\n",
       "                                             max_leaf_nodes=None,\n",
       "                                             max_samples=None,\n",
       "                                             min_impurity_decrease=0.0,\n",
       "                                             min_impurity_split=None,\n",
       "                                             min_samples_leaf=1,\n",
       "                                             min_samples_split=2,\n",
       "                                             min_wei...\n",
       "                                             oob_score=False, random_state=None,\n",
       "                                             verbose=0, warm_start=False),\n",
       "             iid='deprecated', n_jobs=14,\n",
       "             param_grid={'criterion': ['mae'], 'max_depth': [2],\n",
       "                         'min_samples_leaf': [1, 5],\n",
       "                         'min_samples_split': [5, 10], 'n_estimators': [100],\n",
       "                         'n_jobs': [14], 'random_state': [0]},\n",
       "             pre_dispatch='2*n_jobs', refit=True, return_train_score=False,\n",
       "             scoring=make_scorer(mean_absolute_error, greater_is_better=False),\n",
       "             verbose=1)"
      ]
     },
     "execution_count": 58,
     "metadata": {
      "tags": []
     },
     "output_type": "execute_result"
    }
   ],
   "source": [
    "linreg = RandomForestRegressor()\n",
    "parameters = {'min_samples_split':[5,10],\n",
    "             'n_estimators':[100],\n",
    "             'min_samples_leaf':[1,5],\n",
    "             'criterion':['mae'],\n",
    "             'n_jobs':[14],\n",
    "             'random_state':[0],\n",
    "             'max_depth':[2]}\n",
    "\n",
    "from sklearn.model_selection import GridSearchCV\n",
    "regGridSearch = GridSearchCV(estimator=linreg\n",
    "                            , n_jobs=14\n",
    "                            , verbose=1\n",
    "                            ,param_grid=parameters\n",
    "                            ,cv=cv_reg\n",
    "                            ,scoring=mae_scorer)\n",
    "\n",
    "regGridSearch.fit(X_train_scaled_reg, y_train_reg)"
   ]
  },
  {
   "cell_type": "code",
   "execution_count": 59,
   "metadata": {
    "colab": {
     "base_uri": "https://localhost:8080/"
    },
    "id": "dQPFMMJsOYHJ",
    "outputId": "03a6774a-060e-4339-b7c8-9be1e2c80a1a"
   },
   "outputs": [
    {
     "data": {
      "text/plain": [
       "RandomForestRegressor(bootstrap=True, ccp_alpha=0.0, criterion='mae',\n",
       "                      max_depth=2, max_features='auto', max_leaf_nodes=None,\n",
       "                      max_samples=None, min_impurity_decrease=0.0,\n",
       "                      min_impurity_split=None, min_samples_leaf=1,\n",
       "                      min_samples_split=5, min_weight_fraction_leaf=0.0,\n",
       "                      n_estimators=100, n_jobs=14, oob_score=False,\n",
       "                      random_state=0, verbose=0, warm_start=False)"
      ]
     },
     "execution_count": 59,
     "metadata": {
      "tags": []
     },
     "output_type": "execute_result"
    }
   ],
   "source": [
    "#Display the best estimator parameters\n",
    "regGridSearch.best_estimator_"
   ]
  },
  {
   "cell_type": "code",
   "execution_count": 60,
   "metadata": {
    "colab": {
     "base_uri": "https://localhost:8080/",
     "height": 444
    },
    "id": "JwEtV6AzOYHK",
    "outputId": "6a4871f1-0b0c-4023-f748-0a5594ba3397"
   },
   "outputs": [
    {
     "name": "stdout",
     "output_type": "stream",
     "text": [
      "The average MAE for all cv folds is: \t\t\t 0.25352\n",
      "The average MAE percentage (MAPE) for all cv folds is: \t 5.3822\n",
      "The average RMSE for all cv folds is: \t\t\t 0.3423\n",
      "*********************************************************\n",
      "Cross Validation Fold Mean Error Scores\n"
     ]
    },
    {
     "data": {
      "text/html": [
       "<div>\n",
       "<style scoped>\n",
       "    .dataframe tbody tr th:only-of-type {\n",
       "        vertical-align: middle;\n",
       "    }\n",
       "\n",
       "    .dataframe tbody tr th {\n",
       "        vertical-align: top;\n",
       "    }\n",
       "\n",
       "    .dataframe thead th {\n",
       "        text-align: right;\n",
       "    }\n",
       "</style>\n",
       "<table border=\"1\" class=\"dataframe\">\n",
       "  <thead>\n",
       "    <tr style=\"text-align: right;\">\n",
       "      <th></th>\n",
       "      <th>MAE</th>\n",
       "      <th>MAPE</th>\n",
       "      <th>RMSE</th>\n",
       "    </tr>\n",
       "  </thead>\n",
       "  <tbody>\n",
       "    <tr>\n",
       "      <th>0</th>\n",
       "      <td>0.251294</td>\n",
       "      <td>5.345925</td>\n",
       "      <td>0.334841</td>\n",
       "    </tr>\n",
       "    <tr>\n",
       "      <th>1</th>\n",
       "      <td>0.253543</td>\n",
       "      <td>5.393458</td>\n",
       "      <td>0.344670</td>\n",
       "    </tr>\n",
       "    <tr>\n",
       "      <th>2</th>\n",
       "      <td>0.253458</td>\n",
       "      <td>5.404304</td>\n",
       "      <td>0.346308</td>\n",
       "    </tr>\n",
       "    <tr>\n",
       "      <th>3</th>\n",
       "      <td>0.253681</td>\n",
       "      <td>5.341563</td>\n",
       "      <td>0.343449</td>\n",
       "    </tr>\n",
       "    <tr>\n",
       "      <th>4</th>\n",
       "      <td>0.253925</td>\n",
       "      <td>5.392291</td>\n",
       "      <td>0.346535</td>\n",
       "    </tr>\n",
       "    <tr>\n",
       "      <th>5</th>\n",
       "      <td>0.254883</td>\n",
       "      <td>5.389401</td>\n",
       "      <td>0.345251</td>\n",
       "    </tr>\n",
       "    <tr>\n",
       "      <th>6</th>\n",
       "      <td>0.248598</td>\n",
       "      <td>5.262529</td>\n",
       "      <td>0.334904</td>\n",
       "    </tr>\n",
       "    <tr>\n",
       "      <th>7</th>\n",
       "      <td>0.256643</td>\n",
       "      <td>5.460554</td>\n",
       "      <td>0.347553</td>\n",
       "    </tr>\n",
       "    <tr>\n",
       "      <th>8</th>\n",
       "      <td>0.255415</td>\n",
       "      <td>5.442424</td>\n",
       "      <td>0.339087</td>\n",
       "    </tr>\n",
       "    <tr>\n",
       "      <th>9</th>\n",
       "      <td>0.253798</td>\n",
       "      <td>5.389426</td>\n",
       "      <td>0.340392</td>\n",
       "    </tr>\n",
       "  </tbody>\n",
       "</table>\n",
       "</div>"
      ],
      "text/plain": [
       "        MAE      MAPE      RMSE\n",
       "0  0.251294  5.345925  0.334841\n",
       "1  0.253543  5.393458  0.344670\n",
       "2  0.253458  5.404304  0.346308\n",
       "3  0.253681  5.341563  0.343449\n",
       "4  0.253925  5.392291  0.346535\n",
       "5  0.254883  5.389401  0.345251\n",
       "6  0.248598  5.262529  0.334904\n",
       "7  0.256643  5.460554  0.347553\n",
       "8  0.255415  5.442424  0.339087\n",
       "9  0.253798  5.389426  0.340392"
      ]
     },
     "execution_count": 60,
     "metadata": {
      "tags": []
     },
     "output_type": "execute_result"
    }
   ],
   "source": [
    ">>> from sklearn.ensemble import RandomForestRegressor\n",
    ">>> from sklearn.datasets import make_regression\n",
    "from sklearn.metrics import mean_absolute_error, make_scorer, mean_squared_error\n",
    "\n",
    "regEstimator = RandomForestRegressor(bootstrap=True, criterion='mae', max_depth=None, max_features='auto',\n",
    "                                    max_leaf_nodes=None, min_impurity_decrease=0.0, min_impurity_split=None,\n",
    "                                    min_samples_leaf=10, min_samples_split=5, min_weight_fraction_leaf=0.0,\n",
    "                                    n_estimators=100, n_jobs=14, oob_score=False, random_state=0, verbose=0, warm_start=False)\n",
    "\n",
    "EvaluateRegressionEstimator(regEstimator, X_train_scaled_reg, y_train_reg, cv_reg)"
   ]
  },
  {
   "cell_type": "markdown",
   "metadata": {},
   "source": [
    "#### Ridge Regression"
   ]
  },
  {
   "cell_type": "code",
   "execution_count": 22,
   "metadata": {},
   "outputs": [],
   "source": [
    "#Create a regression object and perform a grid search to find the best parameters\n",
    "from sklearn.linear_model import Ridge\n",
    "from sklearn.base import BaseEstimator, RegressorMixin\n"
   ]
  },
  {
   "cell_type": "code",
   "execution_count": 30,
   "metadata": {},
   "outputs": [],
   "source": [
    "ridge = Ridge(alpha=.001, normalize=False, random_state=42)\n",
    "\n",
    "parameters = {'alpha':[0.001, 0.1],\n",
    "                'normalize':['True','False'],\n",
    "                'random_state':[42]}\n",
    "\n",
    "#Create a grid search object using the parameters above\n",
    "from sklearn.model_selection import GridSearchCV\n",
    "regGridSearch = GridSearchCV(estimator=ridge,\n",
    "                   n_jobs=25 # jobs to run in parallel\n",
    "                   ,param_grid = parameters, \n",
    "                    cv=cv_reg # KFolds = 10\n",
    "                   )\n",
    "\n"
   ]
  },
  {
   "cell_type": "code",
   "execution_count": 31,
   "metadata": {},
   "outputs": [
    {
     "data": {
      "text/plain": [
       "Ridge(alpha=0.001, random_state=42)"
      ]
     },
     "execution_count": 31,
     "metadata": {},
     "output_type": "execute_result"
    }
   ],
   "source": [
    "#Perform hyperparameter search to find the best combination of parameters for our data\n",
    "ridge.fit(X_train_scaled_reg, y_train_reg)"
   ]
  },
  {
   "cell_type": "code",
   "execution_count": 42,
   "metadata": {},
   "outputs": [
    {
     "data": {
      "image/png": "[encoded data removed]",
      "text/plain": [
       "<Figure size 432x288 with 1 Axes>"
      ]
     },
     "metadata": {
      "needs_background": "light"
     },
     "output_type": "display_data"
    }
   ],
   "source": [
    "#https://scikit-learn.org/stable/auto_examples/model_selection/plot_cv_predict.html#sphx-glr-auto-examples-model-selection-plot-cv-predict-py\n",
    "from sklearn.model_selection import cross_val_predict\n",
    "\n",
    "# cross_val_predict returns an array of the same size as `y` where each entry\n",
    "# is a prediction obtained by cross validation:\n",
    "predicted_ridge = cross_val_predict(ridge, X_scaled_reg, y_reg, cv=10)\n",
    "\n",
    "fig, ax = plt.subplots()\n",
    "ax.scatter(y_reg, predicted_ridge, edgecolors=(0, 0, 0))\n",
    "ax.plot([y_reg.min(), y_reg.max()], [y_reg.min(), y_reg.max()], 'k--', lw=4)\n",
    "ax.set_xlabel('Measured')\n",
    "ax.set_ylabel('Predicted')\n",
    "plt.show()\n"
   ]
  },
  {
   "cell_type": "code",
   "execution_count": 40,
   "metadata": {},
   "outputs": [
    {
     "data": {
      "text/html": [
       "<div>\n",
       "<style scoped>\n",
       "    .dataframe tbody tr th:only-of-type {\n",
       "        vertical-align: middle;\n",
       "    }\n",
       "\n",
       "    .dataframe tbody tr th {\n",
       "        vertical-align: top;\n",
       "    }\n",
       "\n",
       "    .dataframe thead th {\n",
       "        text-align: right;\n",
       "    }\n",
       "</style>\n",
       "<table border=\"1\" class=\"dataframe\">\n",
       "  <thead>\n",
       "    <tr style=\"text-align: right;\">\n",
       "      <th></th>\n",
       "      <th>Scorer</th>\n",
       "      <th>Accuracy</th>\n",
       "    </tr>\n",
       "  </thead>\n",
       "  <tbody>\n",
       "    <tr>\n",
       "      <th>0</th>\n",
       "      <td>MSE</td>\n",
       "      <td>0.16</td>\n",
       "    </tr>\n",
       "    <tr>\n",
       "      <th>1</th>\n",
       "      <td>MAE</td>\n",
       "      <td>0.31</td>\n",
       "    </tr>\n",
       "  </tbody>\n",
       "</table>\n",
       "</div>"
      ],
      "text/plain": [
       "  Scorer  Accuracy\n",
       "0    MSE      0.16\n",
       "1    MAE      0.31"
      ]
     },
     "execution_count": 40,
     "metadata": {},
     "output_type": "execute_result"
    }
   ],
   "source": [
    "#http://www.science.smith.edu/~jcrouser/SDS293/labs/lab10-py.html\n",
    "from sklearn.metrics import mean_squared_error\n",
    "from sklearn.metrics import mean_squared_error, mean_absolute_error, mean_absolute_percentage_error\n",
    "\n",
    "round(mean_squared_error(y_test_reg, ridge.predict(X_test_scaled_reg)), ndigits=2)\n",
    "RIDGE_MSE = round(mean_squared_error(y_test_reg, ridge.predict(X_test_scaled_reg)), ndigits=2)\n",
    "RIDGE_MAE = round(mean_absolute_error(y_test_reg, ridge.predict(X_test_scaled_reg)),ndigits=2)\n",
    "RIDGE_MAPE = round(mean_absolute_percentage_error(y_test_reg, ridge.predict(X_test_scaled_reg)),ndigits=2)\n",
    "RIDGE_stats = pd.DataFrame({\"Scorer\":[\"MSE\",\"MAE\"], \"Accuracy\":[RIDGE_MSE,RIDGE_MAE]})\n",
    "RIDGE_stats\n",
    "\n"
   ]
  },
  {
   "cell_type": "code",
   "execution_count": 53,
   "metadata": {},
   "outputs": [
    {
     "name": "stdout",
     "output_type": "stream",
     "text": [
      "log_price has weight of 0.14\n",
      "accommodates has weight of 0.08\n",
      "bathrooms has weight of 0.01\n",
      "host_identity_verified has weight of -0.02\n",
      "instant_bookable has weight of 1.09\n",
      "latitude has weight of -28.02\n",
      "longitude has weight of -0.02\n",
      "number_of_reviews has weight of 0.06\n",
      "review_scores_rating has weight of 0.12\n",
      "bedrooms has weight of -0.01\n",
      "beds has weight of -0.3\n",
      "room_type_Private room has weight of -0.17\n",
      "room_type_Shared room has weight of 0.0\n",
      "bed_type_Couch has weight of -0.0\n",
      "bed_type_Futon has weight of 0.01\n",
      "bed_type_Pull-out Sofa has weight of 0.01\n",
      "bed_type_Real Bed has weight of -5.13\n",
      "city_Chicago has weight of -1.69\n",
      "city_DC has weight of -26.18\n",
      "city_LA has weight of -1.58\n",
      "city_NYC has weight of -18.8\n",
      "city_SF has weight of 0.01\n",
      "cancellation_policy_moderate has weight of 0.02\n",
      "cancellation_policy_strict has weight of 0.02\n",
      "cancellation_policy_super_strict_30 has weight of 0.01\n",
      "cancellation_policy_super_strict_60 has weight of 0.01\n",
      "property_type_Bed & Breakfast has weight of 0.01\n",
      "property_type_Boat has weight of 0.0\n",
      "property_type_Boutique hotel has weight of -0.0\n",
      "property_type_Bungalow has weight of -0.0\n",
      "property_type_Cabin has weight of -0.01\n",
      "property_type_Camper/RV has weight of 0.0\n",
      "property_type_Castle has weight of 0.0\n",
      "property_type_Cave has weight of 0.0\n",
      "property_type_Chalet has weight of 0.02\n",
      "property_type_Condominium has weight of -0.02\n",
      "property_type_Dorm has weight of 0.0\n",
      "property_type_Earth House has weight of -0.0\n",
      "property_type_Guest suite has weight of -0.01\n",
      "property_type_Guesthouse has weight of -0.02\n",
      "property_type_Hostel has weight of -0.01\n",
      "property_type_House has weight of -0.0\n",
      "property_type_Hut has weight of -0.01\n",
      "property_type_In-law has weight of 0.03\n",
      "property_type_Loft has weight of 0.0\n",
      "property_type_Other has weight of 0.0\n",
      "property_type_Serviced apartment has weight of -0.01\n",
      "property_type_Tent has weight of 0.01\n",
      "property_type_Timeshare has weight of 0.0\n",
      "property_type_Tipi has weight of -0.0\n",
      "property_type_Townhouse has weight of 0.0\n",
      "property_type_Train has weight of 0.01\n",
      "property_type_Treehouse has weight of 0.0\n",
      "property_type_Vacation home has weight of 0.01\n",
      "property_type_Villa has weight of -0.0\n"
     ]
    }
   ],
   "source": [
    "#coefficient output based on in-class example\n",
    "weights_ridge = ridge.coef_.T\n",
    "variable_names = list(pdata_reg)[0:-1]\n",
    "\n",
    "#x = pd.DataFrame(pdata_reg)\n",
    "#variable_names_reg = x.columns\n",
    "for coef,name in zip(weights_ridge, variable_names):\n",
    "    print(name, 'has weight of', round(coef, ndigits=2))"
   ]
  },
  {
   "cell_type": "markdown",
   "metadata": {
    "id": "ugCwg74VOYHM"
   },
   "source": [
    "#### 2.5 Comparison of Models (Model and Evaluation 4)"
   ]
  },
  {
   "cell_type": "markdown",
   "metadata": {
    "id": "Ee1obM-lOYHM"
   },
   "source": [
    "##### 2.5.1 Classification Models"
   ]
  },
  {
   "cell_type": "code",
   "execution_count": 63,
   "metadata": {
    "id": "xoQPyTWtCqvJ"
   },
   "outputs": [
    {
     "data": {
      "text/html": [
       "<div>\n",
       "<style scoped>\n",
       "    .dataframe tbody tr th:only-of-type {\n",
       "        vertical-align: middle;\n",
       "    }\n",
       "\n",
       "    .dataframe tbody tr th {\n",
       "        vertical-align: top;\n",
       "    }\n",
       "\n",
       "    .dataframe thead th {\n",
       "        text-align: right;\n",
       "    }\n",
       "</style>\n",
       "<table border=\"1\" class=\"dataframe\">\n",
       "  <thead>\n",
       "    <tr style=\"text-align: right;\">\n",
       "      <th></th>\n",
       "      <th>Model</th>\n",
       "      <th>Accuracy</th>\n",
       "    </tr>\n",
       "  </thead>\n",
       "  <tbody>\n",
       "    <tr>\n",
       "      <th>0</th>\n",
       "      <td>Random Forest</td>\n",
       "      <td>0.760</td>\n",
       "    </tr>\n",
       "    <tr>\n",
       "      <th>1</th>\n",
       "      <td>KNN</td>\n",
       "      <td>0.747</td>\n",
       "    </tr>\n",
       "    <tr>\n",
       "      <th>2</th>\n",
       "      <td>Logistic Regression</td>\n",
       "      <td>0.714</td>\n",
       "    </tr>\n",
       "  </tbody>\n",
       "</table>\n",
       "</div>"
      ],
      "text/plain": [
       "                 Model  Accuracy\n",
       "0        Random Forest     0.760\n",
       "1                  KNN     0.747\n",
       "2  Logistic Regression     0.714"
      ]
     },
     "execution_count": 63,
     "metadata": {},
     "output_type": "execute_result"
    }
   ],
   "source": [
    "class_acc = pd.DataFrame({'Model':['Random Forest','KNN','Logistic Regression'], 'Accuracy':[RF_ac,KNN_ac,LOG_ac]})\n",
    "\n",
    "class_acc.head()"
   ]
  },
  {
   "cell_type": "code",
   "execution_count": 65,
   "metadata": {
    "id": "xnmhYHPTCub2"
   },
   "outputs": [
    {
     "data": {
      "text/plain": [
       "<AxesSubplot:xlabel='Model'>"
      ]
     },
     "execution_count": 65,
     "metadata": {},
     "output_type": "execute_result"
    },
    {
     "data": {
      "image/png": "[encoded data removed]",
      "text/plain": [
       "<Figure size 432x288 with 1 Axes>"
      ]
     },
     "metadata": {},
     "output_type": "display_data"
    }
   ],
   "source": [
    "class_acc.plot.bar(x='Model', y='Accuracy', rot=0)"
   ]
  },
  {
   "cell_type": "markdown",
   "metadata": {
    "id": "Liv__8zWC6MK"
   },
   "source": [
    "After comparing the performance of all three classification models Random Forest performed best with an F1 accuracy of .754. This model ran fast and perfomed best when compared to the other classification models, making it a good candidate for future exploration and refinment. Though both KNN and Logistic Regression perfomed almost as well as Random Forest, the recall and precision for the models saw a slight drop while runtime increased."
   ]
  },
  {
   "cell_type": "markdown",
   "metadata": {
    "id": "T-wNimGjOYHM"
   },
   "source": [
    "##### 2.5.2 Regression Models"
   ]
  },
  {
   "cell_type": "code",
   "execution_count": 50,
   "metadata": {},
   "outputs": [
    {
     "data": {
      "text/plain": [
       "<AxesSubplot:xlabel='Model'>"
      ]
     },
     "execution_count": 50,
     "metadata": {},
     "output_type": "execute_result"
    },
    {
     "data": {
      "image/png": "[encoded data removed]",
      "text/plain": [
       "<Figure size 432x288 with 1 Axes>"
      ]
     },
     "metadata": {
      "needs_background": "light"
     },
     "output_type": "display_data"
    }
   ],
   "source": [
    "from statistics import mean\n",
    "r = [.251617,.249385,.253471,.254941,.246877,.255375,.250741,.249851,.257107,.249809]\n",
    "RF_reg_MAE = mean(r)\n",
    "RF_reg_MAE\n",
    "\n",
    "reg_acc = pd.DataFrame({\"Model\":[\"LASSO\",\"Random Forest\",\"Ridge\"], \"MAE\":[LASSO_MAE,RF_reg_MAE,RIDGE_MAE]})\n",
    "reg_acc.head()\n",
    "\n",
    "reg_acc.plot.bar(x=\"Model\", y=\"MAE\", rot=0)"
   ]
  },
  {
   "cell_type": "code",
   "execution_count": 54,
   "metadata": {},
   "outputs": [
    {
     "data": {
      "text/html": [
       "<div>\n",
       "<style scoped>\n",
       "    .dataframe tbody tr th:only-of-type {\n",
       "        vertical-align: middle;\n",
       "    }\n",
       "\n",
       "    .dataframe tbody tr th {\n",
       "        vertical-align: top;\n",
       "    }\n",
       "\n",
       "    .dataframe thead th {\n",
       "        text-align: right;\n",
       "    }\n",
       "</style>\n",
       "<table border=\"1\" class=\"dataframe\">\n",
       "  <thead>\n",
       "    <tr style=\"text-align: right;\">\n",
       "      <th></th>\n",
       "      <th>Model</th>\n",
       "      <th>MAE</th>\n",
       "    </tr>\n",
       "  </thead>\n",
       "  <tbody>\n",
       "    <tr>\n",
       "      <th>0</th>\n",
       "      <td>LASSO</td>\n",
       "      <td>0.320000</td>\n",
       "    </tr>\n",
       "    <tr>\n",
       "      <th>1</th>\n",
       "      <td>Random Forest</td>\n",
       "      <td>0.251917</td>\n",
       "    </tr>\n",
       "    <tr>\n",
       "      <th>2</th>\n",
       "      <td>Ridge</td>\n",
       "      <td>0.310000</td>\n",
       "    </tr>\n",
       "  </tbody>\n",
       "</table>\n",
       "</div>"
      ],
      "text/plain": [
       "           Model       MAE\n",
       "0          LASSO  0.320000\n",
       "1  Random Forest  0.251917\n",
       "2          Ridge  0.310000"
      ]
     },
     "execution_count": 54,
     "metadata": {},
     "output_type": "execute_result"
    }
   ],
   "source": [
    "reg_acc.head()"
   ]
  },
  {
   "cell_type": "markdown",
   "metadata": {},
   "source": [
    "After comparing the performance of all three regression models Random Forest performed best with an MAE of .252, which was the lowest error margin for our models. This model perfomed best when compared to the other regression models, making it a good candidate for future exploration and refinment. Though both Ridge and Lasso Regression perfomed well and were much faster, Random Forest had better performance scores."
   ]
  },
  {
   "cell_type": "markdown",
   "metadata": {
    "id": "hU0ZT3u6OYHM"
   },
   "source": [
    "#### 2.6 Advantages of Models (Model and Evaluation 5)"
   ]
  },
  {
   "cell_type": "markdown",
   "metadata": {
    "id": "YhAmwkluOYHN"
   },
   "source": [
    "##### 2.6.1 Classification Models"
   ]
  },
  {
   "cell_type": "markdown",
   "metadata": {},
   "source": [
    "The best performing model for this task was the Random Forest Classifier with an accuracy of 0.760 in comparison to the Logistic Regression classification that had an accuracy of 0.714 and the KNN that had a 0.747 accuracy. The reason random forest performed the best is because KNN is not meant for complex datasets and KNN assumes equal importance to all the features running through the model. Logistic Regression performed the worst of the three due to linear decision surface within the algorithm. Since this data wasn’t very linear, other than log_price, the logistic regression underperformed and was not as sophisticated as the other two."
   ]
  },
  {
   "cell_type": "markdown",
   "metadata": {
    "id": "eeOIOpkhOYHN"
   },
   "source": [
    "##### 2.6.2 Regression Models"
   ]
  },
  {
   "cell_type": "markdown",
   "metadata": {},
   "source": [
    "The regression models were easier to interpet than the classification models because they provided us with positive and negative coefficients, which helped us understand the relationship the variables had with the price of each property.\n",
    "\n",
    "The regression models performed significantly faster than the classification models."
   ]
  },
  {
   "cell_type": "markdown",
   "metadata": {
    "id": "nMsfrcUZOYHN"
   },
   "source": [
    "### 2.7 Attribute Importance"
   ]
  },
  {
   "cell_type": "markdown",
   "metadata": {
    "id": "Yf_kTPsPOYHO"
   },
   "source": [
    "##### 2.7.1 Classification Models"
   ]
  },
  {
   "cell_type": "markdown",
   "metadata": {
    "id": "l_UXDeunMnFf"
   },
   "source": [
    "For Random Forest Classification the top 5 most important features were: log_pirce, city_NYC, number_of_reviews, bathrooms, and region_East. These features are intuitive as the location, and bathrooms would certainly seem to influence the property type."
   ]
  },
  {
   "cell_type": "code",
   "execution_count": 64,
   "metadata": {
    "id": "5BV6f2iWKcg6"
   },
   "outputs": [],
   "source": [
    "#Random Forest Classification\n",
    "RFweights = modelFINAL_RFC_RS.feature_importances_\n",
    "x = pd.DataFrame(pdata_cls)\n",
    "variable_names = x.columns\n",
    "\n",
    "RFweights_df=pd.DataFrame(RFweights)\n",
    "variable_names_df=pd.DataFrame(variable_names)\n",
    "variable_names_df=variable_names_df.drop([1])\n",
    "variable_names_df=variable_names_df.reset_index(drop=True)"
   ]
  },
  {
   "cell_type": "code",
   "execution_count": 66,
   "metadata": {
    "id": "p2jxDWsBMc_y"
   },
   "outputs": [
    {
     "data": {
      "text/html": [
       "<div>\n",
       "<style scoped>\n",
       "    .dataframe tbody tr th:only-of-type {\n",
       "        vertical-align: middle;\n",
       "    }\n",
       "\n",
       "    .dataframe tbody tr th {\n",
       "        vertical-align: top;\n",
       "    }\n",
       "\n",
       "    .dataframe thead th {\n",
       "        text-align: right;\n",
       "    }\n",
       "</style>\n",
       "<table border=\"1\" class=\"dataframe\">\n",
       "  <thead>\n",
       "    <tr style=\"text-align: right;\">\n",
       "      <th></th>\n",
       "      <th>Weight</th>\n",
       "      <th>Feature Name</th>\n",
       "    </tr>\n",
       "  </thead>\n",
       "  <tbody>\n",
       "    <tr>\n",
       "      <th>23</th>\n",
       "      <td>0.000014</td>\n",
       "      <td>cancellation_policy_super_strict_60</td>\n",
       "    </tr>\n",
       "    <tr>\n",
       "      <th>11</th>\n",
       "      <td>0.000336</td>\n",
       "      <td>bed_type_Couch</td>\n",
       "    </tr>\n",
       "    <tr>\n",
       "      <th>22</th>\n",
       "      <td>0.000353</td>\n",
       "      <td>cancellation_policy_super_strict_30</td>\n",
       "    </tr>\n",
       "    <tr>\n",
       "      <th>13</th>\n",
       "      <td>0.001076</td>\n",
       "      <td>bed_type_Pull-out Sofa</td>\n",
       "    </tr>\n",
       "    <tr>\n",
       "      <th>12</th>\n",
       "      <td>0.001450</td>\n",
       "      <td>bed_type_Futon</td>\n",
       "    </tr>\n",
       "    <tr>\n",
       "      <th>10</th>\n",
       "      <td>0.003138</td>\n",
       "      <td>room_type_Shared room</td>\n",
       "    </tr>\n",
       "    <tr>\n",
       "      <th>14</th>\n",
       "      <td>0.003714</td>\n",
       "      <td>bed_type_Real Bed</td>\n",
       "    </tr>\n",
       "    <tr>\n",
       "      <th>15</th>\n",
       "      <td>0.006816</td>\n",
       "      <td>city_Chicago</td>\n",
       "    </tr>\n",
       "    <tr>\n",
       "      <th>19</th>\n",
       "      <td>0.008213</td>\n",
       "      <td>city_SF</td>\n",
       "    </tr>\n",
       "    <tr>\n",
       "      <th>20</th>\n",
       "      <td>0.015463</td>\n",
       "      <td>cancellation_policy_moderate</td>\n",
       "    </tr>\n",
       "    <tr>\n",
       "      <th>16</th>\n",
       "      <td>0.016870</td>\n",
       "      <td>city_DC</td>\n",
       "    </tr>\n",
       "    <tr>\n",
       "      <th>21</th>\n",
       "      <td>0.017686</td>\n",
       "      <td>cancellation_policy_strict</td>\n",
       "    </tr>\n",
       "    <tr>\n",
       "      <th>3</th>\n",
       "      <td>0.020383</td>\n",
       "      <td>host_identity_verified</td>\n",
       "    </tr>\n",
       "    <tr>\n",
       "      <th>4</th>\n",
       "      <td>0.021339</td>\n",
       "      <td>instant_bookable</td>\n",
       "    </tr>\n",
       "    <tr>\n",
       "      <th>8</th>\n",
       "      <td>0.033938</td>\n",
       "      <td>beds</td>\n",
       "    </tr>\n",
       "    <tr>\n",
       "      <th>17</th>\n",
       "      <td>0.038016</td>\n",
       "      <td>city_LA</td>\n",
       "    </tr>\n",
       "    <tr>\n",
       "      <th>9</th>\n",
       "      <td>0.045734</td>\n",
       "      <td>room_type_Private room</td>\n",
       "    </tr>\n",
       "    <tr>\n",
       "      <th>7</th>\n",
       "      <td>0.052227</td>\n",
       "      <td>bedrooms</td>\n",
       "    </tr>\n",
       "    <tr>\n",
       "      <th>24</th>\n",
       "      <td>0.059197</td>\n",
       "      <td>region_East</td>\n",
       "    </tr>\n",
       "    <tr>\n",
       "      <th>1</th>\n",
       "      <td>0.059342</td>\n",
       "      <td>accommodates</td>\n",
       "    </tr>\n",
       "    <tr>\n",
       "      <th>2</th>\n",
       "      <td>0.076828</td>\n",
       "      <td>bathrooms</td>\n",
       "    </tr>\n",
       "    <tr>\n",
       "      <th>18</th>\n",
       "      <td>0.090880</td>\n",
       "      <td>city_NYC</td>\n",
       "    </tr>\n",
       "    <tr>\n",
       "      <th>6</th>\n",
       "      <td>0.102337</td>\n",
       "      <td>review_scores_rating</td>\n",
       "    </tr>\n",
       "    <tr>\n",
       "      <th>5</th>\n",
       "      <td>0.143301</td>\n",
       "      <td>number_of_reviews</td>\n",
       "    </tr>\n",
       "    <tr>\n",
       "      <th>0</th>\n",
       "      <td>0.181349</td>\n",
       "      <td>log_price</td>\n",
       "    </tr>\n",
       "  </tbody>\n",
       "</table>\n",
       "</div>"
      ],
      "text/plain": [
       "      Weight                         Feature Name\n",
       "23  0.000014  cancellation_policy_super_strict_60\n",
       "11  0.000336                       bed_type_Couch\n",
       "22  0.000353  cancellation_policy_super_strict_30\n",
       "13  0.001076               bed_type_Pull-out Sofa\n",
       "12  0.001450                       bed_type_Futon\n",
       "10  0.003138                room_type_Shared room\n",
       "14  0.003714                    bed_type_Real Bed\n",
       "15  0.006816                         city_Chicago\n",
       "19  0.008213                              city_SF\n",
       "20  0.015463         cancellation_policy_moderate\n",
       "16  0.016870                              city_DC\n",
       "21  0.017686           cancellation_policy_strict\n",
       "3   0.020383               host_identity_verified\n",
       "4   0.021339                     instant_bookable\n",
       "8   0.033938                                 beds\n",
       "17  0.038016                              city_LA\n",
       "9   0.045734               room_type_Private room\n",
       "7   0.052227                             bedrooms\n",
       "24  0.059197                          region_East\n",
       "1   0.059342                         accommodates\n",
       "2   0.076828                            bathrooms\n",
       "18  0.090880                             city_NYC\n",
       "6   0.102337                 review_scores_rating\n",
       "5   0.143301                    number_of_reviews\n",
       "0   0.181349                            log_price"
      ]
     },
     "execution_count": 66,
     "metadata": {},
     "output_type": "execute_result"
    }
   ],
   "source": [
    "RF_class_weights = pd.concat([RFweights_df, variable_names_df],axis=1)\n",
    "names = [\"Weight\", \"Feature Name\"]\n",
    "RF_class_weights.columns = names\n",
    "RF_class_weights.sort_values(by=['Weight'])"
   ]
  },
  {
   "cell_type": "markdown",
   "metadata": {
    "id": "i79Pk39INA6H"
   },
   "source": [
    "Logistic Regression weighs different features more important than Random Forest did. We find that the number of Beds, the City of LA, the accommodation, and the city of DC are most important for Logistic Regression."
   ]
  },
  {
   "cell_type": "code",
   "execution_count": 67,
   "metadata": {
    "id": "ZaVQZwk3M7EK"
   },
   "outputs": [
    {
     "name": "stdout",
     "output_type": "stream",
     "text": [
      "log_price has weight of -0.09\n",
      "property_type has weight of 0.11\n",
      "accommodates has weight of 0.35\n",
      "bathrooms has weight of -0.04\n",
      "host_identity_verified has weight of -0.01\n",
      "instant_bookable has weight of 0.08\n",
      "number_of_reviews has weight of 0.13\n",
      "review_scores_rating has weight of 0.22\n",
      "bedrooms has weight of 0.15\n",
      "beds has weight of 0.53\n",
      "room_type_Private room has weight of 0.08\n",
      "room_type_Shared room has weight of 0.01\n",
      "bed_type_Couch has weight of 0.06\n",
      "bed_type_Futon has weight of 0.04\n",
      "bed_type_Pull-out Sofa has weight of 0.09\n",
      "bed_type_Real Bed has weight of -0.06\n",
      "city_Chicago has weight of 0.17\n",
      "city_DC has weight of 0.23\n",
      "city_LA has weight of -0.43\n",
      "city_NYC has weight of 0.06\n",
      "city_SF has weight of 0.01\n",
      "cancellation_policy_moderate has weight of -0.05\n",
      "cancellation_policy_strict has weight of -0.04\n",
      "cancellation_policy_super_strict_30 has weight of 0.15\n",
      "cancellation_policy_super_strict_60 has weight of -0.25\n"
     ]
    }
   ],
   "source": [
    "#Logistic Regression\n",
    "weights = modelFINAL.coef_.T\n",
    "x = pd.DataFrame(pdata_cls)\n",
    "variable_names = x.columns\n",
    "for coef,name in zip(weights, variable_names):\n",
    "    print(name, 'has weight of', round(coef[0],ndigits=2))"
   ]
  },
  {
   "cell_type": "markdown",
   "metadata": {
    "id": "asbU87XrOYHO"
   },
   "source": [
    "##### 2.7.2 Regression Models"
   ]
  },
  {
   "cell_type": "markdown",
   "metadata": {
    "id": "zbl-hjl6NstV"
   },
   "source": [
    "LASSO weighed room_type_private, review_scores_rating, accommodates, and number_of_reviews as the top predictors for the price of an Airbnb property. All of these predictors would surely have an influence on the price."
   ]
  },
  {
   "cell_type": "code",
   "execution_count": 68,
   "metadata": {
    "id": "yTRDD-2UNma2"
   },
   "outputs": [
    {
     "name": "stdout",
     "output_type": "stream",
     "text": [
      "log_price has weight of 0.14\n",
      "accommodates has weight of 0.08\n",
      "bathrooms has weight of 0.01\n",
      "host_identity_verified has weight of -0.02\n",
      "instant_bookable has weight of 0.05\n",
      "latitude has weight of -0.0\n",
      "longitude has weight of -0.01\n",
      "number_of_reviews has weight of 0.06\n",
      "review_scores_rating has weight of 0.12\n",
      "bedrooms has weight of -0.01\n",
      "beds has weight of -0.3\n",
      "room_type_Private room has weight of -0.17\n",
      "room_type_Shared room has weight of 0.0\n",
      "bed_type_Couch has weight of -0.0\n",
      "bed_type_Futon has weight of 0.01\n",
      "bed_type_Pull-out Sofa has weight of 0.01\n",
      "bed_type_Real Bed has weight of -0.07\n",
      "city_Chicago has weight of -0.01\n",
      "city_DC has weight of -0.0\n",
      "city_LA has weight of 0.0\n",
      "city_NYC has weight of 0.1\n",
      "city_SF has weight of 0.0\n",
      "cancellation_policy_moderate has weight of 0.02\n",
      "cancellation_policy_strict has weight of 0.01\n",
      "cancellation_policy_super_strict_30 has weight of 0.0\n",
      "cancellation_policy_super_strict_60 has weight of 0.01\n",
      "property_type_Bed & Breakfast has weight of 0.01\n",
      "property_type_Boat has weight of 0.0\n",
      "property_type_Boutique hotel has weight of -0.0\n",
      "property_type_Bungalow has weight of -0.0\n",
      "property_type_Cabin has weight of -0.01\n",
      "property_type_Camper/RV has weight of 0.0\n",
      "property_type_Castle has weight of 0.0\n",
      "property_type_Cave has weight of -0.0\n",
      "property_type_Chalet has weight of 0.02\n",
      "property_type_Condominium has weight of -0.02\n",
      "property_type_Dorm has weight of 0.0\n",
      "property_type_Earth House has weight of -0.0\n",
      "property_type_Guest suite has weight of -0.01\n",
      "property_type_Guesthouse has weight of -0.02\n",
      "property_type_Hostel has weight of -0.02\n",
      "property_type_House has weight of -0.0\n",
      "property_type_Hut has weight of -0.01\n",
      "property_type_In-law has weight of 0.02\n",
      "property_type_Loft has weight of 0.0\n",
      "property_type_Other has weight of 0.0\n",
      "property_type_Serviced apartment has weight of -0.0\n",
      "property_type_Tent has weight of 0.01\n",
      "property_type_Timeshare has weight of 0.0\n",
      "property_type_Tipi has weight of -0.01\n",
      "property_type_Townhouse has weight of 0.0\n",
      "property_type_Train has weight of 0.0\n",
      "property_type_Treehouse has weight of 0.0\n",
      "property_type_Vacation home has weight of 0.0\n",
      "property_type_Villa has weight of -0.0\n"
     ]
    }
   ],
   "source": [
    "#LASSO\n",
    "weights_reg = reg.coef_.T\n",
    "variable_names = list(pdata_reg)[0:-1]\n",
    "\n",
    "#x = pd.DataFrame(pdata_reg)\n",
    "#variable_names_reg = x.columns\n",
    "for coef,name in zip(weights_reg, variable_names):\n",
    "    print(name, 'has weight of', round(coef, ndigits=2))"
   ]
  },
  {
   "cell_type": "code",
   "execution_count": 69,
   "metadata": {
    "id": "6T53zqKOOBa3"
   },
   "outputs": [],
   "source": [
    "#Random Forest Regression\n",
    "RFweights_reg = modelFINAL_RFC_RS.feature_importances_\n",
    "x = pd.DataFrame(pdata_reg)\n",
    "variable_names_reg = x.columns\n",
    "\n",
    "RFweights_reg_df=pd.DataFrame(RFweights_reg)\n",
    "variable_names_reg_df=pd.DataFrame(variable_names_reg)\n",
    "variable_names_reg_df=variable_names_reg_df.drop([1])\n",
    "variable_names_reg_df=variable_names_reg_df.reset_index(drop=True)"
   ]
  },
  {
   "cell_type": "code",
   "execution_count": 70,
   "metadata": {
    "id": "CLe0dXy-OEla"
   },
   "outputs": [
    {
     "data": {
      "text/html": [
       "<div>\n",
       "<style scoped>\n",
       "    .dataframe tbody tr th:only-of-type {\n",
       "        vertical-align: middle;\n",
       "    }\n",
       "\n",
       "    .dataframe tbody tr th {\n",
       "        vertical-align: top;\n",
       "    }\n",
       "\n",
       "    .dataframe thead th {\n",
       "        text-align: right;\n",
       "    }\n",
       "</style>\n",
       "<table border=\"1\" class=\"dataframe\">\n",
       "  <thead>\n",
       "    <tr style=\"text-align: right;\">\n",
       "      <th></th>\n",
       "      <th>Weight</th>\n",
       "      <th>Feature Name</th>\n",
       "    </tr>\n",
       "  </thead>\n",
       "  <tbody>\n",
       "    <tr>\n",
       "      <th>23</th>\n",
       "      <td>0.000014</td>\n",
       "      <td>cancellation_policy_super_strict_30</td>\n",
       "    </tr>\n",
       "    <tr>\n",
       "      <th>11</th>\n",
       "      <td>0.000336</td>\n",
       "      <td>room_type_Shared room</td>\n",
       "    </tr>\n",
       "    <tr>\n",
       "      <th>22</th>\n",
       "      <td>0.000353</td>\n",
       "      <td>cancellation_policy_strict</td>\n",
       "    </tr>\n",
       "    <tr>\n",
       "      <th>13</th>\n",
       "      <td>0.001076</td>\n",
       "      <td>bed_type_Futon</td>\n",
       "    </tr>\n",
       "    <tr>\n",
       "      <th>12</th>\n",
       "      <td>0.001450</td>\n",
       "      <td>bed_type_Couch</td>\n",
       "    </tr>\n",
       "    <tr>\n",
       "      <th>10</th>\n",
       "      <td>0.003138</td>\n",
       "      <td>room_type_Private room</td>\n",
       "    </tr>\n",
       "    <tr>\n",
       "      <th>14</th>\n",
       "      <td>0.003714</td>\n",
       "      <td>bed_type_Pull-out Sofa</td>\n",
       "    </tr>\n",
       "    <tr>\n",
       "      <th>15</th>\n",
       "      <td>0.006816</td>\n",
       "      <td>bed_type_Real Bed</td>\n",
       "    </tr>\n",
       "    <tr>\n",
       "      <th>19</th>\n",
       "      <td>0.008213</td>\n",
       "      <td>city_NYC</td>\n",
       "    </tr>\n",
       "    <tr>\n",
       "      <th>20</th>\n",
       "      <td>0.015463</td>\n",
       "      <td>city_SF</td>\n",
       "    </tr>\n",
       "    <tr>\n",
       "      <th>16</th>\n",
       "      <td>0.016870</td>\n",
       "      <td>city_Chicago</td>\n",
       "    </tr>\n",
       "    <tr>\n",
       "      <th>21</th>\n",
       "      <td>0.017686</td>\n",
       "      <td>cancellation_policy_moderate</td>\n",
       "    </tr>\n",
       "    <tr>\n",
       "      <th>3</th>\n",
       "      <td>0.020383</td>\n",
       "      <td>instant_bookable</td>\n",
       "    </tr>\n",
       "    <tr>\n",
       "      <th>4</th>\n",
       "      <td>0.021339</td>\n",
       "      <td>latitude</td>\n",
       "    </tr>\n",
       "    <tr>\n",
       "      <th>8</th>\n",
       "      <td>0.033938</td>\n",
       "      <td>bedrooms</td>\n",
       "    </tr>\n",
       "    <tr>\n",
       "      <th>17</th>\n",
       "      <td>0.038016</td>\n",
       "      <td>city_DC</td>\n",
       "    </tr>\n",
       "    <tr>\n",
       "      <th>9</th>\n",
       "      <td>0.045734</td>\n",
       "      <td>beds</td>\n",
       "    </tr>\n",
       "    <tr>\n",
       "      <th>7</th>\n",
       "      <td>0.052227</td>\n",
       "      <td>review_scores_rating</td>\n",
       "    </tr>\n",
       "    <tr>\n",
       "      <th>24</th>\n",
       "      <td>0.059197</td>\n",
       "      <td>cancellation_policy_super_strict_60</td>\n",
       "    </tr>\n",
       "    <tr>\n",
       "      <th>1</th>\n",
       "      <td>0.059342</td>\n",
       "      <td>bathrooms</td>\n",
       "    </tr>\n",
       "    <tr>\n",
       "      <th>2</th>\n",
       "      <td>0.076828</td>\n",
       "      <td>host_identity_verified</td>\n",
       "    </tr>\n",
       "    <tr>\n",
       "      <th>18</th>\n",
       "      <td>0.090880</td>\n",
       "      <td>city_LA</td>\n",
       "    </tr>\n",
       "    <tr>\n",
       "      <th>6</th>\n",
       "      <td>0.102337</td>\n",
       "      <td>number_of_reviews</td>\n",
       "    </tr>\n",
       "    <tr>\n",
       "      <th>5</th>\n",
       "      <td>0.143301</td>\n",
       "      <td>longitude</td>\n",
       "    </tr>\n",
       "    <tr>\n",
       "      <th>0</th>\n",
       "      <td>0.181349</td>\n",
       "      <td>log_price</td>\n",
       "    </tr>\n",
       "    <tr>\n",
       "      <th>25</th>\n",
       "      <td>NaN</td>\n",
       "      <td>property_type_Bed &amp; Breakfast</td>\n",
       "    </tr>\n",
       "    <tr>\n",
       "      <th>26</th>\n",
       "      <td>NaN</td>\n",
       "      <td>property_type_Boat</td>\n",
       "    </tr>\n",
       "    <tr>\n",
       "      <th>27</th>\n",
       "      <td>NaN</td>\n",
       "      <td>property_type_Boutique hotel</td>\n",
       "    </tr>\n",
       "    <tr>\n",
       "      <th>28</th>\n",
       "      <td>NaN</td>\n",
       "      <td>property_type_Bungalow</td>\n",
       "    </tr>\n",
       "    <tr>\n",
       "      <th>29</th>\n",
       "      <td>NaN</td>\n",
       "      <td>property_type_Cabin</td>\n",
       "    </tr>\n",
       "    <tr>\n",
       "      <th>30</th>\n",
       "      <td>NaN</td>\n",
       "      <td>property_type_Camper/RV</td>\n",
       "    </tr>\n",
       "    <tr>\n",
       "      <th>31</th>\n",
       "      <td>NaN</td>\n",
       "      <td>property_type_Castle</td>\n",
       "    </tr>\n",
       "    <tr>\n",
       "      <th>32</th>\n",
       "      <td>NaN</td>\n",
       "      <td>property_type_Cave</td>\n",
       "    </tr>\n",
       "    <tr>\n",
       "      <th>33</th>\n",
       "      <td>NaN</td>\n",
       "      <td>property_type_Chalet</td>\n",
       "    </tr>\n",
       "    <tr>\n",
       "      <th>34</th>\n",
       "      <td>NaN</td>\n",
       "      <td>property_type_Condominium</td>\n",
       "    </tr>\n",
       "    <tr>\n",
       "      <th>35</th>\n",
       "      <td>NaN</td>\n",
       "      <td>property_type_Dorm</td>\n",
       "    </tr>\n",
       "    <tr>\n",
       "      <th>36</th>\n",
       "      <td>NaN</td>\n",
       "      <td>property_type_Earth House</td>\n",
       "    </tr>\n",
       "    <tr>\n",
       "      <th>37</th>\n",
       "      <td>NaN</td>\n",
       "      <td>property_type_Guest suite</td>\n",
       "    </tr>\n",
       "    <tr>\n",
       "      <th>38</th>\n",
       "      <td>NaN</td>\n",
       "      <td>property_type_Guesthouse</td>\n",
       "    </tr>\n",
       "    <tr>\n",
       "      <th>39</th>\n",
       "      <td>NaN</td>\n",
       "      <td>property_type_Hostel</td>\n",
       "    </tr>\n",
       "    <tr>\n",
       "      <th>40</th>\n",
       "      <td>NaN</td>\n",
       "      <td>property_type_House</td>\n",
       "    </tr>\n",
       "    <tr>\n",
       "      <th>41</th>\n",
       "      <td>NaN</td>\n",
       "      <td>property_type_Hut</td>\n",
       "    </tr>\n",
       "    <tr>\n",
       "      <th>42</th>\n",
       "      <td>NaN</td>\n",
       "      <td>property_type_In-law</td>\n",
       "    </tr>\n",
       "    <tr>\n",
       "      <th>43</th>\n",
       "      <td>NaN</td>\n",
       "      <td>property_type_Loft</td>\n",
       "    </tr>\n",
       "    <tr>\n",
       "      <th>44</th>\n",
       "      <td>NaN</td>\n",
       "      <td>property_type_Other</td>\n",
       "    </tr>\n",
       "    <tr>\n",
       "      <th>45</th>\n",
       "      <td>NaN</td>\n",
       "      <td>property_type_Serviced apartment</td>\n",
       "    </tr>\n",
       "    <tr>\n",
       "      <th>46</th>\n",
       "      <td>NaN</td>\n",
       "      <td>property_type_Tent</td>\n",
       "    </tr>\n",
       "    <tr>\n",
       "      <th>47</th>\n",
       "      <td>NaN</td>\n",
       "      <td>property_type_Timeshare</td>\n",
       "    </tr>\n",
       "    <tr>\n",
       "      <th>48</th>\n",
       "      <td>NaN</td>\n",
       "      <td>property_type_Tipi</td>\n",
       "    </tr>\n",
       "    <tr>\n",
       "      <th>49</th>\n",
       "      <td>NaN</td>\n",
       "      <td>property_type_Townhouse</td>\n",
       "    </tr>\n",
       "    <tr>\n",
       "      <th>50</th>\n",
       "      <td>NaN</td>\n",
       "      <td>property_type_Train</td>\n",
       "    </tr>\n",
       "    <tr>\n",
       "      <th>51</th>\n",
       "      <td>NaN</td>\n",
       "      <td>property_type_Treehouse</td>\n",
       "    </tr>\n",
       "    <tr>\n",
       "      <th>52</th>\n",
       "      <td>NaN</td>\n",
       "      <td>property_type_Vacation home</td>\n",
       "    </tr>\n",
       "    <tr>\n",
       "      <th>53</th>\n",
       "      <td>NaN</td>\n",
       "      <td>property_type_Villa</td>\n",
       "    </tr>\n",
       "    <tr>\n",
       "      <th>54</th>\n",
       "      <td>NaN</td>\n",
       "      <td>property_type_Yurt</td>\n",
       "    </tr>\n",
       "  </tbody>\n",
       "</table>\n",
       "</div>"
      ],
      "text/plain": [
       "      Weight                         Feature Name\n",
       "23  0.000014  cancellation_policy_super_strict_30\n",
       "11  0.000336                room_type_Shared room\n",
       "22  0.000353           cancellation_policy_strict\n",
       "13  0.001076                       bed_type_Futon\n",
       "12  0.001450                       bed_type_Couch\n",
       "10  0.003138               room_type_Private room\n",
       "14  0.003714               bed_type_Pull-out Sofa\n",
       "15  0.006816                    bed_type_Real Bed\n",
       "19  0.008213                             city_NYC\n",
       "20  0.015463                              city_SF\n",
       "16  0.016870                         city_Chicago\n",
       "21  0.017686         cancellation_policy_moderate\n",
       "3   0.020383                     instant_bookable\n",
       "4   0.021339                             latitude\n",
       "8   0.033938                             bedrooms\n",
       "17  0.038016                              city_DC\n",
       "9   0.045734                                 beds\n",
       "7   0.052227                 review_scores_rating\n",
       "24  0.059197  cancellation_policy_super_strict_60\n",
       "1   0.059342                            bathrooms\n",
       "2   0.076828               host_identity_verified\n",
       "18  0.090880                              city_LA\n",
       "6   0.102337                    number_of_reviews\n",
       "5   0.143301                            longitude\n",
       "0   0.181349                            log_price\n",
       "25       NaN        property_type_Bed & Breakfast\n",
       "26       NaN                   property_type_Boat\n",
       "27       NaN         property_type_Boutique hotel\n",
       "28       NaN               property_type_Bungalow\n",
       "29       NaN                  property_type_Cabin\n",
       "30       NaN              property_type_Camper/RV\n",
       "31       NaN                 property_type_Castle\n",
       "32       NaN                   property_type_Cave\n",
       "33       NaN                 property_type_Chalet\n",
       "34       NaN            property_type_Condominium\n",
       "35       NaN                   property_type_Dorm\n",
       "36       NaN            property_type_Earth House\n",
       "37       NaN            property_type_Guest suite\n",
       "38       NaN             property_type_Guesthouse\n",
       "39       NaN                 property_type_Hostel\n",
       "40       NaN                  property_type_House\n",
       "41       NaN                    property_type_Hut\n",
       "42       NaN                 property_type_In-law\n",
       "43       NaN                   property_type_Loft\n",
       "44       NaN                  property_type_Other\n",
       "45       NaN     property_type_Serviced apartment\n",
       "46       NaN                   property_type_Tent\n",
       "47       NaN              property_type_Timeshare\n",
       "48       NaN                   property_type_Tipi\n",
       "49       NaN              property_type_Townhouse\n",
       "50       NaN                  property_type_Train\n",
       "51       NaN              property_type_Treehouse\n",
       "52       NaN          property_type_Vacation home\n",
       "53       NaN                  property_type_Villa\n",
       "54       NaN                   property_type_Yurt"
      ]
     },
     "execution_count": 70,
     "metadata": {},
     "output_type": "execute_result"
    }
   ],
   "source": [
    "RF_class_weights_reg = pd.concat([RFweights_reg_df, variable_names_reg_df],axis=1)\n",
    "names = [\"Weight\", \"Feature Name\"]\n",
    "RF_class_weights_reg.columns = names\n",
    "RF_class_weights_reg.sort_values(by=['Weight'])"
   ]
  },
  {
   "cell_type": "markdown",
   "metadata": {
    "id": "Lz9swmMcOYHO"
   },
   "source": [
    "#### 3. Deployment"
   ]
  },
  {
   "cell_type": "markdown",
   "metadata": {
    "id": "6qGalrlhORVE"
   },
   "source": [
    "Airbnb would be interested in our regression models because they can recommend a price to property owners for new listings in the service. The models can be improved upon with internal resources at Airbnb but knowing there is a possibility to predict the price of a listing, with the little information we had, would be insightful to determining price gouging. Airbnb has received negative critiques on the service’s price range for certain areas of the country.\n",
    "\n",
    "The classification models would be useful because there are 35 different property types in the dataset we found, so this model could streamline the classifications so users can filter easier when searching for a listing to stay in. If more data were available for us to use, we could have created multinominal classification models.\n",
    "\n",
    "Deploying the regression model would need to be an internal use so they can see how property owners are pricing their listings. The classification model would need to be added to their front-end development team to create a custom filter that can iterate through all the listings and classify them.\n",
    "\n",
    "More data is necessary for delivering effective predictions. Having more information around the physical features of the property such as square footage would alter the predictive power of the models.\n",
    "\n",
    "The models would need to be updated regularly to stay current on all new properties rolling out and new stays are being booked. Especially when prices change over time with correspondence to the trip a user is planning."
   ]
  },
  {
   "cell_type": "markdown",
   "metadata": {
    "id": "roUjbFGwOYHO"
   },
   "source": [
    "#### 4. Exceptional Work Explained"
   ]
  },
  {
   "cell_type": "markdown",
   "metadata": {
    "id": "0iI33iHROYHP"
   },
   "source": [
    "We conducted and compared grid searches in our models."
   ]
  },
  {
   "cell_type": "markdown",
   "metadata": {
    "id": "eKXWLskPO3Ty"
   },
   "source": []
  }
 ],
 "metadata": {
  "accelerator": "GPU",
  "colab": {
   "machine_shape": "hm",
   "name": "Project_2_Final.ipynb",
   "provenance": []
  },
  "kernelspec": {
   "display_name": "Python 3",
   "language": "python",
   "name": "python3"
  },
  "language_info": {
   "codemirror_mode": {
    "name": "ipython",
    "version": 3
   },
   "file_extension": ".py",
   "mimetype": "text/x-python",
   "name": "python",
   "nbconvert_exporter": "python",
   "pygments_lexer": "ipython3",
   "version": "3.8.8"
  }
 },
 "nbformat": 4,
 "nbformat_minor": 1
}
