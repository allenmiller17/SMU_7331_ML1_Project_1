{
  "nbformat": 4,
  "nbformat_minor": 0,
  "metadata": {
    "colab": {
      "name": "Mini_Project givemeanA.ipynb",
      "provenance": [],
      "machine_shape": "hm"
    },
    "kernelspec": {
      "display_name": "Python 3",
      "language": "python",
      "name": "python3"
    },
    "language_info": {
      "codemirror_mode": {
        "name": "ipython",
        "version": 3
      },
      "file_extension": ".py",
      "mimetype": "text/x-python",
      "name": "python",
      "nbconvert_exporter": "python",
      "pygments_lexer": "ipython3",
      "version": "3.8.8"
    }
  },
  "cells": [
    {
      "cell_type": "markdown",
      "metadata": {
        "id": "shBxlqWhtBMq"
      },
      "source": [
        "# DS-7331 Machine Learning Mini Project\n",
        "## Airbnb Price Data - Logistic and SVM\n",
        "### Allen Miller, Ana Glaser, Jake Harrison, Lola Awodipe\n",
        "\n",
        "https://nbviewer.jupyter.org/github/allenmiller17/SMU_7331_ML1_Project_1/blob/main/Project_1_Final_Write_Up.ipynb"
      ]
    },
    {
      "cell_type": "code",
      "metadata": {
        "id": "0UVfzQcEtBMv"
      },
      "source": [
        "import warnings\n",
        "warnings.filterwarnings('ignore')\n",
        "\n",
        "import pandas as pd\n",
        "from sklearn.linear_model import LogisticRegression\n",
        "\n",
        "import matplotlib.pyplot as plt\n",
        "%matplotlib inline\n",
        "\n",
        "import seaborn as sns\n",
        "\n",
        "from sklearn.model_selection import train_test_split\n",
        "\n",
        "import numpy as np\n",
        "from scipy import stats\n",
        "\n",
        "from sklearn import metrics"
      ],
      "execution_count": 1,
      "outputs": []
    },
    {
      "cell_type": "code",
      "metadata": {
        "id": "j9GlYNcqtGL0"
      },
      "source": [
        "from google.colab import drive"
      ],
      "execution_count": 2,
      "outputs": []
    },
    {
      "cell_type": "code",
      "metadata": {
        "colab": {
          "base_uri": "https://localhost:8080/"
        },
        "id": "nONEzeJqtJ-w",
        "outputId": "c3248254-7be2-421e-9df7-7b8288bf756f"
      },
      "source": [
        "drive.mount('/content/drive/')"
      ],
      "execution_count": 3,
      "outputs": [
        {
          "output_type": "stream",
          "text": [
            "Drive already mounted at /content/drive/; to attempt to forcibly remount, call drive.mount(\"/content/drive/\", force_remount=True).\n"
          ],
          "name": "stdout"
        }
      ]
    },
    {
      "cell_type": "code",
      "metadata": {
        "id": "2APcUIoQtPIU"
      },
      "source": [
        "data_path = \"/content/drive/My Drive/DLCP/airbnb.csv\""
      ],
      "execution_count": 4,
      "outputs": []
    },
    {
      "cell_type": "code",
      "metadata": {
        "id": "6gSIPG8s66K3"
      },
      "source": [
        "pdata = pd.read_csv(data_path)"
      ],
      "execution_count": 5,
      "outputs": []
    },
    {
      "cell_type": "code",
      "metadata": {
        "colab": {
          "base_uri": "https://localhost:8080/"
        },
        "id": "m7nEeG-gtBMw",
        "outputId": "79627f88-1f8e-4b11-c8f5-fdca308ad26e"
      },
      "source": [
        "#importing the data\n",
        "#pdata = pd.read_csv(\"airbnb.csv\")\n",
        "pdata.info()"
      ],
      "execution_count": 6,
      "outputs": [
        {
          "output_type": "stream",
          "text": [
            "<class 'pandas.core.frame.DataFrame'>\n",
            "RangeIndex: 74111 entries, 0 to 74110\n",
            "Data columns (total 26 columns):\n",
            " #   Column                  Non-Null Count  Dtype  \n",
            "---  ------                  --------------  -----  \n",
            " 0   id                      74111 non-null  int64  \n",
            " 1   log_price               74111 non-null  float64\n",
            " 2   property_type           74111 non-null  object \n",
            " 3   room_type               74111 non-null  object \n",
            " 4   accommodates            74111 non-null  int64  \n",
            " 5   bathrooms               73911 non-null  float64\n",
            " 6   bed_type                74111 non-null  object \n",
            " 7   cancellation_policy     74111 non-null  object \n",
            " 8   cleaning_fee            74111 non-null  bool   \n",
            " 9   city                    74111 non-null  object \n",
            " 10  description             74111 non-null  object \n",
            " 11  first_review            58247 non-null  object \n",
            " 12  host_has_profile_pic    73923 non-null  object \n",
            " 13  host_identity_verified  73923 non-null  object \n",
            " 14  host_response_rate      55812 non-null  object \n",
            " 15  host_since              73923 non-null  object \n",
            " 16  instant_bookable        74111 non-null  object \n",
            " 17  last_review             58284 non-null  object \n",
            " 18  latitude                74111 non-null  float64\n",
            " 19  longitude               74111 non-null  float64\n",
            " 20  neighbourhood           67239 non-null  object \n",
            " 21  number_of_reviews       74111 non-null  int64  \n",
            " 22  review_scores_rating    57389 non-null  float64\n",
            " 23  zipcode                 73145 non-null  object \n",
            " 24  bedrooms                74020 non-null  float64\n",
            " 25  beds                    73980 non-null  float64\n",
            "dtypes: bool(1), float64(7), int64(3), object(15)\n",
            "memory usage: 14.2+ MB\n"
          ],
          "name": "stdout"
        }
      ]
    },
    {
      "cell_type": "markdown",
      "metadata": {
        "id": "9UmfOcVQtBMx"
      },
      "source": [
        "### Business Understanding"
      ]
    },
    {
      "cell_type": "code",
      "metadata": {
        "id": "qr9f9CXftBMx"
      },
      "source": [
        "pdata = pdata.dropna()"
      ],
      "execution_count": 7,
      "outputs": []
    },
    {
      "cell_type": "code",
      "metadata": {
        "colab": {
          "base_uri": "https://localhost:8080/"
        },
        "id": "ggpi4uHVncaL",
        "outputId": "16d2db15-6863-4859-8026-cfe0ecac0376"
      },
      "source": [
        "pdata.skew()"
      ],
      "execution_count": 8,
      "outputs": [
        {
          "output_type": "execute_result",
          "data": {
            "text/plain": [
              "id                     -0.255823\n",
              "log_price               0.377120\n",
              "accommodates            2.119839\n",
              "bathrooms               3.705744\n",
              "cleaning_fee           -1.701312\n",
              "latitude               -0.649299\n",
              "longitude              -0.502707\n",
              "number_of_reviews       3.028550\n",
              "review_scores_rating   -3.325985\n",
              "bedrooms                1.874469\n",
              "beds                    3.138750\n",
              "dtype: float64"
            ]
          },
          "metadata": {
            "tags": []
          },
          "execution_count": 8
        }
      ]
    },
    {
      "cell_type": "code",
      "metadata": {
        "colab": {
          "base_uri": "https://localhost:8080/",
          "height": 1000
        },
        "id": "PCrtIBHmwzG_",
        "outputId": "df9547ce-12fb-40f4-eb48-cb9b1e5518b0"
      },
      "source": [
        "plt.figure(figsize=(5,5))\n",
        "for i in ['accommodates','bathrooms','number_of_reviews','review_scores_rating','bedrooms','beds']:\n",
        "    sns.boxplot(pdata[i])\n",
        "    plt.show()"
      ],
      "execution_count": 9,
      "outputs": [
        {
          "output_type": "display_data",
          "data": {
            "image/png": "[encoded data removed]",
            "text/plain": [
              "<Figure size 360x360 with 1 Axes>"
            ]
          },
          "metadata": {
            "tags": [],
            "needs_background": "light"
          }
        },
        {
          "output_type": "display_data",
          "data": {
            "image/png": "[encoded data removed]",
            "text/plain": [
              "<Figure size 432x288 with 1 Axes>"
            ]
          },
          "metadata": {
            "tags": [],
            "needs_background": "light"
          }
        },
        {
          "output_type": "display_data",
          "data": {
            "image/png": "[encoded data removed]",
            "text/plain": [
              "<Figure size 432x288 with 1 Axes>"
            ]
          },
          "metadata": {
            "tags": [],
            "needs_background": "light"
          }
        },
        {
          "output_type": "display_data",
          "data": {
            "image/png": "[encoded data removed]",
            "text/plain": [
              "<Figure size 432x288 with 1 Axes>"
            ]
          },
          "metadata": {
            "tags": [],
            "needs_background": "light"
          }
        },
        {
          "output_type": "display_data",
          "data": {
            "image/png": "[encoded data removed]",
            "text/plain": [
              "<Figure size 432x288 with 1 Axes>"
            ]
          },
          "metadata": {
            "tags": [],
            "needs_background": "light"
          }
        },
        {
          "output_type": "display_data",
          "data": {
            "image/png": "[encoded data removed]",
            "text/plain": [
              "<Figure size 432x288 with 1 Axes>"
            ]
          },
          "metadata": {
            "tags": [],
            "needs_background": "light"
          }
        }
      ]
    },
    {
      "cell_type": "code",
      "metadata": {
        "id": "od-fD77wtBMx"
      },
      "source": [
        "value_list = [\"Apartment\"]\n",
        "boolean_series = ~pdata.property_type.isin(value_list)\n",
        "filtered_df = pdata[boolean_series]\n",
        "\n",
        "filtered_df.head(100)\n",
        "\n",
        "for i in list (filtered_df.index):\n",
        "    pdata.loc[i,'property_type'] = \"other\"\n",
        "\n",
        "pdata[\"region\"] = pd.cut(pdata.longitude,[-200,-100,0],2,labels=[\"West\",\"East\"])"
      ],
      "execution_count": 10,
      "outputs": []
    },
    {
      "cell_type": "code",
      "metadata": {
        "colab": {
          "base_uri": "https://localhost:8080/",
          "height": 530
        },
        "id": "4BA1AxqKtBMy",
        "outputId": "9987729b-c72f-441d-f562-eb0d03d81d5f"
      },
      "source": [
        "pdata.head()"
      ],
      "execution_count": 11,
      "outputs": [
        {
          "output_type": "execute_result",
          "data": {
            "text/html": [
              "<div>\n",
              "<style scoped>\n",
              "    .dataframe tbody tr th:only-of-type {\n",
              "        vertical-align: middle;\n",
              "    }\n",
              "\n",
              "    .dataframe tbody tr th {\n",
              "        vertical-align: top;\n",
              "    }\n",
              "\n",
              "    .dataframe thead th {\n",
              "        text-align: right;\n",
              "    }\n",
              "</style>\n",
              "<table border=\"1\" class=\"dataframe\">\n",
              "  <thead>\n",
              "    <tr style=\"text-align: right;\">\n",
              "      <th></th>\n",
              "      <th>id</th>\n",
              "      <th>log_price</th>\n",
              "      <th>property_type</th>\n",
              "      <th>room_type</th>\n",
              "      <th>accommodates</th>\n",
              "      <th>bathrooms</th>\n",
              "      <th>bed_type</th>\n",
              "      <th>cancellation_policy</th>\n",
              "      <th>cleaning_fee</th>\n",
              "      <th>city</th>\n",
              "      <th>description</th>\n",
              "      <th>first_review</th>\n",
              "      <th>host_has_profile_pic</th>\n",
              "      <th>host_identity_verified</th>\n",
              "      <th>host_response_rate</th>\n",
              "      <th>host_since</th>\n",
              "      <th>instant_bookable</th>\n",
              "      <th>last_review</th>\n",
              "      <th>latitude</th>\n",
              "      <th>longitude</th>\n",
              "      <th>neighbourhood</th>\n",
              "      <th>number_of_reviews</th>\n",
              "      <th>review_scores_rating</th>\n",
              "      <th>zipcode</th>\n",
              "      <th>bedrooms</th>\n",
              "      <th>beds</th>\n",
              "      <th>region</th>\n",
              "    </tr>\n",
              "  </thead>\n",
              "  <tbody>\n",
              "    <tr>\n",
              "      <th>1</th>\n",
              "      <td>6304928</td>\n",
              "      <td>5.129899</td>\n",
              "      <td>Apartment</td>\n",
              "      <td>Entire home/apt</td>\n",
              "      <td>7</td>\n",
              "      <td>1.0</td>\n",
              "      <td>Real Bed</td>\n",
              "      <td>strict</td>\n",
              "      <td>True</td>\n",
              "      <td>NYC</td>\n",
              "      <td>Enjoy travelling during your stay in Manhattan...</td>\n",
              "      <td>8/5/2017</td>\n",
              "      <td>t</td>\n",
              "      <td>f</td>\n",
              "      <td>100%</td>\n",
              "      <td>6/19/2017</td>\n",
              "      <td>t</td>\n",
              "      <td>9/23/2017</td>\n",
              "      <td>40.766115</td>\n",
              "      <td>-73.989040</td>\n",
              "      <td>Hell's Kitchen</td>\n",
              "      <td>6</td>\n",
              "      <td>93.0</td>\n",
              "      <td>10019</td>\n",
              "      <td>3.0</td>\n",
              "      <td>3.0</td>\n",
              "      <td>East</td>\n",
              "    </tr>\n",
              "    <tr>\n",
              "      <th>2</th>\n",
              "      <td>7919400</td>\n",
              "      <td>4.976734</td>\n",
              "      <td>Apartment</td>\n",
              "      <td>Entire home/apt</td>\n",
              "      <td>5</td>\n",
              "      <td>1.0</td>\n",
              "      <td>Real Bed</td>\n",
              "      <td>moderate</td>\n",
              "      <td>True</td>\n",
              "      <td>NYC</td>\n",
              "      <td>The Oasis comes complete with a full backyard ...</td>\n",
              "      <td>4/30/2017</td>\n",
              "      <td>t</td>\n",
              "      <td>t</td>\n",
              "      <td>100%</td>\n",
              "      <td>10/25/2016</td>\n",
              "      <td>t</td>\n",
              "      <td>9/14/2017</td>\n",
              "      <td>40.808110</td>\n",
              "      <td>-73.943756</td>\n",
              "      <td>Harlem</td>\n",
              "      <td>10</td>\n",
              "      <td>92.0</td>\n",
              "      <td>10027</td>\n",
              "      <td>1.0</td>\n",
              "      <td>3.0</td>\n",
              "      <td>East</td>\n",
              "    </tr>\n",
              "    <tr>\n",
              "      <th>4</th>\n",
              "      <td>3808709</td>\n",
              "      <td>4.744932</td>\n",
              "      <td>Apartment</td>\n",
              "      <td>Entire home/apt</td>\n",
              "      <td>2</td>\n",
              "      <td>1.0</td>\n",
              "      <td>Real Bed</td>\n",
              "      <td>moderate</td>\n",
              "      <td>True</td>\n",
              "      <td>DC</td>\n",
              "      <td>Cool, cozy, and comfortable studio located in ...</td>\n",
              "      <td>5/12/2015</td>\n",
              "      <td>t</td>\n",
              "      <td>t</td>\n",
              "      <td>100%</td>\n",
              "      <td>3/1/2015</td>\n",
              "      <td>t</td>\n",
              "      <td>1/22/2017</td>\n",
              "      <td>38.925627</td>\n",
              "      <td>-77.034596</td>\n",
              "      <td>Columbia Heights</td>\n",
              "      <td>4</td>\n",
              "      <td>40.0</td>\n",
              "      <td>20009</td>\n",
              "      <td>0.0</td>\n",
              "      <td>1.0</td>\n",
              "      <td>East</td>\n",
              "    </tr>\n",
              "    <tr>\n",
              "      <th>5</th>\n",
              "      <td>12422935</td>\n",
              "      <td>4.442651</td>\n",
              "      <td>Apartment</td>\n",
              "      <td>Private room</td>\n",
              "      <td>2</td>\n",
              "      <td>1.0</td>\n",
              "      <td>Real Bed</td>\n",
              "      <td>strict</td>\n",
              "      <td>True</td>\n",
              "      <td>SF</td>\n",
              "      <td>Beautiful private room overlooking scenic view...</td>\n",
              "      <td>8/27/2017</td>\n",
              "      <td>t</td>\n",
              "      <td>t</td>\n",
              "      <td>100%</td>\n",
              "      <td>6/7/2017</td>\n",
              "      <td>t</td>\n",
              "      <td>9/5/2017</td>\n",
              "      <td>37.753164</td>\n",
              "      <td>-122.429526</td>\n",
              "      <td>Noe Valley</td>\n",
              "      <td>3</td>\n",
              "      <td>100.0</td>\n",
              "      <td>94131</td>\n",
              "      <td>1.0</td>\n",
              "      <td>1.0</td>\n",
              "      <td>West</td>\n",
              "    </tr>\n",
              "    <tr>\n",
              "      <th>7</th>\n",
              "      <td>13971273</td>\n",
              "      <td>4.787492</td>\n",
              "      <td>other</td>\n",
              "      <td>Entire home/apt</td>\n",
              "      <td>2</td>\n",
              "      <td>1.0</td>\n",
              "      <td>Real Bed</td>\n",
              "      <td>moderate</td>\n",
              "      <td>True</td>\n",
              "      <td>LA</td>\n",
              "      <td>Arguably the best location (and safest) in dow...</td>\n",
              "      <td>12/16/2016</td>\n",
              "      <td>t</td>\n",
              "      <td>t</td>\n",
              "      <td>100%</td>\n",
              "      <td>5/18/2013</td>\n",
              "      <td>f</td>\n",
              "      <td>4/12/2017</td>\n",
              "      <td>34.046737</td>\n",
              "      <td>-118.260439</td>\n",
              "      <td>Downtown</td>\n",
              "      <td>9</td>\n",
              "      <td>93.0</td>\n",
              "      <td>90015</td>\n",
              "      <td>1.0</td>\n",
              "      <td>1.0</td>\n",
              "      <td>West</td>\n",
              "    </tr>\n",
              "  </tbody>\n",
              "</table>\n",
              "</div>"
            ],
            "text/plain": [
              "         id  log_price property_type  ... bedrooms  beds  region\n",
              "1   6304928   5.129899     Apartment  ...      3.0   3.0    East\n",
              "2   7919400   4.976734     Apartment  ...      1.0   3.0    East\n",
              "4   3808709   4.744932     Apartment  ...      0.0   1.0    East\n",
              "5  12422935   4.442651     Apartment  ...      1.0   1.0    West\n",
              "7  13971273   4.787492         other  ...      1.0   1.0    West\n",
              "\n",
              "[5 rows x 27 columns]"
            ]
          },
          "metadata": {
            "tags": []
          },
          "execution_count": 11
        }
      ]
    },
    {
      "cell_type": "code",
      "metadata": {
        "colab": {
          "base_uri": "https://localhost:8080/",
          "height": 530
        },
        "id": "YjFDyE46tBMz",
        "outputId": "366e42d5-fd6c-4cf6-b3d0-68cb660ecff6"
      },
      "source": [
        "replaceStruct = {\n",
        "                \"cleaning_fee\":     {True: 1, False: 0},\n",
        "                \"instant_bookable\":     {\"t\": 1, \"f\": 0},\n",
        "                \"host_has_profile_pic\":     {\"t\": 1, \"f\": 0},\n",
        "                \"host_identity_verified\":     {\"t\": 1, \"f\": 0},\n",
        "                 \"property_type\":     {\"Apartment\": 1, \"other\": 2},\n",
        "                    }\n",
        "\n",
        "pdata=pdata.replace(replaceStruct)\n",
        "pdata.head()"
      ],
      "execution_count": 12,
      "outputs": [
        {
          "output_type": "execute_result",
          "data": {
            "text/html": [
              "<div>\n",
              "<style scoped>\n",
              "    .dataframe tbody tr th:only-of-type {\n",
              "        vertical-align: middle;\n",
              "    }\n",
              "\n",
              "    .dataframe tbody tr th {\n",
              "        vertical-align: top;\n",
              "    }\n",
              "\n",
              "    .dataframe thead th {\n",
              "        text-align: right;\n",
              "    }\n",
              "</style>\n",
              "<table border=\"1\" class=\"dataframe\">\n",
              "  <thead>\n",
              "    <tr style=\"text-align: right;\">\n",
              "      <th></th>\n",
              "      <th>id</th>\n",
              "      <th>log_price</th>\n",
              "      <th>property_type</th>\n",
              "      <th>room_type</th>\n",
              "      <th>accommodates</th>\n",
              "      <th>bathrooms</th>\n",
              "      <th>bed_type</th>\n",
              "      <th>cancellation_policy</th>\n",
              "      <th>cleaning_fee</th>\n",
              "      <th>city</th>\n",
              "      <th>description</th>\n",
              "      <th>first_review</th>\n",
              "      <th>host_has_profile_pic</th>\n",
              "      <th>host_identity_verified</th>\n",
              "      <th>host_response_rate</th>\n",
              "      <th>host_since</th>\n",
              "      <th>instant_bookable</th>\n",
              "      <th>last_review</th>\n",
              "      <th>latitude</th>\n",
              "      <th>longitude</th>\n",
              "      <th>neighbourhood</th>\n",
              "      <th>number_of_reviews</th>\n",
              "      <th>review_scores_rating</th>\n",
              "      <th>zipcode</th>\n",
              "      <th>bedrooms</th>\n",
              "      <th>beds</th>\n",
              "      <th>region</th>\n",
              "    </tr>\n",
              "  </thead>\n",
              "  <tbody>\n",
              "    <tr>\n",
              "      <th>1</th>\n",
              "      <td>6304928</td>\n",
              "      <td>5.129899</td>\n",
              "      <td>1</td>\n",
              "      <td>Entire home/apt</td>\n",
              "      <td>7</td>\n",
              "      <td>1.0</td>\n",
              "      <td>Real Bed</td>\n",
              "      <td>strict</td>\n",
              "      <td>1</td>\n",
              "      <td>NYC</td>\n",
              "      <td>Enjoy travelling during your stay in Manhattan...</td>\n",
              "      <td>8/5/2017</td>\n",
              "      <td>1</td>\n",
              "      <td>0</td>\n",
              "      <td>100%</td>\n",
              "      <td>6/19/2017</td>\n",
              "      <td>1</td>\n",
              "      <td>9/23/2017</td>\n",
              "      <td>40.766115</td>\n",
              "      <td>-73.989040</td>\n",
              "      <td>Hell's Kitchen</td>\n",
              "      <td>6</td>\n",
              "      <td>93.0</td>\n",
              "      <td>10019</td>\n",
              "      <td>3.0</td>\n",
              "      <td>3.0</td>\n",
              "      <td>East</td>\n",
              "    </tr>\n",
              "    <tr>\n",
              "      <th>2</th>\n",
              "      <td>7919400</td>\n",
              "      <td>4.976734</td>\n",
              "      <td>1</td>\n",
              "      <td>Entire home/apt</td>\n",
              "      <td>5</td>\n",
              "      <td>1.0</td>\n",
              "      <td>Real Bed</td>\n",
              "      <td>moderate</td>\n",
              "      <td>1</td>\n",
              "      <td>NYC</td>\n",
              "      <td>The Oasis comes complete with a full backyard ...</td>\n",
              "      <td>4/30/2017</td>\n",
              "      <td>1</td>\n",
              "      <td>1</td>\n",
              "      <td>100%</td>\n",
              "      <td>10/25/2016</td>\n",
              "      <td>1</td>\n",
              "      <td>9/14/2017</td>\n",
              "      <td>40.808110</td>\n",
              "      <td>-73.943756</td>\n",
              "      <td>Harlem</td>\n",
              "      <td>10</td>\n",
              "      <td>92.0</td>\n",
              "      <td>10027</td>\n",
              "      <td>1.0</td>\n",
              "      <td>3.0</td>\n",
              "      <td>East</td>\n",
              "    </tr>\n",
              "    <tr>\n",
              "      <th>4</th>\n",
              "      <td>3808709</td>\n",
              "      <td>4.744932</td>\n",
              "      <td>1</td>\n",
              "      <td>Entire home/apt</td>\n",
              "      <td>2</td>\n",
              "      <td>1.0</td>\n",
              "      <td>Real Bed</td>\n",
              "      <td>moderate</td>\n",
              "      <td>1</td>\n",
              "      <td>DC</td>\n",
              "      <td>Cool, cozy, and comfortable studio located in ...</td>\n",
              "      <td>5/12/2015</td>\n",
              "      <td>1</td>\n",
              "      <td>1</td>\n",
              "      <td>100%</td>\n",
              "      <td>3/1/2015</td>\n",
              "      <td>1</td>\n",
              "      <td>1/22/2017</td>\n",
              "      <td>38.925627</td>\n",
              "      <td>-77.034596</td>\n",
              "      <td>Columbia Heights</td>\n",
              "      <td>4</td>\n",
              "      <td>40.0</td>\n",
              "      <td>20009</td>\n",
              "      <td>0.0</td>\n",
              "      <td>1.0</td>\n",
              "      <td>East</td>\n",
              "    </tr>\n",
              "    <tr>\n",
              "      <th>5</th>\n",
              "      <td>12422935</td>\n",
              "      <td>4.442651</td>\n",
              "      <td>1</td>\n",
              "      <td>Private room</td>\n",
              "      <td>2</td>\n",
              "      <td>1.0</td>\n",
              "      <td>Real Bed</td>\n",
              "      <td>strict</td>\n",
              "      <td>1</td>\n",
              "      <td>SF</td>\n",
              "      <td>Beautiful private room overlooking scenic view...</td>\n",
              "      <td>8/27/2017</td>\n",
              "      <td>1</td>\n",
              "      <td>1</td>\n",
              "      <td>100%</td>\n",
              "      <td>6/7/2017</td>\n",
              "      <td>1</td>\n",
              "      <td>9/5/2017</td>\n",
              "      <td>37.753164</td>\n",
              "      <td>-122.429526</td>\n",
              "      <td>Noe Valley</td>\n",
              "      <td>3</td>\n",
              "      <td>100.0</td>\n",
              "      <td>94131</td>\n",
              "      <td>1.0</td>\n",
              "      <td>1.0</td>\n",
              "      <td>West</td>\n",
              "    </tr>\n",
              "    <tr>\n",
              "      <th>7</th>\n",
              "      <td>13971273</td>\n",
              "      <td>4.787492</td>\n",
              "      <td>2</td>\n",
              "      <td>Entire home/apt</td>\n",
              "      <td>2</td>\n",
              "      <td>1.0</td>\n",
              "      <td>Real Bed</td>\n",
              "      <td>moderate</td>\n",
              "      <td>1</td>\n",
              "      <td>LA</td>\n",
              "      <td>Arguably the best location (and safest) in dow...</td>\n",
              "      <td>12/16/2016</td>\n",
              "      <td>1</td>\n",
              "      <td>1</td>\n",
              "      <td>100%</td>\n",
              "      <td>5/18/2013</td>\n",
              "      <td>0</td>\n",
              "      <td>4/12/2017</td>\n",
              "      <td>34.046737</td>\n",
              "      <td>-118.260439</td>\n",
              "      <td>Downtown</td>\n",
              "      <td>9</td>\n",
              "      <td>93.0</td>\n",
              "      <td>90015</td>\n",
              "      <td>1.0</td>\n",
              "      <td>1.0</td>\n",
              "      <td>West</td>\n",
              "    </tr>\n",
              "  </tbody>\n",
              "</table>\n",
              "</div>"
            ],
            "text/plain": [
              "         id  log_price  property_type  ... bedrooms  beds  region\n",
              "1   6304928   5.129899              1  ...      3.0   3.0    East\n",
              "2   7919400   4.976734              1  ...      1.0   3.0    East\n",
              "4   3808709   4.744932              1  ...      0.0   1.0    East\n",
              "5  12422935   4.442651              1  ...      1.0   1.0    West\n",
              "7  13971273   4.787492              2  ...      1.0   1.0    West\n",
              "\n",
              "[5 rows x 27 columns]"
            ]
          },
          "metadata": {
            "tags": []
          },
          "execution_count": 12
        }
      ]
    },
    {
      "cell_type": "code",
      "metadata": {
        "colab": {
          "base_uri": "https://localhost:8080/"
        },
        "id": "WJvXCpeXtBMz",
        "outputId": "9ea502b1-dbd2-4086-a7f5-d34b1d5aa26d"
      },
      "source": [
        "pdata.nunique()"
      ],
      "execution_count": 13,
      "outputs": [
        {
          "output_type": "execute_result",
          "data": {
            "text/plain": [
              "id                        42775\n",
              "log_price                   643\n",
              "property_type                 2\n",
              "room_type                     3\n",
              "accommodates                 16\n",
              "bathrooms                    17\n",
              "bed_type                      5\n",
              "cancellation_policy           5\n",
              "cleaning_fee                  2\n",
              "city                          6\n",
              "description               42424\n",
              "first_review               2489\n",
              "host_has_profile_pic          2\n",
              "host_identity_verified        2\n",
              "host_response_rate           77\n",
              "host_since                 3000\n",
              "instant_bookable              2\n",
              "last_review                1100\n",
              "latitude                  42758\n",
              "longitude                 42734\n",
              "neighbourhood               590\n",
              "number_of_reviews           367\n",
              "review_scores_rating         53\n",
              "zipcode                     577\n",
              "bedrooms                     11\n",
              "beds                         18\n",
              "region                        2\n",
              "dtype: int64"
            ]
          },
          "metadata": {
            "tags": []
          },
          "execution_count": 13
        }
      ]
    },
    {
      "cell_type": "code",
      "metadata": {
        "colab": {
          "base_uri": "https://localhost:8080/",
          "height": 396
        },
        "id": "_r7bp7i1tBM0",
        "outputId": "9417f618-7a5e-489f-8a34-66a13ed1013c"
      },
      "source": [
        "oneHotCols=[\"room_type\",\"bed_type\",\"city\",\"cancellation_policy\",\"cleaning_fee\",\"region\"]\n",
        "pdata.drop(['description','host_response_rate','first_review','host_since','last_review','zipcode','id','latitude','longitude','neighbourhood'], axis=1, inplace=True)\n",
        "pdata=pd.get_dummies(pdata, columns=oneHotCols)\n",
        "pdata.head(10)"
      ],
      "execution_count": 14,
      "outputs": [
        {
          "output_type": "execute_result",
          "data": {
            "text/html": [
              "<div>\n",
              "<style scoped>\n",
              "    .dataframe tbody tr th:only-of-type {\n",
              "        vertical-align: middle;\n",
              "    }\n",
              "\n",
              "    .dataframe tbody tr th {\n",
              "        vertical-align: top;\n",
              "    }\n",
              "\n",
              "    .dataframe thead th {\n",
              "        text-align: right;\n",
              "    }\n",
              "</style>\n",
              "<table border=\"1\" class=\"dataframe\">\n",
              "  <thead>\n",
              "    <tr style=\"text-align: right;\">\n",
              "      <th></th>\n",
              "      <th>log_price</th>\n",
              "      <th>property_type</th>\n",
              "      <th>accommodates</th>\n",
              "      <th>bathrooms</th>\n",
              "      <th>host_has_profile_pic</th>\n",
              "      <th>host_identity_verified</th>\n",
              "      <th>instant_bookable</th>\n",
              "      <th>number_of_reviews</th>\n",
              "      <th>review_scores_rating</th>\n",
              "      <th>bedrooms</th>\n",
              "      <th>beds</th>\n",
              "      <th>room_type_Entire home/apt</th>\n",
              "      <th>room_type_Private room</th>\n",
              "      <th>room_type_Shared room</th>\n",
              "      <th>bed_type_Airbed</th>\n",
              "      <th>bed_type_Couch</th>\n",
              "      <th>bed_type_Futon</th>\n",
              "      <th>bed_type_Pull-out Sofa</th>\n",
              "      <th>bed_type_Real Bed</th>\n",
              "      <th>city_Boston</th>\n",
              "      <th>city_Chicago</th>\n",
              "      <th>city_DC</th>\n",
              "      <th>city_LA</th>\n",
              "      <th>city_NYC</th>\n",
              "      <th>city_SF</th>\n",
              "      <th>cancellation_policy_flexible</th>\n",
              "      <th>cancellation_policy_moderate</th>\n",
              "      <th>cancellation_policy_strict</th>\n",
              "      <th>cancellation_policy_super_strict_30</th>\n",
              "      <th>cancellation_policy_super_strict_60</th>\n",
              "      <th>cleaning_fee_0</th>\n",
              "      <th>cleaning_fee_1</th>\n",
              "      <th>region_West</th>\n",
              "      <th>region_East</th>\n",
              "    </tr>\n",
              "  </thead>\n",
              "  <tbody>\n",
              "    <tr>\n",
              "      <th>1</th>\n",
              "      <td>5.129899</td>\n",
              "      <td>1</td>\n",
              "      <td>7</td>\n",
              "      <td>1.0</td>\n",
              "      <td>1</td>\n",
              "      <td>0</td>\n",
              "      <td>1</td>\n",
              "      <td>6</td>\n",
              "      <td>93.0</td>\n",
              "      <td>3.0</td>\n",
              "      <td>3.0</td>\n",
              "      <td>1</td>\n",
              "      <td>0</td>\n",
              "      <td>0</td>\n",
              "      <td>0</td>\n",
              "      <td>0</td>\n",
              "      <td>0</td>\n",
              "      <td>0</td>\n",
              "      <td>1</td>\n",
              "      <td>0</td>\n",
              "      <td>0</td>\n",
              "      <td>0</td>\n",
              "      <td>0</td>\n",
              "      <td>1</td>\n",
              "      <td>0</td>\n",
              "      <td>0</td>\n",
              "      <td>0</td>\n",
              "      <td>1</td>\n",
              "      <td>0</td>\n",
              "      <td>0</td>\n",
              "      <td>0</td>\n",
              "      <td>1</td>\n",
              "      <td>0</td>\n",
              "      <td>1</td>\n",
              "    </tr>\n",
              "    <tr>\n",
              "      <th>2</th>\n",
              "      <td>4.976734</td>\n",
              "      <td>1</td>\n",
              "      <td>5</td>\n",
              "      <td>1.0</td>\n",
              "      <td>1</td>\n",
              "      <td>1</td>\n",
              "      <td>1</td>\n",
              "      <td>10</td>\n",
              "      <td>92.0</td>\n",
              "      <td>1.0</td>\n",
              "      <td>3.0</td>\n",
              "      <td>1</td>\n",
              "      <td>0</td>\n",
              "      <td>0</td>\n",
              "      <td>0</td>\n",
              "      <td>0</td>\n",
              "      <td>0</td>\n",
              "      <td>0</td>\n",
              "      <td>1</td>\n",
              "      <td>0</td>\n",
              "      <td>0</td>\n",
              "      <td>0</td>\n",
              "      <td>0</td>\n",
              "      <td>1</td>\n",
              "      <td>0</td>\n",
              "      <td>0</td>\n",
              "      <td>1</td>\n",
              "      <td>0</td>\n",
              "      <td>0</td>\n",
              "      <td>0</td>\n",
              "      <td>0</td>\n",
              "      <td>1</td>\n",
              "      <td>0</td>\n",
              "      <td>1</td>\n",
              "    </tr>\n",
              "    <tr>\n",
              "      <th>4</th>\n",
              "      <td>4.744932</td>\n",
              "      <td>1</td>\n",
              "      <td>2</td>\n",
              "      <td>1.0</td>\n",
              "      <td>1</td>\n",
              "      <td>1</td>\n",
              "      <td>1</td>\n",
              "      <td>4</td>\n",
              "      <td>40.0</td>\n",
              "      <td>0.0</td>\n",
              "      <td>1.0</td>\n",
              "      <td>1</td>\n",
              "      <td>0</td>\n",
              "      <td>0</td>\n",
              "      <td>0</td>\n",
              "      <td>0</td>\n",
              "      <td>0</td>\n",
              "      <td>0</td>\n",
              "      <td>1</td>\n",
              "      <td>0</td>\n",
              "      <td>0</td>\n",
              "      <td>1</td>\n",
              "      <td>0</td>\n",
              "      <td>0</td>\n",
              "      <td>0</td>\n",
              "      <td>0</td>\n",
              "      <td>1</td>\n",
              "      <td>0</td>\n",
              "      <td>0</td>\n",
              "      <td>0</td>\n",
              "      <td>0</td>\n",
              "      <td>1</td>\n",
              "      <td>0</td>\n",
              "      <td>1</td>\n",
              "    </tr>\n",
              "    <tr>\n",
              "      <th>5</th>\n",
              "      <td>4.442651</td>\n",
              "      <td>1</td>\n",
              "      <td>2</td>\n",
              "      <td>1.0</td>\n",
              "      <td>1</td>\n",
              "      <td>1</td>\n",
              "      <td>1</td>\n",
              "      <td>3</td>\n",
              "      <td>100.0</td>\n",
              "      <td>1.0</td>\n",
              "      <td>1.0</td>\n",
              "      <td>0</td>\n",
              "      <td>1</td>\n",
              "      <td>0</td>\n",
              "      <td>0</td>\n",
              "      <td>0</td>\n",
              "      <td>0</td>\n",
              "      <td>0</td>\n",
              "      <td>1</td>\n",
              "      <td>0</td>\n",
              "      <td>0</td>\n",
              "      <td>0</td>\n",
              "      <td>0</td>\n",
              "      <td>0</td>\n",
              "      <td>1</td>\n",
              "      <td>0</td>\n",
              "      <td>0</td>\n",
              "      <td>1</td>\n",
              "      <td>0</td>\n",
              "      <td>0</td>\n",
              "      <td>0</td>\n",
              "      <td>1</td>\n",
              "      <td>1</td>\n",
              "      <td>0</td>\n",
              "    </tr>\n",
              "    <tr>\n",
              "      <th>7</th>\n",
              "      <td>4.787492</td>\n",
              "      <td>2</td>\n",
              "      <td>2</td>\n",
              "      <td>1.0</td>\n",
              "      <td>1</td>\n",
              "      <td>1</td>\n",
              "      <td>0</td>\n",
              "      <td>9</td>\n",
              "      <td>93.0</td>\n",
              "      <td>1.0</td>\n",
              "      <td>1.0</td>\n",
              "      <td>1</td>\n",
              "      <td>0</td>\n",
              "      <td>0</td>\n",
              "      <td>0</td>\n",
              "      <td>0</td>\n",
              "      <td>0</td>\n",
              "      <td>0</td>\n",
              "      <td>1</td>\n",
              "      <td>0</td>\n",
              "      <td>0</td>\n",
              "      <td>0</td>\n",
              "      <td>1</td>\n",
              "      <td>0</td>\n",
              "      <td>0</td>\n",
              "      <td>0</td>\n",
              "      <td>1</td>\n",
              "      <td>0</td>\n",
              "      <td>0</td>\n",
              "      <td>0</td>\n",
              "      <td>0</td>\n",
              "      <td>1</td>\n",
              "      <td>1</td>\n",
              "      <td>0</td>\n",
              "    </tr>\n",
              "    <tr>\n",
              "      <th>8</th>\n",
              "      <td>4.787492</td>\n",
              "      <td>2</td>\n",
              "      <td>2</td>\n",
              "      <td>1.0</td>\n",
              "      <td>1</td>\n",
              "      <td>0</td>\n",
              "      <td>0</td>\n",
              "      <td>159</td>\n",
              "      <td>99.0</td>\n",
              "      <td>1.0</td>\n",
              "      <td>1.0</td>\n",
              "      <td>0</td>\n",
              "      <td>1</td>\n",
              "      <td>0</td>\n",
              "      <td>0</td>\n",
              "      <td>0</td>\n",
              "      <td>0</td>\n",
              "      <td>0</td>\n",
              "      <td>1</td>\n",
              "      <td>0</td>\n",
              "      <td>0</td>\n",
              "      <td>0</td>\n",
              "      <td>0</td>\n",
              "      <td>0</td>\n",
              "      <td>1</td>\n",
              "      <td>0</td>\n",
              "      <td>1</td>\n",
              "      <td>0</td>\n",
              "      <td>0</td>\n",
              "      <td>0</td>\n",
              "      <td>0</td>\n",
              "      <td>1</td>\n",
              "      <td>1</td>\n",
              "      <td>0</td>\n",
              "    </tr>\n",
              "    <tr>\n",
              "      <th>10</th>\n",
              "      <td>4.605170</td>\n",
              "      <td>1</td>\n",
              "      <td>2</td>\n",
              "      <td>1.0</td>\n",
              "      <td>1</td>\n",
              "      <td>1</td>\n",
              "      <td>0</td>\n",
              "      <td>82</td>\n",
              "      <td>93.0</td>\n",
              "      <td>1.0</td>\n",
              "      <td>1.0</td>\n",
              "      <td>0</td>\n",
              "      <td>1</td>\n",
              "      <td>0</td>\n",
              "      <td>0</td>\n",
              "      <td>0</td>\n",
              "      <td>0</td>\n",
              "      <td>0</td>\n",
              "      <td>1</td>\n",
              "      <td>0</td>\n",
              "      <td>0</td>\n",
              "      <td>0</td>\n",
              "      <td>0</td>\n",
              "      <td>1</td>\n",
              "      <td>0</td>\n",
              "      <td>0</td>\n",
              "      <td>0</td>\n",
              "      <td>1</td>\n",
              "      <td>0</td>\n",
              "      <td>0</td>\n",
              "      <td>0</td>\n",
              "      <td>1</td>\n",
              "      <td>0</td>\n",
              "      <td>1</td>\n",
              "    </tr>\n",
              "    <tr>\n",
              "      <th>11</th>\n",
              "      <td>5.010635</td>\n",
              "      <td>2</td>\n",
              "      <td>4</td>\n",
              "      <td>1.5</td>\n",
              "      <td>1</td>\n",
              "      <td>1</td>\n",
              "      <td>0</td>\n",
              "      <td>29</td>\n",
              "      <td>97.0</td>\n",
              "      <td>2.0</td>\n",
              "      <td>2.0</td>\n",
              "      <td>1</td>\n",
              "      <td>0</td>\n",
              "      <td>0</td>\n",
              "      <td>0</td>\n",
              "      <td>0</td>\n",
              "      <td>0</td>\n",
              "      <td>0</td>\n",
              "      <td>1</td>\n",
              "      <td>0</td>\n",
              "      <td>0</td>\n",
              "      <td>0</td>\n",
              "      <td>1</td>\n",
              "      <td>0</td>\n",
              "      <td>0</td>\n",
              "      <td>0</td>\n",
              "      <td>0</td>\n",
              "      <td>1</td>\n",
              "      <td>0</td>\n",
              "      <td>0</td>\n",
              "      <td>0</td>\n",
              "      <td>1</td>\n",
              "      <td>1</td>\n",
              "      <td>0</td>\n",
              "    </tr>\n",
              "    <tr>\n",
              "      <th>13</th>\n",
              "      <td>5.298317</td>\n",
              "      <td>1</td>\n",
              "      <td>6</td>\n",
              "      <td>1.5</td>\n",
              "      <td>1</td>\n",
              "      <td>1</td>\n",
              "      <td>1</td>\n",
              "      <td>13</td>\n",
              "      <td>89.0</td>\n",
              "      <td>2.0</td>\n",
              "      <td>3.0</td>\n",
              "      <td>1</td>\n",
              "      <td>0</td>\n",
              "      <td>0</td>\n",
              "      <td>0</td>\n",
              "      <td>0</td>\n",
              "      <td>0</td>\n",
              "      <td>0</td>\n",
              "      <td>1</td>\n",
              "      <td>0</td>\n",
              "      <td>0</td>\n",
              "      <td>1</td>\n",
              "      <td>0</td>\n",
              "      <td>0</td>\n",
              "      <td>0</td>\n",
              "      <td>0</td>\n",
              "      <td>0</td>\n",
              "      <td>1</td>\n",
              "      <td>0</td>\n",
              "      <td>0</td>\n",
              "      <td>0</td>\n",
              "      <td>1</td>\n",
              "      <td>0</td>\n",
              "      <td>1</td>\n",
              "    </tr>\n",
              "    <tr>\n",
              "      <th>17</th>\n",
              "      <td>4.595120</td>\n",
              "      <td>2</td>\n",
              "      <td>2</td>\n",
              "      <td>2.0</td>\n",
              "      <td>1</td>\n",
              "      <td>1</td>\n",
              "      <td>0</td>\n",
              "      <td>12</td>\n",
              "      <td>88.0</td>\n",
              "      <td>1.0</td>\n",
              "      <td>1.0</td>\n",
              "      <td>0</td>\n",
              "      <td>1</td>\n",
              "      <td>0</td>\n",
              "      <td>0</td>\n",
              "      <td>0</td>\n",
              "      <td>0</td>\n",
              "      <td>0</td>\n",
              "      <td>1</td>\n",
              "      <td>1</td>\n",
              "      <td>0</td>\n",
              "      <td>0</td>\n",
              "      <td>0</td>\n",
              "      <td>0</td>\n",
              "      <td>0</td>\n",
              "      <td>0</td>\n",
              "      <td>0</td>\n",
              "      <td>1</td>\n",
              "      <td>0</td>\n",
              "      <td>0</td>\n",
              "      <td>0</td>\n",
              "      <td>1</td>\n",
              "      <td>0</td>\n",
              "      <td>1</td>\n",
              "    </tr>\n",
              "  </tbody>\n",
              "</table>\n",
              "</div>"
            ],
            "text/plain": [
              "    log_price  property_type  ...  region_West  region_East\n",
              "1    5.129899              1  ...            0            1\n",
              "2    4.976734              1  ...            0            1\n",
              "4    4.744932              1  ...            0            1\n",
              "5    4.442651              1  ...            1            0\n",
              "7    4.787492              2  ...            1            0\n",
              "8    4.787492              2  ...            1            0\n",
              "10   4.605170              1  ...            0            1\n",
              "11   5.010635              2  ...            1            0\n",
              "13   5.298317              1  ...            0            1\n",
              "17   4.595120              2  ...            0            1\n",
              "\n",
              "[10 rows x 34 columns]"
            ]
          },
          "metadata": {
            "tags": []
          },
          "execution_count": 14
        }
      ]
    },
    {
      "cell_type": "code",
      "metadata": {
        "colab": {
          "base_uri": "https://localhost:8080/",
          "height": 241
        },
        "id": "frpRdqONtBM1",
        "outputId": "3d12b038-c7dc-4685-fc33-a1b63a1e5d9a"
      },
      "source": [
        "\n",
        "X = pdata.drop('property_type',axis=1)     \n",
        "Y = pdata['property_type']\n",
        "\n",
        "x_train, x_test, y_train, y_test = train_test_split(X, Y, test_size=0.2, random_state=1)\n",
        "\n",
        "x_train.head()"
      ],
      "execution_count": 15,
      "outputs": [
        {
          "output_type": "execute_result",
          "data": {
            "text/html": [
              "<div>\n",
              "<style scoped>\n",
              "    .dataframe tbody tr th:only-of-type {\n",
              "        vertical-align: middle;\n",
              "    }\n",
              "\n",
              "    .dataframe tbody tr th {\n",
              "        vertical-align: top;\n",
              "    }\n",
              "\n",
              "    .dataframe thead th {\n",
              "        text-align: right;\n",
              "    }\n",
              "</style>\n",
              "<table border=\"1\" class=\"dataframe\">\n",
              "  <thead>\n",
              "    <tr style=\"text-align: right;\">\n",
              "      <th></th>\n",
              "      <th>log_price</th>\n",
              "      <th>accommodates</th>\n",
              "      <th>bathrooms</th>\n",
              "      <th>host_has_profile_pic</th>\n",
              "      <th>host_identity_verified</th>\n",
              "      <th>instant_bookable</th>\n",
              "      <th>number_of_reviews</th>\n",
              "      <th>review_scores_rating</th>\n",
              "      <th>bedrooms</th>\n",
              "      <th>beds</th>\n",
              "      <th>room_type_Entire home/apt</th>\n",
              "      <th>room_type_Private room</th>\n",
              "      <th>room_type_Shared room</th>\n",
              "      <th>bed_type_Airbed</th>\n",
              "      <th>bed_type_Couch</th>\n",
              "      <th>bed_type_Futon</th>\n",
              "      <th>bed_type_Pull-out Sofa</th>\n",
              "      <th>bed_type_Real Bed</th>\n",
              "      <th>city_Boston</th>\n",
              "      <th>city_Chicago</th>\n",
              "      <th>city_DC</th>\n",
              "      <th>city_LA</th>\n",
              "      <th>city_NYC</th>\n",
              "      <th>city_SF</th>\n",
              "      <th>cancellation_policy_flexible</th>\n",
              "      <th>cancellation_policy_moderate</th>\n",
              "      <th>cancellation_policy_strict</th>\n",
              "      <th>cancellation_policy_super_strict_30</th>\n",
              "      <th>cancellation_policy_super_strict_60</th>\n",
              "      <th>cleaning_fee_0</th>\n",
              "      <th>cleaning_fee_1</th>\n",
              "      <th>region_West</th>\n",
              "      <th>region_East</th>\n",
              "    </tr>\n",
              "  </thead>\n",
              "  <tbody>\n",
              "    <tr>\n",
              "      <th>36694</th>\n",
              "      <td>4.521789</td>\n",
              "      <td>2</td>\n",
              "      <td>1.0</td>\n",
              "      <td>1</td>\n",
              "      <td>1</td>\n",
              "      <td>0</td>\n",
              "      <td>153</td>\n",
              "      <td>99.0</td>\n",
              "      <td>1.0</td>\n",
              "      <td>1.0</td>\n",
              "      <td>0</td>\n",
              "      <td>1</td>\n",
              "      <td>0</td>\n",
              "      <td>0</td>\n",
              "      <td>0</td>\n",
              "      <td>0</td>\n",
              "      <td>0</td>\n",
              "      <td>1</td>\n",
              "      <td>0</td>\n",
              "      <td>0</td>\n",
              "      <td>0</td>\n",
              "      <td>1</td>\n",
              "      <td>0</td>\n",
              "      <td>0</td>\n",
              "      <td>1</td>\n",
              "      <td>0</td>\n",
              "      <td>0</td>\n",
              "      <td>0</td>\n",
              "      <td>0</td>\n",
              "      <td>0</td>\n",
              "      <td>1</td>\n",
              "      <td>1</td>\n",
              "      <td>0</td>\n",
              "    </tr>\n",
              "    <tr>\n",
              "      <th>50548</th>\n",
              "      <td>5.010635</td>\n",
              "      <td>3</td>\n",
              "      <td>1.0</td>\n",
              "      <td>1</td>\n",
              "      <td>1</td>\n",
              "      <td>0</td>\n",
              "      <td>10</td>\n",
              "      <td>100.0</td>\n",
              "      <td>1.0</td>\n",
              "      <td>2.0</td>\n",
              "      <td>1</td>\n",
              "      <td>0</td>\n",
              "      <td>0</td>\n",
              "      <td>0</td>\n",
              "      <td>0</td>\n",
              "      <td>0</td>\n",
              "      <td>0</td>\n",
              "      <td>1</td>\n",
              "      <td>0</td>\n",
              "      <td>0</td>\n",
              "      <td>1</td>\n",
              "      <td>0</td>\n",
              "      <td>0</td>\n",
              "      <td>0</td>\n",
              "      <td>0</td>\n",
              "      <td>1</td>\n",
              "      <td>0</td>\n",
              "      <td>0</td>\n",
              "      <td>0</td>\n",
              "      <td>0</td>\n",
              "      <td>1</td>\n",
              "      <td>0</td>\n",
              "      <td>1</td>\n",
              "    </tr>\n",
              "    <tr>\n",
              "      <th>7142</th>\n",
              "      <td>4.094345</td>\n",
              "      <td>2</td>\n",
              "      <td>1.0</td>\n",
              "      <td>1</td>\n",
              "      <td>1</td>\n",
              "      <td>0</td>\n",
              "      <td>34</td>\n",
              "      <td>92.0</td>\n",
              "      <td>1.0</td>\n",
              "      <td>1.0</td>\n",
              "      <td>0</td>\n",
              "      <td>1</td>\n",
              "      <td>0</td>\n",
              "      <td>0</td>\n",
              "      <td>0</td>\n",
              "      <td>0</td>\n",
              "      <td>0</td>\n",
              "      <td>1</td>\n",
              "      <td>0</td>\n",
              "      <td>0</td>\n",
              "      <td>0</td>\n",
              "      <td>0</td>\n",
              "      <td>1</td>\n",
              "      <td>0</td>\n",
              "      <td>0</td>\n",
              "      <td>1</td>\n",
              "      <td>0</td>\n",
              "      <td>0</td>\n",
              "      <td>0</td>\n",
              "      <td>1</td>\n",
              "      <td>0</td>\n",
              "      <td>0</td>\n",
              "      <td>1</td>\n",
              "    </tr>\n",
              "    <tr>\n",
              "      <th>36775</th>\n",
              "      <td>5.634790</td>\n",
              "      <td>2</td>\n",
              "      <td>1.0</td>\n",
              "      <td>1</td>\n",
              "      <td>0</td>\n",
              "      <td>1</td>\n",
              "      <td>3</td>\n",
              "      <td>87.0</td>\n",
              "      <td>0.0</td>\n",
              "      <td>1.0</td>\n",
              "      <td>1</td>\n",
              "      <td>0</td>\n",
              "      <td>0</td>\n",
              "      <td>0</td>\n",
              "      <td>0</td>\n",
              "      <td>0</td>\n",
              "      <td>0</td>\n",
              "      <td>1</td>\n",
              "      <td>1</td>\n",
              "      <td>0</td>\n",
              "      <td>0</td>\n",
              "      <td>0</td>\n",
              "      <td>0</td>\n",
              "      <td>0</td>\n",
              "      <td>1</td>\n",
              "      <td>0</td>\n",
              "      <td>0</td>\n",
              "      <td>0</td>\n",
              "      <td>0</td>\n",
              "      <td>1</td>\n",
              "      <td>0</td>\n",
              "      <td>0</td>\n",
              "      <td>1</td>\n",
              "    </tr>\n",
              "    <tr>\n",
              "      <th>65349</th>\n",
              "      <td>5.393628</td>\n",
              "      <td>4</td>\n",
              "      <td>1.0</td>\n",
              "      <td>1</td>\n",
              "      <td>1</td>\n",
              "      <td>0</td>\n",
              "      <td>3</td>\n",
              "      <td>100.0</td>\n",
              "      <td>1.0</td>\n",
              "      <td>1.0</td>\n",
              "      <td>0</td>\n",
              "      <td>1</td>\n",
              "      <td>0</td>\n",
              "      <td>0</td>\n",
              "      <td>0</td>\n",
              "      <td>1</td>\n",
              "      <td>0</td>\n",
              "      <td>0</td>\n",
              "      <td>0</td>\n",
              "      <td>0</td>\n",
              "      <td>0</td>\n",
              "      <td>0</td>\n",
              "      <td>1</td>\n",
              "      <td>0</td>\n",
              "      <td>0</td>\n",
              "      <td>1</td>\n",
              "      <td>0</td>\n",
              "      <td>0</td>\n",
              "      <td>0</td>\n",
              "      <td>0</td>\n",
              "      <td>1</td>\n",
              "      <td>0</td>\n",
              "      <td>1</td>\n",
              "    </tr>\n",
              "  </tbody>\n",
              "</table>\n",
              "</div>"
            ],
            "text/plain": [
              "       log_price  accommodates  ...  region_West  region_East\n",
              "36694   4.521789             2  ...            1            0\n",
              "50548   5.010635             3  ...            0            1\n",
              "7142    4.094345             2  ...            0            1\n",
              "36775   5.634790             2  ...            0            1\n",
              "65349   5.393628             4  ...            0            1\n",
              "\n",
              "[5 rows x 33 columns]"
            ]
          },
          "metadata": {
            "tags": []
          },
          "execution_count": 15
        }
      ]
    },
    {
      "cell_type": "code",
      "metadata": {
        "id": "rDFW0S8YtBM1"
      },
      "source": [
        "x_train.to_csv('/content/drive/My Drive/DLCP/datacolumns.csv',index=False)"
      ],
      "execution_count": 16,
      "outputs": []
    },
    {
      "cell_type": "code",
      "metadata": {
        "id": "PQhxGSyltBM2"
      },
      "source": [
        "from sklearn.preprocessing import StandardScaler\n",
        "ScaleObj = StandardScaler()\n",
        "ScaleObj.fit(x_train)\n",
        "\n",
        "X_train_scaled = ScaleObj.transform(x_train)\n",
        "X_test_scaled = ScaleObj.transform(x_test)"
      ],
      "execution_count": 17,
      "outputs": []
    },
    {
      "cell_type": "code",
      "metadata": {
        "colab": {
          "base_uri": "https://localhost:8080/"
        },
        "id": "D_C7avMrtBM2",
        "outputId": "e1e865e5-f154-440a-eda0-fda6964f0ebc"
      },
      "source": [
        "print(\"{0:0.2f}% data is in training set\".format((len(x_train)/len(pdata.index)) * 100))\n",
        "print(\"{0:0.2f}% data is in test set\".format((len(x_test)/len(pdata.index)) * 100))"
      ],
      "execution_count": 18,
      "outputs": [
        {
          "output_type": "stream",
          "text": [
            "80.00% data is in training set\n",
            "20.00% data is in test set\n"
          ],
          "name": "stdout"
        }
      ]
    },
    {
      "cell_type": "code",
      "metadata": {
        "id": "KZ3cIueUtBM6"
      },
      "source": [
        "modelGRID = LogisticRegression()\n",
        "\n",
        "parameters = {'penalty': ['l2'],\n",
        "             'C': [.001,.75,10],\n",
        "             'solver': ['newton-cg','liblinear','sag','saga'],\n",
        "              'max_iter':[100,500]\n",
        "            }"
      ],
      "execution_count": 19,
      "outputs": []
    },
    {
      "cell_type": "code",
      "metadata": {
        "colab": {
          "base_uri": "https://localhost:8080/"
        },
        "id": "linQ84S1tBM6",
        "outputId": "1528fcb2-e272-4c34-a08e-3934e1c8f470"
      },
      "source": [
        "from sklearn.model_selection import GridSearchCV\n",
        "gs = GridSearchCV(modelGRID,n_jobs=25,param_grid=parameters,cv=3,scoring='accuracy')\n",
        "gs.fit(X_train_scaled, y_train)\n",
        "gs.best_params_"
      ],
      "execution_count": 20,
      "outputs": [
        {
          "output_type": "execute_result",
          "data": {
            "text/plain": [
              "{'C': 0.001, 'max_iter': 100, 'penalty': 'l2', 'solver': 'liblinear'}"
            ]
          },
          "metadata": {
            "tags": []
          },
          "execution_count": 20
        }
      ]
    },
    {
      "cell_type": "code",
      "metadata": {
        "colab": {
          "base_uri": "https://localhost:8080/"
        },
        "id": "I_kLCddOtBM7",
        "outputId": "9a630d18-b8e1-4081-bb6d-9bbc494e6f8a"
      },
      "source": [
        "gs.cv_results_['params']"
      ],
      "execution_count": 21,
      "outputs": [
        {
          "output_type": "execute_result",
          "data": {
            "text/plain": [
              "[{'C': 0.001, 'max_iter': 100, 'penalty': 'l2', 'solver': 'newton-cg'},\n",
              " {'C': 0.001, 'max_iter': 100, 'penalty': 'l2', 'solver': 'liblinear'},\n",
              " {'C': 0.001, 'max_iter': 100, 'penalty': 'l2', 'solver': 'sag'},\n",
              " {'C': 0.001, 'max_iter': 100, 'penalty': 'l2', 'solver': 'saga'},\n",
              " {'C': 0.001, 'max_iter': 500, 'penalty': 'l2', 'solver': 'newton-cg'},\n",
              " {'C': 0.001, 'max_iter': 500, 'penalty': 'l2', 'solver': 'liblinear'},\n",
              " {'C': 0.001, 'max_iter': 500, 'penalty': 'l2', 'solver': 'sag'},\n",
              " {'C': 0.001, 'max_iter': 500, 'penalty': 'l2', 'solver': 'saga'},\n",
              " {'C': 0.75, 'max_iter': 100, 'penalty': 'l2', 'solver': 'newton-cg'},\n",
              " {'C': 0.75, 'max_iter': 100, 'penalty': 'l2', 'solver': 'liblinear'},\n",
              " {'C': 0.75, 'max_iter': 100, 'penalty': 'l2', 'solver': 'sag'},\n",
              " {'C': 0.75, 'max_iter': 100, 'penalty': 'l2', 'solver': 'saga'},\n",
              " {'C': 0.75, 'max_iter': 500, 'penalty': 'l2', 'solver': 'newton-cg'},\n",
              " {'C': 0.75, 'max_iter': 500, 'penalty': 'l2', 'solver': 'liblinear'},\n",
              " {'C': 0.75, 'max_iter': 500, 'penalty': 'l2', 'solver': 'sag'},\n",
              " {'C': 0.75, 'max_iter': 500, 'penalty': 'l2', 'solver': 'saga'},\n",
              " {'C': 10, 'max_iter': 100, 'penalty': 'l2', 'solver': 'newton-cg'},\n",
              " {'C': 10, 'max_iter': 100, 'penalty': 'l2', 'solver': 'liblinear'},\n",
              " {'C': 10, 'max_iter': 100, 'penalty': 'l2', 'solver': 'sag'},\n",
              " {'C': 10, 'max_iter': 100, 'penalty': 'l2', 'solver': 'saga'},\n",
              " {'C': 10, 'max_iter': 500, 'penalty': 'l2', 'solver': 'newton-cg'},\n",
              " {'C': 10, 'max_iter': 500, 'penalty': 'l2', 'solver': 'liblinear'},\n",
              " {'C': 10, 'max_iter': 500, 'penalty': 'l2', 'solver': 'sag'},\n",
              " {'C': 10, 'max_iter': 500, 'penalty': 'l2', 'solver': 'saga'}]"
            ]
          },
          "metadata": {
            "tags": []
          },
          "execution_count": 21
        }
      ]
    },
    {
      "cell_type": "code",
      "metadata": {
        "colab": {
          "base_uri": "https://localhost:8080/"
        },
        "id": "fm73POAXtBM7",
        "outputId": "9a766c2e-9615-45ff-e3cd-bfb88ee49010"
      },
      "source": [
        "gs.cv_results_['mean_test_score']"
      ],
      "execution_count": 22,
      "outputs": [
        {
          "output_type": "execute_result",
          "data": {
            "text/plain": [
              "array([0.73442426, 0.73734649, 0.73442426, 0.73442426, 0.73442426,\n",
              "       0.73734649, 0.73442426, 0.73442426, 0.73565161, 0.73565161,\n",
              "       0.73565161, 0.73565161, 0.73565161, 0.73565161, 0.73565161,\n",
              "       0.73565161, 0.73565161, 0.73565161, 0.73565161, 0.73565161,\n",
              "       0.73565161, 0.73565161, 0.73565161, 0.73565161])"
            ]
          },
          "metadata": {
            "tags": []
          },
          "execution_count": 22
        }
      ]
    },
    {
      "cell_type": "code",
      "metadata": {
        "colab": {
          "base_uri": "https://localhost:8080/"
        },
        "id": "yBSacK-itBM8",
        "outputId": "e8415f6a-f982-4d04-c6b7-ac9e3074e6f9"
      },
      "source": [
        "train_score=[]\n",
        "test_score=[]\n",
        "solver = ['newton-cg','liblinear','sag','saga']\n",
        "for i in solver:\n",
        "    model = LogisticRegression(random_state=42,penalty='l2', C = 0.001,solver=i, max_iter=100)  # changing values of solver\n",
        "    model.fit(X_train_scaled, y_train) \n",
        "    y_predict = model.predict(X_test_scaled)     \n",
        "    train_score.append(round(model.score(X_train_scaled, y_train),3))\n",
        "    test_score.append(round(model.score(X_test_scaled, y_test),3))\n",
        "    \n",
        "print(solver)\n",
        "print()\n",
        "print(train_score)\n",
        "print()\n",
        "print(test_score)"
      ],
      "execution_count": 23,
      "outputs": [
        {
          "output_type": "stream",
          "text": [
            "['newton-cg', 'liblinear', 'sag', 'saga']\n",
            "\n",
            "[0.736, 0.737, 0.736, 0.736]\n",
            "\n",
            "[0.732, 0.733, 0.732, 0.732]\n"
          ],
          "name": "stdout"
        }
      ]
    },
    {
      "cell_type": "code",
      "metadata": {
        "colab": {
          "base_uri": "https://localhost:8080/"
        },
        "id": "oDH9wIHItBM3",
        "outputId": "c65df541-2a4d-422b-e295-003ef62a1113"
      },
      "source": [
        "\n",
        "# Fit the model on train\n",
        "modelFIRST = LogisticRegression(random_state=42,penalty='l2', C = 0.001,solver='liblinear', max_iter=100)\n",
        "modelFIRST.fit(X_train_scaled, y_train)\n",
        "#predict on test\n",
        "y_predict = modelFIRST.predict(X_test_scaled)\n",
        "\n",
        "\n",
        "coef_df = pd.DataFrame(modelFIRST.coef_)\n",
        "coef_df['intercept'] = modelFIRST.intercept_\n",
        "print(coef_df)"
      ],
      "execution_count": 24,
      "outputs": [
        {
          "output_type": "stream",
          "text": [
            "          0         1         2  ...        31        32  intercept\n",
            "0 -0.054524  0.100291  0.285846  ...  0.182264 -0.182264  -0.622061\n",
            "\n",
            "[1 rows x 34 columns]\n"
          ],
          "name": "stdout"
        }
      ]
    },
    {
      "cell_type": "code",
      "metadata": {
        "id": "WI1VoySqtBM8"
      },
      "source": [
        "coef_df.to_csv('/content/drive/My Drive/DLCP/coefs.csv',index=False)"
      ],
      "execution_count": 25,
      "outputs": []
    },
    {
      "cell_type": "code",
      "metadata": {
        "colab": {
          "base_uri": "https://localhost:8080/",
          "height": 100
        },
        "id": "7-PtKpw2tBM3",
        "outputId": "f0b6f1c3-a91f-4ff6-a0f9-ade8f4a9fa4b"
      },
      "source": [
        "coef_df.head()"
      ],
      "execution_count": 26,
      "outputs": [
        {
          "output_type": "execute_result",
          "data": {
            "text/html": [
              "<div>\n",
              "<style scoped>\n",
              "    .dataframe tbody tr th:only-of-type {\n",
              "        vertical-align: middle;\n",
              "    }\n",
              "\n",
              "    .dataframe tbody tr th {\n",
              "        vertical-align: top;\n",
              "    }\n",
              "\n",
              "    .dataframe thead th {\n",
              "        text-align: right;\n",
              "    }\n",
              "</style>\n",
              "<table border=\"1\" class=\"dataframe\">\n",
              "  <thead>\n",
              "    <tr style=\"text-align: right;\">\n",
              "      <th></th>\n",
              "      <th>0</th>\n",
              "      <th>1</th>\n",
              "      <th>2</th>\n",
              "      <th>3</th>\n",
              "      <th>4</th>\n",
              "      <th>5</th>\n",
              "      <th>6</th>\n",
              "      <th>7</th>\n",
              "      <th>8</th>\n",
              "      <th>9</th>\n",
              "      <th>10</th>\n",
              "      <th>11</th>\n",
              "      <th>12</th>\n",
              "      <th>13</th>\n",
              "      <th>14</th>\n",
              "      <th>15</th>\n",
              "      <th>16</th>\n",
              "      <th>17</th>\n",
              "      <th>18</th>\n",
              "      <th>19</th>\n",
              "      <th>20</th>\n",
              "      <th>21</th>\n",
              "      <th>22</th>\n",
              "      <th>23</th>\n",
              "      <th>24</th>\n",
              "      <th>25</th>\n",
              "      <th>26</th>\n",
              "      <th>27</th>\n",
              "      <th>28</th>\n",
              "      <th>29</th>\n",
              "      <th>30</th>\n",
              "      <th>31</th>\n",
              "      <th>32</th>\n",
              "      <th>intercept</th>\n",
              "    </tr>\n",
              "  </thead>\n",
              "  <tbody>\n",
              "    <tr>\n",
              "      <th>0</th>\n",
              "      <td>-0.054524</td>\n",
              "      <td>0.100291</td>\n",
              "      <td>0.285846</td>\n",
              "      <td>0.000161</td>\n",
              "      <td>-0.026609</td>\n",
              "      <td>-0.030984</td>\n",
              "      <td>0.061898</td>\n",
              "      <td>0.083853</td>\n",
              "      <td>0.221841</td>\n",
              "      <td>0.102845</td>\n",
              "      <td>-0.228723</td>\n",
              "      <td>0.229613</td>\n",
              "      <td>0.0036</td>\n",
              "      <td>-0.013834</td>\n",
              "      <td>-0.024893</td>\n",
              "      <td>0.003977</td>\n",
              "      <td>-0.000786</td>\n",
              "      <td>0.011867</td>\n",
              "      <td>0.046743</td>\n",
              "      <td>-0.001896</td>\n",
              "      <td>0.187855</td>\n",
              "      <td>0.170399</td>\n",
              "      <td>-0.294344</td>\n",
              "      <td>0.040894</td>\n",
              "      <td>0.013616</td>\n",
              "      <td>0.028443</td>\n",
              "      <td>-0.034974</td>\n",
              "      <td>-0.031616</td>\n",
              "      <td>0.042893</td>\n",
              "      <td>0.003325</td>\n",
              "      <td>-0.003325</td>\n",
              "      <td>0.182264</td>\n",
              "      <td>-0.182264</td>\n",
              "      <td>-0.622061</td>\n",
              "    </tr>\n",
              "  </tbody>\n",
              "</table>\n",
              "</div>"
            ],
            "text/plain": [
              "          0         1         2  ...        31        32  intercept\n",
              "0 -0.054524  0.100291  0.285846  ...  0.182264 -0.182264  -0.622061\n",
              "\n",
              "[1 rows x 34 columns]"
            ]
          },
          "metadata": {
            "tags": []
          },
          "execution_count": 26
        }
      ]
    },
    {
      "cell_type": "code",
      "metadata": {
        "colab": {
          "base_uri": "https://localhost:8080/"
        },
        "id": "IMaD4GdxtBM4",
        "outputId": "dbbff539-4e52-4b79-9457-cd468bf5d32c"
      },
      "source": [
        "model_score = round(modelFIRST.score(X_test_scaled,y_test),ndigits=2)\n",
        "print(model_score)"
      ],
      "execution_count": 27,
      "outputs": [
        {
          "output_type": "stream",
          "text": [
            "0.73\n"
          ],
          "name": "stdout"
        }
      ]
    },
    {
      "cell_type": "code",
      "metadata": {
        "colab": {
          "base_uri": "https://localhost:8080/"
        },
        "id": "uhS8JkJXtBM4",
        "outputId": "906c0209-0c15-4d86-f5e9-d145b8f62cbf"
      },
      "source": [
        "modelFIRST.get_params()"
      ],
      "execution_count": 28,
      "outputs": [
        {
          "output_type": "execute_result",
          "data": {
            "text/plain": [
              "{'C': 0.001,\n",
              " 'class_weight': None,\n",
              " 'dual': False,\n",
              " 'fit_intercept': True,\n",
              " 'intercept_scaling': 1,\n",
              " 'l1_ratio': None,\n",
              " 'max_iter': 100,\n",
              " 'multi_class': 'auto',\n",
              " 'n_jobs': None,\n",
              " 'penalty': 'l2',\n",
              " 'random_state': 42,\n",
              " 'solver': 'liblinear',\n",
              " 'tol': 0.0001,\n",
              " 'verbose': 0,\n",
              " 'warm_start': False}"
            ]
          },
          "metadata": {
            "tags": []
          },
          "execution_count": 28
        }
      ]
    },
    {
      "cell_type": "code",
      "metadata": {
        "colab": {
          "base_uri": "https://localhost:8080/",
          "height": 534
        },
        "id": "oVcTwKH3tBM5",
        "outputId": "fb1e7c5b-6d88-4b37-8ffa-a5aec6c0a3e7"
      },
      "source": [
        "#from sklearn.metrics import confusion_matrix, recall_score, precision_score, f1_score, roc_auc_score,accuracy_score\n",
        "from sklearn.metrics import classification_report, confusion_matrix\n",
        "from sklearn.linear_model import LogisticRegression\n",
        "\n",
        "## function to get confusion matrix in a proper format\n",
        "def draw_cm( actual, predicted ):\n",
        "    cm = confusion_matrix( actual, predicted)\n",
        "    sns.heatmap(cm, annot=True,  fmt='.2f', xticklabels = [0,1] , yticklabels = [0,1] )\n",
        "    plt.ylabel('Observed')\n",
        "    plt.xlabel('Predicted')\n",
        "    plt.show()\n",
        "\n",
        "print(\"Trainig accuracy\",round(modelFIRST.score(X_train_scaled,y_train),ndigits=2))\n",
        "print()\n",
        "print(\"Testing accuracy\",round(modelFIRST.score(X_test_scaled, y_test),ndigits=2))\n",
        "print()\n",
        "print('Confusion Matrix')\n",
        "print(draw_cm(y_test,y_predict))\n",
        "\n",
        "print(classification_report(y_test,y_predict))"
      ],
      "execution_count": 29,
      "outputs": [
        {
          "output_type": "stream",
          "text": [
            "Trainig accuracy 0.74\n",
            "\n",
            "Testing accuracy 0.73\n",
            "\n",
            "Confusion Matrix\n"
          ],
          "name": "stdout"
        },
        {
          "output_type": "display_data",
          "data": {
            "image/png": "[encoded data removed]",
            "text/plain": [
              "<Figure size 432x288 with 2 Axes>"
            ]
          },
          "metadata": {
            "tags": [],
            "needs_background": "light"
          }
        },
        {
          "output_type": "stream",
          "text": [
            "None\n",
            "              precision    recall  f1-score   support\n",
            "\n",
            "           1       0.76      0.86      0.80      5494\n",
            "           2       0.67      0.51      0.58      3061\n",
            "\n",
            "    accuracy                           0.73      8555\n",
            "   macro avg       0.71      0.68      0.69      8555\n",
            "weighted avg       0.73      0.73      0.72      8555\n",
            "\n"
          ],
          "name": "stdout"
        }
      ]
    },
    {
      "cell_type": "code",
      "metadata": {
        "colab": {
          "base_uri": "https://localhost:8080/"
        },
        "id": "1DvARD9btBM-",
        "outputId": "3fb04214-d7f8-4229-80a0-0ef21d101c05"
      },
      "source": [
        "#https://michael-fuchs-python.netlify.app/2019/11/11/introduction-to-sgd-classifier/\n",
        "from sklearn.linear_model import SGDClassifier\n",
        "from sklearn.metrics import accuracy_score\n",
        "from sklearn.model_selection import GridSearchCV\n",
        "params = {\n",
        "    \"loss\" : [\"hinge\", \"log\", \"squared_hinge\", \"modified_huber\", \"perceptron\"],\n",
        "    \"alpha\" : [0.0001, 0.001, 0.01, 0.1],\n",
        "    \"penalty\" : [\"l2\"],\n",
        "}\n",
        "clf = SGDClassifier()\n",
        "grid = GridSearchCV(clf, param_grid=params, cv=3)\n",
        "grid.fit(X_train_scaled, y_train)\n",
        "print(grid.best_params_)"
      ],
      "execution_count": 34,
      "outputs": [
        {
          "output_type": "stream",
          "text": [
            "{'alpha': 0.01, 'loss': 'hinge', 'penalty': 'l2'}\n"
          ],
          "name": "stdout"
        }
      ]
    },
    {
      "cell_type": "code",
      "metadata": {
        "colab": {
          "base_uri": "https://localhost:8080/",
          "height": 313
        },
        "id": "5AQOYZpB-JYf",
        "outputId": "4f27f27b-349c-4808-a301-1e4b5100118f"
      },
      "source": [
        "losses = [\"hinge\", \"log\", \"modified_huber\", \"perceptron\", \"squared_hinge\"]\n",
        "scores = []\n",
        "for loss in losses:\n",
        "    clf = SGDClassifier(loss=loss, penalty=\"l2\", max_iter=500)\n",
        "    clf.fit(X_train_scaled, y_train)\n",
        "    scores.append(clf.score(X_test_scaled, y_test))\n",
        "plt.title(\"Effect of loss\")\n",
        "plt.xlabel(\"loss\")\n",
        "plt.ylabel(\"score\")\n",
        "x = np.arange(len(losses))\n",
        "plt.xticks(x, losses)\n",
        "plt.plot(x, scores)"
      ],
      "execution_count": 31,
      "outputs": [
        {
          "output_type": "execute_result",
          "data": {
            "text/plain": [
              "[<matplotlib.lines.Line2D at 0x7fe052605690>]"
            ]
          },
          "metadata": {
            "tags": []
          },
          "execution_count": 31
        },
        {
          "output_type": "display_data",
          "data": {
            "image/png": "[encoded data removed]",
            "text/plain": [
              "<Figure size 432x288 with 1 Axes>"
            ]
          },
          "metadata": {
            "tags": [],
            "needs_background": "light"
          }
        }
      ]
    },
    {
      "cell_type": "code",
      "metadata": {
        "colab": {
          "base_uri": "https://localhost:8080/"
        },
        "id": "moDVUhXJtBM9",
        "outputId": "e109288f-85e0-469f-aca3-b1d83a94f04a"
      },
      "source": [
        "svm_model = SGDClassifier(alpha= 0.001, loss= 'hinge', penalty='l2')\n",
        "svm_model.fit(X_train_scaled, y_train)\n",
        "grid_predictions = svm_model.predict(X_test_scaled)\n",
        "print('Accuracy: {:.2f}'.format(accuracy_score(y_test, grid_predictions)))"
      ],
      "execution_count": 32,
      "outputs": [
        {
          "output_type": "stream",
          "text": [
            "Accuracy: 0.73\n"
          ],
          "name": "stdout"
        }
      ]
    },
    {
      "cell_type": "code",
      "metadata": {
        "colab": {
          "base_uri": "https://localhost:8080/",
          "height": 449
        },
        "id": "vjrTdGHRBCbY",
        "outputId": "7a4f0489-cfbb-4714-81ff-9c47e6e2924a"
      },
      "source": [
        "print(draw_cm(y_test, grid_predictions))\n",
        "print(classification_report(y_test, grid_predictions))"
      ],
      "execution_count": 33,
      "outputs": [
        {
          "output_type": "display_data",
          "data": {
            "image/png": "[encoded data removed]",
            "text/plain": [
              "<Figure size 432x288 with 2 Axes>"
            ]
          },
          "metadata": {
            "tags": [],
            "needs_background": "light"
          }
        },
        {
          "output_type": "stream",
          "text": [
            "None\n",
            "              precision    recall  f1-score   support\n",
            "\n",
            "           1       0.76      0.86      0.81      5494\n",
            "           2       0.67      0.51      0.58      3061\n",
            "\n",
            "    accuracy                           0.73      8555\n",
            "   macro avg       0.71      0.68      0.69      8555\n",
            "weighted avg       0.73      0.73      0.72      8555\n",
            "\n"
          ],
          "name": "stdout"
        }
      ]
    }
  ]
}