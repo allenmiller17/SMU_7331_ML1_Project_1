{
 "cells": [
  {
   "cell_type": "markdown",
   "metadata": {
    "id": "b-G77md2OYGg"
   },
   "source": [
    "# DS-7331 Machine Learning Project 3\n",
    "## Airbnb Clustering Tasks\n",
    "### Allen Miller, Ana Glaser, Jake Harrison, Lola Awodipe\n",
    "\n",
    "https://nbviewer.jupyter.org/github/allenmiller17/SMU_7331_ML1_Projects/blob/main/Project_2_Final_Team.ipynb"
   ]
  },
  {
   "cell_type": "code",
   "execution_count": null,
   "metadata": {},
   "outputs": [],
   "source": []
  },
  {
   "cell_type": "markdown",
   "metadata": {},
   "source": [
    "## Introduction"
   ]
  },
  {
   "cell_type": "markdown",
   "metadata": {},
   "source": [
    "Our project utilizes Airbnb data from kaggle.com.\n",
    "\n",
    "The main objective of this project is to perform cluster analyses to simply and potentially create more efficient classification models than the previous project."
   ]
  },
  {
   "cell_type": "markdown",
   "metadata": {},
   "source": [
    "### Table of Contents\n",
    "0. Libraries and Loading Data\n",
    "<br>\n",
    "1. Business Understanding\n",
    "    <br>\n",
    "2. Data Understanding\n",
    "    <br>\n",
    "    2.1 Data Meaning\n",
    "    <br>\n",
    "    2.2 Data Quality\n",
    "    <br>\n",
    "&nbsp;&nbsp;&nbsp;&nbsp;&nbsp;&nbsp; 2.2.1 Missing Values\n",
    "        <br>\n",
    "&nbsp;&nbsp;&nbsp;&nbsp;&nbsp;&nbsp; 2.2.2 Outliers\n",
    "    <br>\n",
    "3. Modeling and Evaluation\n",
    "    <br>\n",
    "    3.1 KMeans Clustering Analysis\n",
    "    <br>\n",
    "&nbsp;&nbsp;&nbsp;&nbsp;&nbsp;&nbsp; 3.1.1 Selecting Optimal K-Clusters Value\n",
    "        <br>\n",
    "&nbsp;&nbsp;&nbsp;&nbsp;&nbsp;&nbsp; 3.1.2 Internal And External Validation Measures\n",
    "        <br>\n",
    "&nbsp;&nbsp;&nbsp;&nbsp;&nbsp;&nbsp; 3.1.3 Results\n",
    "        <br>\n",
    "    3.2 Hierichial Clustering Analysis\n",
    "        <br>\n",
    "&nbsp;&nbsp;&nbsp;&nbsp;&nbsp;&nbsp; 3.2.1 Selecting Optimal Clusters\n",
    "        <br>\n",
    "&nbsp;&nbsp;&nbsp;&nbsp;&nbsp;&nbsp; 3.2.2 Validation Measures\n",
    "        <br>\n",
    "&nbsp;&nbsp;&nbsp;&nbsp;&nbsp;&nbsp; 3.2.3 Results\n",
    "        <br>\n",
    "     3.3 DBScan Clustering Analysis\n",
    "        <br>\n",
    "&nbsp;&nbsp;&nbsp;&nbsp;&nbsp;&nbsp; 3.3.1 Selecting Optimal Clusters\n",
    "        <br>\n",
    "&nbsp;&nbsp;&nbsp;&nbsp;&nbsp;&nbsp; 3.3.2 Validation Measures\n",
    "        <br>\n",
    "&nbsp;&nbsp;&nbsp;&nbsp;&nbsp;&nbsp; 3.3.3 Results\n",
    "        <br>\n",
    "     3.4 Comparison of all Clustering Techniques\n",
    "     <br>\n",
    "4. Deployment\n",
    "<br>\n",
    "5. Exceptional Work - Applying cluster analyses to Classification Models?"
   ]
  },
  {
   "cell_type": "markdown",
   "metadata": {},
   "source": [
    "### 0. Libraries and Loading Data"
   ]
  },
  {
   "cell_type": "code",
   "execution_count": 1,
   "metadata": {
    "id": "uwnlnel6OYGk"
   },
   "outputs": [],
   "source": [
    "#loading libraries\n",
    "import warnings\n",
    "warnings.filterwarnings('ignore')\n",
    "\n",
    "import pandas as pd\n",
    "from sklearn.linear_model import LogisticRegression\n",
    "from sklearn.preprocessing import StandardScaler\n",
    "from sklearn.model_selection import StratifiedShuffleSplit\n",
    "\n",
    "import matplotlib.pyplot as plt\n",
    "%matplotlib inline\n",
    "\n",
    "import seaborn as sns\n",
    "\n",
    "from sklearn.model_selection import train_test_split\n",
    "\n",
    "import numpy as np\n",
    "from scipy import stats\n",
    "\n",
    "from sklearn import metrics as mt\n",
    "\n",
    "from sklearn.cluster import KMeans"
   ]
  },
  {
   "cell_type": "code",
   "execution_count": null,
   "metadata": {},
   "outputs": [],
   "source": [
    "#restart button\n",
    "pdata = pd.read_csv(\"airbnb1.csv\")\n",
    "pdata['price'] = np.exp(pdata.log_price)\n",
    "pdata = pdata.dropna()\n",
    "\n",
    "#transforming the property type to a binary classification\n",
    "value_list = [\"Apartment\",\"House\",\"Condominium\",\"Townhouse\",\"Loft\"]\n",
    "boolean_series = ~pdata.property_type.isin(value_list)\n",
    "filtered_df = pdata[boolean_series]\n",
    "\n",
    "filtered_df.head(100)\n",
    "\n",
    "for i in list (filtered_df.index):\n",
    "    pdata.loc[i,'property_type'] = \"other\"\n",
    "\n",
    "#transforming the longitude and latitude variables to East / West\n",
    "pdata[\"region\"] = pd.cut(pdata.longitude,[-200,-100,0],2,labels=[\"West\",\"East\"])\n",
    "\n",
    "pdata_all=pdata.copy()\n",
    "\n",
    "#Encoding boolean and categorical variables\n",
    "replaceStruct = {\n",
    "                \"cleaning_fee\":     {True: 1, False: 0},\n",
    "                \"instant_bookable\":     {\"t\": 1, \"f\": 0},\n",
    "                \"host_identity_verified\":     {\"t\": 1, \"f\": 0},\n",
    "                \"property_type\":     {\"Apartment\": 0,\"House\": 1,\"Condominium\": 2,\"Townhouse\": 3,\"Loft\": 4, \"other\": 5},\n",
    "                \"region\": {\"East\": 0, \"West\": 1},\n",
    "                \"room_type\": {\"Entire home/apt\": 0, \"Private room\": 1, \"Shared room\": 2},\n",
    "                \"bed_type\": {\"Real Bed\": 0, \"Futon\": 1, \"Pull-out Sofa\": 2, \"Couch\": 3, \"Airbed\": 4},\n",
    "                \"city\": {\"NYC\": 0, \"SF\": 1, \"DC\": 2, \"LA\": 3, \"Chicago\": 4, \"Boston\": 5},\n",
    "                \"cancellation_policy\": {\"strict\": 0, \"moderate\": 1, \"flexible\": 2, \"super_strict_30\": 3, \"super_strict_60\": 4}\n",
    "                    }\n",
    "\n",
    "pdata=pdata.replace(replaceStruct)\n",
    "\n",
    "pdata.drop(['description','host_response_rate','first_review','host_since','last_review','zipcode','id','neighbourhood','host_has_profile_pic','cleaning_fee','instant_bookable','host_identity_verified','property_type','room_type','bed_type','cancellation_policy','city','region','longitude','latitude'], axis=1, inplace=True)\n",
    "\n",
    "from scipy.stats import zscore\n",
    "\n",
    "pdata_z = pdata.apply(zscore)\n",
    "\n"
   ]
  },
  {
   "cell_type": "code",
   "execution_count": 2,
   "metadata": {
    "id": "58HEn4SPOsBh"
   },
   "outputs": [],
   "source": [
    "pdata = pd.read_csv(\"airbnb1.csv\")"
   ]
  },
  {
   "cell_type": "code",
   "execution_count": null,
   "metadata": {},
   "outputs": [],
   "source": [
    "pdata.head()"
   ]
  },
  {
   "cell_type": "markdown",
   "metadata": {},
   "source": [
    "### 1. Business Understanding"
   ]
  },
  {
   "cell_type": "markdown",
   "metadata": {},
   "source": [
    "For our project, we decided to use AirBnb data from six major cities in the United States from kaggle.com. Our objective is to classify the type of property based on the data attributes like city, number of reviews, bathrooms, bedrooms and number of people it accommodates. \n",
    "\n",
    "First we will evaluate the various clustering techniques by visually inspecting the separation and interpretability of the clustering models. We will also compare the effectiveness of our clusters by evaluating the sillhouette score and the inertia value for each technique.  \n",
    "\n",
    "Then we will append the clusters to the dataset as a feature to determine if the classification task is improved by these regressors.\n",
    "\n",
    "To assess the effectiveness of our classification, we will look at the accuracy, precision, recall and evaluate the confusion matrix results.\n",
    "\n",
    "\n",
    "\n",
    "\n"
   ]
  },
  {
   "cell_type": "markdown",
   "metadata": {},
   "source": [
    "### 2. Data Understanding"
   ]
  },
  {
   "cell_type": "markdown",
   "metadata": {},
   "source": [
    "\n",
    "The number of reviews feature showed data that was heavily skewed to the left.  Because normality is not an assumption for clustering and classification tasks, we weren't worried about having a normal distribution for our feature observations, so we chose not to transform any of these variables.\n",
    "\n",
    "The attribute of neighborhood made our data very sparse and it increased run time dramatically, when we tested the models with and without it, the difference was negligible, so the cost benefit of run time vs model performance seemed like a fair trade-off."
   ]
  },
  {
   "cell_type": "markdown",
   "metadata": {},
   "source": [
    "#### 2.1 Data Meaning"
   ]
  },
  {
   "cell_type": "code",
   "execution_count": 3,
   "metadata": {},
   "outputs": [],
   "source": [
    "pdata['price'] = np.exp(pdata.log_price)"
   ]
  },
  {
   "cell_type": "markdown",
   "metadata": {},
   "source": [
    "Adding the price will give our team an idea on how dispersed our data really is, and can easily display if we have any outliers within this dataset."
   ]
  },
  {
   "cell_type": "code",
   "execution_count": null,
   "metadata": {},
   "outputs": [],
   "source": [
    "pdata.info()"
   ]
  },
  {
   "cell_type": "code",
   "execution_count": null,
   "metadata": {},
   "outputs": [],
   "source": [
    "pdata.skew()"
   ]
  },
  {
   "cell_type": "markdown",
   "metadata": {},
   "source": [
    "#### 2.2 Data Quality"
   ]
  },
  {
   "cell_type": "markdown",
   "metadata": {},
   "source": [
    "##### 2.2.1 Missing Values"
   ]
  },
  {
   "cell_type": "markdown",
   "metadata": {},
   "source": [
    "Given the volume of our data, we were able to reduce incomplete records with missing values and still retain a significant amount of records to evaluate."
   ]
  },
  {
   "cell_type": "code",
   "execution_count": 4,
   "metadata": {},
   "outputs": [],
   "source": [
    "pdata = pdata.dropna()"
   ]
  },
  {
   "cell_type": "markdown",
   "metadata": {},
   "source": [
    "##### 2.2.2 Outliers"
   ]
  },
  {
   "cell_type": "markdown",
   "metadata": {},
   "source": [
    "\n",
    "We also evaluated the number of unique values found in the categorical variables, we decided to eliminate the neighborhood attribute since it had 590 distinct values.  This made the model run time very slow and only gained a modest amount of accuracy."
   ]
  },
  {
   "cell_type": "code",
   "execution_count": null,
   "metadata": {},
   "outputs": [],
   "source": [
    "pdata.nunique()"
   ]
  },
  {
   "cell_type": "markdown",
   "metadata": {},
   "source": [
    "The property type was a very skewed attribute, so we reduced it to the top 5 property types and the rest were labeled as other.\n",
    "\n",
    "We proceeded to encode the categorical variables that we were going to reserve for our classification models, and transformed the longitude variable to a region called east and west.\n",
    "\n",
    "We then dropped all of the other columns that would not be used in the proceeding models, like property descriptions, and those that resulted lacking in predictive power, as demonstrated in our previous experiments.\n"
   ]
  },
  {
   "cell_type": "code",
   "execution_count": 5,
   "metadata": {
    "id": "0sV4uAtsOYGv"
   },
   "outputs": [],
   "source": [
    "#transforming the property type to a binary classification\n",
    "value_list = [\"Apartment\",\"House\",\"Condominium\",\"Townhouse\",\"Loft\"]\n",
    "boolean_series = ~pdata.property_type.isin(value_list)\n",
    "filtered_df = pdata[boolean_series]\n",
    "\n",
    "filtered_df.head(100)\n",
    "\n",
    "for i in list (filtered_df.index):\n",
    "    pdata.loc[i,'property_type'] = \"other\"\n",
    "\n",
    "#transforming the longitude and latitude variables to East / West\n",
    "pdata[\"region\"] = pd.cut(pdata.longitude,[-200,-100,0],2,labels=[\"West\",\"East\"])\n",
    "\n",
    "pdata_all=pdata.copy()"
   ]
  },
  {
   "cell_type": "code",
   "execution_count": null,
   "metadata": {
    "colab": {
     "base_uri": "https://localhost:8080/",
     "height": 530
    },
    "id": "ylLVTPp4OYGv",
    "outputId": "033edb8d-a0f3-4d4b-c590-ab262da4d583"
   },
   "outputs": [],
   "source": [
    "#evaluating the data after transformation\n",
    "pdata.head()"
   ]
  },
  {
   "cell_type": "code",
   "execution_count": 6,
   "metadata": {
    "id": "Wk-VEXT3OYGw"
   },
   "outputs": [],
   "source": [
    "#Encoding boolean and categorical variables\n",
    "replaceStruct = {\n",
    "                \"cleaning_fee\":     {True: 1, False: 0},\n",
    "                \"instant_bookable\":     {\"t\": 1, \"f\": 0},\n",
    "                \"host_identity_verified\":     {\"t\": 1, \"f\": 0},\n",
    "                \"property_type\":     {\"Apartment\": 0,\"House\": 1,\"Condominium\": 2,\"Townhouse\": 3,\"Loft\": 4, \"other\": 5},\n",
    "                \"region\": {\"East\": 0, \"West\": 1},\n",
    "                \"room_type\": {\"Entire home/apt\": 0, \"Private room\": 1, \"Shared room\": 2},\n",
    "                \"bed_type\": {\"Real Bed\": 0, \"Futon\": 1, \"Pull-out Sofa\": 2, \"Couch\": 3, \"Airbed\": 4},\n",
    "                \"city\": {\"NYC\": 0, \"SF\": 1, \"DC\": 2, \"LA\": 3, \"Chicago\": 4, \"Boston\": 5},\n",
    "                \"cancellation_policy\": {\"strict\": 0, \"moderate\": 1, \"flexible\": 2, \"super_strict_30\": 3, \"super_strict_60\": 4}\n",
    "                    }\n",
    "\n",
    "pdata=pdata.replace(replaceStruct)\n",
    "pdata_cls=pdata.copy()\n"
   ]
  },
  {
   "cell_type": "code",
   "execution_count": 7,
   "metadata": {},
   "outputs": [],
   "source": [
    "pdata.drop(['description','host_response_rate','first_review','host_since','last_review','zipcode','id','neighbourhood','host_has_profile_pic','cleaning_fee','instant_bookable','host_identity_verified','property_type','room_type','bed_type','cancellation_policy','city','region','longitude','latitude'], axis=1, inplace=True)\n"
   ]
  },
  {
   "cell_type": "code",
   "execution_count": null,
   "metadata": {},
   "outputs": [],
   "source": [
    "#pdata.drop(['longitude','latitude'], axis=1, inplace=True)"
   ]
  },
  {
   "cell_type": "code",
   "execution_count": 8,
   "metadata": {},
   "outputs": [
    {
     "data": {
      "text/html": [
       "<div>\n",
       "<style scoped>\n",
       "    .dataframe tbody tr th:only-of-type {\n",
       "        vertical-align: middle;\n",
       "    }\n",
       "\n",
       "    .dataframe tbody tr th {\n",
       "        vertical-align: top;\n",
       "    }\n",
       "\n",
       "    .dataframe thead th {\n",
       "        text-align: right;\n",
       "    }\n",
       "</style>\n",
       "<table border=\"1\" class=\"dataframe\">\n",
       "  <thead>\n",
       "    <tr style=\"text-align: right;\">\n",
       "      <th></th>\n",
       "      <th>log_price</th>\n",
       "      <th>accommodates</th>\n",
       "      <th>bathrooms</th>\n",
       "      <th>number_of_reviews</th>\n",
       "      <th>review_scores_rating</th>\n",
       "      <th>bedrooms</th>\n",
       "      <th>beds</th>\n",
       "      <th>price</th>\n",
       "    </tr>\n",
       "  </thead>\n",
       "  <tbody>\n",
       "    <tr>\n",
       "      <th>1</th>\n",
       "      <td>5.129899</td>\n",
       "      <td>7</td>\n",
       "      <td>1.0</td>\n",
       "      <td>6</td>\n",
       "      <td>93.0</td>\n",
       "      <td>3.0</td>\n",
       "      <td>3.0</td>\n",
       "      <td>169.0</td>\n",
       "    </tr>\n",
       "    <tr>\n",
       "      <th>2</th>\n",
       "      <td>4.976734</td>\n",
       "      <td>5</td>\n",
       "      <td>1.0</td>\n",
       "      <td>10</td>\n",
       "      <td>92.0</td>\n",
       "      <td>1.0</td>\n",
       "      <td>3.0</td>\n",
       "      <td>145.0</td>\n",
       "    </tr>\n",
       "    <tr>\n",
       "      <th>4</th>\n",
       "      <td>4.744932</td>\n",
       "      <td>2</td>\n",
       "      <td>1.0</td>\n",
       "      <td>4</td>\n",
       "      <td>40.0</td>\n",
       "      <td>0.0</td>\n",
       "      <td>1.0</td>\n",
       "      <td>115.0</td>\n",
       "    </tr>\n",
       "    <tr>\n",
       "      <th>5</th>\n",
       "      <td>4.442651</td>\n",
       "      <td>2</td>\n",
       "      <td>1.0</td>\n",
       "      <td>3</td>\n",
       "      <td>100.0</td>\n",
       "      <td>1.0</td>\n",
       "      <td>1.0</td>\n",
       "      <td>85.0</td>\n",
       "    </tr>\n",
       "    <tr>\n",
       "      <th>7</th>\n",
       "      <td>4.787492</td>\n",
       "      <td>2</td>\n",
       "      <td>1.0</td>\n",
       "      <td>9</td>\n",
       "      <td>93.0</td>\n",
       "      <td>1.0</td>\n",
       "      <td>1.0</td>\n",
       "      <td>120.0</td>\n",
       "    </tr>\n",
       "  </tbody>\n",
       "</table>\n",
       "</div>"
      ],
      "text/plain": [
       "   log_price  accommodates  bathrooms  number_of_reviews  \\\n",
       "1   5.129899             7        1.0                  6   \n",
       "2   4.976734             5        1.0                 10   \n",
       "4   4.744932             2        1.0                  4   \n",
       "5   4.442651             2        1.0                  3   \n",
       "7   4.787492             2        1.0                  9   \n",
       "\n",
       "   review_scores_rating  bedrooms  beds  price  \n",
       "1                  93.0       3.0   3.0  169.0  \n",
       "2                  92.0       1.0   3.0  145.0  \n",
       "4                  40.0       0.0   1.0  115.0  \n",
       "5                 100.0       1.0   1.0   85.0  \n",
       "7                  93.0       1.0   1.0  120.0  "
      ]
     },
     "execution_count": 8,
     "metadata": {},
     "output_type": "execute_result"
    }
   ],
   "source": [
    "pdata.head()"
   ]
  },
  {
   "cell_type": "code",
   "execution_count": 11,
   "metadata": {},
   "outputs": [
    {
     "data": {
      "text/html": [
       "<div>\n",
       "<style scoped>\n",
       "    .dataframe tbody tr th:only-of-type {\n",
       "        vertical-align: middle;\n",
       "    }\n",
       "\n",
       "    .dataframe tbody tr th {\n",
       "        vertical-align: top;\n",
       "    }\n",
       "\n",
       "    .dataframe thead th {\n",
       "        text-align: right;\n",
       "    }\n",
       "</style>\n",
       "<table border=\"1\" class=\"dataframe\">\n",
       "  <thead>\n",
       "    <tr style=\"text-align: right;\">\n",
       "      <th></th>\n",
       "      <th>id</th>\n",
       "      <th>log_price</th>\n",
       "      <th>property_type</th>\n",
       "      <th>room_type</th>\n",
       "      <th>accommodates</th>\n",
       "      <th>bathrooms</th>\n",
       "      <th>bed_type</th>\n",
       "      <th>cancellation_policy</th>\n",
       "      <th>cleaning_fee</th>\n",
       "      <th>city</th>\n",
       "      <th>...</th>\n",
       "      <th>latitude</th>\n",
       "      <th>longitude</th>\n",
       "      <th>neighbourhood</th>\n",
       "      <th>number_of_reviews</th>\n",
       "      <th>review_scores_rating</th>\n",
       "      <th>zipcode</th>\n",
       "      <th>bedrooms</th>\n",
       "      <th>beds</th>\n",
       "      <th>price</th>\n",
       "      <th>region</th>\n",
       "    </tr>\n",
       "  </thead>\n",
       "  <tbody>\n",
       "    <tr>\n",
       "      <th>1</th>\n",
       "      <td>6304928</td>\n",
       "      <td>5.129899</td>\n",
       "      <td>Apartment</td>\n",
       "      <td>Entire home/apt</td>\n",
       "      <td>7</td>\n",
       "      <td>1.0</td>\n",
       "      <td>Real Bed</td>\n",
       "      <td>strict</td>\n",
       "      <td>True</td>\n",
       "      <td>NYC</td>\n",
       "      <td>...</td>\n",
       "      <td>40.766115</td>\n",
       "      <td>-73.989040</td>\n",
       "      <td>Hell's Kitchen</td>\n",
       "      <td>6</td>\n",
       "      <td>93.0</td>\n",
       "      <td>10019</td>\n",
       "      <td>3.0</td>\n",
       "      <td>3.0</td>\n",
       "      <td>169.0</td>\n",
       "      <td>East</td>\n",
       "    </tr>\n",
       "    <tr>\n",
       "      <th>2</th>\n",
       "      <td>7919400</td>\n",
       "      <td>4.976734</td>\n",
       "      <td>Apartment</td>\n",
       "      <td>Entire home/apt</td>\n",
       "      <td>5</td>\n",
       "      <td>1.0</td>\n",
       "      <td>Real Bed</td>\n",
       "      <td>moderate</td>\n",
       "      <td>True</td>\n",
       "      <td>NYC</td>\n",
       "      <td>...</td>\n",
       "      <td>40.808110</td>\n",
       "      <td>-73.943756</td>\n",
       "      <td>Harlem</td>\n",
       "      <td>10</td>\n",
       "      <td>92.0</td>\n",
       "      <td>10027</td>\n",
       "      <td>1.0</td>\n",
       "      <td>3.0</td>\n",
       "      <td>145.0</td>\n",
       "      <td>East</td>\n",
       "    </tr>\n",
       "    <tr>\n",
       "      <th>4</th>\n",
       "      <td>3808709</td>\n",
       "      <td>4.744932</td>\n",
       "      <td>Apartment</td>\n",
       "      <td>Entire home/apt</td>\n",
       "      <td>2</td>\n",
       "      <td>1.0</td>\n",
       "      <td>Real Bed</td>\n",
       "      <td>moderate</td>\n",
       "      <td>True</td>\n",
       "      <td>DC</td>\n",
       "      <td>...</td>\n",
       "      <td>38.925627</td>\n",
       "      <td>-77.034596</td>\n",
       "      <td>Columbia Heights</td>\n",
       "      <td>4</td>\n",
       "      <td>40.0</td>\n",
       "      <td>20009</td>\n",
       "      <td>0.0</td>\n",
       "      <td>1.0</td>\n",
       "      <td>115.0</td>\n",
       "      <td>East</td>\n",
       "    </tr>\n",
       "    <tr>\n",
       "      <th>5</th>\n",
       "      <td>12422935</td>\n",
       "      <td>4.442651</td>\n",
       "      <td>Apartment</td>\n",
       "      <td>Private room</td>\n",
       "      <td>2</td>\n",
       "      <td>1.0</td>\n",
       "      <td>Real Bed</td>\n",
       "      <td>strict</td>\n",
       "      <td>True</td>\n",
       "      <td>SF</td>\n",
       "      <td>...</td>\n",
       "      <td>37.753164</td>\n",
       "      <td>-122.429526</td>\n",
       "      <td>Noe Valley</td>\n",
       "      <td>3</td>\n",
       "      <td>100.0</td>\n",
       "      <td>94131</td>\n",
       "      <td>1.0</td>\n",
       "      <td>1.0</td>\n",
       "      <td>85.0</td>\n",
       "      <td>West</td>\n",
       "    </tr>\n",
       "    <tr>\n",
       "      <th>7</th>\n",
       "      <td>13971273</td>\n",
       "      <td>4.787492</td>\n",
       "      <td>Condominium</td>\n",
       "      <td>Entire home/apt</td>\n",
       "      <td>2</td>\n",
       "      <td>1.0</td>\n",
       "      <td>Real Bed</td>\n",
       "      <td>moderate</td>\n",
       "      <td>True</td>\n",
       "      <td>LA</td>\n",
       "      <td>...</td>\n",
       "      <td>34.046737</td>\n",
       "      <td>-118.260439</td>\n",
       "      <td>Downtown</td>\n",
       "      <td>9</td>\n",
       "      <td>93.0</td>\n",
       "      <td>90015</td>\n",
       "      <td>1.0</td>\n",
       "      <td>1.0</td>\n",
       "      <td>120.0</td>\n",
       "      <td>West</td>\n",
       "    </tr>\n",
       "  </tbody>\n",
       "</table>\n",
       "<p>5 rows × 28 columns</p>\n",
       "</div>"
      ],
      "text/plain": [
       "         id  log_price property_type        room_type  accommodates  \\\n",
       "1   6304928   5.129899     Apartment  Entire home/apt             7   \n",
       "2   7919400   4.976734     Apartment  Entire home/apt             5   \n",
       "4   3808709   4.744932     Apartment  Entire home/apt             2   \n",
       "5  12422935   4.442651     Apartment     Private room             2   \n",
       "7  13971273   4.787492   Condominium  Entire home/apt             2   \n",
       "\n",
       "   bathrooms  bed_type cancellation_policy  cleaning_fee city  ...   latitude  \\\n",
       "1        1.0  Real Bed              strict          True  NYC  ...  40.766115   \n",
       "2        1.0  Real Bed            moderate          True  NYC  ...  40.808110   \n",
       "4        1.0  Real Bed            moderate          True   DC  ...  38.925627   \n",
       "5        1.0  Real Bed              strict          True   SF  ...  37.753164   \n",
       "7        1.0  Real Bed            moderate          True   LA  ...  34.046737   \n",
       "\n",
       "    longitude     neighbourhood number_of_reviews review_scores_rating  \\\n",
       "1  -73.989040    Hell's Kitchen                 6                 93.0   \n",
       "2  -73.943756            Harlem                10                 92.0   \n",
       "4  -77.034596  Columbia Heights                 4                 40.0   \n",
       "5 -122.429526        Noe Valley                 3                100.0   \n",
       "7 -118.260439          Downtown                 9                 93.0   \n",
       "\n",
       "  zipcode bedrooms beds  price  region  \n",
       "1   10019      3.0  3.0  169.0    East  \n",
       "2   10027      1.0  3.0  145.0    East  \n",
       "4   20009      0.0  1.0  115.0    East  \n",
       "5   94131      1.0  1.0   85.0    West  \n",
       "7   90015      1.0  1.0  120.0    West  \n",
       "\n",
       "[5 rows x 28 columns]"
      ]
     },
     "execution_count": 11,
     "metadata": {},
     "output_type": "execute_result"
    }
   ],
   "source": [
    "pdata_all.head()"
   ]
  },
  {
   "cell_type": "code",
   "execution_count": null,
   "metadata": {},
   "outputs": [],
   "source": [
    "pdata.nunique()"
   ]
  },
  {
   "cell_type": "markdown",
   "metadata": {},
   "source": [
    "### 3. Model and Evaluation"
   ]
  },
  {
   "cell_type": "markdown",
   "metadata": {},
   "source": [
    "#### 3.1 K-Means Clustering Analysis"
   ]
  },
  {
   "cell_type": "markdown",
   "metadata": {},
   "source": [
    "##### 3.1.1 Selecting Optimal K-Clusters"
   ]
  },
  {
   "cell_type": "markdown",
   "metadata": {},
   "source": [
    "There is room for intrepetation on which k is the best option. The elbow method is difficult to apply in this instance because there is not a specific point that the elbow starts. One could argue the elbow begins at 3, 6, 9, or 11. Due to that, our team decided to refer to the yellowbrick package. This package, when used properly, will select an optimal k value based on the distortion score."
   ]
  },
  {
   "cell_type": "code",
   "execution_count": 12,
   "metadata": {},
   "outputs": [],
   "source": [
    "#Scale the data and deploy model\n",
    "\n",
    "from scipy.stats import zscore\n",
    "\n",
    "pdata_z = pdata.apply(zscore)"
   ]
  },
  {
   "cell_type": "code",
   "execution_count": 13,
   "metadata": {},
   "outputs": [
    {
     "data": {
      "text/plain": [
       "Text(0.5, 1.0, 'K Optimization Graph')"
      ]
     },
     "execution_count": 13,
     "metadata": {},
     "output_type": "execute_result"
    },
    {
     "data": {
      "image/png": "[encoded data removed]",
      "text/plain": [
       "<Figure size 432x288 with 1 Axes>"
      ]
     },
     "metadata": {
      "needs_background": "light"
     },
     "output_type": "display_data"
    }
   ],
   "source": [
    "#https://medium.com/analytics-vidhya/how-to-determine-the-optimal-k-for-k-means-708505d204eb\n",
    "\n",
    "from scipy.spatial.distance import cdist\n",
    "clusters=range(1,25)\n",
    "meanDistortions=[]\n",
    "\n",
    "for k in clusters:\n",
    "    model=KMeans(n_clusters=k, algorithm='auto',init='k-means++',n_jobs=20, random_state=2345)\n",
    "    model.fit(pdata_z)\n",
    "    prediction=model.predict(pdata_z)\n",
    "    meanDistortions.append(sum(np.min(cdist(pdata_z, model.cluster_centers_, 'euclidean'), axis=1)) / pdata_z\n",
    "                           .shape[0])\n",
    "\n",
    "\n",
    "plt.plot(clusters, meanDistortions, 'bx-')\n",
    "plt.xlabel('k')\n",
    "plt.ylabel('Average distortion')\n",
    "plt.title('K Optimization Graph')"
   ]
  },
  {
   "cell_type": "code",
   "execution_count": null,
   "metadata": {},
   "outputs": [],
   "source": [
    "#https://towardsdatascience.com/selecting-optimal-k-for-k-means-clustering-c7579fd2e926\n",
    "\n",
    "from yellowbrick.cluster.elbow import kelbow_visualizer\n",
    "\n",
    "kelbow_visualizer(model, pdata_z,k=(1,25),timings=False)"
   ]
  },
  {
   "cell_type": "code",
   "execution_count": null,
   "metadata": {},
   "outputs": [],
   "source": [
    "# referenced from class example\n",
    "from sklearn import metrics\n",
    "from sklearn.cluster import KMeans\n",
    "\n",
    "seuclid = []\n",
    "scosine = []\n",
    "k = range(2,25)\n",
    "for i in k:\n",
    "    kmeans_model = KMeans(n_clusters=i, init=\"k-means++\", random_state=2345).fit(pdata_z)\n",
    "    labels = kmeans_model.labels_\n",
    "    seuclid.append(metrics.silhouette_score(pdata_z, labels, metric='euclidean'))\n",
    "    scosine.append(metrics.silhouette_score(pdata_z, labels, metric='cosine'))\n",
    "    \n",
    "plt.figure(figsize=(10,5))\n",
    "plt.plot(k,seuclid,label='euclidean')\n",
    "plt.plot(k,scosine,label='cosine')\n",
    "plt.ylabel(\"Silhouette\")\n",
    "plt.xlabel(\"Cluster\")\n",
    "plt.title(\"Silhouette vs Cluster Size\")\n",
    "plt.legend()\n",
    "plt.show()"
   ]
  },
  {
   "cell_type": "markdown",
   "metadata": {},
   "source": [
    "Utilizing this function in determining the optimal k clusters to use, we will move forward with 6 clusters."
   ]
  },
  {
   "cell_type": "code",
   "execution_count": null,
   "metadata": {},
   "outputs": [],
   "source": [
    "KNNModel = KMeans(n_clusters=6, n_init = 3, random_state=2345)\n",
    "KNNModel.fit(pdata_z)\n",
    "prediction=KNNModel.predict(pdata_z)\n",
    "pdata_z[\"KCLUSTER\"] = prediction\n",
    "pdata[\"KCLUSTER\"] = prediction\n",
    "pdata_all[\"KCLUSTER\"] = prediction"
   ]
  },
  {
   "cell_type": "code",
   "execution_count": null,
   "metadata": {},
   "outputs": [],
   "source": [
    "#Assess the distribution of clusters formed\n",
    "pdata_z['KCLUSTER'].value_counts()  "
   ]
  },
  {
   "cell_type": "code",
   "execution_count": null,
   "metadata": {
    "scrolled": false
   },
   "outputs": [],
   "source": [
    "pdata_z.info()"
   ]
  },
  {
   "cell_type": "code",
   "execution_count": null,
   "metadata": {},
   "outputs": [],
   "source": [
    "pdata_z.head()"
   ]
  },
  {
   "cell_type": "code",
   "execution_count": null,
   "metadata": {},
   "outputs": [],
   "source": [
    "pdata_z.nunique()"
   ]
  },
  {
   "cell_type": "markdown",
   "metadata": {},
   "source": [
    "Intercluster distance displays an embedded cluster centers in a two-dimensions with the distance to the centers preserved. The centers are stochastically updated, therefore updates the centroid after each assignment. The cluster bubbles are sized by the number of instances within those groups. Just because there is overlap in the two-dimensional space, does not imply they overlap in the original feature space. However, looking at the three-dimensional graph of the selected features, one could argue against this notion.\n",
    "\n",
    "  **mds**: multidimensional scaling\n",
    "  **tsne**: stochastic neighbor embedding\n",
    "  \n",
    "When comparing the two methods of evaluating the centroids, the stochastic neighbor is consistent and the multidimensional scaling centroid cluster positions change every time you run it,"
   ]
  },
  {
   "cell_type": "code",
   "execution_count": null,
   "metadata": {},
   "outputs": [],
   "source": [
    "#https://towardsdatascience.com/selecting-optimal-k-for-k-means-clustering-c7579fd2e926\n",
    "\n",
    "from yellowbrick.cluster import intercluster_distance\n",
    "\n",
    "intercluster_distance(KNNModel, pdata_z, embedding='tsne', random_state=24)"
   ]
  },
  {
   "cell_type": "code",
   "execution_count": null,
   "metadata": {},
   "outputs": [],
   "source": [
    "intercluster_distance(KNNModel, pdata_z, embedding='mds', random_state=24)"
   ]
  },
  {
   "cell_type": "code",
   "execution_count": null,
   "metadata": {},
   "outputs": [],
   "source": [
    "intercluster_distance(KNNModel, pdata_z, embedding='mds', random_state=24)"
   ]
  },
  {
   "cell_type": "code",
   "execution_count": null,
   "metadata": {},
   "outputs": [],
   "source": [
    "import plotly.express as px\n",
    "pdata[\"strKCLUSTER\"] = pdata[\"KCLUSTER\"].astype(str)\n",
    "fig = px.scatter_3d(pdata, x='review_scores_rating', y='price', z='number_of_reviews', color='strKCLUSTER', title=\"Comparing Scaled Reviews, Price, and Accomodations colored by Groups\")\n",
    "fig.update_layout(width = 550, height = 550,margin=dict(l=0, r=0, b=0, t=0))\n",
    "fig.show()\n",
    "#The number of ratings and the average rating relating to the price of the listing."
   ]
  },
  {
   "cell_type": "code",
   "execution_count": null,
   "metadata": {},
   "outputs": [],
   "source": [
    "fig05 = px.box(pdata_all, y=\"price\", x=\"city\", color=\"KCLUSTER\", title =\"Box Plot of the dataset with the accomodations by price and colored by groups\", height=1000, width=1500)\n",
    "fig05.update_layout(width = 900, height = 550,margin=dict(l=0, r=0, b=0, t=0))\n",
    "fig05.show()\n"
   ]
  },
  {
   "cell_type": "code",
   "execution_count": null,
   "metadata": {},
   "outputs": [],
   "source": [
    "fig06 = px.box(pdata_all, y=\"review_scores_rating\", x=\"city\", color=\"KCLUSTER\", title =\"Box Plot of the dataset with the cities by scaled average rating and colored by groups\", height=1000, width=1500)\n",
    "fig06.update_layout(width = 900, height = 550,margin=dict(l=0, r=0, b=0, t=0))\n",
    "fig06.show()"
   ]
  },
  {
   "cell_type": "code",
   "execution_count": null,
   "metadata": {},
   "outputs": [],
   "source": [
    "dataset=pdata[:]  #creating a copy of the data \n",
    "dataset['KmeansLabel']=KNNModel.labels_"
   ]
  },
  {
   "cell_type": "code",
   "execution_count": null,
   "metadata": {},
   "outputs": [],
   "source": [
    "plt.scatter(dataset['price'], dataset['review_scores_rating'], c=KNNModel.labels_)\n",
    "plt.title(\"Comparing Price to Ratings, colored by Groups\")\n",
    "plt.xlabel(\"Price\")\n",
    "plt.ylabel(\"Ratings\")\n",
    "plt.show()"
   ]
  },
  {
   "cell_type": "code",
   "execution_count": null,
   "metadata": {},
   "outputs": [],
   "source": [
    "import plotly.express as px\n",
    "fig1 = px.scatter(pdata_z, x='number_of_reviews', y='review_scores_rating', color='strKCLUSTER')\n",
    "fig1.show()"
   ]
  },
  {
   "cell_type": "code",
   "execution_count": null,
   "metadata": {
    "id": "UnIxZT4IOYGt",
    "scrolled": true
   },
   "outputs": [],
   "source": [
    "#fig1 = px.violin(pdata, y=\"price\", x=\"accommodates\", color=\"KCLUSTER\", box=True, points=\"all\")\n",
    "#fig1.show()"
   ]
  },
  {
   "cell_type": "markdown",
   "metadata": {},
   "source": [
    "#### 3.2 Hierichial Clustering Analysis"
   ]
  },
  {
   "cell_type": "markdown",
   "metadata": {},
   "source": [
    "##### 3.2.1 Selecting Optimal Clusters"
   ]
  },
  {
   "cell_type": "markdown",
   "metadata": {},
   "source": [
    "##### 3.2.2 Validation Measures"
   ]
  },
  {
   "cell_type": "markdown",
   "metadata": {},
   "source": [
    "##### 3.2.3 Results"
   ]
  },
  {
   "cell_type": "code",
   "execution_count": null,
   "metadata": {},
   "outputs": [],
   "source": [
    "from scipy.cluster.hierarchy import cophenet, dendrogram, linkage\n",
    "from scipy.spatial.distance import pdist  #Pairwise distribution between data points"
   ]
  },
  {
   "cell_type": "code",
   "execution_count": null,
   "metadata": {},
   "outputs": [],
   "source": [
    "from scipy.cluster.hierarchy import cophenet, dendrogram, linkage\n",
    "from scipy.spatial.distance import pdist  #Pairwise distribution between data points\n",
    "\n",
    "linkage_methods = ['single', 'complete', 'average', 'ward', 'median']\n",
    "\n",
    "results_cophenetic_coef=[]\n",
    "\n",
    "for i in linkage_methods :\n",
    "    #plt.figure(figsize=(15,13))\n",
    "    #plt.xlabel('sample index')\n",
    "    #plt.ylabel('Distance')\n",
    "    Z = linkage(pdata_z, i)\n",
    "    cc, coph_dists = cophenet(Z , pdist(pdata_z))\n",
    "    #dendrogram(Z,leaf_rotation=90.0, p=5, leaf_font_size=10, truncate_mode='level')\n",
    "    #plt.tight_layout()\n",
    "    #plt.title(\"Linkage Type: \"+ i +\" having cophenetic coefficient : \"+str(round(cc,3)) )\n",
    "    #plt.show()\n",
    "    results_cophenetic_coef.append((i,cc))\n",
    "    #print (i,cc)"
   ]
  },
  {
   "cell_type": "code",
   "execution_count": null,
   "metadata": {},
   "outputs": [],
   "source": [
    "results_cophenetic_coef_df=pd.DataFrame(results_cophenetic_coef,columns=['LinkageMethod','CopheneticCoefficient'])\n",
    "results_cophenetic_coef_df"
   ]
  },
  {
   "cell_type": "code",
   "execution_count": null,
   "metadata": {},
   "outputs": [],
   "source": [
    "# cophenet index \n",
    "Z = linkage(pdata_z, metric='euclidean', method='average')\n",
    "c, coph_dists = cophenet(Z , pdist(pdata_z))\n",
    "\n",
    "c"
   ]
  },
  {
   "cell_type": "code",
   "execution_count": null,
   "metadata": {
    "colab": {
     "base_uri": "https://localhost:8080/"
    },
    "id": "7b-atM1TOYGt",
    "outputId": "b2393701-a6e1-495f-b7be-3a638f06b1ac"
   },
   "outputs": [],
   "source": [
    "plt.figure(figsize=(10, 5))\n",
    "plt.title('Agglomerative Hierarchical Clustering Dendogram')\n",
    "plt.xlabel('sample index')\n",
    "plt.ylabel('Distance')\n",
    "dendrogram(Z, leaf_rotation=90., leaf_font_size=8. , truncate_mode = 'lastp',p=20)\n",
    "plt.tight_layout()"
   ]
  },
  {
   "cell_type": "code",
   "execution_count": null,
   "metadata": {},
   "outputs": [],
   "source": []
  },
  {
   "cell_type": "code",
   "execution_count": null,
   "metadata": {},
   "outputs": [],
   "source": [
    "# cophenet index \n",
    "Z1 = linkage(pdata_z, metric='euclidean', method='ward')\n",
    "c1, coph_dists1 = cophenet(Z1 , pdist(pdata_z))\n",
    "\n",
    "c1"
   ]
  },
  {
   "cell_type": "code",
   "execution_count": null,
   "metadata": {},
   "outputs": [],
   "source": [
    "plt.figure(figsize=(10, 5))\n",
    "plt.title('Agglomerative Hierarchical Clustering Dendogram - ward')\n",
    "plt.xlabel('sample index')\n",
    "plt.ylabel('Distance')\n",
    "dendrogram(Z1, leaf_rotation=90., leaf_font_size=8. , truncate_mode = 'lastp',p=100)\n",
    "plt.tight_layout()"
   ]
  },
  {
   "cell_type": "code",
   "execution_count": null,
   "metadata": {},
   "outputs": [],
   "source": [
    "# cophenet index \n",
    "Z2 = linkage(pdata_z, metric='euclidean', method='complete')\n",
    "c2, coph_dists2 = cophenet(Z2 , pdist(pdata_z))\n",
    "\n",
    "c2\n",
    "\n"
   ]
  },
  {
   "cell_type": "code",
   "execution_count": null,
   "metadata": {},
   "outputs": [],
   "source": [
    "\n",
    "plt.figure(figsize=(10, 5))\n",
    "plt.title('Agglomerative Hierarchical Clustering Dendogram - complete')\n",
    "plt.xlabel('sample index')\n",
    "plt.ylabel('Distance')\n",
    "dendrogram(Z2, leaf_rotation=90., leaf_font_size=8. , truncate_mode = 'lastp',p=20)\n",
    "plt.tight_layout()\n"
   ]
  },
  {
   "cell_type": "code",
   "execution_count": null,
   "metadata": {},
   "outputs": [],
   "source": [
    "# cophenet index \n",
    "Z3 = linkage(pdata_z, metric='euclidean', method='centroid')\n",
    "c3, coph_dists3 = cophenet(Z3 , pdist(pdata_z))\n",
    "\n",
    "c3\n",
    "\n"
   ]
  },
  {
   "cell_type": "code",
   "execution_count": null,
   "metadata": {},
   "outputs": [],
   "source": [
    "\n",
    "plt.figure(figsize=(10, 5))\n",
    "plt.title('Agglomerative Hierarchical Clustering Dendogram - centroid')\n",
    "plt.xlabel('sample index')\n",
    "plt.ylabel('Distance')\n",
    "dendrogram(Z2, leaf_rotation=90., leaf_font_size=8. , truncate_mode = 'lastp',p=20)\n",
    "plt.tight_layout()\n"
   ]
  },
  {
   "cell_type": "code",
   "execution_count": null,
   "metadata": {},
   "outputs": [],
   "source": [
    "max_d=5\n",
    "from scipy.cluster.hierarchy import fcluster\n",
    "clusters = fcluster(Z, max_d, criterion='distance')"
   ]
  },
  {
   "cell_type": "code",
   "execution_count": null,
   "metadata": {},
   "outputs": [],
   "source": [
    "set(clusters)  # So there are 3 clusters which are formed "
   ]
  },
  {
   "cell_type": "code",
   "execution_count": null,
   "metadata": {},
   "outputs": [],
   "source": [
    "dataset['HierarchicalClusteringLabel']=clusters"
   ]
  },
  {
   "cell_type": "code",
   "execution_count": null,
   "metadata": {},
   "outputs": [],
   "source": [
    "from sklearn.metrics import silhouette_score\n",
    "Kmeans_score =  silhouette_score(dataset.drop('KmeansLabel',axis=1),dataset['KmeansLabel'])\n",
    "print(\"Kmeans silhouette : \", Kmeans_score)\n"
   ]
  },
  {
   "cell_type": "code",
   "execution_count": null,
   "metadata": {},
   "outputs": [],
   "source": [
    "Hierarchical_score = silhouette_score(dataset.drop('HierarchicalClusteringLabel',axis=1),dataset['HierarchicalClusteringLabel'])\n",
    "print(\"Hierarchical silhouette ; \", Hierarchical_score)"
   ]
  },
  {
   "cell_type": "code",
   "execution_count": null,
   "metadata": {},
   "outputs": [],
   "source": [
    "Kmeans_results=dataset.groupby('KmeansLabel').mean()\n",
    "Kmeans_results"
   ]
  },
  {
   "cell_type": "code",
   "execution_count": null,
   "metadata": {
    "scrolled": true
   },
   "outputs": [],
   "source": [
    "Hierarchical_results=dataset.groupby('HierarchicalClusteringLabel').mean()\n",
    "Hierarchical_results"
   ]
  },
  {
   "cell_type": "code",
   "execution_count": null,
   "metadata": {
    "scrolled": true
   },
   "outputs": [],
   "source": [
    "DBScan_results=dataset.groupby('labelsDBScan').mean()\n",
    "DBScan_results"
   ]
  },
  {
   "cell_type": "markdown",
   "metadata": {},
   "source": [
    "#### 3.3 DBScan Clustering Analysis"
   ]
  },
  {
   "cell_type": "markdown",
   "metadata": {},
   "source": [
    "##### 3.3.1 Selecting Optimal Clusters"
   ]
  },
  {
   "cell_type": "markdown",
   "metadata": {},
   "source": [
    "##### 3.3.2 Validation Measures"
   ]
  },
  {
   "cell_type": "markdown",
   "metadata": {},
   "source": [
    "##### 3.3.3 Results"
   ]
  },
  {
   "cell_type": "code",
   "execution_count": null,
   "metadata": {},
   "outputs": [],
   "source": [
    "from sklearn.neighbors import kneighbors_graph\n",
    "\n",
    "db_minpts = 2\n",
    "\n",
    "db_knn_graph = kneighbors_graph(pdata_z, db_minpts, mode = 'distance')\n",
    "\n",
    "N2 = db_knn_graph.shape[0]\n",
    "pdata_nn_distances = np.zeros((N2,1))\n",
    "for i in range(N2):\n",
    "    pdata_nn_distances[i] = db_knn_graph[i,:].max()\n",
    "    \n",
    "pdata_nn_distances = np.sort(pdata_nn_distances, axis=0)\n",
    "\n",
    "plt.figure(figsize=(15,5))\n",
    "plt.subplot(1,2,1)\n",
    "plt.plot(range(N2), pdata_nn_distances, 'r.', markersize=2)\n",
    "plt.title('Airbnb Dataset, sorted by neighbor distance')\n",
    "plt.xlabel('Airbnb, Instance Number')\n",
    "plt.ylabel('Airbnb, Distance to {0}th nearest neighbor'.format(db_minpts))\n",
    "plt.grid()\n",
    "plt.show()\n"
   ]
  },
  {
   "cell_type": "code",
   "execution_count": null,
   "metadata": {},
   "outputs": [],
   "source": [
    "X_all = pdata_z[[\"log_price\",\"accommodates\",\"bathrooms\",\"number_of_reviews\",\"review_scores_rating\",\"bedrooms\",\"beds\",\"price\"]].values \n",
    "n_clusters = 10\n",
    "#marker_colors = ['r', 'b', 'r', 'r', 'r', 'b', 'r', 'b']\n",
    "\n",
    "scl_obj = StandardScaler()\n",
    "scl_obj.fit(X_all) # find scalings for each column that make this zero mean and unit std\n",
    "# the line of code above only looks at training data to get mean and std and we can use it \n",
    "# to transform new feature data\n",
    "\n",
    "X_scaled= scl_obj.transform(X_all) # apply to training"
   ]
  },
  {
   "cell_type": "code",
   "execution_count": null,
   "metadata": {},
   "outputs": [],
   "source": [
    "from sklearn.cluster import DBSCAN\n",
    "\n",
    "modelDBSCAN = DBSCAN(eps=0.99, min_samples=db_minpts).fit(pdata_z)\n",
    "labelsDBSCAN = modelDBSCAN.labels_\n",
    "pdata['labelsDBSCAN'] = labelsDBSCAN\n",
    "\n"
   ]
  },
  {
   "cell_type": "code",
   "execution_count": null,
   "metadata": {},
   "outputs": [],
   "source": [
    "modelDBSCANAll = DBSCAN(eps=0.8, min_samples=15).fit(X_scaled)\n",
    "\n",
    "labelsDBSCANAll = modelDBSCANAll.labels_"
   ]
  },
  {
   "cell_type": "code",
   "execution_count": null,
   "metadata": {},
   "outputs": [],
   "source": [
    "pdata.head()"
   ]
  },
  {
   "cell_type": "code",
   "execution_count": null,
   "metadata": {},
   "outputs": [],
   "source": [
    "#https://scikit-learn.org/stable/modules/generated/sklearn.cluster.DBSCAN.html\n"
   ]
  },
  {
   "cell_type": "code",
   "execution_count": null,
   "metadata": {},
   "outputs": [],
   "source": [
    "plt.scatter(pdata_z.number_of_reviews, pdata_z.accommodates,  c=labelsDBSCAN, alpha=0.5)\n",
    "plt.title(\"DBScan Clustering on number of Reviews vs property type\")\n",
    "plt.xlabel(\"No of Reviews\")\n",
    "plt.ylabel(\"Property Type\")\n",
    "plt.show()\n",
    "# Plot result\n",
    "import matplotlib.pyplot as plt\n",
    "%matplotlib inline\n",
    "\n",
    "# Black removed and is used for noise instead.\n",
    "unique_labels = set(labels)\n",
    "colors = [plt.cm.Spectral(each)\n",
    "          for each in np.linspace(0, 1, len(unique_labels))]\n",
    "for k, col in zip(unique_labels, colors):\n",
    "    if k == -1:\n",
    "        # Black used for noise.\n",
    "        col = [0, 0, 0, 1]\n",
    "\n",
    "    class_member_mask = (labels == k)\n",
    "\n",
    "    xy = X[class_member_mask & core_samples_mask]\n",
    "    plt.plot(xy[:, 0], xy[:, 1], 'o', markerfacecolor=tuple(col),\n",
    "             markeredgecolor='k', markersize=14)\n",
    "\n",
    "    xy = X[class_member_mask & ~core_samples_mask]\n",
    "    plt.plot(xy[:, 0], xy[:, 1], 'o', markerfacecolor=tuple(col),\n",
    "             markeredgecolor='k', markersize=6)\n",
    "\n",
    "plt.title('Estimated number of clusters: %d' % n_clusters_)\n",
    "plt.show()"
   ]
  },
  {
   "cell_type": "code",
   "execution_count": null,
   "metadata": {},
   "outputs": [],
   "source": [
    "plt.scatter(pdata_z.number_of_reviews, pdata_z.accommodates,  c=labelsDBSCAN, alpha=0.5)\n",
    "plt.title(\"DBScan Clustering on number of Reviews vs property type\")\n",
    "plt.xlabel(\"No of Reviews\")\n",
    "plt.ylabel(\"Property Type\")\n",
    "plt.show()"
   ]
  },
  {
   "cell_type": "code",
   "execution_count": null,
   "metadata": {},
   "outputs": [],
   "source": [
    "# Generate sample data\n",
    "centers = [[1, 1], [-1, -1], [1, -1]]\n",
    "X, labels_true = make_blobs(n_samples=750, centers=centers, cluster_std=0.4,\n",
    "                            random_state=0)\n",
    "\n",
    "X = StandardScaler().fit_transform(X_all)\n",
    "\n",
    "# Compute DBSCAN\n",
    "db = DBSCAN(eps=0.3, min_samples=10).fit(X)\n",
    "core_samples_mask = np.zeros_like(db.labels_, dtype=bool)\n",
    "core_samples_mask[db.core_sample_indices_] = True\n",
    "labels = db.labels_"
   ]
  },
  {
   "cell_type": "code",
   "execution_count": null,
   "metadata": {},
   "outputs": [],
   "source": [
    "import numpy as np\n",
    "from sklearn.cluster import DBSCAN\n",
    "from sklearn import metrics\n",
    "from sklearn.datasets import make_blobs\n",
    "from sklearn.preprocessing import StandardScaler\n",
    "\n",
    "\n",
    "# Number of clusters in labels, ignoring noise if present.\n",
    "n_clusters_ = len(set(labels)) - (1 if -1 in labels else 0)\n",
    "n_noise_ = list(labels).count(-1)"
   ]
  },
  {
   "cell_type": "code",
   "execution_count": null,
   "metadata": {},
   "outputs": [],
   "source": [
    "print('Estimated number of clusters: %d' % n_clusters_)\n",
    "print('Estimated number of noise points: %d' % n_noise_)\n",
    "print(\"Silhouette Coefficient: %0.3f\"\n",
    "      % metrics.silhouette_score(X, labels))\n"
   ]
  },
  {
   "cell_type": "code",
   "execution_count": null,
   "metadata": {},
   "outputs": [],
   "source": [
    "# Plot result\n",
    "import matplotlib.pyplot as plt\n",
    "%matplotlib inline\n",
    "\n",
    "# Black removed and is used for noise instead.\n",
    "unique_labels = set(labels)\n",
    "colors = [plt.cm.Spectral(each)\n",
    "          for each in np.linspace(0, 1, len(unique_labels))]\n",
    "for k, col in zip(unique_labels, colors):\n",
    "    if k == -1:\n",
    "        # Black used for noise.\n",
    "        col = [0, 0, 0, 1]\n",
    "\n",
    "    class_member_mask = (labels == k)\n",
    "\n",
    "    xy = X[class_member_mask & core_samples_mask]\n",
    "    plt.plot(xy[:, 0], xy[:, 1], 'o', markerfacecolor=tuple(col),\n",
    "             markeredgecolor='k', markersize=14)\n",
    "\n",
    "    xy = X[class_member_mask & ~core_samples_mask]\n",
    "    plt.plot(xy[:, 0], xy[:, 1], 'o', markerfacecolor=tuple(col),\n",
    "             markeredgecolor='k', markersize=6)\n",
    "\n",
    "plt.title('Estimated number of clusters: %d' % n_clusters_)\n",
    "plt.show()"
   ]
  },
  {
   "cell_type": "code",
   "execution_count": null,
   "metadata": {},
   "outputs": [],
   "source": [
    "X_3dAll = pdata_z.copy()\n",
    "\n",
    "import plotly.express as px\n",
    "\n",
    "fig = px.scatter_3d(pdata_z, x='log_price', y='beds', z='bedrooms', color='GROUP')\n",
    "fig.show()\n",
    "\n",
    "fig = px.scatter_3d(pdata_z, x='review_scores_rating', y='price', z='accommodates', color='GROUP')\n",
    "fig.show()"
   ]
  },
  {
   "cell_type": "code",
   "execution_count": null,
   "metadata": {},
   "outputs": [],
   "source": [
    "print(labelsDBSCAN)"
   ]
  },
  {
   "cell_type": "code",
   "execution_count": null,
   "metadata": {},
   "outputs": [],
   "source": [
    "#Assess the distribution of clusters formed\n",
    "pdata_z['labelsDBScan'] =   labelsDBSCAN\n",
    "pdata['labelsDBScan'] =   labelsDBSCAN\n",
    "dataset['labelsDBScan'] =   labelsDBSCAN"
   ]
  },
  {
   "cell_type": "code",
   "execution_count": null,
   "metadata": {},
   "outputs": [],
   "source": [
    "pdata['labelsDBScan'].nunique()  "
   ]
  },
  {
   "cell_type": "markdown",
   "metadata": {
    "id": "20gVETnyOYG9"
   },
   "source": [
    "##### 2.3.2 K-Nearest Neighbors Classification"
   ]
  },
  {
   "cell_type": "code",
   "execution_count": null,
   "metadata": {
    "colab": {
     "base_uri": "https://localhost:8080/"
    },
    "id": "s0KiJVYwOYG9",
    "outputId": "80acdefd-9d34-4e0d-eaa5-2b37c45b2a75"
   },
   "outputs": [],
   "source": [
    "get_ipython().run_line_magic('time', '')\n",
    "from sklearn.pipeline import make_pipeline\n",
    "from sklearn.neighbors import KNeighborsClassifier\n",
    "from sklearn.preprocessing import StandardScaler\n",
    "from sklearn.model_selection import GridSearchCV\n",
    "from sklearn.model_selection import ShuffleSplit\n",
    "from sklearn.pipeline import Pipeline\n",
    "\n",
    "\n",
    "#pipe = make_pipeline(('scale', StandardScaler()),  ('knn', KNeighborsClassifier()))\n",
    "\n",
    "pipe = Pipeline([('scale', StandardScaler()),  \n",
    "                         ('knn', KNeighborsClassifier())]) \n",
    "\n",
    "# Define a range of hyper parameters for grid search\n",
    "parameters = { 'knn__n_neighbors': [10,45,50]\n",
    "              , 'knn__algorithm' : [\"auto\", \"ball_tree\", \"kd_tree\", \"brute\"]\n",
    "             }\n",
    "\n",
    "#Perform the grid search using accuracy as a metric during cross validation.\n",
    "gridKnn = GridSearchCV(pipe, parameters, cv=cv, scoring='accuracy') # can try f1_micro, f1_maco accuracy....\n",
    "\n",
    "#Use the best features from recursive feature elimination during the grid search\n",
    "gridKnn.fit(X_train_scaled_cls, y_train_cls)\n",
    "\n",
    "#display the best pipeline model identified during the grid search\n",
    "gridKnn.best_estimator_"
   ]
  },
  {
   "cell_type": "code",
   "execution_count": null,
   "metadata": {
    "id": "rOBPxVFj9h3C"
   },
   "outputs": [],
   "source": [
    "gridKnn.best_params_"
   ]
  },
  {
   "cell_type": "code",
   "execution_count": null,
   "metadata": {
    "id": "-6k5J5M89ife"
   },
   "outputs": [],
   "source": [
    "KNNmodelFINAL = KNeighborsClassifier(algorithm = 'auto', n_neighbors = 45) # get object\n",
    "KNNmodelFINAL.fit(X_train_scaled_cls, y_train_cls)\n",
    "KNNy_hat = KNNmodelFINAL.predict(X_test_scaled_cls)"
   ]
  },
  {
   "cell_type": "code",
   "execution_count": null,
   "metadata": {
    "id": "1H0hI1ZH9isp"
   },
   "outputs": [],
   "source": [
    "from sklearn.model_selection import cross_val_score\n",
    "KNNaccuracies = cross_val_score(KNNmodelFINAL, X_scaled_cls, y=y_cls, cv=cv) # this also can help with parallelism\n",
    "print(KNNaccuracies)"
   ]
  },
  {
   "cell_type": "code",
   "execution_count": null,
   "metadata": {
    "id": "3WlK4CzJ9i7L"
   },
   "outputs": [],
   "source": [
    "from sklearn.metrics import classification_report, confusion_matrix\n",
    "\n",
    "## function to get confusion matrix in a proper format\n",
    "def draw_cm( actual, predicted ):\n",
    "    cm = confusion_matrix( actual, predicted)\n",
    "    sns.heatmap(cm, annot=True,  fmt='.2f', xticklabels = [0,1] , yticklabels = [0,1] )\n",
    "    plt.ylabel('Observed')\n",
    "    plt.xlabel('Predicted')\n",
    "    plt.show()\n",
    "\n",
    "print(\"Training accuracy\",round(KNNmodelFINAL.score(X_train_scaled_cls,y_train_cls),ndigits=3))\n",
    "print()\n",
    "print(\"Testing accuracy\",round(mt.accuracy_score(y_test_cls, KNNy_hat),ndigits=3))\n",
    "print()\n",
    "print('Confusion Matrix')\n",
    "print(draw_cm(y_test_cls,KNNy_hat))\n",
    "\n",
    "print(classification_report(y_test_cls,KNNy_hat))"
   ]
  },
  {
   "cell_type": "code",
   "execution_count": null,
   "metadata": {
    "id": "r6M-_zet-BnT"
   },
   "outputs": [],
   "source": [
    "KNN_ac = round(mt.accuracy_score(y_test_cls, KNNy_hat),ndigits=3)\n",
    "\n",
    "print(KNN_ac)"
   ]
  },
  {
   "cell_type": "code",
   "execution_count": null,
   "metadata": {},
   "outputs": [],
   "source": [
    "Kmeans_results.plot.bar()"
   ]
  },
  {
   "cell_type": "code",
   "execution_count": null,
   "metadata": {},
   "outputs": [],
   "source": []
  },
  {
   "cell_type": "markdown",
   "metadata": {},
   "source": [
    "#### 3.4 Comparison of all Clustering Techniques"
   ]
  },
  {
   "cell_type": "code",
   "execution_count": null,
   "metadata": {},
   "outputs": [],
   "source": [
    "from sklearn.cluster import AgglomerativeClustering\n",
    "#Comparison of the Clustering\n",
    "data = pdata_z\n",
    "\n",
    "cls = DBSCAN(eps=0.99, min_samples=2)\n",
    "cls.fit(data)\n",
    "dbs_labels = cls.labels_ \n",
    "\n",
    "cls = AgglomerativeClustering(n_clusters=6, linkage='complete')\n",
    "cls.fit(data)\n",
    "hac_labels = cls.labels_ \n",
    "\n",
    "cls = KMeans(n_clusters=6, random_state=12)\n",
    "cls.fit(data)\n",
    "kmn_labels = cls.labels_\n",
    "\n",
    "fig = plt.figure(figsize=(12,8))\n",
    "title = ['DBSCAN','HAC','KMEANS']\n",
    "\n",
    "for i,l in enumerate([dbs_labels,hac_labels,kmn_labels]):\n",
    "    \n",
    "    plt.subplot(3,2,2*i+1)\n",
    "    plt.scatter(data[:, 0], data[:, 1]+np.random.random(data[:, 1].shape)/2, c=l, cmap=plt.cm.rainbow, s=20, linewidths=0)\n",
    "    plt.xlabel('Age (normalized)'), plt.ylabel('Parch')\n",
    "    plt.grid()\n",
    "    plt.title(title[i])\n",
    "    \n",
    "    plt.subplot(3,2,2*i+2)\n",
    "    plt.scatter(data[:, 0], data[:, 2]+np.random.random(data[:, 1].shape)/2, c=l, cmap=plt.cm.rainbow, s=20, linewidths=0)\n",
    "    plt.xlabel('Age (normalized)'), plt.ylabel('SibSp')\n",
    "    plt.grid()\n",
    "    plt.title(title[i])\n",
    "    \n",
    "    \n",
    "\n",
    "\n",
    "plt.tight_layout()\n",
    "plt.show()"
   ]
  },
  {
   "cell_type": "markdown",
   "metadata": {},
   "source": [
    "### 4. Deployment"
   ]
  },
  {
   "cell_type": "markdown",
   "metadata": {},
   "source": []
  },
  {
   "cell_type": "markdown",
   "metadata": {},
   "source": [
    "### 5. Exceptional Work"
   ]
  },
  {
   "cell_type": "code",
   "execution_count": null,
   "metadata": {},
   "outputs": [],
   "source": []
  }
 ],
 "metadata": {
  "accelerator": "GPU",
  "colab": {
   "machine_shape": "hm",
   "name": "Project_2_Final.ipynb",
   "provenance": []
  },
  "kernelspec": {
   "display_name": "Python 3",
   "language": "python",
   "name": "python3"
  },
  "language_info": {
   "codemirror_mode": {
    "name": "ipython",
    "version": 3
   },
   "file_extension": ".py",
   "mimetype": "text/x-python",
   "name": "python",
   "nbconvert_exporter": "python",
   "pygments_lexer": "ipython3",
   "version": "3.8.8"
  }
 },
 "nbformat": 4,
 "nbformat_minor": 1
}
