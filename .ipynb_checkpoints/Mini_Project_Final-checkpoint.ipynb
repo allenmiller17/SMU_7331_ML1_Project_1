{
 "cells": [
  {
   "cell_type": "markdown",
   "metadata": {
    "id": "shBxlqWhtBMq"
   },
   "source": [
    "# DS-7331 Machine Learning Mini Project\n",
    "## Airbnb Price Data - Logistic and SVM\n",
    "### Allen Miller, Ana Glaser, Jake Harrison, Lola Awodipe\n",
    "\n",
    "https://nbviewer.jupyter.org/github/allenmiller17/SMU_7331_ML1_Project_1/blob/main/Mini_Project_Final.ipynb"
   ]
  },
  {
   "cell_type": "code",
   "execution_count": 175,
   "metadata": {
    "id": "0UVfzQcEtBMv"
   },
   "outputs": [],
   "source": [
    "#loading libraries\n",
    "import warnings\n",
    "warnings.filterwarnings('ignore')\n",
    "\n",
    "import pandas as pd\n",
    "from sklearn.linear_model import LogisticRegression\n",
    "\n",
    "import matplotlib.pyplot as plt\n",
    "%matplotlib inline\n",
    "\n",
    "import seaborn as sns\n",
    "\n",
    "from sklearn.model_selection import train_test_split\n",
    "\n",
    "import numpy as np\n",
    "from scipy import stats\n",
    "\n",
    "from sklearn import metrics as mt"
   ]
  },
  {
   "cell_type": "code",
   "execution_count": 176,
   "metadata": {
    "colab": {
     "base_uri": "https://localhost:8080/"
    },
    "id": "j9GlYNcqtGL0",
    "outputId": "8b3f7600-0ae5-46b9-a49a-5cd39d348152"
   },
   "outputs": [
    {
     "name": "stdout",
     "output_type": "stream",
     "text": [
      "Drive already mounted at /content/drive/; to attempt to forcibly remount, call drive.mount(\"/content/drive/\", force_remount=True).\n"
     ]
    }
   ],
   "source": [
    "#mounting google drive\n",
    "from google.colab import drive\n",
    "drive.mount('/content/drive/')"
   ]
  },
  {
   "cell_type": "code",
   "execution_count": 177,
   "metadata": {
    "id": "2APcUIoQtPIU"
   },
   "outputs": [],
   "source": [
    "#setting path and loading data\n",
    "data_path = \"/content/drive/My Drive/DLCP/airbnb.csv\"\n",
    "pdata = pd.read_csv(data_path)"
   ]
  },
  {
   "cell_type": "markdown",
   "metadata": {
    "id": "9UmfOcVQtBMx"
   },
   "source": [
    "### **Business Understanding**"
   ]
  },
  {
   "cell_type": "markdown",
   "metadata": {
    "id": "UBhbwwXPD4YP"
   },
   "source": [
    "\n",
    "For our project, we decided to use AirBnb data from six major cities in the United States from kaggle.com. Our objective is to classify the type of property based on the data attributes like city, number of reviews, bathrooms, bedrooms and number of people it accommodates. To assess the effectiveness of our classification, we will look at the accuracy, precision, recall and evaluate the confusion matrix results."
   ]
  },
  {
   "cell_type": "markdown",
   "metadata": {
    "id": "KklHSSoqyX8F"
   },
   "source": [
    "### **Data Understanding**"
   ]
  },
  {
   "cell_type": "code",
   "execution_count": 61,
   "metadata": {
    "colab": {
     "base_uri": "https://localhost:8080/"
    },
    "id": "m7nEeG-gtBMw",
    "outputId": "22fa620c-c35a-41bb-acef-8db2f5b96eb9"
   },
   "outputs": [
    {
     "name": "stdout",
     "output_type": "stream",
     "text": [
      "<class 'pandas.core.frame.DataFrame'>\n",
      "RangeIndex: 74111 entries, 0 to 74110\n",
      "Data columns (total 26 columns):\n",
      " #   Column                  Non-Null Count  Dtype  \n",
      "---  ------                  --------------  -----  \n",
      " 0   id                      74111 non-null  int64  \n",
      " 1   log_price               74111 non-null  float64\n",
      " 2   property_type           74111 non-null  object \n",
      " 3   room_type               74111 non-null  object \n",
      " 4   accommodates            74111 non-null  int64  \n",
      " 5   bathrooms               73911 non-null  float64\n",
      " 6   bed_type                74111 non-null  object \n",
      " 7   cancellation_policy     74111 non-null  object \n",
      " 8   cleaning_fee            74111 non-null  bool   \n",
      " 9   city                    74111 non-null  object \n",
      " 10  description             74111 non-null  object \n",
      " 11  first_review            58247 non-null  object \n",
      " 12  host_has_profile_pic    73923 non-null  object \n",
      " 13  host_identity_verified  73923 non-null  object \n",
      " 14  host_response_rate      55812 non-null  object \n",
      " 15  host_since              73923 non-null  object \n",
      " 16  instant_bookable        74111 non-null  object \n",
      " 17  last_review             58284 non-null  object \n",
      " 18  latitude                74111 non-null  float64\n",
      " 19  longitude               74111 non-null  float64\n",
      " 20  neighbourhood           67239 non-null  object \n",
      " 21  number_of_reviews       74111 non-null  int64  \n",
      " 22  review_scores_rating    57389 non-null  float64\n",
      " 23  zipcode                 73145 non-null  object \n",
      " 24  bedrooms                74020 non-null  float64\n",
      " 25  beds                    73980 non-null  float64\n",
      "dtypes: bool(1), float64(7), int64(3), object(15)\n",
      "memory usage: 14.2+ MB\n"
     ]
    }
   ],
   "source": [
    "#importing the data and exploring the attributes\n",
    "#pdata = pd.read_csv(\"airbnb.csv\")\n",
    "pdata.info()"
   ]
  },
  {
   "cell_type": "markdown",
   "metadata": {
    "id": "UljTO_XE-HO7"
   },
   "source": [
    "##### Re-Exploring Outliers"
   ]
  },
  {
   "cell_type": "markdown",
   "metadata": {
    "id": "jp1K4Vxl-HO8"
   },
   "source": [
    "Due to feedback received from our last submission and implementing the CRISP methodology we decided to re-evaluate  the outliers and structure of the dataset.  Four features stood out to us as being heavily skewed, so we took a deeper dive into those data sets and evaluates how to approach their outliers. \n",
    "\n",
    "The number of reviews feature showed data that was heavily skewed to the left. Running the models with and without the outliers, we concluded that these outliers didn't provide a lot of predictive power, but the feature overall did. This led us to take all the outliers that fell below the 1st quartile, and bring them up ot the lowest whisker. Although it did not normally distribute the observations it did significantly reduce the level of skewness in the data from 3 to 1.\n",
    "\n",
    "This process was repeated for the review scores rating, and beds features with a similar result in reducing the skewness of the data.  Since Logistic regression does not require the data to be normally distributed, we proceeded with the analysis.\n",
    "\n",
    "Finally after exploring the bedrooms, accommodates and bathrooms outliers, we felt it best to leave these outliers untouched, since these attributes are more relevant when determining what type of property it is. We felt that they still held predictive power.\n"
   ]
  },
  {
   "cell_type": "markdown",
   "metadata": {
    "id": "QHuLgiOI-HO8"
   },
   "source": [
    "##### Attributes and Assumptions"
   ]
  },
  {
   "cell_type": "markdown",
   "metadata": {
    "id": "wmdIm67NNA29"
   },
   "source": [
    "Because normality is not an assumption for Logistic Regression we weren't worried about having a normal distribution for our feature observations, so we chose not to transform any of these variables.\n",
    "\n",
    "The attribute of neighborhood made our data very sparse and it increased run time dramatically, when we tested the models with and without it, we only lost 3% accuracy points, so the cost benefit of run time vs model performance seemed like a fair trade-off."
   ]
  },
  {
   "cell_type": "markdown",
   "metadata": {
    "id": "6lYHCMFNyuAb"
   },
   "source": [
    "### **Data Preparation**\n",
    "\n",
    "Based on our understanding of the data structure and the assumptions required for this type of classification task, we prepared and transformed the data as follows."
   ]
  },
  {
   "cell_type": "code",
   "execution_count": 178,
   "metadata": {
    "id": "qr9f9CXftBMx"
   },
   "outputs": [],
   "source": [
    "#dropping records with excess blank values, still had over 64k records to evaluate\n",
    "pdata = pdata.dropna()"
   ]
  },
  {
   "cell_type": "code",
   "execution_count": 179,
   "metadata": {
    "id": "0DyQP_DXQEYC"
   },
   "outputs": [],
   "source": [
    "#removing outliers to reduce skewness of data \n",
    "z = pdata[pdata['number_of_reviews']> 100]\n",
    "for i in list (z[z['number_of_reviews']> 100].index):\n",
    "    pdata.loc[i,'number_of_reviews'] = 100"
   ]
  },
  {
   "cell_type": "code",
   "execution_count": 180,
   "metadata": {
    "id": "6YwlnlAWQYna"
   },
   "outputs": [],
   "source": [
    "y = pdata[pdata['review_scores_rating']< 80]\n",
    "for i in list (y[y['review_scores_rating']< 80].index):\n",
    "    pdata.loc[i,'review_scores_rating'] = 80"
   ]
  },
  {
   "cell_type": "code",
   "execution_count": 181,
   "metadata": {
    "id": "gPzCuBe3RT30"
   },
   "outputs": [],
   "source": [
    "x = pdata[pdata['beds']> 5]\n",
    "for i in list (x[x['beds']> 5].index):\n",
    "    pdata.loc[i,'beds'] = 5"
   ]
  },
  {
   "cell_type": "code",
   "execution_count": 66,
   "metadata": {
    "colab": {
     "base_uri": "https://localhost:8080/"
    },
    "id": "ggpi4uHVncaL",
    "outputId": "f7859039-56f0-43c3-cad7-216defba9702"
   },
   "outputs": [
    {
     "data": {
      "text/plain": [
       "id                     -0.255823\n",
       "log_price               0.377120\n",
       "accommodates            2.119839\n",
       "bathrooms               3.705744\n",
       "cleaning_fee           -1.701312\n",
       "latitude               -0.649299\n",
       "longitude              -0.502707\n",
       "number_of_reviews       1.268297\n",
       "review_scores_rating   -1.155152\n",
       "bedrooms                1.874469\n",
       "beds                    1.539853\n",
       "dtype: float64"
      ]
     },
     "execution_count": 66,
     "metadata": {
      "tags": []
     },
     "output_type": "execute_result"
    }
   ],
   "source": [
    "#evaluating data for skewness after outlier transformation\n",
    "pdata.skew()"
   ]
  },
  {
   "cell_type": "markdown",
   "metadata": {
    "id": "oovA0q2v-HO_"
   },
   "source": [
    "##### Data Transformation"
   ]
  },
  {
   "cell_type": "markdown",
   "metadata": {
    "id": "IL3Kv6iF-HO_"
   },
   "source": [
    "To assist in predicting the property type of an Airbnb we decided to make a couple of changes to the features that could increase the predictability. \n",
    "\n",
    "We first collapsed the property type feature to only contain two distinct values, making this a binary classification problem. A property type could only be classified as Apartment or Other. This eliminated the smaller sub-types of a property such as, Loft, Condo, House, etc. We chose Apartment due to the large amounts of observations that were present in the data set and saw an increase in our accuracy (found at the end of this report)\n",
    "\n",
    "Second we decided to remove the longitude and latitude variables and replace them with a variable called region. This variable split the United States in half and classified the observation as either East or West. This increased the performance of our models and allowed us to reduce the number of predictors included in the models."
   ]
  },
  {
   "cell_type": "code",
   "execution_count": 182,
   "metadata": {
    "id": "od-fD77wtBMx"
   },
   "outputs": [],
   "source": [
    "#transforming the property type to a binary classification\n",
    "value_list = [\"Apartment\"]\n",
    "boolean_series = ~pdata.property_type.isin(value_list)\n",
    "filtered_df = pdata[boolean_series]\n",
    "\n",
    "filtered_df.head(100)\n",
    "\n",
    "for i in list (filtered_df.index):\n",
    "    pdata.loc[i,'property_type'] = \"other\"\n",
    "\n",
    "#transforming the longitude and latitude variables to East / West\n",
    "pdata[\"region\"] = pd.cut(pdata.longitude,[-200,-100,0],2,labels=[\"West\",\"East\"])"
   ]
  },
  {
   "cell_type": "code",
   "execution_count": 68,
   "metadata": {
    "colab": {
     "base_uri": "https://localhost:8080/",
     "height": 535
    },
    "id": "4BA1AxqKtBMy",
    "outputId": "520e7a65-1102-4e71-9870-0e0922fd6bcd"
   },
   "outputs": [
    {
     "data": {
      "text/html": [
       "<div>\n",
       "<style scoped>\n",
       "    .dataframe tbody tr th:only-of-type {\n",
       "        vertical-align: middle;\n",
       "    }\n",
       "\n",
       "    .dataframe tbody tr th {\n",
       "        vertical-align: top;\n",
       "    }\n",
       "\n",
       "    .dataframe thead th {\n",
       "        text-align: right;\n",
       "    }\n",
       "</style>\n",
       "<table border=\"1\" class=\"dataframe\">\n",
       "  <thead>\n",
       "    <tr style=\"text-align: right;\">\n",
       "      <th></th>\n",
       "      <th>id</th>\n",
       "      <th>log_price</th>\n",
       "      <th>property_type</th>\n",
       "      <th>room_type</th>\n",
       "      <th>accommodates</th>\n",
       "      <th>bathrooms</th>\n",
       "      <th>bed_type</th>\n",
       "      <th>cancellation_policy</th>\n",
       "      <th>cleaning_fee</th>\n",
       "      <th>city</th>\n",
       "      <th>description</th>\n",
       "      <th>first_review</th>\n",
       "      <th>host_has_profile_pic</th>\n",
       "      <th>host_identity_verified</th>\n",
       "      <th>host_response_rate</th>\n",
       "      <th>host_since</th>\n",
       "      <th>instant_bookable</th>\n",
       "      <th>last_review</th>\n",
       "      <th>latitude</th>\n",
       "      <th>longitude</th>\n",
       "      <th>neighbourhood</th>\n",
       "      <th>number_of_reviews</th>\n",
       "      <th>review_scores_rating</th>\n",
       "      <th>zipcode</th>\n",
       "      <th>bedrooms</th>\n",
       "      <th>beds</th>\n",
       "      <th>region</th>\n",
       "    </tr>\n",
       "  </thead>\n",
       "  <tbody>\n",
       "    <tr>\n",
       "      <th>1</th>\n",
       "      <td>6304928</td>\n",
       "      <td>5.129899</td>\n",
       "      <td>Apartment</td>\n",
       "      <td>Entire home/apt</td>\n",
       "      <td>7</td>\n",
       "      <td>1.0</td>\n",
       "      <td>Real Bed</td>\n",
       "      <td>strict</td>\n",
       "      <td>True</td>\n",
       "      <td>NYC</td>\n",
       "      <td>Enjoy travelling during your stay in Manhattan...</td>\n",
       "      <td>8/5/2017</td>\n",
       "      <td>t</td>\n",
       "      <td>f</td>\n",
       "      <td>100%</td>\n",
       "      <td>6/19/2017</td>\n",
       "      <td>t</td>\n",
       "      <td>9/23/2017</td>\n",
       "      <td>40.766115</td>\n",
       "      <td>-73.989040</td>\n",
       "      <td>Hell's Kitchen</td>\n",
       "      <td>6</td>\n",
       "      <td>93.0</td>\n",
       "      <td>10019</td>\n",
       "      <td>3.0</td>\n",
       "      <td>3.0</td>\n",
       "      <td>East</td>\n",
       "    </tr>\n",
       "    <tr>\n",
       "      <th>2</th>\n",
       "      <td>7919400</td>\n",
       "      <td>4.976734</td>\n",
       "      <td>Apartment</td>\n",
       "      <td>Entire home/apt</td>\n",
       "      <td>5</td>\n",
       "      <td>1.0</td>\n",
       "      <td>Real Bed</td>\n",
       "      <td>moderate</td>\n",
       "      <td>True</td>\n",
       "      <td>NYC</td>\n",
       "      <td>The Oasis comes complete with a full backyard ...</td>\n",
       "      <td>4/30/2017</td>\n",
       "      <td>t</td>\n",
       "      <td>t</td>\n",
       "      <td>100%</td>\n",
       "      <td>10/25/2016</td>\n",
       "      <td>t</td>\n",
       "      <td>9/14/2017</td>\n",
       "      <td>40.808110</td>\n",
       "      <td>-73.943756</td>\n",
       "      <td>Harlem</td>\n",
       "      <td>10</td>\n",
       "      <td>92.0</td>\n",
       "      <td>10027</td>\n",
       "      <td>1.0</td>\n",
       "      <td>3.0</td>\n",
       "      <td>East</td>\n",
       "    </tr>\n",
       "    <tr>\n",
       "      <th>4</th>\n",
       "      <td>3808709</td>\n",
       "      <td>4.744932</td>\n",
       "      <td>Apartment</td>\n",
       "      <td>Entire home/apt</td>\n",
       "      <td>2</td>\n",
       "      <td>1.0</td>\n",
       "      <td>Real Bed</td>\n",
       "      <td>moderate</td>\n",
       "      <td>True</td>\n",
       "      <td>DC</td>\n",
       "      <td>Cool, cozy, and comfortable studio located in ...</td>\n",
       "      <td>5/12/2015</td>\n",
       "      <td>t</td>\n",
       "      <td>t</td>\n",
       "      <td>100%</td>\n",
       "      <td>3/1/2015</td>\n",
       "      <td>t</td>\n",
       "      <td>1/22/2017</td>\n",
       "      <td>38.925627</td>\n",
       "      <td>-77.034596</td>\n",
       "      <td>Columbia Heights</td>\n",
       "      <td>4</td>\n",
       "      <td>80.0</td>\n",
       "      <td>20009</td>\n",
       "      <td>0.0</td>\n",
       "      <td>1.0</td>\n",
       "      <td>East</td>\n",
       "    </tr>\n",
       "    <tr>\n",
       "      <th>5</th>\n",
       "      <td>12422935</td>\n",
       "      <td>4.442651</td>\n",
       "      <td>Apartment</td>\n",
       "      <td>Private room</td>\n",
       "      <td>2</td>\n",
       "      <td>1.0</td>\n",
       "      <td>Real Bed</td>\n",
       "      <td>strict</td>\n",
       "      <td>True</td>\n",
       "      <td>SF</td>\n",
       "      <td>Beautiful private room overlooking scenic view...</td>\n",
       "      <td>8/27/2017</td>\n",
       "      <td>t</td>\n",
       "      <td>t</td>\n",
       "      <td>100%</td>\n",
       "      <td>6/7/2017</td>\n",
       "      <td>t</td>\n",
       "      <td>9/5/2017</td>\n",
       "      <td>37.753164</td>\n",
       "      <td>-122.429526</td>\n",
       "      <td>Noe Valley</td>\n",
       "      <td>3</td>\n",
       "      <td>100.0</td>\n",
       "      <td>94131</td>\n",
       "      <td>1.0</td>\n",
       "      <td>1.0</td>\n",
       "      <td>West</td>\n",
       "    </tr>\n",
       "    <tr>\n",
       "      <th>7</th>\n",
       "      <td>13971273</td>\n",
       "      <td>4.787492</td>\n",
       "      <td>other</td>\n",
       "      <td>Entire home/apt</td>\n",
       "      <td>2</td>\n",
       "      <td>1.0</td>\n",
       "      <td>Real Bed</td>\n",
       "      <td>moderate</td>\n",
       "      <td>True</td>\n",
       "      <td>LA</td>\n",
       "      <td>Arguably the best location (and safest) in dow...</td>\n",
       "      <td>12/16/2016</td>\n",
       "      <td>t</td>\n",
       "      <td>t</td>\n",
       "      <td>100%</td>\n",
       "      <td>5/18/2013</td>\n",
       "      <td>f</td>\n",
       "      <td>4/12/2017</td>\n",
       "      <td>34.046737</td>\n",
       "      <td>-118.260439</td>\n",
       "      <td>Downtown</td>\n",
       "      <td>9</td>\n",
       "      <td>93.0</td>\n",
       "      <td>90015</td>\n",
       "      <td>1.0</td>\n",
       "      <td>1.0</td>\n",
       "      <td>West</td>\n",
       "    </tr>\n",
       "  </tbody>\n",
       "</table>\n",
       "</div>"
      ],
      "text/plain": [
       "         id  log_price property_type  ... bedrooms  beds  region\n",
       "1   6304928   5.129899     Apartment  ...      3.0   3.0    East\n",
       "2   7919400   4.976734     Apartment  ...      1.0   3.0    East\n",
       "4   3808709   4.744932     Apartment  ...      0.0   1.0    East\n",
       "5  12422935   4.442651     Apartment  ...      1.0   1.0    West\n",
       "7  13971273   4.787492         other  ...      1.0   1.0    West\n",
       "\n",
       "[5 rows x 27 columns]"
      ]
     },
     "execution_count": 68,
     "metadata": {
      "tags": []
     },
     "output_type": "execute_result"
    }
   ],
   "source": [
    "#evaluating the data after transformation\n",
    "pdata.head()"
   ]
  },
  {
   "cell_type": "markdown",
   "metadata": {
    "id": "_WsSYgNL-HPA"
   },
   "source": [
    "##### Encoding binary variables"
   ]
  },
  {
   "cell_type": "markdown",
   "metadata": {
    "id": "THgNLoL8-HPA"
   },
   "source": [
    "To help our model we encoded all of the boolean features that were originally stored as character fields to reflect actual boolean type variables and reflected true values with a 1 and false values with a 0.\n",
    "\n",
    "We also encoded our response variable to 1 vs 2 to reflect Apartment vs Other."
   ]
  },
  {
   "cell_type": "code",
   "execution_count": 183,
   "metadata": {
    "colab": {
     "base_uri": "https://localhost:8080/",
     "height": 535
    },
    "id": "YjFDyE46tBMz",
    "outputId": "21b4a8d4-ef5d-4b07-e401-c1a379070959"
   },
   "outputs": [
    {
     "data": {
      "text/html": [
       "<div>\n",
       "<style scoped>\n",
       "    .dataframe tbody tr th:only-of-type {\n",
       "        vertical-align: middle;\n",
       "    }\n",
       "\n",
       "    .dataframe tbody tr th {\n",
       "        vertical-align: top;\n",
       "    }\n",
       "\n",
       "    .dataframe thead th {\n",
       "        text-align: right;\n",
       "    }\n",
       "</style>\n",
       "<table border=\"1\" class=\"dataframe\">\n",
       "  <thead>\n",
       "    <tr style=\"text-align: right;\">\n",
       "      <th></th>\n",
       "      <th>id</th>\n",
       "      <th>log_price</th>\n",
       "      <th>property_type</th>\n",
       "      <th>room_type</th>\n",
       "      <th>accommodates</th>\n",
       "      <th>bathrooms</th>\n",
       "      <th>bed_type</th>\n",
       "      <th>cancellation_policy</th>\n",
       "      <th>cleaning_fee</th>\n",
       "      <th>city</th>\n",
       "      <th>description</th>\n",
       "      <th>first_review</th>\n",
       "      <th>host_has_profile_pic</th>\n",
       "      <th>host_identity_verified</th>\n",
       "      <th>host_response_rate</th>\n",
       "      <th>host_since</th>\n",
       "      <th>instant_bookable</th>\n",
       "      <th>last_review</th>\n",
       "      <th>latitude</th>\n",
       "      <th>longitude</th>\n",
       "      <th>neighbourhood</th>\n",
       "      <th>number_of_reviews</th>\n",
       "      <th>review_scores_rating</th>\n",
       "      <th>zipcode</th>\n",
       "      <th>bedrooms</th>\n",
       "      <th>beds</th>\n",
       "      <th>region</th>\n",
       "    </tr>\n",
       "  </thead>\n",
       "  <tbody>\n",
       "    <tr>\n",
       "      <th>1</th>\n",
       "      <td>6304928</td>\n",
       "      <td>5.129899</td>\n",
       "      <td>1</td>\n",
       "      <td>Entire home/apt</td>\n",
       "      <td>7</td>\n",
       "      <td>1.0</td>\n",
       "      <td>Real Bed</td>\n",
       "      <td>strict</td>\n",
       "      <td>1</td>\n",
       "      <td>NYC</td>\n",
       "      <td>Enjoy travelling during your stay in Manhattan...</td>\n",
       "      <td>8/5/2017</td>\n",
       "      <td>t</td>\n",
       "      <td>0</td>\n",
       "      <td>100%</td>\n",
       "      <td>6/19/2017</td>\n",
       "      <td>1</td>\n",
       "      <td>9/23/2017</td>\n",
       "      <td>40.766115</td>\n",
       "      <td>-73.989040</td>\n",
       "      <td>Hell's Kitchen</td>\n",
       "      <td>6</td>\n",
       "      <td>93.0</td>\n",
       "      <td>10019</td>\n",
       "      <td>3.0</td>\n",
       "      <td>3.0</td>\n",
       "      <td>East</td>\n",
       "    </tr>\n",
       "    <tr>\n",
       "      <th>2</th>\n",
       "      <td>7919400</td>\n",
       "      <td>4.976734</td>\n",
       "      <td>1</td>\n",
       "      <td>Entire home/apt</td>\n",
       "      <td>5</td>\n",
       "      <td>1.0</td>\n",
       "      <td>Real Bed</td>\n",
       "      <td>moderate</td>\n",
       "      <td>1</td>\n",
       "      <td>NYC</td>\n",
       "      <td>The Oasis comes complete with a full backyard ...</td>\n",
       "      <td>4/30/2017</td>\n",
       "      <td>t</td>\n",
       "      <td>1</td>\n",
       "      <td>100%</td>\n",
       "      <td>10/25/2016</td>\n",
       "      <td>1</td>\n",
       "      <td>9/14/2017</td>\n",
       "      <td>40.808110</td>\n",
       "      <td>-73.943756</td>\n",
       "      <td>Harlem</td>\n",
       "      <td>10</td>\n",
       "      <td>92.0</td>\n",
       "      <td>10027</td>\n",
       "      <td>1.0</td>\n",
       "      <td>3.0</td>\n",
       "      <td>East</td>\n",
       "    </tr>\n",
       "    <tr>\n",
       "      <th>4</th>\n",
       "      <td>3808709</td>\n",
       "      <td>4.744932</td>\n",
       "      <td>1</td>\n",
       "      <td>Entire home/apt</td>\n",
       "      <td>2</td>\n",
       "      <td>1.0</td>\n",
       "      <td>Real Bed</td>\n",
       "      <td>moderate</td>\n",
       "      <td>1</td>\n",
       "      <td>DC</td>\n",
       "      <td>Cool, cozy, and comfortable studio located in ...</td>\n",
       "      <td>5/12/2015</td>\n",
       "      <td>t</td>\n",
       "      <td>1</td>\n",
       "      <td>100%</td>\n",
       "      <td>3/1/2015</td>\n",
       "      <td>1</td>\n",
       "      <td>1/22/2017</td>\n",
       "      <td>38.925627</td>\n",
       "      <td>-77.034596</td>\n",
       "      <td>Columbia Heights</td>\n",
       "      <td>4</td>\n",
       "      <td>80.0</td>\n",
       "      <td>20009</td>\n",
       "      <td>0.0</td>\n",
       "      <td>1.0</td>\n",
       "      <td>East</td>\n",
       "    </tr>\n",
       "    <tr>\n",
       "      <th>5</th>\n",
       "      <td>12422935</td>\n",
       "      <td>4.442651</td>\n",
       "      <td>1</td>\n",
       "      <td>Private room</td>\n",
       "      <td>2</td>\n",
       "      <td>1.0</td>\n",
       "      <td>Real Bed</td>\n",
       "      <td>strict</td>\n",
       "      <td>1</td>\n",
       "      <td>SF</td>\n",
       "      <td>Beautiful private room overlooking scenic view...</td>\n",
       "      <td>8/27/2017</td>\n",
       "      <td>t</td>\n",
       "      <td>1</td>\n",
       "      <td>100%</td>\n",
       "      <td>6/7/2017</td>\n",
       "      <td>1</td>\n",
       "      <td>9/5/2017</td>\n",
       "      <td>37.753164</td>\n",
       "      <td>-122.429526</td>\n",
       "      <td>Noe Valley</td>\n",
       "      <td>3</td>\n",
       "      <td>100.0</td>\n",
       "      <td>94131</td>\n",
       "      <td>1.0</td>\n",
       "      <td>1.0</td>\n",
       "      <td>West</td>\n",
       "    </tr>\n",
       "    <tr>\n",
       "      <th>7</th>\n",
       "      <td>13971273</td>\n",
       "      <td>4.787492</td>\n",
       "      <td>2</td>\n",
       "      <td>Entire home/apt</td>\n",
       "      <td>2</td>\n",
       "      <td>1.0</td>\n",
       "      <td>Real Bed</td>\n",
       "      <td>moderate</td>\n",
       "      <td>1</td>\n",
       "      <td>LA</td>\n",
       "      <td>Arguably the best location (and safest) in dow...</td>\n",
       "      <td>12/16/2016</td>\n",
       "      <td>t</td>\n",
       "      <td>1</td>\n",
       "      <td>100%</td>\n",
       "      <td>5/18/2013</td>\n",
       "      <td>0</td>\n",
       "      <td>4/12/2017</td>\n",
       "      <td>34.046737</td>\n",
       "      <td>-118.260439</td>\n",
       "      <td>Downtown</td>\n",
       "      <td>9</td>\n",
       "      <td>93.0</td>\n",
       "      <td>90015</td>\n",
       "      <td>1.0</td>\n",
       "      <td>1.0</td>\n",
       "      <td>West</td>\n",
       "    </tr>\n",
       "  </tbody>\n",
       "</table>\n",
       "</div>"
      ],
      "text/plain": [
       "         id  log_price  property_type  ... bedrooms  beds  region\n",
       "1   6304928   5.129899              1  ...      3.0   3.0    East\n",
       "2   7919400   4.976734              1  ...      1.0   3.0    East\n",
       "4   3808709   4.744932              1  ...      0.0   1.0    East\n",
       "5  12422935   4.442651              1  ...      1.0   1.0    West\n",
       "7  13971273   4.787492              2  ...      1.0   1.0    West\n",
       "\n",
       "[5 rows x 27 columns]"
      ]
     },
     "execution_count": 183,
     "metadata": {
      "tags": []
     },
     "output_type": "execute_result"
    }
   ],
   "source": [
    "#Encoding boolean and categorical variables\n",
    "replaceStruct = {\n",
    "                \"cleaning_fee\":     {True: 1, False: 0},\n",
    "                \"instant_bookable\":     {\"t\": 1, \"f\": 0},\n",
    "                \"host_identity_verified\":     {\"t\": 1, \"f\": 0},\n",
    "                \"property_type\":     {\"Apartment\": 1, \"other\": 2},\n",
    "                    }\n",
    "\n",
    "pdata=pdata.replace(replaceStruct)\n",
    "pdata.head()"
   ]
  },
  {
   "cell_type": "markdown",
   "metadata": {
    "id": "KtTGZpfL-HPB"
   },
   "source": [
    "##### One-Hot Encoding Categorical Variables"
   ]
  },
  {
   "cell_type": "markdown",
   "metadata": {
    "id": "HmA_HBUX-HPB"
   },
   "source": [
    "We proceeded to one hot encode the categorical variables that we were going to leave in our models. This created a reference variable (0) and allows us to interpret the coefficients of the variables easier.\n",
    "\n",
    "We also evaluated the number of unique values found in the categorical variables, since hot-encoding the neighborhood attribute, which seemed useful in predicting property type in some cases, had 590 distinct values.  This made the model run time very slow and only gained a modest amount of accuracy.\n",
    "\n",
    "We then dropped all of the other columns that would not be used in the proceeding models, like property descriptions, and those that resulted in a 0.0 coefficient value, lacking predictive power."
   ]
  },
  {
   "cell_type": "code",
   "execution_count": 70,
   "metadata": {
    "colab": {
     "base_uri": "https://localhost:8080/"
    },
    "id": "WJvXCpeXtBMz",
    "outputId": "bac6197b-8f61-41ba-f0a2-427b4fcc0826"
   },
   "outputs": [
    {
     "data": {
      "text/plain": [
       "id                        42775\n",
       "log_price                   643\n",
       "property_type                 2\n",
       "room_type                     3\n",
       "accommodates                 16\n",
       "bathrooms                    17\n",
       "bed_type                      5\n",
       "cancellation_policy           5\n",
       "cleaning_fee                  2\n",
       "city                          6\n",
       "description               42424\n",
       "first_review               2489\n",
       "host_has_profile_pic          2\n",
       "host_identity_verified        2\n",
       "host_response_rate           77\n",
       "host_since                 3000\n",
       "instant_bookable              2\n",
       "last_review                1100\n",
       "latitude                  42758\n",
       "longitude                 42734\n",
       "neighbourhood               590\n",
       "number_of_reviews           100\n",
       "review_scores_rating         21\n",
       "zipcode                     577\n",
       "bedrooms                     11\n",
       "beds                          6\n",
       "region                        2\n",
       "dtype: int64"
      ]
     },
     "execution_count": 70,
     "metadata": {
      "tags": []
     },
     "output_type": "execute_result"
    }
   ],
   "source": [
    "#evaluating categorical value count for one-hot-encoding\n",
    "pdata.nunique()"
   ]
  },
  {
   "cell_type": "code",
   "execution_count": 184,
   "metadata": {
    "colab": {
     "base_uri": "https://localhost:8080/",
     "height": 398
    },
    "id": "_r7bp7i1tBM0",
    "outputId": "4de4eef3-6837-4758-ded7-b4c90ce33fb3"
   },
   "outputs": [
    {
     "data": {
      "text/html": [
       "<div>\n",
       "<style scoped>\n",
       "    .dataframe tbody tr th:only-of-type {\n",
       "        vertical-align: middle;\n",
       "    }\n",
       "\n",
       "    .dataframe tbody tr th {\n",
       "        vertical-align: top;\n",
       "    }\n",
       "\n",
       "    .dataframe thead th {\n",
       "        text-align: right;\n",
       "    }\n",
       "</style>\n",
       "<table border=\"1\" class=\"dataframe\">\n",
       "  <thead>\n",
       "    <tr style=\"text-align: right;\">\n",
       "      <th></th>\n",
       "      <th>log_price</th>\n",
       "      <th>property_type</th>\n",
       "      <th>accommodates</th>\n",
       "      <th>bathrooms</th>\n",
       "      <th>host_identity_verified</th>\n",
       "      <th>instant_bookable</th>\n",
       "      <th>number_of_reviews</th>\n",
       "      <th>review_scores_rating</th>\n",
       "      <th>bedrooms</th>\n",
       "      <th>beds</th>\n",
       "      <th>room_type_Private room</th>\n",
       "      <th>room_type_Shared room</th>\n",
       "      <th>bed_type_Couch</th>\n",
       "      <th>bed_type_Futon</th>\n",
       "      <th>bed_type_Pull-out Sofa</th>\n",
       "      <th>bed_type_Real Bed</th>\n",
       "      <th>city_Chicago</th>\n",
       "      <th>city_DC</th>\n",
       "      <th>city_LA</th>\n",
       "      <th>city_NYC</th>\n",
       "      <th>city_SF</th>\n",
       "      <th>cancellation_policy_moderate</th>\n",
       "      <th>cancellation_policy_strict</th>\n",
       "      <th>cancellation_policy_super_strict_30</th>\n",
       "      <th>cancellation_policy_super_strict_60</th>\n",
       "      <th>region_East</th>\n",
       "    </tr>\n",
       "  </thead>\n",
       "  <tbody>\n",
       "    <tr>\n",
       "      <th>1</th>\n",
       "      <td>5.129899</td>\n",
       "      <td>1</td>\n",
       "      <td>7</td>\n",
       "      <td>1.0</td>\n",
       "      <td>0</td>\n",
       "      <td>1</td>\n",
       "      <td>6</td>\n",
       "      <td>93.0</td>\n",
       "      <td>3.0</td>\n",
       "      <td>3.0</td>\n",
       "      <td>0</td>\n",
       "      <td>0</td>\n",
       "      <td>0</td>\n",
       "      <td>0</td>\n",
       "      <td>0</td>\n",
       "      <td>1</td>\n",
       "      <td>0</td>\n",
       "      <td>0</td>\n",
       "      <td>0</td>\n",
       "      <td>1</td>\n",
       "      <td>0</td>\n",
       "      <td>0</td>\n",
       "      <td>1</td>\n",
       "      <td>0</td>\n",
       "      <td>0</td>\n",
       "      <td>1</td>\n",
       "    </tr>\n",
       "    <tr>\n",
       "      <th>2</th>\n",
       "      <td>4.976734</td>\n",
       "      <td>1</td>\n",
       "      <td>5</td>\n",
       "      <td>1.0</td>\n",
       "      <td>1</td>\n",
       "      <td>1</td>\n",
       "      <td>10</td>\n",
       "      <td>92.0</td>\n",
       "      <td>1.0</td>\n",
       "      <td>3.0</td>\n",
       "      <td>0</td>\n",
       "      <td>0</td>\n",
       "      <td>0</td>\n",
       "      <td>0</td>\n",
       "      <td>0</td>\n",
       "      <td>1</td>\n",
       "      <td>0</td>\n",
       "      <td>0</td>\n",
       "      <td>0</td>\n",
       "      <td>1</td>\n",
       "      <td>0</td>\n",
       "      <td>1</td>\n",
       "      <td>0</td>\n",
       "      <td>0</td>\n",
       "      <td>0</td>\n",
       "      <td>1</td>\n",
       "    </tr>\n",
       "    <tr>\n",
       "      <th>4</th>\n",
       "      <td>4.744932</td>\n",
       "      <td>1</td>\n",
       "      <td>2</td>\n",
       "      <td>1.0</td>\n",
       "      <td>1</td>\n",
       "      <td>1</td>\n",
       "      <td>4</td>\n",
       "      <td>80.0</td>\n",
       "      <td>0.0</td>\n",
       "      <td>1.0</td>\n",
       "      <td>0</td>\n",
       "      <td>0</td>\n",
       "      <td>0</td>\n",
       "      <td>0</td>\n",
       "      <td>0</td>\n",
       "      <td>1</td>\n",
       "      <td>0</td>\n",
       "      <td>1</td>\n",
       "      <td>0</td>\n",
       "      <td>0</td>\n",
       "      <td>0</td>\n",
       "      <td>1</td>\n",
       "      <td>0</td>\n",
       "      <td>0</td>\n",
       "      <td>0</td>\n",
       "      <td>1</td>\n",
       "    </tr>\n",
       "    <tr>\n",
       "      <th>5</th>\n",
       "      <td>4.442651</td>\n",
       "      <td>1</td>\n",
       "      <td>2</td>\n",
       "      <td>1.0</td>\n",
       "      <td>1</td>\n",
       "      <td>1</td>\n",
       "      <td>3</td>\n",
       "      <td>100.0</td>\n",
       "      <td>1.0</td>\n",
       "      <td>1.0</td>\n",
       "      <td>1</td>\n",
       "      <td>0</td>\n",
       "      <td>0</td>\n",
       "      <td>0</td>\n",
       "      <td>0</td>\n",
       "      <td>1</td>\n",
       "      <td>0</td>\n",
       "      <td>0</td>\n",
       "      <td>0</td>\n",
       "      <td>0</td>\n",
       "      <td>1</td>\n",
       "      <td>0</td>\n",
       "      <td>1</td>\n",
       "      <td>0</td>\n",
       "      <td>0</td>\n",
       "      <td>0</td>\n",
       "    </tr>\n",
       "    <tr>\n",
       "      <th>7</th>\n",
       "      <td>4.787492</td>\n",
       "      <td>2</td>\n",
       "      <td>2</td>\n",
       "      <td>1.0</td>\n",
       "      <td>1</td>\n",
       "      <td>0</td>\n",
       "      <td>9</td>\n",
       "      <td>93.0</td>\n",
       "      <td>1.0</td>\n",
       "      <td>1.0</td>\n",
       "      <td>0</td>\n",
       "      <td>0</td>\n",
       "      <td>0</td>\n",
       "      <td>0</td>\n",
       "      <td>0</td>\n",
       "      <td>1</td>\n",
       "      <td>0</td>\n",
       "      <td>0</td>\n",
       "      <td>1</td>\n",
       "      <td>0</td>\n",
       "      <td>0</td>\n",
       "      <td>1</td>\n",
       "      <td>0</td>\n",
       "      <td>0</td>\n",
       "      <td>0</td>\n",
       "      <td>0</td>\n",
       "    </tr>\n",
       "    <tr>\n",
       "      <th>8</th>\n",
       "      <td>4.787492</td>\n",
       "      <td>2</td>\n",
       "      <td>2</td>\n",
       "      <td>1.0</td>\n",
       "      <td>0</td>\n",
       "      <td>0</td>\n",
       "      <td>100</td>\n",
       "      <td>99.0</td>\n",
       "      <td>1.0</td>\n",
       "      <td>1.0</td>\n",
       "      <td>1</td>\n",
       "      <td>0</td>\n",
       "      <td>0</td>\n",
       "      <td>0</td>\n",
       "      <td>0</td>\n",
       "      <td>1</td>\n",
       "      <td>0</td>\n",
       "      <td>0</td>\n",
       "      <td>0</td>\n",
       "      <td>0</td>\n",
       "      <td>1</td>\n",
       "      <td>1</td>\n",
       "      <td>0</td>\n",
       "      <td>0</td>\n",
       "      <td>0</td>\n",
       "      <td>0</td>\n",
       "    </tr>\n",
       "    <tr>\n",
       "      <th>10</th>\n",
       "      <td>4.605170</td>\n",
       "      <td>1</td>\n",
       "      <td>2</td>\n",
       "      <td>1.0</td>\n",
       "      <td>1</td>\n",
       "      <td>0</td>\n",
       "      <td>82</td>\n",
       "      <td>93.0</td>\n",
       "      <td>1.0</td>\n",
       "      <td>1.0</td>\n",
       "      <td>1</td>\n",
       "      <td>0</td>\n",
       "      <td>0</td>\n",
       "      <td>0</td>\n",
       "      <td>0</td>\n",
       "      <td>1</td>\n",
       "      <td>0</td>\n",
       "      <td>0</td>\n",
       "      <td>0</td>\n",
       "      <td>1</td>\n",
       "      <td>0</td>\n",
       "      <td>0</td>\n",
       "      <td>1</td>\n",
       "      <td>0</td>\n",
       "      <td>0</td>\n",
       "      <td>1</td>\n",
       "    </tr>\n",
       "    <tr>\n",
       "      <th>11</th>\n",
       "      <td>5.010635</td>\n",
       "      <td>2</td>\n",
       "      <td>4</td>\n",
       "      <td>1.5</td>\n",
       "      <td>1</td>\n",
       "      <td>0</td>\n",
       "      <td>29</td>\n",
       "      <td>97.0</td>\n",
       "      <td>2.0</td>\n",
       "      <td>2.0</td>\n",
       "      <td>0</td>\n",
       "      <td>0</td>\n",
       "      <td>0</td>\n",
       "      <td>0</td>\n",
       "      <td>0</td>\n",
       "      <td>1</td>\n",
       "      <td>0</td>\n",
       "      <td>0</td>\n",
       "      <td>1</td>\n",
       "      <td>0</td>\n",
       "      <td>0</td>\n",
       "      <td>0</td>\n",
       "      <td>1</td>\n",
       "      <td>0</td>\n",
       "      <td>0</td>\n",
       "      <td>0</td>\n",
       "    </tr>\n",
       "    <tr>\n",
       "      <th>13</th>\n",
       "      <td>5.298317</td>\n",
       "      <td>1</td>\n",
       "      <td>6</td>\n",
       "      <td>1.5</td>\n",
       "      <td>1</td>\n",
       "      <td>1</td>\n",
       "      <td>13</td>\n",
       "      <td>89.0</td>\n",
       "      <td>2.0</td>\n",
       "      <td>3.0</td>\n",
       "      <td>0</td>\n",
       "      <td>0</td>\n",
       "      <td>0</td>\n",
       "      <td>0</td>\n",
       "      <td>0</td>\n",
       "      <td>1</td>\n",
       "      <td>0</td>\n",
       "      <td>1</td>\n",
       "      <td>0</td>\n",
       "      <td>0</td>\n",
       "      <td>0</td>\n",
       "      <td>0</td>\n",
       "      <td>1</td>\n",
       "      <td>0</td>\n",
       "      <td>0</td>\n",
       "      <td>1</td>\n",
       "    </tr>\n",
       "    <tr>\n",
       "      <th>17</th>\n",
       "      <td>4.595120</td>\n",
       "      <td>2</td>\n",
       "      <td>2</td>\n",
       "      <td>2.0</td>\n",
       "      <td>1</td>\n",
       "      <td>0</td>\n",
       "      <td>12</td>\n",
       "      <td>88.0</td>\n",
       "      <td>1.0</td>\n",
       "      <td>1.0</td>\n",
       "      <td>1</td>\n",
       "      <td>0</td>\n",
       "      <td>0</td>\n",
       "      <td>0</td>\n",
       "      <td>0</td>\n",
       "      <td>1</td>\n",
       "      <td>0</td>\n",
       "      <td>0</td>\n",
       "      <td>0</td>\n",
       "      <td>0</td>\n",
       "      <td>0</td>\n",
       "      <td>0</td>\n",
       "      <td>1</td>\n",
       "      <td>0</td>\n",
       "      <td>0</td>\n",
       "      <td>1</td>\n",
       "    </tr>\n",
       "  </tbody>\n",
       "</table>\n",
       "</div>"
      ],
      "text/plain": [
       "    log_price  property_type  ...  cancellation_policy_super_strict_60  region_East\n",
       "1    5.129899              1  ...                                    0            1\n",
       "2    4.976734              1  ...                                    0            1\n",
       "4    4.744932              1  ...                                    0            1\n",
       "5    4.442651              1  ...                                    0            0\n",
       "7    4.787492              2  ...                                    0            0\n",
       "8    4.787492              2  ...                                    0            0\n",
       "10   4.605170              1  ...                                    0            1\n",
       "11   5.010635              2  ...                                    0            0\n",
       "13   5.298317              1  ...                                    0            1\n",
       "17   4.595120              2  ...                                    0            1\n",
       "\n",
       "[10 rows x 26 columns]"
      ]
     },
     "execution_count": 184,
     "metadata": {
      "tags": []
     },
     "output_type": "execute_result"
    }
   ],
   "source": [
    "#one hot encoding categorical variables and dropping columns that are not used\n",
    "oneHotCols=[\"room_type\",\"bed_type\",\"city\",\"cancellation_policy\",\"region\"]\n",
    "pdata.drop(['description','host_response_rate','first_review','host_since','last_review','zipcode','id','latitude','longitude','neighbourhood','cleaning_fee','host_has_profile_pic'], axis=1, inplace=True)\n",
    "pdata=pd.get_dummies(pdata, columns=oneHotCols,drop_first=True)\n",
    "pdata.head(10)"
   ]
  },
  {
   "cell_type": "markdown",
   "metadata": {
    "id": "nP7EuWLx-HPC"
   },
   "source": [
    "##### Test / Train Split and Scaling"
   ]
  },
  {
   "cell_type": "markdown",
   "metadata": {
    "id": "Y6AoYD8G-HPC"
   },
   "source": [
    "We went with an 80:20 train:test split of the data providing 80% of the data into a training set for teaching the model and 20% of the data into a test set for testing how well the model performs at predicting the property type.\n",
    "\n",
    "We also decided to scale the data using the training data set. This helped our model since we had attributes in a variety of scales in our dataset."
   ]
  },
  {
   "cell_type": "code",
   "execution_count": 72,
   "metadata": {
    "colab": {
     "base_uri": "https://localhost:8080/",
     "height": 242
    },
    "id": "frpRdqONtBM1",
    "outputId": "ba2dc643-d961-41d7-9d89-d920a8b5993d"
   },
   "outputs": [
    {
     "data": {
      "text/html": [
       "<div>\n",
       "<style scoped>\n",
       "    .dataframe tbody tr th:only-of-type {\n",
       "        vertical-align: middle;\n",
       "    }\n",
       "\n",
       "    .dataframe tbody tr th {\n",
       "        vertical-align: top;\n",
       "    }\n",
       "\n",
       "    .dataframe thead th {\n",
       "        text-align: right;\n",
       "    }\n",
       "</style>\n",
       "<table border=\"1\" class=\"dataframe\">\n",
       "  <thead>\n",
       "    <tr style=\"text-align: right;\">\n",
       "      <th></th>\n",
       "      <th>log_price</th>\n",
       "      <th>accommodates</th>\n",
       "      <th>bathrooms</th>\n",
       "      <th>host_identity_verified</th>\n",
       "      <th>instant_bookable</th>\n",
       "      <th>number_of_reviews</th>\n",
       "      <th>review_scores_rating</th>\n",
       "      <th>bedrooms</th>\n",
       "      <th>beds</th>\n",
       "      <th>room_type_Private room</th>\n",
       "      <th>room_type_Shared room</th>\n",
       "      <th>bed_type_Couch</th>\n",
       "      <th>bed_type_Futon</th>\n",
       "      <th>bed_type_Pull-out Sofa</th>\n",
       "      <th>bed_type_Real Bed</th>\n",
       "      <th>city_Chicago</th>\n",
       "      <th>city_DC</th>\n",
       "      <th>city_LA</th>\n",
       "      <th>city_NYC</th>\n",
       "      <th>city_SF</th>\n",
       "      <th>cancellation_policy_moderate</th>\n",
       "      <th>cancellation_policy_strict</th>\n",
       "      <th>cancellation_policy_super_strict_30</th>\n",
       "      <th>cancellation_policy_super_strict_60</th>\n",
       "      <th>region_East</th>\n",
       "    </tr>\n",
       "  </thead>\n",
       "  <tbody>\n",
       "    <tr>\n",
       "      <th>36694</th>\n",
       "      <td>4.521789</td>\n",
       "      <td>2</td>\n",
       "      <td>1.0</td>\n",
       "      <td>1</td>\n",
       "      <td>0</td>\n",
       "      <td>100</td>\n",
       "      <td>99.0</td>\n",
       "      <td>1.0</td>\n",
       "      <td>1.0</td>\n",
       "      <td>1</td>\n",
       "      <td>0</td>\n",
       "      <td>0</td>\n",
       "      <td>0</td>\n",
       "      <td>0</td>\n",
       "      <td>1</td>\n",
       "      <td>0</td>\n",
       "      <td>0</td>\n",
       "      <td>1</td>\n",
       "      <td>0</td>\n",
       "      <td>0</td>\n",
       "      <td>0</td>\n",
       "      <td>0</td>\n",
       "      <td>0</td>\n",
       "      <td>0</td>\n",
       "      <td>0</td>\n",
       "    </tr>\n",
       "    <tr>\n",
       "      <th>50548</th>\n",
       "      <td>5.010635</td>\n",
       "      <td>3</td>\n",
       "      <td>1.0</td>\n",
       "      <td>1</td>\n",
       "      <td>0</td>\n",
       "      <td>10</td>\n",
       "      <td>100.0</td>\n",
       "      <td>1.0</td>\n",
       "      <td>2.0</td>\n",
       "      <td>0</td>\n",
       "      <td>0</td>\n",
       "      <td>0</td>\n",
       "      <td>0</td>\n",
       "      <td>0</td>\n",
       "      <td>1</td>\n",
       "      <td>0</td>\n",
       "      <td>1</td>\n",
       "      <td>0</td>\n",
       "      <td>0</td>\n",
       "      <td>0</td>\n",
       "      <td>1</td>\n",
       "      <td>0</td>\n",
       "      <td>0</td>\n",
       "      <td>0</td>\n",
       "      <td>1</td>\n",
       "    </tr>\n",
       "    <tr>\n",
       "      <th>7142</th>\n",
       "      <td>4.094345</td>\n",
       "      <td>2</td>\n",
       "      <td>1.0</td>\n",
       "      <td>1</td>\n",
       "      <td>0</td>\n",
       "      <td>34</td>\n",
       "      <td>92.0</td>\n",
       "      <td>1.0</td>\n",
       "      <td>1.0</td>\n",
       "      <td>1</td>\n",
       "      <td>0</td>\n",
       "      <td>0</td>\n",
       "      <td>0</td>\n",
       "      <td>0</td>\n",
       "      <td>1</td>\n",
       "      <td>0</td>\n",
       "      <td>0</td>\n",
       "      <td>0</td>\n",
       "      <td>1</td>\n",
       "      <td>0</td>\n",
       "      <td>1</td>\n",
       "      <td>0</td>\n",
       "      <td>0</td>\n",
       "      <td>0</td>\n",
       "      <td>1</td>\n",
       "    </tr>\n",
       "    <tr>\n",
       "      <th>36775</th>\n",
       "      <td>5.634790</td>\n",
       "      <td>2</td>\n",
       "      <td>1.0</td>\n",
       "      <td>0</td>\n",
       "      <td>1</td>\n",
       "      <td>3</td>\n",
       "      <td>87.0</td>\n",
       "      <td>0.0</td>\n",
       "      <td>1.0</td>\n",
       "      <td>0</td>\n",
       "      <td>0</td>\n",
       "      <td>0</td>\n",
       "      <td>0</td>\n",
       "      <td>0</td>\n",
       "      <td>1</td>\n",
       "      <td>0</td>\n",
       "      <td>0</td>\n",
       "      <td>0</td>\n",
       "      <td>0</td>\n",
       "      <td>0</td>\n",
       "      <td>0</td>\n",
       "      <td>0</td>\n",
       "      <td>0</td>\n",
       "      <td>0</td>\n",
       "      <td>1</td>\n",
       "    </tr>\n",
       "    <tr>\n",
       "      <th>65349</th>\n",
       "      <td>5.393628</td>\n",
       "      <td>4</td>\n",
       "      <td>1.0</td>\n",
       "      <td>1</td>\n",
       "      <td>0</td>\n",
       "      <td>3</td>\n",
       "      <td>100.0</td>\n",
       "      <td>1.0</td>\n",
       "      <td>1.0</td>\n",
       "      <td>1</td>\n",
       "      <td>0</td>\n",
       "      <td>0</td>\n",
       "      <td>1</td>\n",
       "      <td>0</td>\n",
       "      <td>0</td>\n",
       "      <td>0</td>\n",
       "      <td>0</td>\n",
       "      <td>0</td>\n",
       "      <td>1</td>\n",
       "      <td>0</td>\n",
       "      <td>1</td>\n",
       "      <td>0</td>\n",
       "      <td>0</td>\n",
       "      <td>0</td>\n",
       "      <td>1</td>\n",
       "    </tr>\n",
       "  </tbody>\n",
       "</table>\n",
       "</div>"
      ],
      "text/plain": [
       "       log_price  ...  region_East\n",
       "36694   4.521789  ...            0\n",
       "50548   5.010635  ...            1\n",
       "7142    4.094345  ...            1\n",
       "36775   5.634790  ...            1\n",
       "65349   5.393628  ...            1\n",
       "\n",
       "[5 rows x 25 columns]"
      ]
     },
     "execution_count": 72,
     "metadata": {
      "tags": []
     },
     "output_type": "execute_result"
    }
   ],
   "source": [
    "#split test and train data sets 80/20\n",
    "X = pdata.drop('property_type',axis=1)     \n",
    "Y = pdata['property_type']\n",
    "\n",
    "x_train, x_test, y_train, y_test = train_test_split(X, Y, test_size=0.2, random_state=1)\n",
    "\n",
    "x_train.head()"
   ]
  },
  {
   "cell_type": "code",
   "execution_count": 74,
   "metadata": {
    "colab": {
     "base_uri": "https://localhost:8080/"
    },
    "id": "D_C7avMrtBM2",
    "outputId": "afc5a8b4-80f0-4679-c0f4-db2f409b4519"
   },
   "outputs": [
    {
     "name": "stdout",
     "output_type": "stream",
     "text": [
      "80.00% data is in training set\n",
      "20.00% data is in test set\n"
     ]
    }
   ],
   "source": [
    "#verifying the test vs train split\n",
    "print(\"{0:0.2f}% data is in training set\".format((len(x_train)/len(pdata.index)) * 100))\n",
    "print(\"{0:0.2f}% data is in test set\".format((len(x_test)/len(pdata.index)) * 100))"
   ]
  },
  {
   "cell_type": "code",
   "execution_count": 73,
   "metadata": {
    "id": "PQhxGSyltBM2"
   },
   "outputs": [],
   "source": [
    "#scaling the data\n",
    "from sklearn.preprocessing import StandardScaler\n",
    "ScaleObj = StandardScaler()\n",
    "ScaleObj.fit(x_train)\n",
    "\n",
    "X_train_scaled = ScaleObj.transform(x_train)\n",
    "X_test_scaled = ScaleObj.transform(x_test)"
   ]
  },
  {
   "cell_type": "markdown",
   "metadata": {
    "id": "4Q4yavGMzUjw"
   },
   "source": [
    "### **Create Models**"
   ]
  },
  {
   "cell_type": "markdown",
   "metadata": {
    "id": "499XZPuo-HO-"
   },
   "source": [
    "### Logistic Regression"
   ]
  },
  {
   "cell_type": "markdown",
   "metadata": {
    "id": "tuvPeLvm-HPD"
   },
   "source": [
    "##### Parameter Tuning"
   ]
  },
  {
   "cell_type": "markdown",
   "metadata": {
    "id": "NaWV-CRw-HPD"
   },
   "source": [
    "We ran a grid search using a penalty of l2, using 10 fold cross-validation, and proceeded to test which type of solver, C value and max_iterations would be best suited for our data.\n",
    "\n",
    "We found that a liblinear solver performed best with our specific data, using the accuracy metric and decided to use it in our Logistic Regression model."
   ]
  },
  {
   "cell_type": "code",
   "execution_count": 76,
   "metadata": {
    "id": "KZ3cIueUtBM6"
   },
   "outputs": [],
   "source": [
    "#run a grid search to evaluate the parameters as part of hyperparameter tuning\n",
    "modelGRID = LogisticRegression()\n",
    "\n",
    "parameters = {'penalty': ['l2'],\n",
    "             'C': [.001,.75,10],\n",
    "             'solver': ['newton-cg','liblinear','sag','saga'],\n",
    "              'max_iter':[100,500]\n",
    "            }"
   ]
  },
  {
   "cell_type": "code",
   "execution_count": 162,
   "metadata": {
    "colab": {
     "base_uri": "https://localhost:8080/"
    },
    "id": "linQ84S1tBM6",
    "outputId": "2a52ba80-82ca-4c40-e13c-08d9348fb059"
   },
   "outputs": [
    {
     "data": {
      "text/plain": [
       "GridSearchCV(cv=10, error_score=nan,\n",
       "             estimator=LogisticRegression(C=1.0, class_weight=None, dual=False,\n",
       "                                          fit_intercept=True,\n",
       "                                          intercept_scaling=1, l1_ratio=None,\n",
       "                                          max_iter=100, multi_class='auto',\n",
       "                                          n_jobs=None, penalty='l2',\n",
       "                                          random_state=None, solver='lbfgs',\n",
       "                                          tol=0.0001, verbose=0,\n",
       "                                          warm_start=False),\n",
       "             iid='deprecated', n_jobs=25,\n",
       "             param_grid={'C': [0.001, 0.75, 10], 'max_iter': [100, 500],\n",
       "                         'penalty': ['l2'],\n",
       "                         'solver': ['newton-cg', 'liblinear', 'sag', 'saga']},\n",
       "             pre_dispatch='2*n_jobs', refit=True, return_train_score=False,\n",
       "             scoring='accuracy', verbose=0)"
      ]
     },
     "execution_count": 162,
     "metadata": {
      "tags": []
     },
     "output_type": "execute_result"
    }
   ],
   "source": [
    "#identify the best parameters as determined by our grid search accuracy results\n",
    "from sklearn.model_selection import GridSearchCV\n",
    "gs = GridSearchCV(modelGRID,n_jobs=25,param_grid=parameters,cv=10,scoring='accuracy')\n",
    "gs.fit(X_train_scaled, y_train)"
   ]
  },
  {
   "cell_type": "code",
   "execution_count": 97,
   "metadata": {
    "colab": {
     "base_uri": "https://localhost:8080/"
    },
    "id": "uk6xu10GX4lV",
    "outputId": "3d47aa2e-f410-4afd-93f7-565cbe2065d6"
   },
   "outputs": [
    {
     "name": "stdout",
     "output_type": "stream",
     "text": [
      "{'C': 0.001, 'max_iter': 100, 'penalty': 'l2', 'solver': 'newton-cg'} has an accuracy of 0.73\n",
      "{'C': 0.001, 'max_iter': 100, 'penalty': 'l2', 'solver': 'liblinear'} has an accuracy of 0.74\n",
      "{'C': 0.001, 'max_iter': 100, 'penalty': 'l2', 'solver': 'sag'} has an accuracy of 0.73\n",
      "{'C': 0.001, 'max_iter': 100, 'penalty': 'l2', 'solver': 'saga'} has an accuracy of 0.73\n",
      "{'C': 0.001, 'max_iter': 500, 'penalty': 'l2', 'solver': 'newton-cg'} has an accuracy of 0.73\n",
      "{'C': 0.001, 'max_iter': 500, 'penalty': 'l2', 'solver': 'liblinear'} has an accuracy of 0.74\n",
      "{'C': 0.001, 'max_iter': 500, 'penalty': 'l2', 'solver': 'sag'} has an accuracy of 0.73\n",
      "{'C': 0.001, 'max_iter': 500, 'penalty': 'l2', 'solver': 'saga'} has an accuracy of 0.73\n",
      "{'C': 0.75, 'max_iter': 100, 'penalty': 'l2', 'solver': 'newton-cg'} has an accuracy of 0.74\n",
      "{'C': 0.75, 'max_iter': 100, 'penalty': 'l2', 'solver': 'liblinear'} has an accuracy of 0.74\n",
      "{'C': 0.75, 'max_iter': 100, 'penalty': 'l2', 'solver': 'sag'} has an accuracy of 0.74\n",
      "{'C': 0.75, 'max_iter': 100, 'penalty': 'l2', 'solver': 'saga'} has an accuracy of 0.74\n",
      "{'C': 0.75, 'max_iter': 500, 'penalty': 'l2', 'solver': 'newton-cg'} has an accuracy of 0.74\n",
      "{'C': 0.75, 'max_iter': 500, 'penalty': 'l2', 'solver': 'liblinear'} has an accuracy of 0.74\n",
      "{'C': 0.75, 'max_iter': 500, 'penalty': 'l2', 'solver': 'sag'} has an accuracy of 0.74\n",
      "{'C': 0.75, 'max_iter': 500, 'penalty': 'l2', 'solver': 'saga'} has an accuracy of 0.74\n",
      "{'C': 10, 'max_iter': 100, 'penalty': 'l2', 'solver': 'newton-cg'} has an accuracy of 0.74\n",
      "{'C': 10, 'max_iter': 100, 'penalty': 'l2', 'solver': 'liblinear'} has an accuracy of 0.74\n",
      "{'C': 10, 'max_iter': 100, 'penalty': 'l2', 'solver': 'sag'} has an accuracy of 0.74\n",
      "{'C': 10, 'max_iter': 100, 'penalty': 'l2', 'solver': 'saga'} has an accuracy of 0.74\n",
      "{'C': 10, 'max_iter': 500, 'penalty': 'l2', 'solver': 'newton-cg'} has an accuracy of 0.74\n",
      "{'C': 10, 'max_iter': 500, 'penalty': 'l2', 'solver': 'liblinear'} has an accuracy of 0.74\n",
      "{'C': 10, 'max_iter': 500, 'penalty': 'l2', 'solver': 'sag'} has an accuracy of 0.74\n",
      "{'C': 10, 'max_iter': 500, 'penalty': 'l2', 'solver': 'saga'} has an accuracy of 0.74\n"
     ]
    }
   ],
   "source": [
    "#mean test score values associated with each grid search parameter combination \n",
    "params = gs.cv_results_['params']\n",
    "result = gs.cv_results_['mean_test_score']\n",
    "for params,result in zip(params, result):\n",
    "    print(params, 'has an accuracy of', round(result,ndigits=2))\n",
    "\n"
   ]
  },
  {
   "cell_type": "code",
   "execution_count": 88,
   "metadata": {
    "colab": {
     "base_uri": "https://localhost:8080/"
    },
    "id": "byKlO3KKXZUa",
    "outputId": "186edfa6-aecb-4389-e557-d0e4edfc883a"
   },
   "outputs": [
    {
     "data": {
      "text/plain": [
       "{'C': 0.001, 'max_iter': 100, 'penalty': 'l2', 'solver': 'liblinear'}"
      ]
     },
     "execution_count": 88,
     "metadata": {
      "tags": []
     },
     "output_type": "execute_result"
    }
   ],
   "source": [
    "#parameter combination with the highest score\n",
    "gs.best_params_"
   ]
  },
  {
   "cell_type": "markdown",
   "metadata": {
    "id": "GKO5kHuM-HPE"
   },
   "source": [
    "### **Model Evaluation**"
   ]
  },
  {
   "cell_type": "markdown",
   "metadata": {
    "id": "qEWqvEnf-HPF"
   },
   "source": [
    "With our optimized parameters in place, we trained our model using the training data set.\n",
    "\n",
    "We then predicted the property types we would expect to see using our test variables.\n",
    "\n",
    "We finally compared our true response variables from the test data with our y predicted variables and calculated the accuracy of that prediction.\n",
    "\n",
    "Our accuracy ended up being 73.6% overall"
   ]
  },
  {
   "cell_type": "code",
   "execution_count": 80,
   "metadata": {
    "colab": {
     "base_uri": "https://localhost:8080/"
    },
    "id": "oDH9wIHItBM3",
    "outputId": "ee1819d2-2662-4ab7-f451-613ac96d2aaa"
   },
   "outputs": [
    {
     "name": "stdout",
     "output_type": "stream",
     "text": [
      "0.736\n"
     ]
    }
   ],
   "source": [
    "# Fit the model on train\n",
    "modelFINAL = LogisticRegression(random_state=42,penalty='l2', C = 0.001,solver='liblinear', max_iter=100)\n",
    "modelFINAL.fit(X_train_scaled, y_train)\n",
    "#predict on test\n",
    "y_predict = modelFINAL.predict(X_test_scaled)\n",
    "model_score = round(mt.accuracy_score(y_test,y_predict),ndigits=3)\n",
    "print(model_score)\n"
   ]
  },
  {
   "cell_type": "code",
   "execution_count": 81,
   "metadata": {
    "colab": {
     "base_uri": "https://localhost:8080/"
    },
    "id": "uhS8JkJXtBM4",
    "outputId": "42edaffa-a8e0-4961-9168-934ba18e106a"
   },
   "outputs": [
    {
     "data": {
      "text/plain": [
       "{'C': 0.001,\n",
       " 'class_weight': None,\n",
       " 'dual': False,\n",
       " 'fit_intercept': True,\n",
       " 'intercept_scaling': 1,\n",
       " 'l1_ratio': None,\n",
       " 'max_iter': 100,\n",
       " 'multi_class': 'auto',\n",
       " 'n_jobs': None,\n",
       " 'penalty': 'l2',\n",
       " 'random_state': 42,\n",
       " 'solver': 'liblinear',\n",
       " 'tol': 0.0001,\n",
       " 'verbose': 0,\n",
       " 'warm_start': False}"
      ]
     },
     "execution_count": 81,
     "metadata": {
      "tags": []
     },
     "output_type": "execute_result"
    }
   ],
   "source": [
    "#parameters used in the final Logistic Regression Model\n",
    "modelFINAL.get_params()"
   ]
  },
  {
   "cell_type": "markdown",
   "metadata": {
    "id": "BLbqGosP-HPF"
   },
   "source": [
    "### Logistic Regression Coefficients"
   ]
  },
  {
   "cell_type": "markdown",
   "metadata": {
    "id": "D2VjZxhPgzOH"
   },
   "source": [
    "#### **Interpret Feature Importance**\n",
    "\n",
    "The larger the weight, the higher importance the feature is to the model, therefore enhancing our predictability for the property_type. The reference variable encompasses the categorical features of Entire home/apt (room_type), Airbed (bed_type), Boston (city), flexible cancellation_policy, and West region.\n",
    "\n",
    "Based on the coefficient values we see listed above, we can determine that room type = Private, with a coefficient of .41 has a singificant influence on the probability of a room being an apartment vs other.  Additionally, the number of bathrooms with a coefficient of .29 is also a significant factor in classifying the property type.\n",
    "\n",
    "On the contrary, if they have a bed type = futon or a pull-out sofa, with a coefficient of 0.01, will not carry as much weight in predicting a property type.\n",
    "\n",
    "The value of these coefficients make sense to us in the influence they carry in predicting the property type, as one would look at the city, room type and number of bathrooms as more indicative of what type of property it is.  Where bed type may not be strongly indicative of what type of property it is."
   ]
  },
  {
   "cell_type": "code",
   "execution_count": 82,
   "metadata": {
    "colab": {
     "base_uri": "https://localhost:8080/"
    },
    "id": "WI1VoySqtBM8",
    "outputId": "84323459-326e-4d70-d15e-5c625d13522e"
   },
   "outputs": [
    {
     "name": "stdout",
     "output_type": "stream",
     "text": [
      "log_price has weight of -0.09\n",
      "accommodates has weight of 0.09\n",
      "bathrooms has weight of 0.29\n",
      "host_identity_verified has weight of -0.03\n",
      "instant_bookable has weight of -0.03\n",
      "number_of_reviews has weight of 0.06\n",
      "review_scores_rating has weight of 0.11\n",
      "bedrooms has weight of 0.22\n",
      "beds has weight of 0.1\n",
      "room_type_Private room has weight of 0.41\n",
      "room_type_Shared room has weight of 0.05\n",
      "bed_type_Couch has weight of -0.02\n",
      "bed_type_Futon has weight of 0.01\n",
      "bed_type_Pull-out Sofa has weight of 0.01\n",
      "bed_type_Real Bed has weight of 0.02\n",
      "city_Chicago has weight of -0.04\n",
      "city_DC has weight of 0.15\n",
      "city_LA has weight of 0.21\n",
      "city_NYC has weight of -0.36\n",
      "city_SF has weight of 0.07\n",
      "cancellation_policy_moderate has weight of 0.01\n",
      "cancellation_policy_strict has weight of -0.05\n",
      "cancellation_policy_super_strict_30 has weight of -0.03\n",
      "cancellation_policy_super_strict_60 has weight of 0.04\n",
      "region_East has weight of -0.24\n"
     ]
    }
   ],
   "source": [
    "#coefficient output based on in-class example\n",
    "weights = modelFINAL.coef_.T\n",
    "variable_names = x_train.columns\n",
    "for coef,name in zip(weights, variable_names):\n",
    "    print(name, 'has weight of', round(coef[0],ndigits=2))"
   ]
  },
  {
   "cell_type": "markdown",
   "metadata": {
    "id": "WNnHYMXZkRKB"
   },
   "source": [
    "#### Exceptional work, model performance interpretation\n",
    "\n",
    "Looking at the accuracy alone, we would assume the model performs quite well.  However, if we look at the precision, recall and F1 score for the non-apartment or \"other\" property type, we see the model does not perform as well as expected.  The large difference in F1 score between the property type = apartment vs property type = other, signals we should consider rebalancing our lower representative property types to fully leverage their predictive attributes. "
   ]
  },
  {
   "cell_type": "code",
   "execution_count": 100,
   "metadata": {
    "colab": {
     "base_uri": "https://localhost:8080/",
     "height": 543
    },
    "id": "oVcTwKH3tBM5",
    "outputId": "a0782117-d1be-40da-faec-5a387a23cca0"
   },
   "outputs": [
    {
     "name": "stdout",
     "output_type": "stream",
     "text": [
      "Training accuracy 0.737\n",
      "\n",
      "Testing accuracy 0.736\n",
      "\n",
      "Confusion Matrix\n"
     ]
    },
    {
     "data": {
      "image/png": "[encoded data removed]",
      "text/plain": [
       "<Figure size 432x288 with 2 Axes>"
      ]
     },
     "metadata": {
      "needs_background": "light",
      "tags": []
     },
     "output_type": "display_data"
    },
    {
     "name": "stdout",
     "output_type": "stream",
     "text": [
      "None\n",
      "              precision    recall  f1-score   support\n",
      "\n",
      "           1       0.76      0.86      0.81      5494\n",
      "           2       0.67      0.51      0.58      3061\n",
      "\n",
      "    accuracy                           0.74      8555\n",
      "   macro avg       0.72      0.69      0.69      8555\n",
      "weighted avg       0.73      0.74      0.73      8555\n",
      "\n"
     ]
    }
   ],
   "source": [
    "from sklearn.metrics import classification_report, confusion_matrix\n",
    "from sklearn.linear_model import LogisticRegression\n",
    "\n",
    "## function to get confusion matrix in a proper format\n",
    "def draw_cm( actual, predicted ):\n",
    "    cm = confusion_matrix( actual, predicted)\n",
    "    sns.heatmap(cm, annot=True,  fmt='.2f', xticklabels = [0,1] , yticklabels = [0,1] )\n",
    "    plt.ylabel('Observed')\n",
    "    plt.xlabel('Predicted')\n",
    "    plt.show()\n",
    "\n",
    "print(\"Training accuracy\",round(modelFINAL.score(X_train_scaled,y_train),ndigits=3))\n",
    "print()\n",
    "print(\"Testing accuracy\",round(mt.accuracy_score(y_test, y_predict),ndigits=3))\n",
    "print()\n",
    "print('Confusion Matrix')\n",
    "print(draw_cm(y_test,y_predict))\n",
    "\n",
    "print(classification_report(y_test,y_predict))"
   ]
  },
  {
   "cell_type": "markdown",
   "metadata": {},
   "source": [
    "The plot below is a visual representation of the logistic regression coefficient, as displayed on the chart having a value of NYC or being in the Eastern region of the united states reduces the odds of a property being an apartment vs other."
   ]
  },
  {
   "cell_type": "code",
   "execution_count": 161,
   "metadata": {
    "colab": {
     "base_uri": "https://localhost:8080/",
     "height": 432
    },
    "id": "s7psrVoJNDKt",
    "outputId": "ef59c94f-d704-499b-9990-0f52bd5c4c71"
   },
   "outputs": [
    {
     "data": {
      "image/png": "[encoded data removed]",
      "text/plain": [
       "<Figure size 432x288 with 1 Axes>"
      ]
     },
     "metadata": {
      "tags": []
     },
     "output_type": "display_data"
    }
   ],
   "source": [
    "#coeffient plot\n",
    "\n",
    "from matplotlib import pyplot as pyplot\n",
    "%matplotlib inline\n",
    "\n",
    "plt.style.use('ggplot')\n",
    "\n",
    "weights = pd.Series(modelFINAL.coef_[0],index=x_train.columns)\n",
    "weights.plot(kind='bar')\n",
    "plt.show()"
   ]
  },
  {
   "cell_type": "markdown",
   "metadata": {
    "id": "-CYNS38h-HPG"
   },
   "source": [
    "### Support Vector Machines"
   ]
  },
  {
   "cell_type": "markdown",
   "metadata": {
    "id": "rAc3dWi7-HPK"
   },
   "source": [
    "##### Hyperparameter Tuning"
   ]
  },
  {
   "cell_type": "markdown",
   "metadata": {
    "id": "LvCGyeBb-HPK"
   },
   "source": [
    "For our support vector machine model we applied a grid search function with 10 fold cross validation, to determine which parameters would perform best given our data.\n",
    "\n",
    "We found that using an alpha 0.01, using a hinge loss and providing a penalty of l2 is optimal for our classification task.\n",
    "\n",
    "Additionally, the stochastic gradient descent model performed more efficiently with regards to run time since our data was initially quite sparse given the number of columns in our grid due to one hot encoding the neighborhood category."
   ]
  },
  {
   "cell_type": "code",
   "execution_count": 111,
   "metadata": {
    "colab": {
     "base_uri": "https://localhost:8080/"
    },
    "id": "1DvARD9btBM-",
    "outputId": "a72ea193-d320-4d4b-867f-6e99d207e991"
   },
   "outputs": [
    {
     "name": "stdout",
     "output_type": "stream",
     "text": [
      "{'alpha': 0.01, 'loss': 'hinge', 'penalty': 'l2'}\n"
     ]
    }
   ],
   "source": [
    "#https://michael-fuchs-python.netlify.app/2019/11/11/introduction-to-sgd-classifier/\n",
    "\n",
    "from sklearn.linear_model import SGDClassifier\n",
    "from sklearn.metrics import accuracy_score\n",
    "from sklearn.model_selection import GridSearchCV\n",
    "params = {\n",
    "    \"loss\" : [\"hinge\", \"log\", \"squared_hinge\", \"modified_huber\", \"perceptron\"],\n",
    "    \"alpha\" : [0.0001, 0.001, 0.01, 0.1],\n",
    "    \"penalty\" : [\"l2\"],\n",
    "}\n",
    "clf = SGDClassifier()\n",
    "grid = GridSearchCV(clf, param_grid=params, cv=10)\n",
    "grid.fit(X_train_scaled, y_train)\n",
    "print(grid.best_params_)"
   ]
  },
  {
   "cell_type": "markdown",
   "metadata": {
    "id": "d00HQ7FEmWYr"
   },
   "source": [
    "\n",
    "The plot below shows the perfomance of different loss metrics on our data and shows hinge perfoming best."
   ]
  },
  {
   "cell_type": "code",
   "execution_count": 125,
   "metadata": {
    "colab": {
     "base_uri": "https://localhost:8080/",
     "height": 313
    },
    "id": "5AQOYZpB-JYf",
    "outputId": "81f18a8d-b6a8-4c64-db94-3f56ea12b2df"
   },
   "outputs": [
    {
     "data": {
      "text/plain": [
       "[<matplotlib.lines.Line2D at 0x7ff3bdb36f90>]"
      ]
     },
     "execution_count": 125,
     "metadata": {
      "tags": []
     },
     "output_type": "execute_result"
    },
    {
     "data": {
      "image/png": "[encoded data removed]",
      "text/plain": [
       "<Figure size 432x288 with 1 Axes>"
      ]
     },
     "metadata": {
      "needs_background": "light",
      "tags": []
     },
     "output_type": "display_data"
    }
   ],
   "source": [
    "losses = [\"hinge\", \"log\", \"modified_huber\", \"perceptron\", \"squared_hinge\"]\n",
    "scores = []\n",
    "for loss in losses:\n",
    "    clf = SGDClassifier(loss='hinge', penalty=\"l2\", alpha=0.01, max_iter=1000)\n",
    "    clf.fit(X_train_scaled, y_train)\n",
    "    scores.append(clf.score(X_test_scaled, y_test))\n",
    "plt.title(\"Effect of loss\")\n",
    "plt.xlabel(\"loss\")\n",
    "plt.ylabel(\"score\")\n",
    "x = np.arange(len(losses))\n",
    "plt.xticks(x, losses)\n",
    "plt.plot(x, scores)"
   ]
  },
  {
   "cell_type": "markdown",
   "metadata": {
    "id": "2kL9wO39-HPM"
   },
   "source": [
    "##### Final Support Vector Machine Model"
   ]
  },
  {
   "cell_type": "markdown",
   "metadata": {
    "id": "NgToM7Tm-HPM"
   },
   "source": [
    "After identifying the optimal parameters using the grid search function, we applied them to our final SVM Model.\n",
    "\n",
    "The model accuracy for our classification task is 73%"
   ]
  },
  {
   "cell_type": "code",
   "execution_count": 126,
   "metadata": {
    "colab": {
     "base_uri": "https://localhost:8080/"
    },
    "id": "moDVUhXJtBM9",
    "outputId": "9fdab18a-d1d8-4090-a730-6f3bdce42aca"
   },
   "outputs": [
    {
     "name": "stdout",
     "output_type": "stream",
     "text": [
      "Accuracy: 0.73\n"
     ]
    }
   ],
   "source": [
    "svm_model = SGDClassifier(alpha= 0.01, loss= 'hinge', penalty='l2')\n",
    "svm_model.fit(X_train_scaled, y_train)\n",
    "grid_predictions = svm_model.predict(X_test_scaled)\n",
    "print('Accuracy: {:.2f}'.format(accuracy_score(y_test, grid_predictions)))"
   ]
  },
  {
   "cell_type": "code",
   "execution_count": 127,
   "metadata": {
    "colab": {
     "base_uri": "https://localhost:8080/"
    },
    "id": "jxTcp5qim6qq",
    "outputId": "30ca69bf-f237-400c-c52d-fb8576efaf78"
   },
   "outputs": [
    {
     "name": "stdout",
     "output_type": "stream",
     "text": [
      "log_price has weight of 0.01\n",
      "accommodates has weight of 0.07\n",
      "bathrooms has weight of 0.16\n",
      "host_identity_verified has weight of -0.01\n",
      "instant_bookable has weight of -0.02\n",
      "number_of_reviews has weight of 0.02\n",
      "review_scores_rating has weight of 0.04\n",
      "bedrooms has weight of 0.44\n",
      "beds has weight of 0.06\n",
      "room_type_Private room has weight of 0.64\n",
      "room_type_Shared room has weight of 0.16\n",
      "bed_type_Couch has weight of -0.03\n",
      "bed_type_Futon has weight of 0.02\n",
      "bed_type_Pull-out Sofa has weight of 0.02\n",
      "bed_type_Real Bed has weight of 0.05\n",
      "city_Chicago has weight of -0.07\n",
      "city_DC has weight of 0.19\n",
      "city_LA has weight of 0.23\n",
      "city_NYC has weight of -0.37\n",
      "city_SF has weight of 0.1\n",
      "cancellation_policy_moderate has weight of 0.01\n",
      "cancellation_policy_strict has weight of -0.01\n",
      "cancellation_policy_super_strict_30 has weight of -0.04\n",
      "cancellation_policy_super_strict_60 has weight of 0.04\n",
      "region_East has weight of -0.27\n"
     ]
    }
   ],
   "source": [
    "#coefficient list based on class example\n",
    "weights = svm_model.coef_.T\n",
    "variable_names = x_train.columns\n",
    "for coef,name in zip(weights, variable_names):\n",
    "    print(name, 'has weight of', round(coef[0],ndigits=2))"
   ]
  },
  {
   "cell_type": "markdown",
   "metadata": {
    "id": "kWL8cxeerXBk"
   },
   "source": [
    "### Exceptional work, model performance interpretation SVM\n",
    "\n",
    "Just like the accuracy in the Logistic Regression, we would assume the model performs quite well based on accuracy score alone. However, when we look at the precision, recall and F1 score for the non-apartment or \"other\" property type, we see the model does not perform as well as expected. \n",
    "\n",
    "Like the Logistic Regression model performance above, the large difference in F1 score between the property type = apartment vs property type = other, signals we should consider rebalancing our lower representative property types to fully leverage their predictive attributes.\n",
    "\n",
    "This is surprising given the difference in coefficient weights, since the coefficient values differ in weight, we would expect a different performance metrics from the SVM model results. "
   ]
  },
  {
   "cell_type": "code",
   "execution_count": 109,
   "metadata": {
    "colab": {
     "base_uri": "https://localhost:8080/",
     "height": 455
    },
    "id": "vjrTdGHRBCbY",
    "outputId": "b3759851-780b-4c48-db29-a8f47c150455"
   },
   "outputs": [
    {
     "data": {
      "image/png": "[encoded data removed]",
      "text/plain": [
       "<Figure size 432x288 with 2 Axes>"
      ]
     },
     "metadata": {
      "needs_background": "light",
      "tags": []
     },
     "output_type": "display_data"
    },
    {
     "name": "stdout",
     "output_type": "stream",
     "text": [
      "None\n",
      "              precision    recall  f1-score   support\n",
      "\n",
      "           1       0.76      0.85      0.80      5494\n",
      "           2       0.66      0.52      0.58      3061\n",
      "\n",
      "    accuracy                           0.73      8555\n",
      "   macro avg       0.71      0.68      0.69      8555\n",
      "weighted avg       0.72      0.73      0.72      8555\n",
      "\n"
     ]
    }
   ],
   "source": [
    "print(draw_cm(y_test, grid_predictions))\n",
    "print(classification_report(y_test, grid_predictions))"
   ]
  },
  {
   "cell_type": "markdown",
   "metadata": {
    "id": "0wZ-wbFR-HPN"
   },
   "source": [
    "### **Model Comparison and Model Advantages**"
   ]
  },
  {
   "cell_type": "markdown",
   "metadata": {
    "id": "4VgciIirDPJ9"
   },
   "source": [
    "To determine the best overall model, accuracy, precision, recall and their harmonized value of F1-score were considered as the core metrics. The Logistic Regression model had a slightly better performance based on the F1 score compared to Stochastic Gradient Descent Support Vector Machine model at 81% Vs 80% respectively.\n",
    "\n",
    "We started modeling the full dataset and the time and efficiency to run each model was quite high. Additionally, the number of unique values in the neighborhood data, which we considered an important attribute at the time made our data structure quite sparse.\n",
    "\n",
    "To have a better performance on both execution and training of the large amount of data, we moved from SVM to Stochastic Gradient Descent optimized SVM, which improved performance but still had quite a long run time.  We then removed neighborhood (removing the columns with too many values).This reduced the accuracy across all our models by 3%, reducing our accuracy from 76% to 73% but increased the speed and performance for both models.  Another approach would have been to sample the data but we would have to worry about balancing the classes as there are property types that are significantly under-represented in the data set.\n",
    "\n",
    "Overall the models performed quite similarly in our classification task, we would choose the Logistic Regression model due to the simplicity of the model and our ability to calculate the odds ratio given any set of attributes, predicting the likelihood of a certain classification. We consider the execution speed and interpretability of the Logistic Regression model to be a major advantage over the SVM model."
   ]
  },
  {
   "cell_type": "markdown",
   "metadata": {
    "id": "b35kd2PuYO8f"
   },
   "source": [
    "## **Interpret Support Vectors**"
   ]
  },
  {
   "cell_type": "markdown",
   "metadata": {
    "id": "9nj013VXYLQy"
   },
   "source": [
    "So the analysis here is basically telling us what the original statistics of the data looked like, and also what the statistics of the support vectors looked like. We can see that the separation in distributions is not as great as the separation for the original data. This is because the support vectors tend to be instances on the edge of the class boundaries and also instances that are classified incorrectly in the training data."
   ]
  },
  {
   "cell_type": "code",
   "execution_count": 192,
   "metadata": {
    "colab": {
     "base_uri": "https://localhost:8080/"
    },
    "id": "3cLIqq7U7v-q",
    "outputId": "e60823db-22fc-4518-ff15-37362f4c241e"
   },
   "outputs": [
    {
     "name": "stdout",
     "output_type": "stream",
     "text": [
      "ShuffleSplit(n_splits=3, random_state=None, test_size=0.2, train_size=None)\n"
     ]
    }
   ],
   "source": [
    "from sklearn.model_selection import ShuffleSplit\n",
    "X = X.values\n",
    "Y = Y.values\n",
    "\n",
    "num_cv_iterations = 3\n",
    "num_instances = len(Y)\n",
    "cv_object = ShuffleSplit(n_splits=num_cv_iterations,test_size=0.2)\n",
    "print(cv_object)\n",
    "\n",
    "for train_indices, test_indices in cv_object.split(X,Y):\n",
    "    X_train = X[train_indices]\n",
    "    y_train = Y[train_indices]\n",
    "    \n",
    "    X_test = X[test_indices]\n",
    "    y_test = Y[test_indices] "
   ]
  },
  {
   "cell_type": "code",
   "execution_count": 195,
   "metadata": {
    "colab": {
     "base_uri": "https://localhost:8080/"
    },
    "id": "rqxY9u5RGz_k",
    "outputId": "0d912862-7b41-455e-c1e1-bc841506d704"
   },
   "outputs": [
    {
     "data": {
      "text/plain": [
       "SVC(C=1.0, break_ties=False, cache_size=200, class_weight=None, coef0=0.0,\n",
       "    decision_function_shape='ovr', degree=3, gamma='scale', kernel='rbf',\n",
       "    max_iter=-1, probability=False, random_state=None, shrinking=True,\n",
       "    tol=0.001, verbose=False)"
      ]
     },
     "execution_count": 195,
     "metadata": {
      "tags": []
     },
     "output_type": "execute_result"
    }
   ],
   "source": [
    "from sklearn.svm import SVC\n",
    "\n",
    "svm_chart_model = SVC()\n",
    "svm_chart_model.fit(X_train, y_train)"
   ]
  },
  {
   "cell_type": "code",
   "execution_count": 277,
   "metadata": {
    "colab": {
     "base_uri": "https://localhost:8080/",
     "height": 242
    },
    "id": "x6UQN-vfLQIZ",
    "outputId": "e64260b7-bfd4-41e7-d063-dd94bf5ade33"
   },
   "outputs": [
    {
     "data": {
      "text/html": [
       "<div>\n",
       "<style scoped>\n",
       "    .dataframe tbody tr th:only-of-type {\n",
       "        vertical-align: middle;\n",
       "    }\n",
       "\n",
       "    .dataframe tbody tr th {\n",
       "        vertical-align: top;\n",
       "    }\n",
       "\n",
       "    .dataframe thead th {\n",
       "        text-align: right;\n",
       "    }\n",
       "</style>\n",
       "<table border=\"1\" class=\"dataframe\">\n",
       "  <thead>\n",
       "    <tr style=\"text-align: right;\">\n",
       "      <th></th>\n",
       "      <th>log_price</th>\n",
       "      <th>accommodates</th>\n",
       "      <th>bathrooms</th>\n",
       "      <th>host_identity_verified</th>\n",
       "      <th>instant_bookable</th>\n",
       "      <th>number_of_reviews</th>\n",
       "      <th>review_scores_rating</th>\n",
       "      <th>bedrooms</th>\n",
       "      <th>beds</th>\n",
       "      <th>room_type_Private room</th>\n",
       "      <th>room_type_Shared room</th>\n",
       "      <th>bed_type_Couch</th>\n",
       "      <th>bed_type_Futon</th>\n",
       "      <th>bed_type_Pull-out Sofa</th>\n",
       "      <th>bed_type_Real Bed</th>\n",
       "      <th>city_Chicago</th>\n",
       "      <th>city_DC</th>\n",
       "      <th>city_LA</th>\n",
       "      <th>city_NYC</th>\n",
       "      <th>city_SF</th>\n",
       "      <th>cancellation_policy_moderate</th>\n",
       "      <th>cancellation_policy_strict</th>\n",
       "      <th>cancellation_policy_super_strict_30</th>\n",
       "      <th>cancellation_policy_super_strict_60</th>\n",
       "      <th>region_East</th>\n",
       "    </tr>\n",
       "  </thead>\n",
       "  <tbody>\n",
       "    <tr>\n",
       "      <th>12990</th>\n",
       "      <td>4.007333</td>\n",
       "      <td>3.0</td>\n",
       "      <td>1.0</td>\n",
       "      <td>1.0</td>\n",
       "      <td>0.0</td>\n",
       "      <td>13.0</td>\n",
       "      <td>97.0</td>\n",
       "      <td>1.0</td>\n",
       "      <td>2.0</td>\n",
       "      <td>1.0</td>\n",
       "      <td>0.0</td>\n",
       "      <td>0.0</td>\n",
       "      <td>0.0</td>\n",
       "      <td>0.0</td>\n",
       "      <td>1.0</td>\n",
       "      <td>0.0</td>\n",
       "      <td>0.0</td>\n",
       "      <td>0.0</td>\n",
       "      <td>0.0</td>\n",
       "      <td>0.0</td>\n",
       "      <td>0.0</td>\n",
       "      <td>1.0</td>\n",
       "      <td>0.0</td>\n",
       "      <td>0.0</td>\n",
       "      <td>1.0</td>\n",
       "    </tr>\n",
       "    <tr>\n",
       "      <th>13158</th>\n",
       "      <td>5.298317</td>\n",
       "      <td>5.0</td>\n",
       "      <td>1.0</td>\n",
       "      <td>1.0</td>\n",
       "      <td>1.0</td>\n",
       "      <td>4.0</td>\n",
       "      <td>100.0</td>\n",
       "      <td>3.0</td>\n",
       "      <td>3.0</td>\n",
       "      <td>0.0</td>\n",
       "      <td>0.0</td>\n",
       "      <td>0.0</td>\n",
       "      <td>0.0</td>\n",
       "      <td>0.0</td>\n",
       "      <td>1.0</td>\n",
       "      <td>1.0</td>\n",
       "      <td>0.0</td>\n",
       "      <td>0.0</td>\n",
       "      <td>0.0</td>\n",
       "      <td>0.0</td>\n",
       "      <td>1.0</td>\n",
       "      <td>0.0</td>\n",
       "      <td>0.0</td>\n",
       "      <td>0.0</td>\n",
       "      <td>1.0</td>\n",
       "    </tr>\n",
       "    <tr>\n",
       "      <th>18414</th>\n",
       "      <td>6.395262</td>\n",
       "      <td>8.0</td>\n",
       "      <td>1.5</td>\n",
       "      <td>1.0</td>\n",
       "      <td>1.0</td>\n",
       "      <td>78.0</td>\n",
       "      <td>89.0</td>\n",
       "      <td>4.0</td>\n",
       "      <td>4.0</td>\n",
       "      <td>0.0</td>\n",
       "      <td>0.0</td>\n",
       "      <td>0.0</td>\n",
       "      <td>0.0</td>\n",
       "      <td>0.0</td>\n",
       "      <td>1.0</td>\n",
       "      <td>0.0</td>\n",
       "      <td>0.0</td>\n",
       "      <td>0.0</td>\n",
       "      <td>1.0</td>\n",
       "      <td>0.0</td>\n",
       "      <td>0.0</td>\n",
       "      <td>1.0</td>\n",
       "      <td>0.0</td>\n",
       "      <td>0.0</td>\n",
       "      <td>1.0</td>\n",
       "    </tr>\n",
       "    <tr>\n",
       "      <th>17880</th>\n",
       "      <td>4.317488</td>\n",
       "      <td>2.0</td>\n",
       "      <td>1.0</td>\n",
       "      <td>1.0</td>\n",
       "      <td>0.0</td>\n",
       "      <td>41.0</td>\n",
       "      <td>91.0</td>\n",
       "      <td>1.0</td>\n",
       "      <td>1.0</td>\n",
       "      <td>1.0</td>\n",
       "      <td>0.0</td>\n",
       "      <td>0.0</td>\n",
       "      <td>0.0</td>\n",
       "      <td>0.0</td>\n",
       "      <td>1.0</td>\n",
       "      <td>0.0</td>\n",
       "      <td>0.0</td>\n",
       "      <td>1.0</td>\n",
       "      <td>0.0</td>\n",
       "      <td>0.0</td>\n",
       "      <td>0.0</td>\n",
       "      <td>0.0</td>\n",
       "      <td>0.0</td>\n",
       "      <td>0.0</td>\n",
       "      <td>0.0</td>\n",
       "    </tr>\n",
       "    <tr>\n",
       "      <th>39820</th>\n",
       "      <td>4.248495</td>\n",
       "      <td>2.0</td>\n",
       "      <td>1.0</td>\n",
       "      <td>1.0</td>\n",
       "      <td>0.0</td>\n",
       "      <td>63.0</td>\n",
       "      <td>96.0</td>\n",
       "      <td>1.0</td>\n",
       "      <td>1.0</td>\n",
       "      <td>1.0</td>\n",
       "      <td>0.0</td>\n",
       "      <td>0.0</td>\n",
       "      <td>0.0</td>\n",
       "      <td>0.0</td>\n",
       "      <td>1.0</td>\n",
       "      <td>0.0</td>\n",
       "      <td>0.0</td>\n",
       "      <td>1.0</td>\n",
       "      <td>0.0</td>\n",
       "      <td>0.0</td>\n",
       "      <td>1.0</td>\n",
       "      <td>0.0</td>\n",
       "      <td>0.0</td>\n",
       "      <td>0.0</td>\n",
       "      <td>0.0</td>\n",
       "    </tr>\n",
       "  </tbody>\n",
       "</table>\n",
       "</div>"
      ],
      "text/plain": [
       "       log_price  ...  region_East\n",
       "12990   4.007333  ...          1.0\n",
       "13158   5.298317  ...          1.0\n",
       "18414   6.395262  ...          1.0\n",
       "17880   4.317488  ...          0.0\n",
       "39820   4.248495  ...          0.0\n",
       "\n",
       "[5 rows x 25 columns]"
      ]
     },
     "execution_count": 277,
     "metadata": {
      "tags": []
     },
     "output_type": "execute_result"
    }
   ],
   "source": [
    "#X_train = pd.DataFrame(X_train)\n",
    "df_tested_on = X_train.iloc[train_indices].copy() # saved from above, the indices chosen for training\n",
    "\n",
    "# now get the support vectors from the trained model\n",
    "df_support = df_tested_on.iloc[svm_chart_model.support_,:].copy()\n",
    "df_tested_on.head()\n",
    "\n",
    "variable_names = x_train.columns\n",
    "df_support.columns = variable_names\n",
    "df_support['property_type'] = y_train[svm_chart_model.support_] # add back in the 'Survived' Column to the pandas dataframe\n"
   ]
  },
  {
   "cell_type": "code",
   "execution_count": 280,
   "metadata": {
    "colab": {
     "base_uri": "https://localhost:8080/",
     "height": 812
    },
    "id": "BO8Qp-04WA1U",
    "outputId": "1e2ba781-3248-4886-8760-63c0648ea90f"
   },
   "outputs": [
    {
     "data": {
      "image/png": "[encoded data removed]",
      "text/plain": [
       "<Figure size 720x288 with 2 Axes>"
      ]
     },
     "metadata": {
      "needs_background": "light",
      "tags": []
     },
     "output_type": "display_data"
    },
    {
     "data": {
      "image/png": "[encoded data removed]",
      "text/plain": [
       "<Figure size 720x288 with 2 Axes>"
      ]
     },
     "metadata": {
      "needs_background": "light",
      "tags": []
     },
     "output_type": "display_data"
    },
    {
     "data": {
      "image/png": "[encoded data removed]",
      "text/plain": [
       "<Figure size 720x288 with 2 Axes>"
      ]
     },
     "metadata": {
      "needs_background": "light",
      "tags": []
     },
     "output_type": "display_data"
    }
   ],
   "source": [
    "#chart from class example\n",
    "from pandas.plotting import boxplot\n",
    "\n",
    "# group the original data and the support vectors\n",
    "df_grouped_support = df_support.groupby(['property_type'])\n",
    "df_grouped = pdata.groupby(['property_type'])\n",
    "\n",
    "# plot KDE of Different variables\n",
    "vars_to_plot = ['bedrooms','beds','bathrooms']\n",
    "\n",
    "for v in vars_to_plot:\n",
    "    plt.figure(figsize=(10,4))\n",
    "    # plot support vector stats\n",
    "    plt.subplot(1,2,1)\n",
    "    ax = df_grouped_support[v].plot.kde() \n",
    "    plt.legend(['Apartment','Other'])\n",
    "    plt.title(v+' (Instances chosen as Support Vectors)')\n",
    "    \n",
    "    # plot original distributions\n",
    "    plt.subplot(1,2,2)\n",
    "    ax = df_grouped[v].plot.kde() \n",
    "    plt.legend(['Apartment','Other'])\n",
    "    plt.title(v+' (Original)')"
   ]
  }
 ],
 "metadata": {
  "colab": {
   "machine_shape": "hm",
   "name": "Mini_Project_givemeanAPlus.ipynb",
   "provenance": []
  },
  "kernelspec": {
   "display_name": "Python 3",
   "language": "python",
   "name": "python3"
  },
  "language_info": {
   "codemirror_mode": {
    "name": "ipython",
    "version": 3
   },
   "file_extension": ".py",
   "mimetype": "text/x-python",
   "name": "python",
   "nbconvert_exporter": "python",
   "pygments_lexer": "ipython3",
   "version": "3.8.8"
  }
 },
 "nbformat": 4,
 "nbformat_minor": 1
}
