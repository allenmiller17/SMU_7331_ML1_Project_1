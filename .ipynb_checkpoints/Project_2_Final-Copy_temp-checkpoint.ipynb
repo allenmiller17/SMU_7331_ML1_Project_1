{
 "cells": [
  {
   "cell_type": "markdown",
   "metadata": {},
   "source": [
    "# DS-7331 Machine Learning Project 2\n",
    "## Airbnb Price Data - Classification and Regression Tasks\n",
    "### Allen Miller, Ana Glaser, Jake Harrison, Lola Awodipe"
   ]
  },
  {
   "cell_type": "code",
   "execution_count": 5,
   "metadata": {},
   "outputs": [],
   "source": [
    "#loading libraries\n",
    "import warnings\n",
    "warnings.filterwarnings('ignore')\n",
    "\n",
    "import pandas as pd\n",
    "from sklearn.linear_model import LogisticRegression\n",
    "from sklearn.preprocessing import StandardScaler\n",
    "from sklearn.model_selection import StratifiedShuffleSplit\n",
    "\n",
    "import matplotlib.pyplot as plt\n",
    "%matplotlib inline\n",
    "\n",
    "import seaborn as sns\n",
    "\n",
    "from sklearn.model_selection import train_test_split\n",
    "\n",
    "import numpy as np\n",
    "from scipy import stats\n",
    "\n",
    "from sklearn import metrics as mt"
   ]
  },
  {
   "cell_type": "markdown",
   "metadata": {},
   "source": [
    "### Table of Contents\n",
    "\n",
    "0. Background\n",
    "<br>\n",
    "1. Data Preparation (Data Preparation 1)\n",
    "<br>\n",
    "    1.1 Data Preparation before task-oriented data split\n",
    "    <br>    \n",
    "    1.2 Data Preparation for Classification Models (Data Preparation 2 Pt. 1)\n",
    "    <br>\n",
    "    1.3 Data Preparation for Regression Models (Data Preparation 2 Pt. 2)\n",
    "    <br>\n",
    "2. Modeling and Evaluation\n",
    "<br>\n",
    "    2.1 Evaluation Metrics (Model and Evaluation 1)\n",
    "    <br>\n",
    "    2.2 Method for Splitting train and test data (Model and Evaluation 2)\n",
    "    <br>\n",
    "&nbsp;&nbsp;&nbsp;&nbsp;&nbsp;&nbsp; 2.2.1 Classification\n",
    "        <br>\n",
    "&nbsp;&nbsp;&nbsp;&nbsp;&nbsp;&nbsp; 2.2.2 Regression Models\n",
    "        <br>\n",
    "    2.3 Classification Models (Model and Evaluation 3 Pt. 1)\n",
    "    <br>\n",
    "&nbsp;&nbsp;&nbsp;&nbsp;&nbsp;&nbsp; 2.3.1 Random Forest\n",
    "        <br>\n",
    "&nbsp;&nbsp;&nbsp;&nbsp;&nbsp;&nbsp; 2.3.2 KNN\n",
    "        <br>\n",
    "&nbsp;&nbsp;&nbsp;&nbsp;&nbsp;&nbsp; 2.3.3 Logistic Regression\n",
    "        <br>\n",
    "    2.4 Regression Models (Model and Evaluation 3 Pt. 2)\n",
    "    <br>\n",
    "&nbsp;&nbsp;&nbsp;&nbsp;&nbsp;&nbsp; 2.4.1 LASSO\n",
    "        <br>\n",
    "&nbsp;&nbsp;&nbsp;&nbsp;&nbsp;&nbsp; 2.4.2 Random Forest\n",
    "        <br>\n",
    "    2.5 Comparison of Models (Model and Evaluation 4)\n",
    "    <br>\n",
    " &nbsp;&nbsp;&nbsp;&nbsp;&nbsp;&nbsp; 2.5.1 Classification Models\n",
    "        <br>\n",
    "&nbsp;&nbsp;&nbsp;&nbsp;&nbsp;&nbsp; 2.5.2 Regression Models\n",
    "        <br>\n",
    "    2.6 Advantages of Models (Model and Evaluation 5)\n",
    "    <br>\n",
    " &nbsp;&nbsp;&nbsp;&nbsp;&nbsp;&nbsp; 2.6.1 Classification Models\n",
    "        <br>\n",
    "&nbsp;&nbsp;&nbsp;&nbsp;&nbsp;&nbsp; 2.6.2 Regression Models\n",
    "        <br>\n",
    "     2.7 Comparison of Models (Model and Evaluation 4)\n",
    "    <br>\n",
    " &nbsp;&nbsp;&nbsp;&nbsp;&nbsp;&nbsp; 2.7.1 Classification Models\n",
    "        <br>\n",
    "&nbsp;&nbsp;&nbsp;&nbsp;&nbsp;&nbsp; 2.7.2 Regression Models\n",
    "        <br>\n",
    "3. Deployment\n",
    "<br>\n",
    "4. Exceptional Work\n"
   ]
  },
  {
   "cell_type": "markdown",
   "metadata": {},
   "source": [
    "#### Background\n",
    "We are using Airbnb data provided by Kaggle to estimate the price of Airbnb properties, as well as classifying the property type. In this project, we will perform two tasks: regression and classification.\n",
    "\n",
    "For the regression, we will be using models such as Lasso Regression, Random Forest, and Extra Trees Regression to predict the price of a listing. We will assess these models by using MAPE, MAE, and RMSE.\n",
    "\n",
    "For the classification, we will be using the Logistic Regression, KNN, and Random Forest to predict the property type of the listing. We will assess these models using accuracy, precision, recall, F1 score, and confusion matrix."
   ]
  },
  {
   "cell_type": "code",
   "execution_count": 6,
   "metadata": {},
   "outputs": [],
   "source": [
    "#setting path and loading data\n",
    "pdata = pd.read_csv(\"airbnb.csv\")"
   ]
  },
  {
   "cell_type": "markdown",
   "metadata": {},
   "source": [
    "### 1. Data Preparation"
   ]
  },
  {
   "cell_type": "markdown",
   "metadata": {},
   "source": [
    "#### 1.1 Data Preparation before task-oriented data split"
   ]
  },
  {
   "cell_type": "code",
   "execution_count": 7,
   "metadata": {},
   "outputs": [
    {
     "name": "stdout",
     "output_type": "stream",
     "text": [
      "<class 'pandas.core.frame.DataFrame'>\n",
      "RangeIndex: 74111 entries, 0 to 74110\n",
      "Data columns (total 26 columns):\n",
      " #   Column                  Non-Null Count  Dtype  \n",
      "---  ------                  --------------  -----  \n",
      " 0   id                      74111 non-null  int64  \n",
      " 1   log_price               74111 non-null  float64\n",
      " 2   property_type           74111 non-null  object \n",
      " 3   room_type               74111 non-null  object \n",
      " 4   accommodates            74111 non-null  int64  \n",
      " 5   bathrooms               73911 non-null  float64\n",
      " 6   bed_type                74111 non-null  object \n",
      " 7   cancellation_policy     74111 non-null  object \n",
      " 8   cleaning_fee            74111 non-null  bool   \n",
      " 9   city                    74111 non-null  object \n",
      " 10  description             74111 non-null  object \n",
      " 11  first_review            58247 non-null  object \n",
      " 12  host_has_profile_pic    73923 non-null  object \n",
      " 13  host_identity_verified  73923 non-null  object \n",
      " 14  host_response_rate      55812 non-null  object \n",
      " 15  host_since              73923 non-null  object \n",
      " 16  instant_bookable        74111 non-null  object \n",
      " 17  last_review             58284 non-null  object \n",
      " 18  latitude                74111 non-null  float64\n",
      " 19  longitude               74111 non-null  float64\n",
      " 20  neighbourhood           67239 non-null  object \n",
      " 21  number_of_reviews       74111 non-null  int64  \n",
      " 22  review_scores_rating    57389 non-null  float64\n",
      " 23  zipcode                 73145 non-null  object \n",
      " 24  bedrooms                74020 non-null  float64\n",
      " 25  beds                    73980 non-null  float64\n",
      "dtypes: bool(1), float64(7), int64(3), object(15)\n",
      "memory usage: 14.2+ MB\n"
     ]
    },
    {
     "data": {
      "text/plain": [
       "id                        74111\n",
       "log_price                   767\n",
       "property_type                35\n",
       "room_type                     3\n",
       "accommodates                 16\n",
       "bathrooms                    17\n",
       "bed_type                      5\n",
       "cancellation_policy           5\n",
       "cleaning_fee                  2\n",
       "city                          6\n",
       "description               73474\n",
       "first_review               2554\n",
       "host_has_profile_pic          2\n",
       "host_identity_verified        2\n",
       "host_response_rate           80\n",
       "host_since                 3087\n",
       "instant_bookable              2\n",
       "last_review                1371\n",
       "latitude                  74058\n",
       "longitude                 73973\n",
       "neighbourhood               619\n",
       "number_of_reviews           371\n",
       "review_scores_rating         54\n",
       "zipcode                     669\n",
       "bedrooms                     11\n",
       "beds                         18\n",
       "dtype: int64"
      ]
     },
     "execution_count": 7,
     "metadata": {},
     "output_type": "execute_result"
    }
   ],
   "source": [
    "#Define Class variables\n",
    "pdata.info()\n",
    "\n",
    "pdata.nunique()"
   ]
  },
  {
   "cell_type": "code",
   "execution_count": 5,
   "metadata": {},
   "outputs": [
    {
     "data": {
      "text/plain": [
       "id                     -0.260616\n",
       "log_price               0.514695\n",
       "accommodates            2.231561\n",
       "bathrooms               3.691453\n",
       "cleaning_fee           -1.059603\n",
       "latitude               -0.534766\n",
       "longitude              -0.407100\n",
       "number_of_reviews       3.702835\n",
       "review_scores_rating   -3.380861\n",
       "bedrooms                1.989849\n",
       "beds                    3.358000\n",
       "dtype: float64"
      ]
     },
     "execution_count": 5,
     "metadata": {},
     "output_type": "execute_result"
    }
   ],
   "source": [
    "#Evaluating skewness\n",
    "pdata.skew()\n",
    "#Decided to make a cutoff for number_of_reviews, review_scores_rating, and beds because of outliers and non-normal data"
   ]
  },
  {
   "cell_type": "code",
   "execution_count": 8,
   "metadata": {},
   "outputs": [],
   "source": [
    "#Pre-Processing Methods\n",
    "#removing outliers to reduce skewness of data \n",
    "z = pdata[pdata['number_of_reviews']> 100]\n",
    "for i in list (z[z['number_of_reviews']> 100].index):\n",
    "    pdata.loc[i,'number_of_reviews'] = 100\n",
    "    \n",
    "y = pdata[pdata['review_scores_rating']< 80]\n",
    "for i in list (y[y['review_scores_rating']< 80].index):\n",
    "    pdata.loc[i,'review_scores_rating'] = 80\n",
    "    \n",
    "x = pdata[pdata['beds']> 5]\n",
    "for i in list (x[x['beds']> 5].index):\n",
    "    pdata.loc[i,'beds'] = 5"
   ]
  },
  {
   "cell_type": "code",
   "execution_count": 9,
   "metadata": {},
   "outputs": [
    {
     "data": {
      "text/plain": [
       "id                     -0.260616\n",
       "log_price               0.514695\n",
       "accommodates            2.231561\n",
       "bathrooms               3.691453\n",
       "cleaning_fee           -1.059603\n",
       "latitude               -0.534766\n",
       "longitude              -0.407100\n",
       "number_of_reviews       1.841134\n",
       "review_scores_rating   -1.143345\n",
       "bedrooms                1.989849\n",
       "beds                    1.692681\n",
       "dtype: float64"
      ]
     },
     "execution_count": 9,
     "metadata": {},
     "output_type": "execute_result"
    }
   ],
   "source": [
    "#evaluating data for skewness after outlier transformation\n",
    "pdata.skew()"
   ]
  },
  {
   "cell_type": "markdown",
   "metadata": {},
   "source": [
    "#### 1.2 Data Preperation for Classification Task"
   ]
  },
  {
   "cell_type": "code",
   "execution_count": 10,
   "metadata": {},
   "outputs": [],
   "source": [
    "#dropping records with excess blank values, still had over 64k records to evaluate\n",
    "pdata_cls = pdata.dropna()"
   ]
  },
  {
   "cell_type": "code",
   "execution_count": 11,
   "metadata": {},
   "outputs": [
    {
     "data": {
      "text/plain": [
       "id                     -0.255823\n",
       "log_price               0.377120\n",
       "accommodates            2.119839\n",
       "bathrooms               3.705744\n",
       "cleaning_fee           -1.701312\n",
       "latitude               -0.649299\n",
       "longitude              -0.502707\n",
       "number_of_reviews       1.268297\n",
       "review_scores_rating   -1.155152\n",
       "bedrooms                1.874469\n",
       "beds                    1.539853\n",
       "dtype: float64"
      ]
     },
     "execution_count": 11,
     "metadata": {},
     "output_type": "execute_result"
    }
   ],
   "source": [
    "#evaluating data for skewness after outlier transformation after splitting data based on task\n",
    "pdata_cls.skew()"
   ]
  },
  {
   "cell_type": "markdown",
   "metadata": {},
   "source": [
    "To assist in predicting the property type of an Airbnb we decided to make a couple of changes to the features that could increase the predictability. \n",
    "\n",
    "We first collapsed the property type feature to only contain two distinct values, making this a binary classification problem. A property type could only be classified as Apartment or Other. This eliminated the smaller sub-types of a property such as, Loft, Condo, House, etc. We chose Apartment due to the large amounts of observations that were present in the data set and saw an increase in our accuracy (found at the end of this report)\n",
    "\n",
    "Second, we decided to remove the longitude and latitude variables and replace them with a variable called region. This variable split the United States in half and classified the observation as either East or West. This increased the performance of our models and allowed us to reduce the number of predictors included in the models."
   ]
  },
  {
   "cell_type": "code",
   "execution_count": 12,
   "metadata": {},
   "outputs": [],
   "source": [
    "#transforming the property type to a binary classification\n",
    "value_list = [\"Apartment\"]\n",
    "boolean_series = ~pdata_cls.property_type.isin(value_list)\n",
    "filtered_df = pdata_cls[boolean_series]\n",
    "\n",
    "filtered_df.head(100)\n",
    "\n",
    "for i in list (filtered_df.index):\n",
    "    pdata_cls.loc[i,'property_type'] = \"other\"\n",
    "\n",
    "#transforming the longitude and latitude variables to East / West\n",
    "pdata_cls[\"region\"] = pd.cut(pdata_cls.longitude,[-200,-100,0],2,labels=[\"West\",\"East\"])"
   ]
  },
  {
   "cell_type": "code",
   "execution_count": 13,
   "metadata": {},
   "outputs": [
    {
     "data": {
      "text/html": [
       "<div>\n",
       "<style scoped>\n",
       "    .dataframe tbody tr th:only-of-type {\n",
       "        vertical-align: middle;\n",
       "    }\n",
       "\n",
       "    .dataframe tbody tr th {\n",
       "        vertical-align: top;\n",
       "    }\n",
       "\n",
       "    .dataframe thead th {\n",
       "        text-align: right;\n",
       "    }\n",
       "</style>\n",
       "<table border=\"1\" class=\"dataframe\">\n",
       "  <thead>\n",
       "    <tr style=\"text-align: right;\">\n",
       "      <th></th>\n",
       "      <th>id</th>\n",
       "      <th>log_price</th>\n",
       "      <th>property_type</th>\n",
       "      <th>room_type</th>\n",
       "      <th>accommodates</th>\n",
       "      <th>bathrooms</th>\n",
       "      <th>bed_type</th>\n",
       "      <th>cancellation_policy</th>\n",
       "      <th>cleaning_fee</th>\n",
       "      <th>city</th>\n",
       "      <th>...</th>\n",
       "      <th>last_review</th>\n",
       "      <th>latitude</th>\n",
       "      <th>longitude</th>\n",
       "      <th>neighbourhood</th>\n",
       "      <th>number_of_reviews</th>\n",
       "      <th>review_scores_rating</th>\n",
       "      <th>zipcode</th>\n",
       "      <th>bedrooms</th>\n",
       "      <th>beds</th>\n",
       "      <th>region</th>\n",
       "    </tr>\n",
       "  </thead>\n",
       "  <tbody>\n",
       "    <tr>\n",
       "      <th>1</th>\n",
       "      <td>6304928</td>\n",
       "      <td>5.129899</td>\n",
       "      <td>Apartment</td>\n",
       "      <td>Entire home/apt</td>\n",
       "      <td>7</td>\n",
       "      <td>1.0</td>\n",
       "      <td>Real Bed</td>\n",
       "      <td>strict</td>\n",
       "      <td>True</td>\n",
       "      <td>NYC</td>\n",
       "      <td>...</td>\n",
       "      <td>9/23/2017</td>\n",
       "      <td>40.766115</td>\n",
       "      <td>-73.989040</td>\n",
       "      <td>Hell's Kitchen</td>\n",
       "      <td>6</td>\n",
       "      <td>93.0</td>\n",
       "      <td>10019</td>\n",
       "      <td>3.0</td>\n",
       "      <td>3.0</td>\n",
       "      <td>East</td>\n",
       "    </tr>\n",
       "    <tr>\n",
       "      <th>2</th>\n",
       "      <td>7919400</td>\n",
       "      <td>4.976734</td>\n",
       "      <td>Apartment</td>\n",
       "      <td>Entire home/apt</td>\n",
       "      <td>5</td>\n",
       "      <td>1.0</td>\n",
       "      <td>Real Bed</td>\n",
       "      <td>moderate</td>\n",
       "      <td>True</td>\n",
       "      <td>NYC</td>\n",
       "      <td>...</td>\n",
       "      <td>9/14/2017</td>\n",
       "      <td>40.808110</td>\n",
       "      <td>-73.943756</td>\n",
       "      <td>Harlem</td>\n",
       "      <td>10</td>\n",
       "      <td>92.0</td>\n",
       "      <td>10027</td>\n",
       "      <td>1.0</td>\n",
       "      <td>3.0</td>\n",
       "      <td>East</td>\n",
       "    </tr>\n",
       "    <tr>\n",
       "      <th>4</th>\n",
       "      <td>3808709</td>\n",
       "      <td>4.744932</td>\n",
       "      <td>Apartment</td>\n",
       "      <td>Entire home/apt</td>\n",
       "      <td>2</td>\n",
       "      <td>1.0</td>\n",
       "      <td>Real Bed</td>\n",
       "      <td>moderate</td>\n",
       "      <td>True</td>\n",
       "      <td>DC</td>\n",
       "      <td>...</td>\n",
       "      <td>1/22/2017</td>\n",
       "      <td>38.925627</td>\n",
       "      <td>-77.034596</td>\n",
       "      <td>Columbia Heights</td>\n",
       "      <td>4</td>\n",
       "      <td>80.0</td>\n",
       "      <td>20009</td>\n",
       "      <td>0.0</td>\n",
       "      <td>1.0</td>\n",
       "      <td>East</td>\n",
       "    </tr>\n",
       "    <tr>\n",
       "      <th>5</th>\n",
       "      <td>12422935</td>\n",
       "      <td>4.442651</td>\n",
       "      <td>Apartment</td>\n",
       "      <td>Private room</td>\n",
       "      <td>2</td>\n",
       "      <td>1.0</td>\n",
       "      <td>Real Bed</td>\n",
       "      <td>strict</td>\n",
       "      <td>True</td>\n",
       "      <td>SF</td>\n",
       "      <td>...</td>\n",
       "      <td>9/5/2017</td>\n",
       "      <td>37.753164</td>\n",
       "      <td>-122.429526</td>\n",
       "      <td>Noe Valley</td>\n",
       "      <td>3</td>\n",
       "      <td>100.0</td>\n",
       "      <td>94131</td>\n",
       "      <td>1.0</td>\n",
       "      <td>1.0</td>\n",
       "      <td>West</td>\n",
       "    </tr>\n",
       "    <tr>\n",
       "      <th>7</th>\n",
       "      <td>13971273</td>\n",
       "      <td>4.787492</td>\n",
       "      <td>other</td>\n",
       "      <td>Entire home/apt</td>\n",
       "      <td>2</td>\n",
       "      <td>1.0</td>\n",
       "      <td>Real Bed</td>\n",
       "      <td>moderate</td>\n",
       "      <td>True</td>\n",
       "      <td>LA</td>\n",
       "      <td>...</td>\n",
       "      <td>4/12/2017</td>\n",
       "      <td>34.046737</td>\n",
       "      <td>-118.260439</td>\n",
       "      <td>Downtown</td>\n",
       "      <td>9</td>\n",
       "      <td>93.0</td>\n",
       "      <td>90015</td>\n",
       "      <td>1.0</td>\n",
       "      <td>1.0</td>\n",
       "      <td>West</td>\n",
       "    </tr>\n",
       "  </tbody>\n",
       "</table>\n",
       "<p>5 rows × 27 columns</p>\n",
       "</div>"
      ],
      "text/plain": [
       "         id  log_price property_type        room_type  accommodates  \\\n",
       "1   6304928   5.129899     Apartment  Entire home/apt             7   \n",
       "2   7919400   4.976734     Apartment  Entire home/apt             5   \n",
       "4   3808709   4.744932     Apartment  Entire home/apt             2   \n",
       "5  12422935   4.442651     Apartment     Private room             2   \n",
       "7  13971273   4.787492         other  Entire home/apt             2   \n",
       "\n",
       "   bathrooms  bed_type cancellation_policy  cleaning_fee city  ...  \\\n",
       "1        1.0  Real Bed              strict          True  NYC  ...   \n",
       "2        1.0  Real Bed            moderate          True  NYC  ...   \n",
       "4        1.0  Real Bed            moderate          True   DC  ...   \n",
       "5        1.0  Real Bed              strict          True   SF  ...   \n",
       "7        1.0  Real Bed            moderate          True   LA  ...   \n",
       "\n",
       "  last_review   latitude   longitude     neighbourhood number_of_reviews  \\\n",
       "1   9/23/2017  40.766115  -73.989040    Hell's Kitchen                 6   \n",
       "2   9/14/2017  40.808110  -73.943756            Harlem                10   \n",
       "4   1/22/2017  38.925627  -77.034596  Columbia Heights                 4   \n",
       "5    9/5/2017  37.753164 -122.429526        Noe Valley                 3   \n",
       "7   4/12/2017  34.046737 -118.260439          Downtown                 9   \n",
       "\n",
       "  review_scores_rating zipcode bedrooms  beds  region  \n",
       "1                 93.0   10019      3.0   3.0    East  \n",
       "2                 92.0   10027      1.0   3.0    East  \n",
       "4                 80.0   20009      0.0   1.0    East  \n",
       "5                100.0   94131      1.0   1.0    West  \n",
       "7                 93.0   90015      1.0   1.0    West  \n",
       "\n",
       "[5 rows x 27 columns]"
      ]
     },
     "execution_count": 13,
     "metadata": {},
     "output_type": "execute_result"
    }
   ],
   "source": [
    "#evaluating the data after transformation\n",
    "pdata_cls.head()"
   ]
  },
  {
   "cell_type": "markdown",
   "metadata": {},
   "source": [
    "To help our model we encoded all of the boolean features that were originally stored as character fields to reflect actual boolean type variables and reflected true values with a 1 and false values with a 0.\n",
    "\n",
    "We also encoded our response variable to 1 vs 2 to reflect Apartment vs Other."
   ]
  },
  {
   "cell_type": "code",
   "execution_count": 14,
   "metadata": {},
   "outputs": [],
   "source": [
    "#Encoding boolean and categorical variables\n",
    "replaceStruct = {\n",
    "                \"cleaning_fee\":     {True: 1, False: 0},\n",
    "                \"instant_bookable\":     {\"t\": 1, \"f\": 0},\n",
    "                \"host_identity_verified\":     {\"t\": 1, \"f\": 0},\n",
    "                \"property_type\":     {\"Apartment\": 0, \"other\": 1},\n",
    "                    }\n",
    "\n",
    "pdata_cls=pdata_cls.replace(replaceStruct)"
   ]
  },
  {
   "cell_type": "markdown",
   "metadata": {},
   "source": [
    "We proceeded to one hot encode the categorical variables that we were going to leave in our models. This created a reference variable (0) and allows us to interpret the coefficients of the variables easier.\n",
    "\n",
    "We also evaluated the number of unique values found in the categorical variables, since hot-encoding the neighborhood attribute, which seemed useful in predicting property type in some cases, had 619 distinct values.  This made the model run time very slow and only gained a modest amount of accuracy.\n",
    "\n",
    "We then dropped all of the other columns that would not be used in the proceeding models, like property descriptions, and those that resulted in a 0.0 coefficient value, lacking predictive power."
   ]
  },
  {
   "cell_type": "code",
   "execution_count": 15,
   "metadata": {},
   "outputs": [
    {
     "data": {
      "text/plain": [
       "id                        42775\n",
       "log_price                   643\n",
       "property_type                 2\n",
       "room_type                     3\n",
       "accommodates                 16\n",
       "bathrooms                    17\n",
       "bed_type                      5\n",
       "cancellation_policy           5\n",
       "cleaning_fee                  2\n",
       "city                          6\n",
       "description               42424\n",
       "first_review               2489\n",
       "host_has_profile_pic          2\n",
       "host_identity_verified        2\n",
       "host_response_rate           77\n",
       "host_since                 3000\n",
       "instant_bookable              2\n",
       "last_review                1100\n",
       "latitude                  42758\n",
       "longitude                 42734\n",
       "neighbourhood               590\n",
       "number_of_reviews           100\n",
       "review_scores_rating         21\n",
       "zipcode                     577\n",
       "bedrooms                     11\n",
       "beds                          6\n",
       "region                        2\n",
       "dtype: int64"
      ]
     },
     "execution_count": 15,
     "metadata": {},
     "output_type": "execute_result"
    }
   ],
   "source": [
    "#evaluating categorical value count for one-hot-encoding\n",
    "pdata_cls.nunique()"
   ]
  },
  {
   "cell_type": "code",
   "execution_count": 16,
   "metadata": {},
   "outputs": [
    {
     "data": {
      "text/html": [
       "<div>\n",
       "<style scoped>\n",
       "    .dataframe tbody tr th:only-of-type {\n",
       "        vertical-align: middle;\n",
       "    }\n",
       "\n",
       "    .dataframe tbody tr th {\n",
       "        vertical-align: top;\n",
       "    }\n",
       "\n",
       "    .dataframe thead th {\n",
       "        text-align: right;\n",
       "    }\n",
       "</style>\n",
       "<table border=\"1\" class=\"dataframe\">\n",
       "  <thead>\n",
       "    <tr style=\"text-align: right;\">\n",
       "      <th></th>\n",
       "      <th>log_price</th>\n",
       "      <th>property_type</th>\n",
       "      <th>accommodates</th>\n",
       "      <th>bathrooms</th>\n",
       "      <th>host_identity_verified</th>\n",
       "      <th>instant_bookable</th>\n",
       "      <th>number_of_reviews</th>\n",
       "      <th>review_scores_rating</th>\n",
       "      <th>bedrooms</th>\n",
       "      <th>beds</th>\n",
       "      <th>...</th>\n",
       "      <th>city_Chicago</th>\n",
       "      <th>city_DC</th>\n",
       "      <th>city_LA</th>\n",
       "      <th>city_NYC</th>\n",
       "      <th>city_SF</th>\n",
       "      <th>cancellation_policy_moderate</th>\n",
       "      <th>cancellation_policy_strict</th>\n",
       "      <th>cancellation_policy_super_strict_30</th>\n",
       "      <th>cancellation_policy_super_strict_60</th>\n",
       "      <th>region_East</th>\n",
       "    </tr>\n",
       "  </thead>\n",
       "  <tbody>\n",
       "    <tr>\n",
       "      <th>1</th>\n",
       "      <td>5.129899</td>\n",
       "      <td>0</td>\n",
       "      <td>7</td>\n",
       "      <td>1.0</td>\n",
       "      <td>0</td>\n",
       "      <td>1</td>\n",
       "      <td>6</td>\n",
       "      <td>93.0</td>\n",
       "      <td>3.0</td>\n",
       "      <td>3.0</td>\n",
       "      <td>...</td>\n",
       "      <td>0</td>\n",
       "      <td>0</td>\n",
       "      <td>0</td>\n",
       "      <td>1</td>\n",
       "      <td>0</td>\n",
       "      <td>0</td>\n",
       "      <td>1</td>\n",
       "      <td>0</td>\n",
       "      <td>0</td>\n",
       "      <td>1</td>\n",
       "    </tr>\n",
       "    <tr>\n",
       "      <th>2</th>\n",
       "      <td>4.976734</td>\n",
       "      <td>0</td>\n",
       "      <td>5</td>\n",
       "      <td>1.0</td>\n",
       "      <td>1</td>\n",
       "      <td>1</td>\n",
       "      <td>10</td>\n",
       "      <td>92.0</td>\n",
       "      <td>1.0</td>\n",
       "      <td>3.0</td>\n",
       "      <td>...</td>\n",
       "      <td>0</td>\n",
       "      <td>0</td>\n",
       "      <td>0</td>\n",
       "      <td>1</td>\n",
       "      <td>0</td>\n",
       "      <td>1</td>\n",
       "      <td>0</td>\n",
       "      <td>0</td>\n",
       "      <td>0</td>\n",
       "      <td>1</td>\n",
       "    </tr>\n",
       "    <tr>\n",
       "      <th>4</th>\n",
       "      <td>4.744932</td>\n",
       "      <td>0</td>\n",
       "      <td>2</td>\n",
       "      <td>1.0</td>\n",
       "      <td>1</td>\n",
       "      <td>1</td>\n",
       "      <td>4</td>\n",
       "      <td>80.0</td>\n",
       "      <td>0.0</td>\n",
       "      <td>1.0</td>\n",
       "      <td>...</td>\n",
       "      <td>0</td>\n",
       "      <td>1</td>\n",
       "      <td>0</td>\n",
       "      <td>0</td>\n",
       "      <td>0</td>\n",
       "      <td>1</td>\n",
       "      <td>0</td>\n",
       "      <td>0</td>\n",
       "      <td>0</td>\n",
       "      <td>1</td>\n",
       "    </tr>\n",
       "    <tr>\n",
       "      <th>5</th>\n",
       "      <td>4.442651</td>\n",
       "      <td>0</td>\n",
       "      <td>2</td>\n",
       "      <td>1.0</td>\n",
       "      <td>1</td>\n",
       "      <td>1</td>\n",
       "      <td>3</td>\n",
       "      <td>100.0</td>\n",
       "      <td>1.0</td>\n",
       "      <td>1.0</td>\n",
       "      <td>...</td>\n",
       "      <td>0</td>\n",
       "      <td>0</td>\n",
       "      <td>0</td>\n",
       "      <td>0</td>\n",
       "      <td>1</td>\n",
       "      <td>0</td>\n",
       "      <td>1</td>\n",
       "      <td>0</td>\n",
       "      <td>0</td>\n",
       "      <td>0</td>\n",
       "    </tr>\n",
       "    <tr>\n",
       "      <th>7</th>\n",
       "      <td>4.787492</td>\n",
       "      <td>1</td>\n",
       "      <td>2</td>\n",
       "      <td>1.0</td>\n",
       "      <td>1</td>\n",
       "      <td>0</td>\n",
       "      <td>9</td>\n",
       "      <td>93.0</td>\n",
       "      <td>1.0</td>\n",
       "      <td>1.0</td>\n",
       "      <td>...</td>\n",
       "      <td>0</td>\n",
       "      <td>0</td>\n",
       "      <td>1</td>\n",
       "      <td>0</td>\n",
       "      <td>0</td>\n",
       "      <td>1</td>\n",
       "      <td>0</td>\n",
       "      <td>0</td>\n",
       "      <td>0</td>\n",
       "      <td>0</td>\n",
       "    </tr>\n",
       "    <tr>\n",
       "      <th>8</th>\n",
       "      <td>4.787492</td>\n",
       "      <td>1</td>\n",
       "      <td>2</td>\n",
       "      <td>1.0</td>\n",
       "      <td>0</td>\n",
       "      <td>0</td>\n",
       "      <td>100</td>\n",
       "      <td>99.0</td>\n",
       "      <td>1.0</td>\n",
       "      <td>1.0</td>\n",
       "      <td>...</td>\n",
       "      <td>0</td>\n",
       "      <td>0</td>\n",
       "      <td>0</td>\n",
       "      <td>0</td>\n",
       "      <td>1</td>\n",
       "      <td>1</td>\n",
       "      <td>0</td>\n",
       "      <td>0</td>\n",
       "      <td>0</td>\n",
       "      <td>0</td>\n",
       "    </tr>\n",
       "    <tr>\n",
       "      <th>10</th>\n",
       "      <td>4.605170</td>\n",
       "      <td>0</td>\n",
       "      <td>2</td>\n",
       "      <td>1.0</td>\n",
       "      <td>1</td>\n",
       "      <td>0</td>\n",
       "      <td>82</td>\n",
       "      <td>93.0</td>\n",
       "      <td>1.0</td>\n",
       "      <td>1.0</td>\n",
       "      <td>...</td>\n",
       "      <td>0</td>\n",
       "      <td>0</td>\n",
       "      <td>0</td>\n",
       "      <td>1</td>\n",
       "      <td>0</td>\n",
       "      <td>0</td>\n",
       "      <td>1</td>\n",
       "      <td>0</td>\n",
       "      <td>0</td>\n",
       "      <td>1</td>\n",
       "    </tr>\n",
       "    <tr>\n",
       "      <th>11</th>\n",
       "      <td>5.010635</td>\n",
       "      <td>1</td>\n",
       "      <td>4</td>\n",
       "      <td>1.5</td>\n",
       "      <td>1</td>\n",
       "      <td>0</td>\n",
       "      <td>29</td>\n",
       "      <td>97.0</td>\n",
       "      <td>2.0</td>\n",
       "      <td>2.0</td>\n",
       "      <td>...</td>\n",
       "      <td>0</td>\n",
       "      <td>0</td>\n",
       "      <td>1</td>\n",
       "      <td>0</td>\n",
       "      <td>0</td>\n",
       "      <td>0</td>\n",
       "      <td>1</td>\n",
       "      <td>0</td>\n",
       "      <td>0</td>\n",
       "      <td>0</td>\n",
       "    </tr>\n",
       "    <tr>\n",
       "      <th>13</th>\n",
       "      <td>5.298317</td>\n",
       "      <td>0</td>\n",
       "      <td>6</td>\n",
       "      <td>1.5</td>\n",
       "      <td>1</td>\n",
       "      <td>1</td>\n",
       "      <td>13</td>\n",
       "      <td>89.0</td>\n",
       "      <td>2.0</td>\n",
       "      <td>3.0</td>\n",
       "      <td>...</td>\n",
       "      <td>0</td>\n",
       "      <td>1</td>\n",
       "      <td>0</td>\n",
       "      <td>0</td>\n",
       "      <td>0</td>\n",
       "      <td>0</td>\n",
       "      <td>1</td>\n",
       "      <td>0</td>\n",
       "      <td>0</td>\n",
       "      <td>1</td>\n",
       "    </tr>\n",
       "    <tr>\n",
       "      <th>17</th>\n",
       "      <td>4.595120</td>\n",
       "      <td>1</td>\n",
       "      <td>2</td>\n",
       "      <td>2.0</td>\n",
       "      <td>1</td>\n",
       "      <td>0</td>\n",
       "      <td>12</td>\n",
       "      <td>88.0</td>\n",
       "      <td>1.0</td>\n",
       "      <td>1.0</td>\n",
       "      <td>...</td>\n",
       "      <td>0</td>\n",
       "      <td>0</td>\n",
       "      <td>0</td>\n",
       "      <td>0</td>\n",
       "      <td>0</td>\n",
       "      <td>0</td>\n",
       "      <td>1</td>\n",
       "      <td>0</td>\n",
       "      <td>0</td>\n",
       "      <td>1</td>\n",
       "    </tr>\n",
       "  </tbody>\n",
       "</table>\n",
       "<p>10 rows × 26 columns</p>\n",
       "</div>"
      ],
      "text/plain": [
       "    log_price  property_type  accommodates  bathrooms  host_identity_verified  \\\n",
       "1    5.129899              0             7        1.0                       0   \n",
       "2    4.976734              0             5        1.0                       1   \n",
       "4    4.744932              0             2        1.0                       1   \n",
       "5    4.442651              0             2        1.0                       1   \n",
       "7    4.787492              1             2        1.0                       1   \n",
       "8    4.787492              1             2        1.0                       0   \n",
       "10   4.605170              0             2        1.0                       1   \n",
       "11   5.010635              1             4        1.5                       1   \n",
       "13   5.298317              0             6        1.5                       1   \n",
       "17   4.595120              1             2        2.0                       1   \n",
       "\n",
       "    instant_bookable  number_of_reviews  review_scores_rating  bedrooms  beds  \\\n",
       "1                  1                  6                  93.0       3.0   3.0   \n",
       "2                  1                 10                  92.0       1.0   3.0   \n",
       "4                  1                  4                  80.0       0.0   1.0   \n",
       "5                  1                  3                 100.0       1.0   1.0   \n",
       "7                  0                  9                  93.0       1.0   1.0   \n",
       "8                  0                100                  99.0       1.0   1.0   \n",
       "10                 0                 82                  93.0       1.0   1.0   \n",
       "11                 0                 29                  97.0       2.0   2.0   \n",
       "13                 1                 13                  89.0       2.0   3.0   \n",
       "17                 0                 12                  88.0       1.0   1.0   \n",
       "\n",
       "    ...  city_Chicago  city_DC  city_LA  city_NYC  city_SF  \\\n",
       "1   ...             0        0        0         1        0   \n",
       "2   ...             0        0        0         1        0   \n",
       "4   ...             0        1        0         0        0   \n",
       "5   ...             0        0        0         0        1   \n",
       "7   ...             0        0        1         0        0   \n",
       "8   ...             0        0        0         0        1   \n",
       "10  ...             0        0        0         1        0   \n",
       "11  ...             0        0        1         0        0   \n",
       "13  ...             0        1        0         0        0   \n",
       "17  ...             0        0        0         0        0   \n",
       "\n",
       "    cancellation_policy_moderate  cancellation_policy_strict  \\\n",
       "1                              0                           1   \n",
       "2                              1                           0   \n",
       "4                              1                           0   \n",
       "5                              0                           1   \n",
       "7                              1                           0   \n",
       "8                              1                           0   \n",
       "10                             0                           1   \n",
       "11                             0                           1   \n",
       "13                             0                           1   \n",
       "17                             0                           1   \n",
       "\n",
       "    cancellation_policy_super_strict_30  cancellation_policy_super_strict_60  \\\n",
       "1                                     0                                    0   \n",
       "2                                     0                                    0   \n",
       "4                                     0                                    0   \n",
       "5                                     0                                    0   \n",
       "7                                     0                                    0   \n",
       "8                                     0                                    0   \n",
       "10                                    0                                    0   \n",
       "11                                    0                                    0   \n",
       "13                                    0                                    0   \n",
       "17                                    0                                    0   \n",
       "\n",
       "    region_East  \n",
       "1             1  \n",
       "2             1  \n",
       "4             1  \n",
       "5             0  \n",
       "7             0  \n",
       "8             0  \n",
       "10            1  \n",
       "11            0  \n",
       "13            1  \n",
       "17            1  \n",
       "\n",
       "[10 rows x 26 columns]"
      ]
     },
     "execution_count": 16,
     "metadata": {},
     "output_type": "execute_result"
    }
   ],
   "source": [
    "#one hot encoding categorical variables and dropping columns that are not used\n",
    "oneHotCols=[\"room_type\",\"bed_type\",\"city\",\"cancellation_policy\",\"region\"]\n",
    "pdata_cls.drop(['description','host_response_rate','first_review','host_since','last_review','zipcode','id','latitude','longitude','neighbourhood','cleaning_fee','host_has_profile_pic'], axis=1, inplace=True)\n",
    "pdata_cls=pd.get_dummies(pdata_cls, columns=oneHotCols,drop_first=True)\n",
    "pdata_cls.head(10)"
   ]
  },
  {
   "cell_type": "code",
   "execution_count": 18,
   "metadata": {},
   "outputs": [],
   "source": [
    "# Creating the X and y variables for the Classification Model\n",
    "X_cls = pdata_cls.drop('property_type',axis=1).values     \n",
    "y_cls = pdata_cls['property_type'].values\n",
    "\n",
    "#Scaling the Classification input\n",
    "yhat_cls = np.zeros(y_cls.shape) # we will fill this with predictions\n",
    "scl_cls = StandardScaler()\n",
    "X_scaled_cls = scl_cls.fit_transform(X_cls)"
   ]
  },
  {
   "cell_type": "code",
   "execution_count": 19,
   "metadata": {},
   "outputs": [
    {
     "name": "stdout",
     "output_type": "stream",
     "text": [
      "<class 'pandas.core.frame.DataFrame'>\n",
      "Int64Index: 42775 entries, 1 to 74110\n",
      "Data columns (total 26 columns):\n",
      " #   Column                               Non-Null Count  Dtype  \n",
      "---  ------                               --------------  -----  \n",
      " 0   log_price                            42775 non-null  float64\n",
      " 1   property_type                        42775 non-null  int64  \n",
      " 2   accommodates                         42775 non-null  int64  \n",
      " 3   bathrooms                            42775 non-null  float64\n",
      " 4   host_identity_verified               42775 non-null  int64  \n",
      " 5   instant_bookable                     42775 non-null  int64  \n",
      " 6   number_of_reviews                    42775 non-null  int64  \n",
      " 7   review_scores_rating                 42775 non-null  float64\n",
      " 8   bedrooms                             42775 non-null  float64\n",
      " 9   beds                                 42775 non-null  float64\n",
      " 10  room_type_Private room               42775 non-null  uint8  \n",
      " 11  room_type_Shared room                42775 non-null  uint8  \n",
      " 12  bed_type_Couch                       42775 non-null  uint8  \n",
      " 13  bed_type_Futon                       42775 non-null  uint8  \n",
      " 14  bed_type_Pull-out Sofa               42775 non-null  uint8  \n",
      " 15  bed_type_Real Bed                    42775 non-null  uint8  \n",
      " 16  city_Chicago                         42775 non-null  uint8  \n",
      " 17  city_DC                              42775 non-null  uint8  \n",
      " 18  city_LA                              42775 non-null  uint8  \n",
      " 19  city_NYC                             42775 non-null  uint8  \n",
      " 20  city_SF                              42775 non-null  uint8  \n",
      " 21  cancellation_policy_moderate         42775 non-null  uint8  \n",
      " 22  cancellation_policy_strict           42775 non-null  uint8  \n",
      " 23  cancellation_policy_super_strict_30  42775 non-null  uint8  \n",
      " 24  cancellation_policy_super_strict_60  42775 non-null  uint8  \n",
      " 25  region_East                          42775 non-null  uint8  \n",
      "dtypes: float64(5), int64(5), uint8(16)\n",
      "memory usage: 4.2 MB\n"
     ]
    }
   ],
   "source": [
    "#Describe the final dataset\n",
    "pdata_cls.info()"
   ]
  },
  {
   "cell_type": "markdown",
   "metadata": {},
   "source": [
    "#### 1.3 Data Preparation for Regression Models"
   ]
  },
  {
   "cell_type": "code",
   "execution_count": 20,
   "metadata": {},
   "outputs": [],
   "source": [
    "#imputing missing numerical data by using the median, removing records with missing categorical values\n",
    "pdata_reg = pdata.fillna(pdata.median())\n",
    "pdata_reg = pdata_reg.dropna()"
   ]
  },
  {
   "cell_type": "code",
   "execution_count": 21,
   "metadata": {},
   "outputs": [
    {
     "data": {
      "text/plain": [
       "id                     -0.254923\n",
       "log_price               0.381099\n",
       "accommodates            2.129464\n",
       "bathrooms               3.716646\n",
       "cleaning_fee           -1.678508\n",
       "latitude               -0.650879\n",
       "longitude              -0.504401\n",
       "number_of_reviews       1.276446\n",
       "review_scores_rating   -1.162697\n",
       "bedrooms                1.877781\n",
       "beds                    1.546403\n",
       "dtype: float64"
      ]
     },
     "execution_count": 21,
     "metadata": {},
     "output_type": "execute_result"
    }
   ],
   "source": [
    "# evaluating data after imputing with median\n",
    "pdata_reg.skew()"
   ]
  },
  {
   "cell_type": "markdown",
   "metadata": {},
   "source": [
    "To help our model we encoded all of the boolean features that were originally stored as character fields to reflect actual boolean type variables and reflected true values with a 1 and false values with a 0."
   ]
  },
  {
   "cell_type": "code",
   "execution_count": 22,
   "metadata": {},
   "outputs": [
    {
     "data": {
      "text/html": [
       "<div>\n",
       "<style scoped>\n",
       "    .dataframe tbody tr th:only-of-type {\n",
       "        vertical-align: middle;\n",
       "    }\n",
       "\n",
       "    .dataframe tbody tr th {\n",
       "        vertical-align: top;\n",
       "    }\n",
       "\n",
       "    .dataframe thead th {\n",
       "        text-align: right;\n",
       "    }\n",
       "</style>\n",
       "<table border=\"1\" class=\"dataframe\">\n",
       "  <thead>\n",
       "    <tr style=\"text-align: right;\">\n",
       "      <th></th>\n",
       "      <th>id</th>\n",
       "      <th>log_price</th>\n",
       "      <th>property_type</th>\n",
       "      <th>room_type</th>\n",
       "      <th>accommodates</th>\n",
       "      <th>bathrooms</th>\n",
       "      <th>bed_type</th>\n",
       "      <th>cancellation_policy</th>\n",
       "      <th>cleaning_fee</th>\n",
       "      <th>city</th>\n",
       "      <th>...</th>\n",
       "      <th>instant_bookable</th>\n",
       "      <th>last_review</th>\n",
       "      <th>latitude</th>\n",
       "      <th>longitude</th>\n",
       "      <th>neighbourhood</th>\n",
       "      <th>number_of_reviews</th>\n",
       "      <th>review_scores_rating</th>\n",
       "      <th>zipcode</th>\n",
       "      <th>bedrooms</th>\n",
       "      <th>beds</th>\n",
       "    </tr>\n",
       "  </thead>\n",
       "  <tbody>\n",
       "    <tr>\n",
       "      <th>1</th>\n",
       "      <td>6304928</td>\n",
       "      <td>5.129899</td>\n",
       "      <td>Apartment</td>\n",
       "      <td>Entire home/apt</td>\n",
       "      <td>7</td>\n",
       "      <td>1.0</td>\n",
       "      <td>Real Bed</td>\n",
       "      <td>strict</td>\n",
       "      <td>1</td>\n",
       "      <td>NYC</td>\n",
       "      <td>...</td>\n",
       "      <td>1</td>\n",
       "      <td>9/23/2017</td>\n",
       "      <td>40.766115</td>\n",
       "      <td>-73.989040</td>\n",
       "      <td>Hell's Kitchen</td>\n",
       "      <td>6</td>\n",
       "      <td>93.0</td>\n",
       "      <td>10019</td>\n",
       "      <td>3.0</td>\n",
       "      <td>3.0</td>\n",
       "    </tr>\n",
       "    <tr>\n",
       "      <th>2</th>\n",
       "      <td>7919400</td>\n",
       "      <td>4.976734</td>\n",
       "      <td>Apartment</td>\n",
       "      <td>Entire home/apt</td>\n",
       "      <td>5</td>\n",
       "      <td>1.0</td>\n",
       "      <td>Real Bed</td>\n",
       "      <td>moderate</td>\n",
       "      <td>1</td>\n",
       "      <td>NYC</td>\n",
       "      <td>...</td>\n",
       "      <td>1</td>\n",
       "      <td>9/14/2017</td>\n",
       "      <td>40.808110</td>\n",
       "      <td>-73.943756</td>\n",
       "      <td>Harlem</td>\n",
       "      <td>10</td>\n",
       "      <td>92.0</td>\n",
       "      <td>10027</td>\n",
       "      <td>1.0</td>\n",
       "      <td>3.0</td>\n",
       "    </tr>\n",
       "    <tr>\n",
       "      <th>4</th>\n",
       "      <td>3808709</td>\n",
       "      <td>4.744932</td>\n",
       "      <td>Apartment</td>\n",
       "      <td>Entire home/apt</td>\n",
       "      <td>2</td>\n",
       "      <td>1.0</td>\n",
       "      <td>Real Bed</td>\n",
       "      <td>moderate</td>\n",
       "      <td>1</td>\n",
       "      <td>DC</td>\n",
       "      <td>...</td>\n",
       "      <td>1</td>\n",
       "      <td>1/22/2017</td>\n",
       "      <td>38.925627</td>\n",
       "      <td>-77.034596</td>\n",
       "      <td>Columbia Heights</td>\n",
       "      <td>4</td>\n",
       "      <td>80.0</td>\n",
       "      <td>20009</td>\n",
       "      <td>0.0</td>\n",
       "      <td>1.0</td>\n",
       "    </tr>\n",
       "    <tr>\n",
       "      <th>5</th>\n",
       "      <td>12422935</td>\n",
       "      <td>4.442651</td>\n",
       "      <td>Apartment</td>\n",
       "      <td>Private room</td>\n",
       "      <td>2</td>\n",
       "      <td>1.0</td>\n",
       "      <td>Real Bed</td>\n",
       "      <td>strict</td>\n",
       "      <td>1</td>\n",
       "      <td>SF</td>\n",
       "      <td>...</td>\n",
       "      <td>1</td>\n",
       "      <td>9/5/2017</td>\n",
       "      <td>37.753164</td>\n",
       "      <td>-122.429526</td>\n",
       "      <td>Noe Valley</td>\n",
       "      <td>3</td>\n",
       "      <td>100.0</td>\n",
       "      <td>94131</td>\n",
       "      <td>1.0</td>\n",
       "      <td>1.0</td>\n",
       "    </tr>\n",
       "    <tr>\n",
       "      <th>7</th>\n",
       "      <td>13971273</td>\n",
       "      <td>4.787492</td>\n",
       "      <td>Condominium</td>\n",
       "      <td>Entire home/apt</td>\n",
       "      <td>2</td>\n",
       "      <td>1.0</td>\n",
       "      <td>Real Bed</td>\n",
       "      <td>moderate</td>\n",
       "      <td>1</td>\n",
       "      <td>LA</td>\n",
       "      <td>...</td>\n",
       "      <td>0</td>\n",
       "      <td>4/12/2017</td>\n",
       "      <td>34.046737</td>\n",
       "      <td>-118.260439</td>\n",
       "      <td>Downtown</td>\n",
       "      <td>9</td>\n",
       "      <td>93.0</td>\n",
       "      <td>90015</td>\n",
       "      <td>1.0</td>\n",
       "      <td>1.0</td>\n",
       "    </tr>\n",
       "  </tbody>\n",
       "</table>\n",
       "<p>5 rows × 26 columns</p>\n",
       "</div>"
      ],
      "text/plain": [
       "         id  log_price property_type        room_type  accommodates  \\\n",
       "1   6304928   5.129899     Apartment  Entire home/apt             7   \n",
       "2   7919400   4.976734     Apartment  Entire home/apt             5   \n",
       "4   3808709   4.744932     Apartment  Entire home/apt             2   \n",
       "5  12422935   4.442651     Apartment     Private room             2   \n",
       "7  13971273   4.787492   Condominium  Entire home/apt             2   \n",
       "\n",
       "   bathrooms  bed_type cancellation_policy  cleaning_fee city  ...  \\\n",
       "1        1.0  Real Bed              strict             1  NYC  ...   \n",
       "2        1.0  Real Bed            moderate             1  NYC  ...   \n",
       "4        1.0  Real Bed            moderate             1   DC  ...   \n",
       "5        1.0  Real Bed              strict             1   SF  ...   \n",
       "7        1.0  Real Bed            moderate             1   LA  ...   \n",
       "\n",
       "  instant_bookable last_review   latitude   longitude     neighbourhood  \\\n",
       "1                1   9/23/2017  40.766115  -73.989040    Hell's Kitchen   \n",
       "2                1   9/14/2017  40.808110  -73.943756            Harlem   \n",
       "4                1   1/22/2017  38.925627  -77.034596  Columbia Heights   \n",
       "5                1    9/5/2017  37.753164 -122.429526        Noe Valley   \n",
       "7                0   4/12/2017  34.046737 -118.260439          Downtown   \n",
       "\n",
       "  number_of_reviews  review_scores_rating zipcode  bedrooms  beds  \n",
       "1                 6                  93.0   10019       3.0   3.0  \n",
       "2                10                  92.0   10027       1.0   3.0  \n",
       "4                 4                  80.0   20009       0.0   1.0  \n",
       "5                 3                 100.0   94131       1.0   1.0  \n",
       "7                 9                  93.0   90015       1.0   1.0  \n",
       "\n",
       "[5 rows x 26 columns]"
      ]
     },
     "execution_count": 22,
     "metadata": {},
     "output_type": "execute_result"
    }
   ],
   "source": [
    "replaceStruct = {\n",
    "                \"cleaning_fee\":     {True: 1, False: 0},\n",
    "                \"instant_bookable\":     {\"t\": 1, \"f\": 0},\n",
    "                \"host_identity_verified\":     {\"t\": 1, \"f\": 0},\n",
    "                    }\n",
    "pdata_reg=pdata_reg.replace(replaceStruct)\n",
    "pdata_reg.head()"
   ]
  },
  {
   "cell_type": "markdown",
   "metadata": {},
   "source": [
    "We proceeded to one hot encode the categorical variables that we were going to leave in our models. This created a reference variable (0) and allows us to interpret the coefficients of the variables easier.\n",
    "\n",
    "Unlike our classification task, we did not make property_type a binary attribute, instead we allow all distinct property_types to be incorporated in the model."
   ]
  },
  {
   "cell_type": "code",
   "execution_count": 23,
   "metadata": {},
   "outputs": [
    {
     "data": {
      "text/html": [
       "<div>\n",
       "<style scoped>\n",
       "    .dataframe tbody tr th:only-of-type {\n",
       "        vertical-align: middle;\n",
       "    }\n",
       "\n",
       "    .dataframe tbody tr th {\n",
       "        vertical-align: top;\n",
       "    }\n",
       "\n",
       "    .dataframe thead th {\n",
       "        text-align: right;\n",
       "    }\n",
       "</style>\n",
       "<table border=\"1\" class=\"dataframe\">\n",
       "  <thead>\n",
       "    <tr style=\"text-align: right;\">\n",
       "      <th></th>\n",
       "      <th>log_price</th>\n",
       "      <th>accommodates</th>\n",
       "      <th>bathrooms</th>\n",
       "      <th>host_identity_verified</th>\n",
       "      <th>instant_bookable</th>\n",
       "      <th>latitude</th>\n",
       "      <th>longitude</th>\n",
       "      <th>number_of_reviews</th>\n",
       "      <th>review_scores_rating</th>\n",
       "      <th>bedrooms</th>\n",
       "      <th>...</th>\n",
       "      <th>property_type_Serviced apartment</th>\n",
       "      <th>property_type_Tent</th>\n",
       "      <th>property_type_Timeshare</th>\n",
       "      <th>property_type_Tipi</th>\n",
       "      <th>property_type_Townhouse</th>\n",
       "      <th>property_type_Train</th>\n",
       "      <th>property_type_Treehouse</th>\n",
       "      <th>property_type_Vacation home</th>\n",
       "      <th>property_type_Villa</th>\n",
       "      <th>property_type_Yurt</th>\n",
       "    </tr>\n",
       "  </thead>\n",
       "  <tbody>\n",
       "    <tr>\n",
       "      <th>1</th>\n",
       "      <td>5.129899</td>\n",
       "      <td>7</td>\n",
       "      <td>1.0</td>\n",
       "      <td>0</td>\n",
       "      <td>1</td>\n",
       "      <td>40.766115</td>\n",
       "      <td>-73.989040</td>\n",
       "      <td>6</td>\n",
       "      <td>93.0</td>\n",
       "      <td>3.0</td>\n",
       "      <td>...</td>\n",
       "      <td>0</td>\n",
       "      <td>0</td>\n",
       "      <td>0</td>\n",
       "      <td>0</td>\n",
       "      <td>0</td>\n",
       "      <td>0</td>\n",
       "      <td>0</td>\n",
       "      <td>0</td>\n",
       "      <td>0</td>\n",
       "      <td>0</td>\n",
       "    </tr>\n",
       "    <tr>\n",
       "      <th>2</th>\n",
       "      <td>4.976734</td>\n",
       "      <td>5</td>\n",
       "      <td>1.0</td>\n",
       "      <td>1</td>\n",
       "      <td>1</td>\n",
       "      <td>40.808110</td>\n",
       "      <td>-73.943756</td>\n",
       "      <td>10</td>\n",
       "      <td>92.0</td>\n",
       "      <td>1.0</td>\n",
       "      <td>...</td>\n",
       "      <td>0</td>\n",
       "      <td>0</td>\n",
       "      <td>0</td>\n",
       "      <td>0</td>\n",
       "      <td>0</td>\n",
       "      <td>0</td>\n",
       "      <td>0</td>\n",
       "      <td>0</td>\n",
       "      <td>0</td>\n",
       "      <td>0</td>\n",
       "    </tr>\n",
       "    <tr>\n",
       "      <th>4</th>\n",
       "      <td>4.744932</td>\n",
       "      <td>2</td>\n",
       "      <td>1.0</td>\n",
       "      <td>1</td>\n",
       "      <td>1</td>\n",
       "      <td>38.925627</td>\n",
       "      <td>-77.034596</td>\n",
       "      <td>4</td>\n",
       "      <td>80.0</td>\n",
       "      <td>0.0</td>\n",
       "      <td>...</td>\n",
       "      <td>0</td>\n",
       "      <td>0</td>\n",
       "      <td>0</td>\n",
       "      <td>0</td>\n",
       "      <td>0</td>\n",
       "      <td>0</td>\n",
       "      <td>0</td>\n",
       "      <td>0</td>\n",
       "      <td>0</td>\n",
       "      <td>0</td>\n",
       "    </tr>\n",
       "    <tr>\n",
       "      <th>5</th>\n",
       "      <td>4.442651</td>\n",
       "      <td>2</td>\n",
       "      <td>1.0</td>\n",
       "      <td>1</td>\n",
       "      <td>1</td>\n",
       "      <td>37.753164</td>\n",
       "      <td>-122.429526</td>\n",
       "      <td>3</td>\n",
       "      <td>100.0</td>\n",
       "      <td>1.0</td>\n",
       "      <td>...</td>\n",
       "      <td>0</td>\n",
       "      <td>0</td>\n",
       "      <td>0</td>\n",
       "      <td>0</td>\n",
       "      <td>0</td>\n",
       "      <td>0</td>\n",
       "      <td>0</td>\n",
       "      <td>0</td>\n",
       "      <td>0</td>\n",
       "      <td>0</td>\n",
       "    </tr>\n",
       "    <tr>\n",
       "      <th>7</th>\n",
       "      <td>4.787492</td>\n",
       "      <td>2</td>\n",
       "      <td>1.0</td>\n",
       "      <td>1</td>\n",
       "      <td>0</td>\n",
       "      <td>34.046737</td>\n",
       "      <td>-118.260439</td>\n",
       "      <td>9</td>\n",
       "      <td>93.0</td>\n",
       "      <td>1.0</td>\n",
       "      <td>...</td>\n",
       "      <td>0</td>\n",
       "      <td>0</td>\n",
       "      <td>0</td>\n",
       "      <td>0</td>\n",
       "      <td>0</td>\n",
       "      <td>0</td>\n",
       "      <td>0</td>\n",
       "      <td>0</td>\n",
       "      <td>0</td>\n",
       "      <td>0</td>\n",
       "    </tr>\n",
       "    <tr>\n",
       "      <th>8</th>\n",
       "      <td>4.787492</td>\n",
       "      <td>2</td>\n",
       "      <td>1.0</td>\n",
       "      <td>0</td>\n",
       "      <td>0</td>\n",
       "      <td>37.781128</td>\n",
       "      <td>-122.501095</td>\n",
       "      <td>100</td>\n",
       "      <td>99.0</td>\n",
       "      <td>1.0</td>\n",
       "      <td>...</td>\n",
       "      <td>0</td>\n",
       "      <td>0</td>\n",
       "      <td>0</td>\n",
       "      <td>0</td>\n",
       "      <td>0</td>\n",
       "      <td>0</td>\n",
       "      <td>0</td>\n",
       "      <td>0</td>\n",
       "      <td>0</td>\n",
       "      <td>0</td>\n",
       "    </tr>\n",
       "    <tr>\n",
       "      <th>10</th>\n",
       "      <td>4.605170</td>\n",
       "      <td>2</td>\n",
       "      <td>1.0</td>\n",
       "      <td>1</td>\n",
       "      <td>0</td>\n",
       "      <td>40.723883</td>\n",
       "      <td>-73.983880</td>\n",
       "      <td>82</td>\n",
       "      <td>93.0</td>\n",
       "      <td>1.0</td>\n",
       "      <td>...</td>\n",
       "      <td>0</td>\n",
       "      <td>0</td>\n",
       "      <td>0</td>\n",
       "      <td>0</td>\n",
       "      <td>0</td>\n",
       "      <td>0</td>\n",
       "      <td>0</td>\n",
       "      <td>0</td>\n",
       "      <td>0</td>\n",
       "      <td>0</td>\n",
       "    </tr>\n",
       "    <tr>\n",
       "      <th>11</th>\n",
       "      <td>5.010635</td>\n",
       "      <td>4</td>\n",
       "      <td>1.5</td>\n",
       "      <td>1</td>\n",
       "      <td>0</td>\n",
       "      <td>33.875862</td>\n",
       "      <td>-118.403293</td>\n",
       "      <td>29</td>\n",
       "      <td>97.0</td>\n",
       "      <td>2.0</td>\n",
       "      <td>...</td>\n",
       "      <td>0</td>\n",
       "      <td>0</td>\n",
       "      <td>0</td>\n",
       "      <td>0</td>\n",
       "      <td>0</td>\n",
       "      <td>0</td>\n",
       "      <td>0</td>\n",
       "      <td>0</td>\n",
       "      <td>0</td>\n",
       "      <td>0</td>\n",
       "    </tr>\n",
       "    <tr>\n",
       "      <th>13</th>\n",
       "      <td>5.298317</td>\n",
       "      <td>6</td>\n",
       "      <td>1.5</td>\n",
       "      <td>1</td>\n",
       "      <td>1</td>\n",
       "      <td>38.919630</td>\n",
       "      <td>-77.031189</td>\n",
       "      <td>13</td>\n",
       "      <td>89.0</td>\n",
       "      <td>2.0</td>\n",
       "      <td>...</td>\n",
       "      <td>0</td>\n",
       "      <td>0</td>\n",
       "      <td>0</td>\n",
       "      <td>0</td>\n",
       "      <td>0</td>\n",
       "      <td>0</td>\n",
       "      <td>0</td>\n",
       "      <td>0</td>\n",
       "      <td>0</td>\n",
       "      <td>0</td>\n",
       "    </tr>\n",
       "    <tr>\n",
       "      <th>17</th>\n",
       "      <td>4.595120</td>\n",
       "      <td>2</td>\n",
       "      <td>2.0</td>\n",
       "      <td>1</td>\n",
       "      <td>0</td>\n",
       "      <td>42.339194</td>\n",
       "      <td>-71.049672</td>\n",
       "      <td>12</td>\n",
       "      <td>88.0</td>\n",
       "      <td>1.0</td>\n",
       "      <td>...</td>\n",
       "      <td>0</td>\n",
       "      <td>0</td>\n",
       "      <td>0</td>\n",
       "      <td>0</td>\n",
       "      <td>1</td>\n",
       "      <td>0</td>\n",
       "      <td>0</td>\n",
       "      <td>0</td>\n",
       "      <td>0</td>\n",
       "      <td>0</td>\n",
       "    </tr>\n",
       "  </tbody>\n",
       "</table>\n",
       "<p>10 rows × 56 columns</p>\n",
       "</div>"
      ],
      "text/plain": [
       "    log_price  accommodates  bathrooms  host_identity_verified  \\\n",
       "1    5.129899             7        1.0                       0   \n",
       "2    4.976734             5        1.0                       1   \n",
       "4    4.744932             2        1.0                       1   \n",
       "5    4.442651             2        1.0                       1   \n",
       "7    4.787492             2        1.0                       1   \n",
       "8    4.787492             2        1.0                       0   \n",
       "10   4.605170             2        1.0                       1   \n",
       "11   5.010635             4        1.5                       1   \n",
       "13   5.298317             6        1.5                       1   \n",
       "17   4.595120             2        2.0                       1   \n",
       "\n",
       "    instant_bookable   latitude   longitude  number_of_reviews  \\\n",
       "1                  1  40.766115  -73.989040                  6   \n",
       "2                  1  40.808110  -73.943756                 10   \n",
       "4                  1  38.925627  -77.034596                  4   \n",
       "5                  1  37.753164 -122.429526                  3   \n",
       "7                  0  34.046737 -118.260439                  9   \n",
       "8                  0  37.781128 -122.501095                100   \n",
       "10                 0  40.723883  -73.983880                 82   \n",
       "11                 0  33.875862 -118.403293                 29   \n",
       "13                 1  38.919630  -77.031189                 13   \n",
       "17                 0  42.339194  -71.049672                 12   \n",
       "\n",
       "    review_scores_rating  bedrooms  ...  property_type_Serviced apartment  \\\n",
       "1                   93.0       3.0  ...                                 0   \n",
       "2                   92.0       1.0  ...                                 0   \n",
       "4                   80.0       0.0  ...                                 0   \n",
       "5                  100.0       1.0  ...                                 0   \n",
       "7                   93.0       1.0  ...                                 0   \n",
       "8                   99.0       1.0  ...                                 0   \n",
       "10                  93.0       1.0  ...                                 0   \n",
       "11                  97.0       2.0  ...                                 0   \n",
       "13                  89.0       2.0  ...                                 0   \n",
       "17                  88.0       1.0  ...                                 0   \n",
       "\n",
       "    property_type_Tent  property_type_Timeshare  property_type_Tipi  \\\n",
       "1                    0                        0                   0   \n",
       "2                    0                        0                   0   \n",
       "4                    0                        0                   0   \n",
       "5                    0                        0                   0   \n",
       "7                    0                        0                   0   \n",
       "8                    0                        0                   0   \n",
       "10                   0                        0                   0   \n",
       "11                   0                        0                   0   \n",
       "13                   0                        0                   0   \n",
       "17                   0                        0                   0   \n",
       "\n",
       "    property_type_Townhouse  property_type_Train  property_type_Treehouse  \\\n",
       "1                         0                    0                        0   \n",
       "2                         0                    0                        0   \n",
       "4                         0                    0                        0   \n",
       "5                         0                    0                        0   \n",
       "7                         0                    0                        0   \n",
       "8                         0                    0                        0   \n",
       "10                        0                    0                        0   \n",
       "11                        0                    0                        0   \n",
       "13                        0                    0                        0   \n",
       "17                        1                    0                        0   \n",
       "\n",
       "    property_type_Vacation home  property_type_Villa  property_type_Yurt  \n",
       "1                             0                    0                   0  \n",
       "2                             0                    0                   0  \n",
       "4                             0                    0                   0  \n",
       "5                             0                    0                   0  \n",
       "7                             0                    0                   0  \n",
       "8                             0                    0                   0  \n",
       "10                            0                    0                   0  \n",
       "11                            0                    0                   0  \n",
       "13                            0                    0                   0  \n",
       "17                            0                    0                   0  \n",
       "\n",
       "[10 rows x 56 columns]"
      ]
     },
     "execution_count": 23,
     "metadata": {},
     "output_type": "execute_result"
    }
   ],
   "source": [
    "#one hot encoding categorical variables and dropping columns that are not used\n",
    "oneHotCols=[\"room_type\",\"bed_type\",\"city\",\"cancellation_policy\", \"property_type\"]\n",
    "pdata_reg.drop(['description','host_response_rate','first_review','host_since', 'zipcode','last_review','id','neighbourhood','cleaning_fee','host_has_profile_pic'], axis=1, inplace=True)\n",
    "pdata_reg=pd.get_dummies(pdata_reg, columns=oneHotCols,drop_first=True)\n",
    "pdata_reg.head(10)"
   ]
  },
  {
   "cell_type": "code",
   "execution_count": 24,
   "metadata": {},
   "outputs": [],
   "source": [
    "# create regression x and y \n",
    "X_reg = pdata_reg.drop('log_price',axis=1).values     \n",
    "y_reg = pdata_reg['log_price'].values\n",
    "\n",
    "#Scaling the x\n",
    "yhat_reg = np.zeros(y_reg.shape) # we will fill this with predictions\n",
    "scl_reg = StandardScaler()\n",
    "X_scaled_reg = scl_reg.fit_transform(X_reg)"
   ]
  },
  {
   "cell_type": "code",
   "execution_count": 25,
   "metadata": {},
   "outputs": [
    {
     "name": "stdout",
     "output_type": "stream",
     "text": [
      "<class 'pandas.core.frame.DataFrame'>\n",
      "Int64Index: 43320 entries, 1 to 74110\n",
      "Data columns (total 56 columns):\n",
      " #   Column                               Non-Null Count  Dtype  \n",
      "---  ------                               --------------  -----  \n",
      " 0   log_price                            43320 non-null  float64\n",
      " 1   accommodates                         43320 non-null  int64  \n",
      " 2   bathrooms                            43320 non-null  float64\n",
      " 3   host_identity_verified               43320 non-null  int64  \n",
      " 4   instant_bookable                     43320 non-null  int64  \n",
      " 5   latitude                             43320 non-null  float64\n",
      " 6   longitude                            43320 non-null  float64\n",
      " 7   number_of_reviews                    43320 non-null  int64  \n",
      " 8   review_scores_rating                 43320 non-null  float64\n",
      " 9   bedrooms                             43320 non-null  float64\n",
      " 10  beds                                 43320 non-null  float64\n",
      " 11  room_type_Private room               43320 non-null  uint8  \n",
      " 12  room_type_Shared room                43320 non-null  uint8  \n",
      " 13  bed_type_Couch                       43320 non-null  uint8  \n",
      " 14  bed_type_Futon                       43320 non-null  uint8  \n",
      " 15  bed_type_Pull-out Sofa               43320 non-null  uint8  \n",
      " 16  bed_type_Real Bed                    43320 non-null  uint8  \n",
      " 17  city_Chicago                         43320 non-null  uint8  \n",
      " 18  city_DC                              43320 non-null  uint8  \n",
      " 19  city_LA                              43320 non-null  uint8  \n",
      " 20  city_NYC                             43320 non-null  uint8  \n",
      " 21  city_SF                              43320 non-null  uint8  \n",
      " 22  cancellation_policy_moderate         43320 non-null  uint8  \n",
      " 23  cancellation_policy_strict           43320 non-null  uint8  \n",
      " 24  cancellation_policy_super_strict_30  43320 non-null  uint8  \n",
      " 25  cancellation_policy_super_strict_60  43320 non-null  uint8  \n",
      " 26  property_type_Bed & Breakfast        43320 non-null  uint8  \n",
      " 27  property_type_Boat                   43320 non-null  uint8  \n",
      " 28  property_type_Boutique hotel         43320 non-null  uint8  \n",
      " 29  property_type_Bungalow               43320 non-null  uint8  \n",
      " 30  property_type_Cabin                  43320 non-null  uint8  \n",
      " 31  property_type_Camper/RV              43320 non-null  uint8  \n",
      " 32  property_type_Castle                 43320 non-null  uint8  \n",
      " 33  property_type_Cave                   43320 non-null  uint8  \n",
      " 34  property_type_Chalet                 43320 non-null  uint8  \n",
      " 35  property_type_Condominium            43320 non-null  uint8  \n",
      " 36  property_type_Dorm                   43320 non-null  uint8  \n",
      " 37  property_type_Earth House            43320 non-null  uint8  \n",
      " 38  property_type_Guest suite            43320 non-null  uint8  \n",
      " 39  property_type_Guesthouse             43320 non-null  uint8  \n",
      " 40  property_type_Hostel                 43320 non-null  uint8  \n",
      " 41  property_type_House                  43320 non-null  uint8  \n",
      " 42  property_type_Hut                    43320 non-null  uint8  \n",
      " 43  property_type_In-law                 43320 non-null  uint8  \n",
      " 44  property_type_Loft                   43320 non-null  uint8  \n",
      " 45  property_type_Other                  43320 non-null  uint8  \n",
      " 46  property_type_Serviced apartment     43320 non-null  uint8  \n",
      " 47  property_type_Tent                   43320 non-null  uint8  \n",
      " 48  property_type_Timeshare              43320 non-null  uint8  \n",
      " 49  property_type_Tipi                   43320 non-null  uint8  \n",
      " 50  property_type_Townhouse              43320 non-null  uint8  \n",
      " 51  property_type_Train                  43320 non-null  uint8  \n",
      " 52  property_type_Treehouse              43320 non-null  uint8  \n",
      " 53  property_type_Vacation home          43320 non-null  uint8  \n",
      " 54  property_type_Villa                  43320 non-null  uint8  \n",
      " 55  property_type_Yurt                   43320 non-null  uint8  \n",
      "dtypes: float64(7), int64(4), uint8(45)\n",
      "memory usage: 5.8 MB\n"
     ]
    }
   ],
   "source": [
    "#Describing the final dataset for regression\n",
    "pdata_reg.info()"
   ]
  },
  {
   "cell_type": "markdown",
   "metadata": {},
   "source": [
    "2. Modeling and Evaluation\n",
    "    2.1 Evaluation Metrics\n",
    "    2.2 Method for Splitting train and test data\n",
    "        2.2.1 Classification\n",
    "        2.2.2 Regression\n",
    "    2.3 Classification Models\n",
    "        2.3.1 Random Forest\n",
    "        2.3.2 KNN\n",
    "        2.3.3 Logistic Regression\n",
    "    2.4 Regression Models\n",
    "        2.4.1 LASSO\n",
    "        2.4.2 Random Forest\n",
    "    2.5 Comparison and Advantages of Models\n",
    "        2.5.1 Advantages\n",
    "        2.5.2 95% Confidence"
   ]
  },
  {
   "cell_type": "markdown",
   "metadata": {},
   "source": [
    "### 2. Modeling and Evaluation"
   ]
  },
  {
   "cell_type": "markdown",
   "metadata": {},
   "source": [
    "#### 2.1 Evaluation Metrics (Model and Evaluation 1)"
   ]
  },
  {
   "cell_type": "markdown",
   "metadata": {},
   "source": [
    "Classification:\n",
    "<br> \n",
    "&nbsp;&nbsp;&nbsp; Accuracy - Fraction of samples predicted correctly, mainly used in classification tasks. This can be highly misleading in unbalanced datasets. \n",
    "<br> &nbsp;&nbsp;&nbsp;&nbsp;&nbsp;&nbsp; Formula: ((TP+TN)/(TP+TN+FP+FN))\n",
    "<br>\n",
    "&nbsp;&nbsp;&nbsp;&nbsp;&nbsp;&nbsp; [TP - True Positive, TN - True Negative, FP - False Positive, FN - False Negative]\n",
    "<br>\n",
    "&nbsp;&nbsp;&nbsp; Precision - Fraction of predicted positive events that are actually positive.\n",
    "<br> &nbsp;&nbsp;&nbsp;&nbsp;&nbsp;&nbsp; Formula: ((TP)/(TP+FP))\n",
    "<br>\n",
    "&nbsp;&nbsp;&nbsp;&nbsp;&nbsp;&nbsp; [TP - True Positive, FP - False Positive]\n",
    "<br>\n",
    "&nbsp;&nbsp;&nbsp; Recall - Fraction of positives that were predicted correctly.\n",
    "<br> &nbsp;&nbsp;&nbsp;&nbsp;&nbsp;&nbsp; Formula: ((TP)/(TP+FN))\n",
    "<br>\n",
    "&nbsp;&nbsp;&nbsp;&nbsp;&nbsp;&nbsp; [TP - True Positive, FN - False Negative]\n",
    "<br>\n",
    "&nbsp;&nbsp;&nbsp; F-Measure - Harmonized mean of recall and precision which is the best metric used for unbalanced classification tasks.\n",
    "<br> &nbsp;&nbsp;&nbsp;&nbsp;&nbsp;&nbsp; Formula: (2(precision x recall)/(precision+recall))\n",
    "<br>\n",
    "&nbsp;&nbsp;&nbsp; Confusion Matrix - Table that enables us to visualizing the performance of the classification task. Since the accuracy can be misleading, this method allows us to determine how well the model classifies.\n",
    "<br>\n",
    "<br>\n",
    "Why: The F1 metric is most suitable for classification task as we have an unbalanced dataset.\n",
    "<br>\n",
    "<br>\n",
    "Regression:\n",
    "<br>\n",
    "&nbsp;&nbsp;&nbsp; MSE [Mean Squared Error] - The MSE is calculated as the mean or average of the squared differences between predicted and expected target values in a dataset. Our goal is to minimize the mean squared error between predictions and expected values. Use MSE to train a model.\n",
    "<br>\n",
    "&nbsp;&nbsp;&nbsp; RMSE [Root Mean Squared Error] - The RMSE is an extension of MSE because it is the square root of MSE. RMSE determines the performance after testing the model(s) in cross-validation.\n",
    "<br>\n",
    "&nbsp;&nbsp;&nbsp; MAE [Mean Average Error] - The average of the absolute error from the predcited to the actual which helps us understand the magnitude of the error - not necessarily the direction.\n",
    "<br>\n",
    "&nbsp;&nbsp;&nbsp; MAPE [Mean Absolute Percent Error] - The measurement of how accurate a prediction is as a percentage.\n",
    "<br>\n",
    "<br>\n",
    "Why: We looked at MAE, MAPE, and RMSE to compare accross models. Utlimately we decided to compare models based off of the MAE because of the ease of interpretablility."
   ]
  },
  {
   "cell_type": "markdown",
   "metadata": {},
   "source": [
    "#### 2.2 Method for Splitting train and test data (Model and Evaluation 2)"
   ]
  },
  {
   "cell_type": "markdown",
   "metadata": {},
   "source": [
    "##### 2.2.1 Classification Task"
   ]
  },
  {
   "cell_type": "markdown",
   "metadata": {},
   "source": [
    "We used stratified shuffle split in our classification data split because we have an unbalanced dataset and we want to ensure smaller classes are equally represented in our train/test splits.\n",
    "A 10-fold cross-validation with an 80/20 train/test split was applied."
   ]
  },
  {
   "cell_type": "code",
   "execution_count": 26,
   "metadata": {},
   "outputs": [],
   "source": [
    "# create cross validation iterator\n",
    "cv = StratifiedShuffleSplit(n_splits=10, test_size = 0.2, train_size = 0.8)\n",
    "\n",
    "# now iterate through and get predictions, saved to the correct row in yhat\n",
    "# NOTE: you can parallelize this using the cross_val_predict method\n",
    "# fill in the training and testing data and save as separate variables\n",
    "for trainidx, testidx in cv.split(X_scaled_cls,y_cls):\n",
    "    # note that these are sparse matrices\n",
    "    X_train_scaled_cls = X_scaled_cls[trainidx]\n",
    "    X_test_scaled_cls = X_scaled_cls[testidx]\n",
    "    y_train_cls = y_cls[trainidx]\n",
    "    y_test_cls = y_cls[testidx]"
   ]
  },
  {
   "cell_type": "code",
   "execution_count": 27,
   "metadata": {},
   "outputs": [
    {
     "name": "stdout",
     "output_type": "stream",
     "text": [
      "80.00% data is in training set\n",
      "20.00% data is in test set\n"
     ]
    }
   ],
   "source": [
    "#verifying the test vs train split\n",
    "print(\"{0:0.2f}% data is in training set\".format((len(X_train_scaled_cls)/len(pdata_cls.index)) * 100))\n",
    "print(\"{0:0.2f}% data is in test set\".format((len(X_test_scaled_cls)/len(pdata_cls.index)) * 100))"
   ]
  },
  {
   "cell_type": "markdown",
   "metadata": {},
   "source": [
    "##### 2.2.2 Regression Task"
   ]
  },
  {
   "cell_type": "markdown",
   "metadata": {},
   "source": [
    "We used a shuffle split in our regression data split because we have a continuous response variable. A 10-fold cross-validation with an 80/20 train/test split was applied."
   ]
  },
  {
   "cell_type": "code",
   "execution_count": 28,
   "metadata": {},
   "outputs": [],
   "source": [
    "# create cross validation iterator\n",
    "from sklearn.model_selection import ShuffleSplit\n",
    "cv_reg = ShuffleSplit(n_splits=10, test_size = 0.2, train_size = 0.8)\n",
    "\n",
    "# now iterate through and get predictions, saved to the correct row in yhat\n",
    "# NOTE: you can parallelize this using the cross_val_predict method\n",
    "# fill in the training and testing data and save as separate variables\n",
    "for trainidx, testidx in cv_reg.split(X_scaled_reg,y_reg):\n",
    "    # note that these are sparse matrices\n",
    "    X_train_scaled_reg = X_scaled_reg[trainidx]\n",
    "    X_test_scaled_reg = X_scaled_reg[testidx]\n",
    "    y_train_reg = y_reg[trainidx]\n",
    "    y_test_reg = y_reg[testidx]"
   ]
  },
  {
   "cell_type": "code",
   "execution_count": 29,
   "metadata": {},
   "outputs": [
    {
     "name": "stdout",
     "output_type": "stream",
     "text": [
      "80.00% data is in training set\n",
      "20.00% data is in test set\n"
     ]
    }
   ],
   "source": [
    "#verifying the test vs train split\n",
    "print(\"{0:0.2f}% data is in training set\".format((len(X_train_scaled_reg)/len(pdata_reg.index)) * 100))\n",
    "print(\"{0:0.2f}% data is in test set\".format((len(X_test_scaled_reg)/len(pdata_reg.index)) * 100))"
   ]
  },
  {
   "cell_type": "markdown",
   "metadata": {},
   "source": [
    "#### 2.3 Classification Models (Model and Evaluation 3 Pt. 1) - Random Forest, KNN, Logistic Regression"
   ]
  },
  {
   "cell_type": "markdown",
   "metadata": {},
   "source": [
    "For each model we performed a Grid Search and/or Random Search to optimize the hyperparameters."
   ]
  },
  {
   "cell_type": "markdown",
   "metadata": {},
   "source": [
    "##### 2.3.1 Random Forest Classifier"
   ]
  },
  {
   "cell_type": "code",
   "execution_count": 30,
   "metadata": {},
   "outputs": [],
   "source": [
    "from sklearn.ensemble import RandomForestClassifier\n",
    "\n",
    "#Upload the Random Forest Classifier to the Grid Search\n",
    "modelGRID_RFC = RandomForestClassifier()\n",
    "\n",
    "#parameters_RFC = {'n_estimators' : [5,10,15,20,25,30,50,75,100,500],'max_features' : ['auto', 'sqrt', 'log2'],'max_depth' : [5,10,15,20,25,30,35,'None'],'min_samples_split' : [2,5,10],'min_samples_leaf' : [1,2,4],'bootstrap' : [True, False]}\n",
    "#When ran, the optimal solution is: {'bootstrap': False,'max_depth': 15,'max_features': 'auto','min_samples_leaf': 2,'min_samples_split': 2,'n_estimators': 500}\n",
    "#Therefore, we wanted to rerun the model with different estimators\n",
    "\n",
    "parameters_RFC = {'n_estimators' : [5,100,500,1000],\n",
    "                 'max_features' : ['auto', 'sqrt', 'log2'],\n",
    "                 'max_depth' : [5,10,15,20,35,'None'],\n",
    "                 'min_samples_split' : [2,3,4,5],\n",
    "                 'min_samples_leaf' : [1,2,3,4],\n",
    "                 'bootstrap' : [True, False]}"
   ]
  },
  {
   "cell_type": "code",
   "execution_count": null,
   "metadata": {},
   "outputs": [],
   "source": [
    "#GridSearch\n",
    "from sklearn.model_selection import GridSearchCV\n",
    "gs_RFC = GridSearchCV(modelGRID_RFC, n_jobs = 25, param_grid=parameters_RFC,cv=3,scoring='accuracy')\n",
    "gs_RFC.fit(X_train_scaled_cls, y_train_cls)"
   ]
  },
  {
   "cell_type": "code",
   "execution_count": 29,
   "metadata": {},
   "outputs": [
    {
     "name": "stdout",
     "output_type": "stream",
     "text": [
      "Fitting 3 folds for each of 50 candidates, totalling 150 fits\n"
     ]
    },
    {
     "name": "stderr",
     "output_type": "stream",
     "text": [
      "[Parallel(n_jobs=25)]: Using backend LokyBackend with 25 concurrent workers.\n",
      "[Parallel(n_jobs=25)]: Done 150 out of 150 | elapsed:  2.3min finished\n"
     ]
    },
    {
     "data": {
      "text/plain": [
       "RandomizedSearchCV(cv=3, estimator=RandomForestClassifier(), n_iter=50,\n",
       "                   n_jobs=25,\n",
       "                   param_distributions={'bootstrap': [True, False],\n",
       "                                        'max_depth': [5, 10, 15, 20, 35,\n",
       "                                                      'None'],\n",
       "                                        'max_features': ['auto', 'sqrt',\n",
       "                                                         'log2'],\n",
       "                                        'min_samples_leaf': [1, 2, 3, 4],\n",
       "                                        'min_samples_split': [2, 3, 4, 5],\n",
       "                                        'n_estimators': [5, 100, 500, 1000]},\n",
       "                   random_state=42, scoring='accuracy', verbose=2)"
      ]
     },
     "execution_count": 29,
     "metadata": {},
     "output_type": "execute_result"
    }
   ],
   "source": [
    "#Random Search CV for optimazation\n",
    "from sklearn.model_selection import RandomizedSearchCV\n",
    "rs_RFC = RandomizedSearchCV(estimator = modelGRID_RFC, param_distributions = parameters_RFC, n_iter = 50, cv = 3, verbose=2, random_state=42, n_jobs = 25,scoring='accuracy')\n",
    "rs_RFC.fit(X_train_scaled_cls, y_train_cls)"
   ]
  },
  {
   "cell_type": "code",
   "execution_count": null,
   "metadata": {},
   "outputs": [],
   "source": [
    "#parameter combination with the highest score for grid search\n",
    "gs_RFC.best_params_"
   ]
  },
  {
   "cell_type": "code",
   "execution_count": 31,
   "metadata": {},
   "outputs": [
    {
     "data": {
      "text/plain": [
       "{'n_estimators': 500,\n",
       " 'min_samples_split': 2,\n",
       " 'min_samples_leaf': 2,\n",
       " 'max_features': 'auto',\n",
       " 'max_depth': 15,\n",
       " 'bootstrap': True}"
      ]
     },
     "execution_count": 31,
     "metadata": {},
     "output_type": "execute_result"
    }
   ],
   "source": [
    "#parameter combination with the highest score for random search\n",
    "rs_RFC.best_params_"
   ]
  },
  {
   "cell_type": "code",
   "execution_count": null,
   "metadata": {},
   "outputs": [],
   "source": [
    "modelFINAL_RFC_GS = RandomForestClassifier(gs_RFC.best_params_)\n",
    "modelFINAL_RFC_GS.fit(X_train_scaled_cls, y_train_cls)\n",
    "y_hat_RFC_GS = modelFINAL_RFC_GS.predict(X_test_scaled_cls)"
   ]
  },
  {
   "cell_type": "code",
   "execution_count": 55,
   "metadata": {},
   "outputs": [],
   "source": [
    "modelFINAL_RFC_RS = RandomForestClassifier(n_estimators=500,\n",
    "                                             min_samples_split = 4,\n",
    "                                             min_samples_leaf= 2,\n",
    "                                             max_features= 'auto',\n",
    "                                             max_depth= 15,\n",
    "                                             bootstrap= True)\n",
    "modelFINAL_RFC_RS.fit(X_train_scaled_cls,y_train_cls)\n",
    "y_hat_RFC_RS = modelFINAL_RFC_RS.predict(X_test_scaled_cls)"
   ]
  },
  {
   "cell_type": "code",
   "execution_count": 57,
   "metadata": {},
   "outputs": [
    {
     "name": "stdout",
     "output_type": "stream",
     "text": [
      "[0.76586791 0.75815313 0.75441262 0.76364699 0.76691993 0.76165985\n",
      " 0.7622443  0.75733489 0.76154296 0.76177674]\n"
     ]
    }
   ],
   "source": [
    "from sklearn.model_selection import cross_val_score\n",
    "accuracies_RFC = cross_val_score(modelFINAL_RFC_RS, X_scaled_cls, y=y_cls, cv=cv) # this also can help with parallelism\n",
    "print(accuracies_RFC)"
   ]
  },
  {
   "cell_type": "code",
   "execution_count": null,
   "metadata": {},
   "outputs": [],
   "source": [
    "#Confusion Matrix for Random Forest Classifier w/ GridSearch\n",
    "from sklearn.metrics import classification_report, confusion_matrix\n",
    "from sklearn.ensemble import RandomForestClassifier\n",
    "\n",
    "## function to get confusion matrix in a proper format\n",
    "def draw_cm( actual, predicted ):\n",
    "    cm = confusion_matrix( actual, predicted)\n",
    "    sns.heatmap(cm, annot=True,  fmt='.2f', xticklabels = [0,1] , yticklabels = [0,1] )\n",
    "    plt.ylabel('Observed')\n",
    "    plt.xlabel('Predicted')\n",
    "    plt.show()\n",
    "\n",
    "print(\"Training accuracy\",round(modelFINAL_RFC_GS.score(X_train_scaled_cls,y_train_cls),ndigits=3))\n",
    "print()\n",
    "print(\"Testing accuracy\",round(mt.accuracy_score(y_test_cls, y_hat_RFC_GS),ndigits=3))\n",
    "print()\n",
    "print('Confusion Matrix')\n",
    "print(draw_cm(y_test_cls,y_hat_RFC_GS))\n",
    "\n",
    "print(classification_report(y_test_cls,y_hat_RFC_GS))"
   ]
  },
  {
   "cell_type": "code",
   "execution_count": 34,
   "metadata": {},
   "outputs": [
    {
     "name": "stdout",
     "output_type": "stream",
     "text": [
      "Training accuracy 0.835\n",
      "\n",
      "Testing accuracy 0.763\n",
      "\n",
      "Confusion Matrix\n"
     ]
    },
    {
     "data": {
      "image/png": "[encoded data removed]",
      "text/plain": [
       "<Figure size 432x288 with 2 Axes>"
      ]
     },
     "metadata": {
      "needs_background": "light"
     },
     "output_type": "display_data"
    },
    {
     "name": "stdout",
     "output_type": "stream",
     "text": [
      "None\n",
      "              precision    recall  f1-score   support\n",
      "\n",
      "           0       0.79      0.87      0.83      5523\n",
      "           1       0.70      0.57      0.63      3032\n",
      "\n",
      "    accuracy                           0.76      8555\n",
      "   macro avg       0.75      0.72      0.73      8555\n",
      "weighted avg       0.76      0.76      0.76      8555\n",
      "\n"
     ]
    }
   ],
   "source": [
    "#Confusion Matrix for Random Forest Classifier w/ RandomSearch\n",
    "from sklearn.metrics import classification_report, confusion_matrix\n",
    "from sklearn.ensemble import RandomForestClassifier\n",
    "\n",
    "## function to get confusion matrix in a proper format\n",
    "def draw_cm( actual, predicted ):\n",
    "    cm = confusion_matrix( actual, predicted)\n",
    "    sns.heatmap(cm, annot=True,  fmt='.2f', xticklabels = [0,1] , yticklabels = [0,1] )\n",
    "    plt.ylabel('Observed')\n",
    "    plt.xlabel('Predicted')\n",
    "    plt.show()\n",
    "\n",
    "print(\"Training accuracy\",round(modelFINAL_RFC_RS.score(X_train_scaled_cls,y_train_cls),ndigits=3))\n",
    "print()\n",
    "print(\"Testing accuracy\",round(mt.accuracy_score(y_test_cls, y_hat_RFC_RS),ndigits=3))\n",
    "print()\n",
    "print('Confusion Matrix')\n",
    "print(draw_cm(y_test_cls,y_hat_RFC_RS))\n",
    "\n",
    "print(classification_report(y_test_cls,y_hat_RFC_RS))"
   ]
  },
  {
   "cell_type": "code",
   "execution_count": 35,
   "metadata": {},
   "outputs": [
    {
     "name": "stdout",
     "output_type": "stream",
     "text": [
      "0.763\n"
     ]
    }
   ],
   "source": [
    "RF_ac = round(mt.accuracy_score(y_test_cls, y_hat_RFC_RS),ndigits=3)\n",
    "\n",
    "print(RF_ac)"
   ]
  },
  {
   "cell_type": "code",
   "execution_count": 36,
   "metadata": {},
   "outputs": [
    {
     "data": {
      "image/png": "[encoded data removed]",
      "text/plain": [
       "<Figure size 432x288 with 1 Axes>"
      ]
     },
     "metadata": {
      "needs_background": "light"
     },
     "output_type": "display_data"
    }
   ],
   "source": [
    "#https://machinelearningmastery.com/roc-curves-and-precision-recall-curves-for-classification-in-python/\n",
    "\n",
    "from sklearn.metrics import roc_auc_score\n",
    "from sklearn.metrics import roc_curve\n",
    "\n",
    "log_roc_auc = roc_auc_score(y_test_cls, modelFINAL_RFC_RS.predict(X_test_scaled_cls))\n",
    "fpr, tpr, thresholds = roc_curve(y_test_cls, modelFINAL_RFC_RS.predict_proba(X_test_scaled_cls)[:,1])\n",
    "\n",
    "plt.figure()\n",
    "plt.plot(fpr, tpr, color='blue', label='Random Forest Classifier (area = %0.2f)' % log_roc_auc)\n",
    "plt.plot([0, 1], [0, 1],'r--')\n",
    "plt.xlim([0.0, 1.0])\n",
    "plt.ylim([0.0, 1.05])\n",
    "plt.xlabel('False Positive Rate')\n",
    "plt.ylabel('True Positive Rate')\n",
    "plt.title('Random Forest Classifier Performance')\n",
    "plt.legend(loc=\"lower right\")\n",
    "plt.show()"
   ]
  },
  {
   "cell_type": "markdown",
   "metadata": {},
   "source": [
    "##### 2.3.2 K-Nearest Neighbors Classification"
   ]
  },
  {
   "cell_type": "code",
   "execution_count": 59,
   "metadata": {},
   "outputs": [
    {
     "name": "stdout",
     "output_type": "stream",
     "text": [
      "CPU times: user 8 µs, sys: 3 µs, total: 11 µs\n",
      "Wall time: 20.3 µs\n"
     ]
    },
    {
     "ename": "KeyboardInterrupt",
     "evalue": "",
     "output_type": "error",
     "traceback": [
      "\u001b[0;31m---------------------------------------------------------------------------\u001b[0m",
      "\u001b[0;31mKeyboardInterrupt\u001b[0m                         Traceback (most recent call last)",
      "\u001b[0;32m<ipython-input-59-9c96a99e9838>\u001b[0m in \u001b[0;36m<module>\u001b[0;34m\u001b[0m\n\u001b[1;32m     22\u001b[0m \u001b[0;34m\u001b[0m\u001b[0m\n\u001b[1;32m     23\u001b[0m \u001b[0;31m#Use the best features from recursive feature elimination during the grid search\u001b[0m\u001b[0;34m\u001b[0m\u001b[0;34m\u001b[0m\u001b[0;34m\u001b[0m\u001b[0m\n\u001b[0;32m---> 24\u001b[0;31m \u001b[0mgridKnn\u001b[0m\u001b[0;34m.\u001b[0m\u001b[0mfit\u001b[0m\u001b[0;34m(\u001b[0m\u001b[0mX_train_scaled_cls\u001b[0m\u001b[0;34m,\u001b[0m \u001b[0my_train_cls\u001b[0m\u001b[0;34m)\u001b[0m\u001b[0;34m\u001b[0m\u001b[0;34m\u001b[0m\u001b[0m\n\u001b[0m\u001b[1;32m     25\u001b[0m \u001b[0;34m\u001b[0m\u001b[0m\n\u001b[1;32m     26\u001b[0m \u001b[0;31m#display the best pipeline model identified during the grid search\u001b[0m\u001b[0;34m\u001b[0m\u001b[0;34m\u001b[0m\u001b[0;34m\u001b[0m\u001b[0m\n",
      "\u001b[0;32m~/opt/anaconda3/lib/python3.8/site-packages/sklearn/utils/validation.py\u001b[0m in \u001b[0;36minner_f\u001b[0;34m(*args, **kwargs)\u001b[0m\n\u001b[1;32m     71\u001b[0m                           FutureWarning)\n\u001b[1;32m     72\u001b[0m         \u001b[0mkwargs\u001b[0m\u001b[0;34m.\u001b[0m\u001b[0mupdate\u001b[0m\u001b[0;34m(\u001b[0m\u001b[0;34m{\u001b[0m\u001b[0mk\u001b[0m\u001b[0;34m:\u001b[0m \u001b[0marg\u001b[0m \u001b[0;32mfor\u001b[0m \u001b[0mk\u001b[0m\u001b[0;34m,\u001b[0m \u001b[0marg\u001b[0m \u001b[0;32min\u001b[0m \u001b[0mzip\u001b[0m\u001b[0;34m(\u001b[0m\u001b[0msig\u001b[0m\u001b[0;34m.\u001b[0m\u001b[0mparameters\u001b[0m\u001b[0;34m,\u001b[0m \u001b[0margs\u001b[0m\u001b[0;34m)\u001b[0m\u001b[0;34m}\u001b[0m\u001b[0;34m)\u001b[0m\u001b[0;34m\u001b[0m\u001b[0;34m\u001b[0m\u001b[0m\n\u001b[0;32m---> 73\u001b[0;31m         \u001b[0;32mreturn\u001b[0m \u001b[0mf\u001b[0m\u001b[0;34m(\u001b[0m\u001b[0;34m**\u001b[0m\u001b[0mkwargs\u001b[0m\u001b[0;34m)\u001b[0m\u001b[0;34m\u001b[0m\u001b[0;34m\u001b[0m\u001b[0m\n\u001b[0m\u001b[1;32m     74\u001b[0m     \u001b[0;32mreturn\u001b[0m \u001b[0minner_f\u001b[0m\u001b[0;34m\u001b[0m\u001b[0;34m\u001b[0m\u001b[0m\n\u001b[1;32m     75\u001b[0m \u001b[0;34m\u001b[0m\u001b[0m\n",
      "\u001b[0;32m~/opt/anaconda3/lib/python3.8/site-packages/sklearn/model_selection/_search.py\u001b[0m in \u001b[0;36mfit\u001b[0;34m(self, X, y, groups, **fit_params)\u001b[0m\n\u001b[1;32m    734\u001b[0m                 \u001b[0;32mreturn\u001b[0m \u001b[0mresults\u001b[0m\u001b[0;34m\u001b[0m\u001b[0;34m\u001b[0m\u001b[0m\n\u001b[1;32m    735\u001b[0m \u001b[0;34m\u001b[0m\u001b[0m\n\u001b[0;32m--> 736\u001b[0;31m             \u001b[0mself\u001b[0m\u001b[0;34m.\u001b[0m\u001b[0m_run_search\u001b[0m\u001b[0;34m(\u001b[0m\u001b[0mevaluate_candidates\u001b[0m\u001b[0;34m)\u001b[0m\u001b[0;34m\u001b[0m\u001b[0;34m\u001b[0m\u001b[0m\n\u001b[0m\u001b[1;32m    737\u001b[0m \u001b[0;34m\u001b[0m\u001b[0m\n\u001b[1;32m    738\u001b[0m         \u001b[0;31m# For multi-metric evaluation, store the best_index_, best_params_ and\u001b[0m\u001b[0;34m\u001b[0m\u001b[0;34m\u001b[0m\u001b[0;34m\u001b[0m\u001b[0m\n",
      "\u001b[0;32m~/opt/anaconda3/lib/python3.8/site-packages/sklearn/model_selection/_search.py\u001b[0m in \u001b[0;36m_run_search\u001b[0;34m(self, evaluate_candidates)\u001b[0m\n\u001b[1;32m   1186\u001b[0m     \u001b[0;32mdef\u001b[0m \u001b[0m_run_search\u001b[0m\u001b[0;34m(\u001b[0m\u001b[0mself\u001b[0m\u001b[0;34m,\u001b[0m \u001b[0mevaluate_candidates\u001b[0m\u001b[0;34m)\u001b[0m\u001b[0;34m:\u001b[0m\u001b[0;34m\u001b[0m\u001b[0;34m\u001b[0m\u001b[0m\n\u001b[1;32m   1187\u001b[0m         \u001b[0;34m\"\"\"Search all candidates in param_grid\"\"\"\u001b[0m\u001b[0;34m\u001b[0m\u001b[0;34m\u001b[0m\u001b[0m\n\u001b[0;32m-> 1188\u001b[0;31m         \u001b[0mevaluate_candidates\u001b[0m\u001b[0;34m(\u001b[0m\u001b[0mParameterGrid\u001b[0m\u001b[0;34m(\u001b[0m\u001b[0mself\u001b[0m\u001b[0;34m.\u001b[0m\u001b[0mparam_grid\u001b[0m\u001b[0;34m)\u001b[0m\u001b[0;34m)\u001b[0m\u001b[0;34m\u001b[0m\u001b[0;34m\u001b[0m\u001b[0m\n\u001b[0m\u001b[1;32m   1189\u001b[0m \u001b[0;34m\u001b[0m\u001b[0m\n\u001b[1;32m   1190\u001b[0m \u001b[0;34m\u001b[0m\u001b[0m\n",
      "\u001b[0;32m~/opt/anaconda3/lib/python3.8/site-packages/sklearn/model_selection/_search.py\u001b[0m in \u001b[0;36mevaluate_candidates\u001b[0;34m(candidate_params)\u001b[0m\n\u001b[1;32m    706\u001b[0m                               n_splits, n_candidates, n_candidates * n_splits))\n\u001b[1;32m    707\u001b[0m \u001b[0;34m\u001b[0m\u001b[0m\n\u001b[0;32m--> 708\u001b[0;31m                 out = parallel(delayed(_fit_and_score)(clone(base_estimator),\n\u001b[0m\u001b[1;32m    709\u001b[0m                                                        \u001b[0mX\u001b[0m\u001b[0;34m,\u001b[0m \u001b[0my\u001b[0m\u001b[0;34m,\u001b[0m\u001b[0;34m\u001b[0m\u001b[0;34m\u001b[0m\u001b[0m\n\u001b[1;32m    710\u001b[0m                                                        \u001b[0mtrain\u001b[0m\u001b[0;34m=\u001b[0m\u001b[0mtrain\u001b[0m\u001b[0;34m,\u001b[0m \u001b[0mtest\u001b[0m\u001b[0;34m=\u001b[0m\u001b[0mtest\u001b[0m\u001b[0;34m,\u001b[0m\u001b[0;34m\u001b[0m\u001b[0;34m\u001b[0m\u001b[0m\n",
      "\u001b[0;32m~/opt/anaconda3/lib/python3.8/site-packages/joblib/parallel.py\u001b[0m in \u001b[0;36m__call__\u001b[0;34m(self, iterable)\u001b[0m\n\u001b[1;32m   1030\u001b[0m                 \u001b[0mself\u001b[0m\u001b[0;34m.\u001b[0m\u001b[0m_iterating\u001b[0m \u001b[0;34m=\u001b[0m \u001b[0mself\u001b[0m\u001b[0;34m.\u001b[0m\u001b[0m_original_iterator\u001b[0m \u001b[0;32mis\u001b[0m \u001b[0;32mnot\u001b[0m \u001b[0;32mNone\u001b[0m\u001b[0;34m\u001b[0m\u001b[0;34m\u001b[0m\u001b[0m\n\u001b[1;32m   1031\u001b[0m \u001b[0;34m\u001b[0m\u001b[0m\n\u001b[0;32m-> 1032\u001b[0;31m             \u001b[0;32mwhile\u001b[0m \u001b[0mself\u001b[0m\u001b[0;34m.\u001b[0m\u001b[0mdispatch_one_batch\u001b[0m\u001b[0;34m(\u001b[0m\u001b[0miterator\u001b[0m\u001b[0;34m)\u001b[0m\u001b[0;34m:\u001b[0m\u001b[0;34m\u001b[0m\u001b[0;34m\u001b[0m\u001b[0m\n\u001b[0m\u001b[1;32m   1033\u001b[0m                 \u001b[0;32mpass\u001b[0m\u001b[0;34m\u001b[0m\u001b[0;34m\u001b[0m\u001b[0m\n\u001b[1;32m   1034\u001b[0m \u001b[0;34m\u001b[0m\u001b[0m\n",
      "\u001b[0;32m~/opt/anaconda3/lib/python3.8/site-packages/joblib/parallel.py\u001b[0m in \u001b[0;36mdispatch_one_batch\u001b[0;34m(self, iterator)\u001b[0m\n\u001b[1;32m    845\u001b[0m                 \u001b[0;32mreturn\u001b[0m \u001b[0;32mFalse\u001b[0m\u001b[0;34m\u001b[0m\u001b[0;34m\u001b[0m\u001b[0m\n\u001b[1;32m    846\u001b[0m             \u001b[0;32melse\u001b[0m\u001b[0;34m:\u001b[0m\u001b[0;34m\u001b[0m\u001b[0;34m\u001b[0m\u001b[0m\n\u001b[0;32m--> 847\u001b[0;31m                 \u001b[0mself\u001b[0m\u001b[0;34m.\u001b[0m\u001b[0m_dispatch\u001b[0m\u001b[0;34m(\u001b[0m\u001b[0mtasks\u001b[0m\u001b[0;34m)\u001b[0m\u001b[0;34m\u001b[0m\u001b[0;34m\u001b[0m\u001b[0m\n\u001b[0m\u001b[1;32m    848\u001b[0m                 \u001b[0;32mreturn\u001b[0m \u001b[0;32mTrue\u001b[0m\u001b[0;34m\u001b[0m\u001b[0;34m\u001b[0m\u001b[0m\n\u001b[1;32m    849\u001b[0m \u001b[0;34m\u001b[0m\u001b[0m\n",
      "\u001b[0;32m~/opt/anaconda3/lib/python3.8/site-packages/joblib/parallel.py\u001b[0m in \u001b[0;36m_dispatch\u001b[0;34m(self, batch)\u001b[0m\n\u001b[1;32m    763\u001b[0m         \u001b[0;32mwith\u001b[0m \u001b[0mself\u001b[0m\u001b[0;34m.\u001b[0m\u001b[0m_lock\u001b[0m\u001b[0;34m:\u001b[0m\u001b[0;34m\u001b[0m\u001b[0;34m\u001b[0m\u001b[0m\n\u001b[1;32m    764\u001b[0m             \u001b[0mjob_idx\u001b[0m \u001b[0;34m=\u001b[0m \u001b[0mlen\u001b[0m\u001b[0;34m(\u001b[0m\u001b[0mself\u001b[0m\u001b[0;34m.\u001b[0m\u001b[0m_jobs\u001b[0m\u001b[0;34m)\u001b[0m\u001b[0;34m\u001b[0m\u001b[0;34m\u001b[0m\u001b[0m\n\u001b[0;32m--> 765\u001b[0;31m             \u001b[0mjob\u001b[0m \u001b[0;34m=\u001b[0m \u001b[0mself\u001b[0m\u001b[0;34m.\u001b[0m\u001b[0m_backend\u001b[0m\u001b[0;34m.\u001b[0m\u001b[0mapply_async\u001b[0m\u001b[0;34m(\u001b[0m\u001b[0mbatch\u001b[0m\u001b[0;34m,\u001b[0m \u001b[0mcallback\u001b[0m\u001b[0;34m=\u001b[0m\u001b[0mcb\u001b[0m\u001b[0;34m)\u001b[0m\u001b[0;34m\u001b[0m\u001b[0;34m\u001b[0m\u001b[0m\n\u001b[0m\u001b[1;32m    766\u001b[0m             \u001b[0;31m# A job can complete so quickly than its callback is\u001b[0m\u001b[0;34m\u001b[0m\u001b[0;34m\u001b[0m\u001b[0;34m\u001b[0m\u001b[0m\n\u001b[1;32m    767\u001b[0m             \u001b[0;31m# called before we get here, causing self._jobs to\u001b[0m\u001b[0;34m\u001b[0m\u001b[0;34m\u001b[0m\u001b[0;34m\u001b[0m\u001b[0m\n",
      "\u001b[0;32m~/opt/anaconda3/lib/python3.8/site-packages/joblib/_parallel_backends.py\u001b[0m in \u001b[0;36mapply_async\u001b[0;34m(self, func, callback)\u001b[0m\n\u001b[1;32m    206\u001b[0m     \u001b[0;32mdef\u001b[0m \u001b[0mapply_async\u001b[0m\u001b[0;34m(\u001b[0m\u001b[0mself\u001b[0m\u001b[0;34m,\u001b[0m \u001b[0mfunc\u001b[0m\u001b[0;34m,\u001b[0m \u001b[0mcallback\u001b[0m\u001b[0;34m=\u001b[0m\u001b[0;32mNone\u001b[0m\u001b[0;34m)\u001b[0m\u001b[0;34m:\u001b[0m\u001b[0;34m\u001b[0m\u001b[0;34m\u001b[0m\u001b[0m\n\u001b[1;32m    207\u001b[0m         \u001b[0;34m\"\"\"Schedule a func to be run\"\"\"\u001b[0m\u001b[0;34m\u001b[0m\u001b[0;34m\u001b[0m\u001b[0m\n\u001b[0;32m--> 208\u001b[0;31m         \u001b[0mresult\u001b[0m \u001b[0;34m=\u001b[0m \u001b[0mImmediateResult\u001b[0m\u001b[0;34m(\u001b[0m\u001b[0mfunc\u001b[0m\u001b[0;34m)\u001b[0m\u001b[0;34m\u001b[0m\u001b[0;34m\u001b[0m\u001b[0m\n\u001b[0m\u001b[1;32m    209\u001b[0m         \u001b[0;32mif\u001b[0m \u001b[0mcallback\u001b[0m\u001b[0;34m:\u001b[0m\u001b[0;34m\u001b[0m\u001b[0;34m\u001b[0m\u001b[0m\n\u001b[1;32m    210\u001b[0m             \u001b[0mcallback\u001b[0m\u001b[0;34m(\u001b[0m\u001b[0mresult\u001b[0m\u001b[0;34m)\u001b[0m\u001b[0;34m\u001b[0m\u001b[0;34m\u001b[0m\u001b[0m\n",
      "\u001b[0;32m~/opt/anaconda3/lib/python3.8/site-packages/joblib/_parallel_backends.py\u001b[0m in \u001b[0;36m__init__\u001b[0;34m(self, batch)\u001b[0m\n\u001b[1;32m    570\u001b[0m         \u001b[0;31m# Don't delay the application, to avoid keeping the input\u001b[0m\u001b[0;34m\u001b[0m\u001b[0;34m\u001b[0m\u001b[0;34m\u001b[0m\u001b[0m\n\u001b[1;32m    571\u001b[0m         \u001b[0;31m# arguments in memory\u001b[0m\u001b[0;34m\u001b[0m\u001b[0;34m\u001b[0m\u001b[0;34m\u001b[0m\u001b[0m\n\u001b[0;32m--> 572\u001b[0;31m         \u001b[0mself\u001b[0m\u001b[0;34m.\u001b[0m\u001b[0mresults\u001b[0m \u001b[0;34m=\u001b[0m \u001b[0mbatch\u001b[0m\u001b[0;34m(\u001b[0m\u001b[0;34m)\u001b[0m\u001b[0;34m\u001b[0m\u001b[0;34m\u001b[0m\u001b[0m\n\u001b[0m\u001b[1;32m    573\u001b[0m \u001b[0;34m\u001b[0m\u001b[0m\n\u001b[1;32m    574\u001b[0m     \u001b[0;32mdef\u001b[0m \u001b[0mget\u001b[0m\u001b[0;34m(\u001b[0m\u001b[0mself\u001b[0m\u001b[0;34m)\u001b[0m\u001b[0;34m:\u001b[0m\u001b[0;34m\u001b[0m\u001b[0;34m\u001b[0m\u001b[0m\n",
      "\u001b[0;32m~/opt/anaconda3/lib/python3.8/site-packages/joblib/parallel.py\u001b[0m in \u001b[0;36m__call__\u001b[0;34m(self)\u001b[0m\n\u001b[1;32m    250\u001b[0m         \u001b[0;31m# change the default number of processes to -1\u001b[0m\u001b[0;34m\u001b[0m\u001b[0;34m\u001b[0m\u001b[0;34m\u001b[0m\u001b[0m\n\u001b[1;32m    251\u001b[0m         \u001b[0;32mwith\u001b[0m \u001b[0mparallel_backend\u001b[0m\u001b[0;34m(\u001b[0m\u001b[0mself\u001b[0m\u001b[0;34m.\u001b[0m\u001b[0m_backend\u001b[0m\u001b[0;34m,\u001b[0m \u001b[0mn_jobs\u001b[0m\u001b[0;34m=\u001b[0m\u001b[0mself\u001b[0m\u001b[0;34m.\u001b[0m\u001b[0m_n_jobs\u001b[0m\u001b[0;34m)\u001b[0m\u001b[0;34m:\u001b[0m\u001b[0;34m\u001b[0m\u001b[0;34m\u001b[0m\u001b[0m\n\u001b[0;32m--> 252\u001b[0;31m             return [func(*args, **kwargs)\n\u001b[0m\u001b[1;32m    253\u001b[0m                     for func, args, kwargs in self.items]\n\u001b[1;32m    254\u001b[0m \u001b[0;34m\u001b[0m\u001b[0m\n",
      "\u001b[0;32m~/opt/anaconda3/lib/python3.8/site-packages/joblib/parallel.py\u001b[0m in \u001b[0;36m<listcomp>\u001b[0;34m(.0)\u001b[0m\n\u001b[1;32m    250\u001b[0m         \u001b[0;31m# change the default number of processes to -1\u001b[0m\u001b[0;34m\u001b[0m\u001b[0;34m\u001b[0m\u001b[0;34m\u001b[0m\u001b[0m\n\u001b[1;32m    251\u001b[0m         \u001b[0;32mwith\u001b[0m \u001b[0mparallel_backend\u001b[0m\u001b[0;34m(\u001b[0m\u001b[0mself\u001b[0m\u001b[0;34m.\u001b[0m\u001b[0m_backend\u001b[0m\u001b[0;34m,\u001b[0m \u001b[0mn_jobs\u001b[0m\u001b[0;34m=\u001b[0m\u001b[0mself\u001b[0m\u001b[0;34m.\u001b[0m\u001b[0m_n_jobs\u001b[0m\u001b[0;34m)\u001b[0m\u001b[0;34m:\u001b[0m\u001b[0;34m\u001b[0m\u001b[0;34m\u001b[0m\u001b[0m\n\u001b[0;32m--> 252\u001b[0;31m             return [func(*args, **kwargs)\n\u001b[0m\u001b[1;32m    253\u001b[0m                     for func, args, kwargs in self.items]\n\u001b[1;32m    254\u001b[0m \u001b[0;34m\u001b[0m\u001b[0m\n",
      "\u001b[0;32m~/opt/anaconda3/lib/python3.8/site-packages/sklearn/model_selection/_validation.py\u001b[0m in \u001b[0;36m_fit_and_score\u001b[0;34m(estimator, X, y, scorer, train, test, verbose, parameters, fit_params, return_train_score, return_parameters, return_n_test_samples, return_times, return_estimator, error_score)\u001b[0m\n\u001b[1;32m    558\u001b[0m     \u001b[0;32melse\u001b[0m\u001b[0;34m:\u001b[0m\u001b[0;34m\u001b[0m\u001b[0;34m\u001b[0m\u001b[0m\n\u001b[1;32m    559\u001b[0m         \u001b[0mfit_time\u001b[0m \u001b[0;34m=\u001b[0m \u001b[0mtime\u001b[0m\u001b[0;34m.\u001b[0m\u001b[0mtime\u001b[0m\u001b[0;34m(\u001b[0m\u001b[0;34m)\u001b[0m \u001b[0;34m-\u001b[0m \u001b[0mstart_time\u001b[0m\u001b[0;34m\u001b[0m\u001b[0;34m\u001b[0m\u001b[0m\n\u001b[0;32m--> 560\u001b[0;31m         \u001b[0mtest_scores\u001b[0m \u001b[0;34m=\u001b[0m \u001b[0m_score\u001b[0m\u001b[0;34m(\u001b[0m\u001b[0mestimator\u001b[0m\u001b[0;34m,\u001b[0m \u001b[0mX_test\u001b[0m\u001b[0;34m,\u001b[0m \u001b[0my_test\u001b[0m\u001b[0;34m,\u001b[0m \u001b[0mscorer\u001b[0m\u001b[0;34m)\u001b[0m\u001b[0;34m\u001b[0m\u001b[0;34m\u001b[0m\u001b[0m\n\u001b[0m\u001b[1;32m    561\u001b[0m         \u001b[0mscore_time\u001b[0m \u001b[0;34m=\u001b[0m \u001b[0mtime\u001b[0m\u001b[0;34m.\u001b[0m\u001b[0mtime\u001b[0m\u001b[0;34m(\u001b[0m\u001b[0;34m)\u001b[0m \u001b[0;34m-\u001b[0m \u001b[0mstart_time\u001b[0m \u001b[0;34m-\u001b[0m \u001b[0mfit_time\u001b[0m\u001b[0;34m\u001b[0m\u001b[0;34m\u001b[0m\u001b[0m\n\u001b[1;32m    562\u001b[0m         \u001b[0;32mif\u001b[0m \u001b[0mreturn_train_score\u001b[0m\u001b[0;34m:\u001b[0m\u001b[0;34m\u001b[0m\u001b[0;34m\u001b[0m\u001b[0m\n",
      "\u001b[0;32m~/opt/anaconda3/lib/python3.8/site-packages/sklearn/model_selection/_validation.py\u001b[0m in \u001b[0;36m_score\u001b[0;34m(estimator, X_test, y_test, scorer)\u001b[0m\n\u001b[1;32m    605\u001b[0m         \u001b[0mscores\u001b[0m \u001b[0;34m=\u001b[0m \u001b[0mscorer\u001b[0m\u001b[0;34m(\u001b[0m\u001b[0mestimator\u001b[0m\u001b[0;34m,\u001b[0m \u001b[0mX_test\u001b[0m\u001b[0;34m)\u001b[0m\u001b[0;34m\u001b[0m\u001b[0;34m\u001b[0m\u001b[0m\n\u001b[1;32m    606\u001b[0m     \u001b[0;32melse\u001b[0m\u001b[0;34m:\u001b[0m\u001b[0;34m\u001b[0m\u001b[0;34m\u001b[0m\u001b[0m\n\u001b[0;32m--> 607\u001b[0;31m         \u001b[0mscores\u001b[0m \u001b[0;34m=\u001b[0m \u001b[0mscorer\u001b[0m\u001b[0;34m(\u001b[0m\u001b[0mestimator\u001b[0m\u001b[0;34m,\u001b[0m \u001b[0mX_test\u001b[0m\u001b[0;34m,\u001b[0m \u001b[0my_test\u001b[0m\u001b[0;34m)\u001b[0m\u001b[0;34m\u001b[0m\u001b[0;34m\u001b[0m\u001b[0m\n\u001b[0m\u001b[1;32m    608\u001b[0m \u001b[0;34m\u001b[0m\u001b[0m\n\u001b[1;32m    609\u001b[0m     error_msg = (\"scoring must return a number, got %s (%s) \"\n",
      "\u001b[0;32m~/opt/anaconda3/lib/python3.8/site-packages/sklearn/metrics/_scorer.py\u001b[0m in \u001b[0;36m__call__\u001b[0;34m(self, estimator, *args, **kwargs)\u001b[0m\n\u001b[1;32m     85\u001b[0m         \u001b[0;32mfor\u001b[0m \u001b[0mname\u001b[0m\u001b[0;34m,\u001b[0m \u001b[0mscorer\u001b[0m \u001b[0;32min\u001b[0m \u001b[0mself\u001b[0m\u001b[0;34m.\u001b[0m\u001b[0m_scorers\u001b[0m\u001b[0;34m.\u001b[0m\u001b[0mitems\u001b[0m\u001b[0;34m(\u001b[0m\u001b[0;34m)\u001b[0m\u001b[0;34m:\u001b[0m\u001b[0;34m\u001b[0m\u001b[0;34m\u001b[0m\u001b[0m\n\u001b[1;32m     86\u001b[0m             \u001b[0;32mif\u001b[0m \u001b[0misinstance\u001b[0m\u001b[0;34m(\u001b[0m\u001b[0mscorer\u001b[0m\u001b[0;34m,\u001b[0m \u001b[0m_BaseScorer\u001b[0m\u001b[0;34m)\u001b[0m\u001b[0;34m:\u001b[0m\u001b[0;34m\u001b[0m\u001b[0;34m\u001b[0m\u001b[0m\n\u001b[0;32m---> 87\u001b[0;31m                 score = scorer._score(cached_call, estimator,\n\u001b[0m\u001b[1;32m     88\u001b[0m                                       *args, **kwargs)\n\u001b[1;32m     89\u001b[0m             \u001b[0;32melse\u001b[0m\u001b[0;34m:\u001b[0m\u001b[0;34m\u001b[0m\u001b[0;34m\u001b[0m\u001b[0m\n",
      "\u001b[0;32m~/opt/anaconda3/lib/python3.8/site-packages/sklearn/metrics/_scorer.py\u001b[0m in \u001b[0;36m_score\u001b[0;34m(self, method_caller, estimator, X, y_true, sample_weight)\u001b[0m\n\u001b[1;32m    204\u001b[0m         \"\"\"\n\u001b[1;32m    205\u001b[0m \u001b[0;34m\u001b[0m\u001b[0m\n\u001b[0;32m--> 206\u001b[0;31m         \u001b[0my_pred\u001b[0m \u001b[0;34m=\u001b[0m \u001b[0mmethod_caller\u001b[0m\u001b[0;34m(\u001b[0m\u001b[0mestimator\u001b[0m\u001b[0;34m,\u001b[0m \u001b[0;34m\"predict\"\u001b[0m\u001b[0;34m,\u001b[0m \u001b[0mX\u001b[0m\u001b[0;34m)\u001b[0m\u001b[0;34m\u001b[0m\u001b[0;34m\u001b[0m\u001b[0m\n\u001b[0m\u001b[1;32m    207\u001b[0m         \u001b[0;32mif\u001b[0m \u001b[0msample_weight\u001b[0m \u001b[0;32mis\u001b[0m \u001b[0;32mnot\u001b[0m \u001b[0;32mNone\u001b[0m\u001b[0;34m:\u001b[0m\u001b[0;34m\u001b[0m\u001b[0;34m\u001b[0m\u001b[0m\n\u001b[1;32m    208\u001b[0m             return self._sign * self._score_func(y_true, y_pred,\n",
      "\u001b[0;32m~/opt/anaconda3/lib/python3.8/site-packages/sklearn/metrics/_scorer.py\u001b[0m in \u001b[0;36m_cached_call\u001b[0;34m(cache, estimator, method, *args, **kwargs)\u001b[0m\n\u001b[1;32m     51\u001b[0m     \u001b[0;34m\"\"\"Call estimator with method and args and kwargs.\"\"\"\u001b[0m\u001b[0;34m\u001b[0m\u001b[0;34m\u001b[0m\u001b[0m\n\u001b[1;32m     52\u001b[0m     \u001b[0;32mif\u001b[0m \u001b[0mcache\u001b[0m \u001b[0;32mis\u001b[0m \u001b[0;32mNone\u001b[0m\u001b[0;34m:\u001b[0m\u001b[0;34m\u001b[0m\u001b[0;34m\u001b[0m\u001b[0m\n\u001b[0;32m---> 53\u001b[0;31m         \u001b[0;32mreturn\u001b[0m \u001b[0mgetattr\u001b[0m\u001b[0;34m(\u001b[0m\u001b[0mestimator\u001b[0m\u001b[0;34m,\u001b[0m \u001b[0mmethod\u001b[0m\u001b[0;34m)\u001b[0m\u001b[0;34m(\u001b[0m\u001b[0;34m*\u001b[0m\u001b[0margs\u001b[0m\u001b[0;34m,\u001b[0m \u001b[0;34m**\u001b[0m\u001b[0mkwargs\u001b[0m\u001b[0;34m)\u001b[0m\u001b[0;34m\u001b[0m\u001b[0;34m\u001b[0m\u001b[0m\n\u001b[0m\u001b[1;32m     54\u001b[0m \u001b[0;34m\u001b[0m\u001b[0m\n\u001b[1;32m     55\u001b[0m     \u001b[0;32mtry\u001b[0m\u001b[0;34m:\u001b[0m\u001b[0;34m\u001b[0m\u001b[0;34m\u001b[0m\u001b[0m\n",
      "\u001b[0;32m~/opt/anaconda3/lib/python3.8/site-packages/sklearn/utils/metaestimators.py\u001b[0m in \u001b[0;36m<lambda>\u001b[0;34m(*args, **kwargs)\u001b[0m\n\u001b[1;32m    117\u001b[0m \u001b[0;34m\u001b[0m\u001b[0m\n\u001b[1;32m    118\u001b[0m         \u001b[0;31m# lambda, but not partial, allows help() to work with update_wrapper\u001b[0m\u001b[0;34m\u001b[0m\u001b[0;34m\u001b[0m\u001b[0;34m\u001b[0m\u001b[0m\n\u001b[0;32m--> 119\u001b[0;31m         \u001b[0mout\u001b[0m \u001b[0;34m=\u001b[0m \u001b[0;32mlambda\u001b[0m \u001b[0;34m*\u001b[0m\u001b[0margs\u001b[0m\u001b[0;34m,\u001b[0m \u001b[0;34m**\u001b[0m\u001b[0mkwargs\u001b[0m\u001b[0;34m:\u001b[0m \u001b[0mself\u001b[0m\u001b[0;34m.\u001b[0m\u001b[0mfn\u001b[0m\u001b[0;34m(\u001b[0m\u001b[0mobj\u001b[0m\u001b[0;34m,\u001b[0m \u001b[0;34m*\u001b[0m\u001b[0margs\u001b[0m\u001b[0;34m,\u001b[0m \u001b[0;34m**\u001b[0m\u001b[0mkwargs\u001b[0m\u001b[0;34m)\u001b[0m\u001b[0;34m\u001b[0m\u001b[0;34m\u001b[0m\u001b[0m\n\u001b[0m\u001b[1;32m    120\u001b[0m         \u001b[0;31m# update the docstring of the returned function\u001b[0m\u001b[0;34m\u001b[0m\u001b[0;34m\u001b[0m\u001b[0;34m\u001b[0m\u001b[0m\n\u001b[1;32m    121\u001b[0m         \u001b[0mupdate_wrapper\u001b[0m\u001b[0;34m(\u001b[0m\u001b[0mout\u001b[0m\u001b[0;34m,\u001b[0m \u001b[0mself\u001b[0m\u001b[0;34m.\u001b[0m\u001b[0mfn\u001b[0m\u001b[0;34m)\u001b[0m\u001b[0;34m\u001b[0m\u001b[0;34m\u001b[0m\u001b[0m\n",
      "\u001b[0;32m~/opt/anaconda3/lib/python3.8/site-packages/sklearn/pipeline.py\u001b[0m in \u001b[0;36mpredict\u001b[0;34m(self, X, **predict_params)\u001b[0m\n\u001b[1;32m    406\u001b[0m         \u001b[0;32mfor\u001b[0m \u001b[0m_\u001b[0m\u001b[0;34m,\u001b[0m \u001b[0mname\u001b[0m\u001b[0;34m,\u001b[0m \u001b[0mtransform\u001b[0m \u001b[0;32min\u001b[0m \u001b[0mself\u001b[0m\u001b[0;34m.\u001b[0m\u001b[0m_iter\u001b[0m\u001b[0;34m(\u001b[0m\u001b[0mwith_final\u001b[0m\u001b[0;34m=\u001b[0m\u001b[0;32mFalse\u001b[0m\u001b[0;34m)\u001b[0m\u001b[0;34m:\u001b[0m\u001b[0;34m\u001b[0m\u001b[0;34m\u001b[0m\u001b[0m\n\u001b[1;32m    407\u001b[0m             \u001b[0mXt\u001b[0m \u001b[0;34m=\u001b[0m \u001b[0mtransform\u001b[0m\u001b[0;34m.\u001b[0m\u001b[0mtransform\u001b[0m\u001b[0;34m(\u001b[0m\u001b[0mXt\u001b[0m\u001b[0;34m)\u001b[0m\u001b[0;34m\u001b[0m\u001b[0;34m\u001b[0m\u001b[0m\n\u001b[0;32m--> 408\u001b[0;31m         \u001b[0;32mreturn\u001b[0m \u001b[0mself\u001b[0m\u001b[0;34m.\u001b[0m\u001b[0msteps\u001b[0m\u001b[0;34m[\u001b[0m\u001b[0;34m-\u001b[0m\u001b[0;36m1\u001b[0m\u001b[0;34m]\u001b[0m\u001b[0;34m[\u001b[0m\u001b[0;34m-\u001b[0m\u001b[0;36m1\u001b[0m\u001b[0;34m]\u001b[0m\u001b[0;34m.\u001b[0m\u001b[0mpredict\u001b[0m\u001b[0;34m(\u001b[0m\u001b[0mXt\u001b[0m\u001b[0;34m,\u001b[0m \u001b[0;34m**\u001b[0m\u001b[0mpredict_params\u001b[0m\u001b[0;34m)\u001b[0m\u001b[0;34m\u001b[0m\u001b[0;34m\u001b[0m\u001b[0m\n\u001b[0m\u001b[1;32m    409\u001b[0m \u001b[0;34m\u001b[0m\u001b[0m\n\u001b[1;32m    410\u001b[0m     \u001b[0;34m@\u001b[0m\u001b[0mif_delegate_has_method\u001b[0m\u001b[0;34m(\u001b[0m\u001b[0mdelegate\u001b[0m\u001b[0;34m=\u001b[0m\u001b[0;34m'_final_estimator'\u001b[0m\u001b[0;34m)\u001b[0m\u001b[0;34m\u001b[0m\u001b[0;34m\u001b[0m\u001b[0m\n",
      "\u001b[0;32m~/opt/anaconda3/lib/python3.8/site-packages/sklearn/neighbors/_classification.py\u001b[0m in \u001b[0;36mpredict\u001b[0;34m(self, X)\u001b[0m\n\u001b[1;32m    173\u001b[0m         \u001b[0mX\u001b[0m \u001b[0;34m=\u001b[0m \u001b[0mcheck_array\u001b[0m\u001b[0;34m(\u001b[0m\u001b[0mX\u001b[0m\u001b[0;34m,\u001b[0m \u001b[0maccept_sparse\u001b[0m\u001b[0;34m=\u001b[0m\u001b[0;34m'csr'\u001b[0m\u001b[0;34m)\u001b[0m\u001b[0;34m\u001b[0m\u001b[0;34m\u001b[0m\u001b[0m\n\u001b[1;32m    174\u001b[0m \u001b[0;34m\u001b[0m\u001b[0m\n\u001b[0;32m--> 175\u001b[0;31m         \u001b[0mneigh_dist\u001b[0m\u001b[0;34m,\u001b[0m \u001b[0mneigh_ind\u001b[0m \u001b[0;34m=\u001b[0m \u001b[0mself\u001b[0m\u001b[0;34m.\u001b[0m\u001b[0mkneighbors\u001b[0m\u001b[0;34m(\u001b[0m\u001b[0mX\u001b[0m\u001b[0;34m)\u001b[0m\u001b[0;34m\u001b[0m\u001b[0;34m\u001b[0m\u001b[0m\n\u001b[0m\u001b[1;32m    176\u001b[0m         \u001b[0mclasses_\u001b[0m \u001b[0;34m=\u001b[0m \u001b[0mself\u001b[0m\u001b[0;34m.\u001b[0m\u001b[0mclasses_\u001b[0m\u001b[0;34m\u001b[0m\u001b[0;34m\u001b[0m\u001b[0m\n\u001b[1;32m    177\u001b[0m         \u001b[0m_y\u001b[0m \u001b[0;34m=\u001b[0m \u001b[0mself\u001b[0m\u001b[0;34m.\u001b[0m\u001b[0m_y\u001b[0m\u001b[0;34m\u001b[0m\u001b[0;34m\u001b[0m\u001b[0m\n",
      "\u001b[0;32m~/opt/anaconda3/lib/python3.8/site-packages/sklearn/neighbors/_base.py\u001b[0m in \u001b[0;36mkneighbors\u001b[0;34m(self, X, n_neighbors, return_distance)\u001b[0m\n\u001b[1;32m    660\u001b[0m                 \u001b[0mdelayed_query\u001b[0m \u001b[0;34m=\u001b[0m \u001b[0mdelayed\u001b[0m\u001b[0;34m(\u001b[0m\u001b[0m_tree_query_parallel_helper\u001b[0m\u001b[0;34m)\u001b[0m\u001b[0;34m\u001b[0m\u001b[0;34m\u001b[0m\u001b[0m\n\u001b[1;32m    661\u001b[0m                 \u001b[0mparallel_kwargs\u001b[0m \u001b[0;34m=\u001b[0m \u001b[0;34m{\u001b[0m\u001b[0;34m\"prefer\"\u001b[0m\u001b[0;34m:\u001b[0m \u001b[0;34m\"threads\"\u001b[0m\u001b[0;34m}\u001b[0m\u001b[0;34m\u001b[0m\u001b[0;34m\u001b[0m\u001b[0m\n\u001b[0;32m--> 662\u001b[0;31m             chunked_results = Parallel(n_jobs, **parallel_kwargs)(\n\u001b[0m\u001b[1;32m    663\u001b[0m                 delayed_query(\n\u001b[1;32m    664\u001b[0m                     self._tree, X[s], n_neighbors, return_distance)\n",
      "\u001b[0;32m~/opt/anaconda3/lib/python3.8/site-packages/joblib/parallel.py\u001b[0m in \u001b[0;36m__call__\u001b[0;34m(self, iterable)\u001b[0m\n\u001b[1;32m   1027\u001b[0m             \u001b[0;31m# remaining jobs.\u001b[0m\u001b[0;34m\u001b[0m\u001b[0;34m\u001b[0m\u001b[0;34m\u001b[0m\u001b[0m\n\u001b[1;32m   1028\u001b[0m             \u001b[0mself\u001b[0m\u001b[0;34m.\u001b[0m\u001b[0m_iterating\u001b[0m \u001b[0;34m=\u001b[0m \u001b[0;32mFalse\u001b[0m\u001b[0;34m\u001b[0m\u001b[0;34m\u001b[0m\u001b[0m\n\u001b[0;32m-> 1029\u001b[0;31m             \u001b[0;32mif\u001b[0m \u001b[0mself\u001b[0m\u001b[0;34m.\u001b[0m\u001b[0mdispatch_one_batch\u001b[0m\u001b[0;34m(\u001b[0m\u001b[0miterator\u001b[0m\u001b[0;34m)\u001b[0m\u001b[0;34m:\u001b[0m\u001b[0;34m\u001b[0m\u001b[0;34m\u001b[0m\u001b[0m\n\u001b[0m\u001b[1;32m   1030\u001b[0m                 \u001b[0mself\u001b[0m\u001b[0;34m.\u001b[0m\u001b[0m_iterating\u001b[0m \u001b[0;34m=\u001b[0m \u001b[0mself\u001b[0m\u001b[0;34m.\u001b[0m\u001b[0m_original_iterator\u001b[0m \u001b[0;32mis\u001b[0m \u001b[0;32mnot\u001b[0m \u001b[0;32mNone\u001b[0m\u001b[0;34m\u001b[0m\u001b[0;34m\u001b[0m\u001b[0m\n\u001b[1;32m   1031\u001b[0m \u001b[0;34m\u001b[0m\u001b[0m\n",
      "\u001b[0;32m~/opt/anaconda3/lib/python3.8/site-packages/joblib/parallel.py\u001b[0m in \u001b[0;36mdispatch_one_batch\u001b[0;34m(self, iterator)\u001b[0m\n\u001b[1;32m    845\u001b[0m                 \u001b[0;32mreturn\u001b[0m \u001b[0;32mFalse\u001b[0m\u001b[0;34m\u001b[0m\u001b[0;34m\u001b[0m\u001b[0m\n\u001b[1;32m    846\u001b[0m             \u001b[0;32melse\u001b[0m\u001b[0;34m:\u001b[0m\u001b[0;34m\u001b[0m\u001b[0;34m\u001b[0m\u001b[0m\n\u001b[0;32m--> 847\u001b[0;31m                 \u001b[0mself\u001b[0m\u001b[0;34m.\u001b[0m\u001b[0m_dispatch\u001b[0m\u001b[0;34m(\u001b[0m\u001b[0mtasks\u001b[0m\u001b[0;34m)\u001b[0m\u001b[0;34m\u001b[0m\u001b[0;34m\u001b[0m\u001b[0m\n\u001b[0m\u001b[1;32m    848\u001b[0m                 \u001b[0;32mreturn\u001b[0m \u001b[0;32mTrue\u001b[0m\u001b[0;34m\u001b[0m\u001b[0;34m\u001b[0m\u001b[0m\n\u001b[1;32m    849\u001b[0m \u001b[0;34m\u001b[0m\u001b[0m\n",
      "\u001b[0;32m~/opt/anaconda3/lib/python3.8/site-packages/joblib/parallel.py\u001b[0m in \u001b[0;36m_dispatch\u001b[0;34m(self, batch)\u001b[0m\n\u001b[1;32m    763\u001b[0m         \u001b[0;32mwith\u001b[0m \u001b[0mself\u001b[0m\u001b[0;34m.\u001b[0m\u001b[0m_lock\u001b[0m\u001b[0;34m:\u001b[0m\u001b[0;34m\u001b[0m\u001b[0;34m\u001b[0m\u001b[0m\n\u001b[1;32m    764\u001b[0m             \u001b[0mjob_idx\u001b[0m \u001b[0;34m=\u001b[0m \u001b[0mlen\u001b[0m\u001b[0;34m(\u001b[0m\u001b[0mself\u001b[0m\u001b[0;34m.\u001b[0m\u001b[0m_jobs\u001b[0m\u001b[0;34m)\u001b[0m\u001b[0;34m\u001b[0m\u001b[0;34m\u001b[0m\u001b[0m\n\u001b[0;32m--> 765\u001b[0;31m             \u001b[0mjob\u001b[0m \u001b[0;34m=\u001b[0m \u001b[0mself\u001b[0m\u001b[0;34m.\u001b[0m\u001b[0m_backend\u001b[0m\u001b[0;34m.\u001b[0m\u001b[0mapply_async\u001b[0m\u001b[0;34m(\u001b[0m\u001b[0mbatch\u001b[0m\u001b[0;34m,\u001b[0m \u001b[0mcallback\u001b[0m\u001b[0;34m=\u001b[0m\u001b[0mcb\u001b[0m\u001b[0;34m)\u001b[0m\u001b[0;34m\u001b[0m\u001b[0;34m\u001b[0m\u001b[0m\n\u001b[0m\u001b[1;32m    766\u001b[0m             \u001b[0;31m# A job can complete so quickly than its callback is\u001b[0m\u001b[0;34m\u001b[0m\u001b[0;34m\u001b[0m\u001b[0;34m\u001b[0m\u001b[0m\n\u001b[1;32m    767\u001b[0m             \u001b[0;31m# called before we get here, causing self._jobs to\u001b[0m\u001b[0;34m\u001b[0m\u001b[0;34m\u001b[0m\u001b[0;34m\u001b[0m\u001b[0m\n",
      "\u001b[0;32m~/opt/anaconda3/lib/python3.8/site-packages/joblib/_parallel_backends.py\u001b[0m in \u001b[0;36mapply_async\u001b[0;34m(self, func, callback)\u001b[0m\n\u001b[1;32m    206\u001b[0m     \u001b[0;32mdef\u001b[0m \u001b[0mapply_async\u001b[0m\u001b[0;34m(\u001b[0m\u001b[0mself\u001b[0m\u001b[0;34m,\u001b[0m \u001b[0mfunc\u001b[0m\u001b[0;34m,\u001b[0m \u001b[0mcallback\u001b[0m\u001b[0;34m=\u001b[0m\u001b[0;32mNone\u001b[0m\u001b[0;34m)\u001b[0m\u001b[0;34m:\u001b[0m\u001b[0;34m\u001b[0m\u001b[0;34m\u001b[0m\u001b[0m\n\u001b[1;32m    207\u001b[0m         \u001b[0;34m\"\"\"Schedule a func to be run\"\"\"\u001b[0m\u001b[0;34m\u001b[0m\u001b[0;34m\u001b[0m\u001b[0m\n\u001b[0;32m--> 208\u001b[0;31m         \u001b[0mresult\u001b[0m \u001b[0;34m=\u001b[0m \u001b[0mImmediateResult\u001b[0m\u001b[0;34m(\u001b[0m\u001b[0mfunc\u001b[0m\u001b[0;34m)\u001b[0m\u001b[0;34m\u001b[0m\u001b[0;34m\u001b[0m\u001b[0m\n\u001b[0m\u001b[1;32m    209\u001b[0m         \u001b[0;32mif\u001b[0m \u001b[0mcallback\u001b[0m\u001b[0;34m:\u001b[0m\u001b[0;34m\u001b[0m\u001b[0;34m\u001b[0m\u001b[0m\n\u001b[1;32m    210\u001b[0m             \u001b[0mcallback\u001b[0m\u001b[0;34m(\u001b[0m\u001b[0mresult\u001b[0m\u001b[0;34m)\u001b[0m\u001b[0;34m\u001b[0m\u001b[0;34m\u001b[0m\u001b[0m\n",
      "\u001b[0;32m~/opt/anaconda3/lib/python3.8/site-packages/joblib/_parallel_backends.py\u001b[0m in \u001b[0;36m__init__\u001b[0;34m(self, batch)\u001b[0m\n\u001b[1;32m    570\u001b[0m         \u001b[0;31m# Don't delay the application, to avoid keeping the input\u001b[0m\u001b[0;34m\u001b[0m\u001b[0;34m\u001b[0m\u001b[0;34m\u001b[0m\u001b[0m\n\u001b[1;32m    571\u001b[0m         \u001b[0;31m# arguments in memory\u001b[0m\u001b[0;34m\u001b[0m\u001b[0;34m\u001b[0m\u001b[0;34m\u001b[0m\u001b[0m\n\u001b[0;32m--> 572\u001b[0;31m         \u001b[0mself\u001b[0m\u001b[0;34m.\u001b[0m\u001b[0mresults\u001b[0m \u001b[0;34m=\u001b[0m \u001b[0mbatch\u001b[0m\u001b[0;34m(\u001b[0m\u001b[0;34m)\u001b[0m\u001b[0;34m\u001b[0m\u001b[0;34m\u001b[0m\u001b[0m\n\u001b[0m\u001b[1;32m    573\u001b[0m \u001b[0;34m\u001b[0m\u001b[0m\n\u001b[1;32m    574\u001b[0m     \u001b[0;32mdef\u001b[0m \u001b[0mget\u001b[0m\u001b[0;34m(\u001b[0m\u001b[0mself\u001b[0m\u001b[0;34m)\u001b[0m\u001b[0;34m:\u001b[0m\u001b[0;34m\u001b[0m\u001b[0;34m\u001b[0m\u001b[0m\n",
      "\u001b[0;32m~/opt/anaconda3/lib/python3.8/site-packages/joblib/parallel.py\u001b[0m in \u001b[0;36m__call__\u001b[0;34m(self)\u001b[0m\n\u001b[1;32m    250\u001b[0m         \u001b[0;31m# change the default number of processes to -1\u001b[0m\u001b[0;34m\u001b[0m\u001b[0;34m\u001b[0m\u001b[0;34m\u001b[0m\u001b[0m\n\u001b[1;32m    251\u001b[0m         \u001b[0;32mwith\u001b[0m \u001b[0mparallel_backend\u001b[0m\u001b[0;34m(\u001b[0m\u001b[0mself\u001b[0m\u001b[0;34m.\u001b[0m\u001b[0m_backend\u001b[0m\u001b[0;34m,\u001b[0m \u001b[0mn_jobs\u001b[0m\u001b[0;34m=\u001b[0m\u001b[0mself\u001b[0m\u001b[0;34m.\u001b[0m\u001b[0m_n_jobs\u001b[0m\u001b[0;34m)\u001b[0m\u001b[0;34m:\u001b[0m\u001b[0;34m\u001b[0m\u001b[0;34m\u001b[0m\u001b[0m\n\u001b[0;32m--> 252\u001b[0;31m             return [func(*args, **kwargs)\n\u001b[0m\u001b[1;32m    253\u001b[0m                     for func, args, kwargs in self.items]\n\u001b[1;32m    254\u001b[0m \u001b[0;34m\u001b[0m\u001b[0m\n",
      "\u001b[0;32m~/opt/anaconda3/lib/python3.8/site-packages/joblib/parallel.py\u001b[0m in \u001b[0;36m<listcomp>\u001b[0;34m(.0)\u001b[0m\n\u001b[1;32m    250\u001b[0m         \u001b[0;31m# change the default number of processes to -1\u001b[0m\u001b[0;34m\u001b[0m\u001b[0;34m\u001b[0m\u001b[0;34m\u001b[0m\u001b[0m\n\u001b[1;32m    251\u001b[0m         \u001b[0;32mwith\u001b[0m \u001b[0mparallel_backend\u001b[0m\u001b[0;34m(\u001b[0m\u001b[0mself\u001b[0m\u001b[0;34m.\u001b[0m\u001b[0m_backend\u001b[0m\u001b[0;34m,\u001b[0m \u001b[0mn_jobs\u001b[0m\u001b[0;34m=\u001b[0m\u001b[0mself\u001b[0m\u001b[0;34m.\u001b[0m\u001b[0m_n_jobs\u001b[0m\u001b[0;34m)\u001b[0m\u001b[0;34m:\u001b[0m\u001b[0;34m\u001b[0m\u001b[0;34m\u001b[0m\u001b[0m\n\u001b[0;32m--> 252\u001b[0;31m             return [func(*args, **kwargs)\n\u001b[0m\u001b[1;32m    253\u001b[0m                     for func, args, kwargs in self.items]\n\u001b[1;32m    254\u001b[0m \u001b[0;34m\u001b[0m\u001b[0m\n",
      "\u001b[0;32m~/opt/anaconda3/lib/python3.8/site-packages/sklearn/neighbors/_base.py\u001b[0m in \u001b[0;36m_tree_query_parallel_helper\u001b[0;34m(tree, *args, **kwargs)\u001b[0m\n\u001b[1;32m    490\u001b[0m     \u001b[0munder\u001b[0m \u001b[0mPyPy\u001b[0m\u001b[0;34m.\u001b[0m\u001b[0;34m\u001b[0m\u001b[0;34m\u001b[0m\u001b[0m\n\u001b[1;32m    491\u001b[0m     \"\"\"\n\u001b[0;32m--> 492\u001b[0;31m     \u001b[0;32mreturn\u001b[0m \u001b[0mtree\u001b[0m\u001b[0;34m.\u001b[0m\u001b[0mquery\u001b[0m\u001b[0;34m(\u001b[0m\u001b[0;34m*\u001b[0m\u001b[0margs\u001b[0m\u001b[0;34m,\u001b[0m \u001b[0;34m**\u001b[0m\u001b[0mkwargs\u001b[0m\u001b[0;34m)\u001b[0m\u001b[0;34m\u001b[0m\u001b[0;34m\u001b[0m\u001b[0m\n\u001b[0m\u001b[1;32m    493\u001b[0m \u001b[0;34m\u001b[0m\u001b[0m\n\u001b[1;32m    494\u001b[0m \u001b[0;34m\u001b[0m\u001b[0m\n",
      "\u001b[0;31mKeyboardInterrupt\u001b[0m: "
     ]
    }
   ],
   "source": [
    "get_ipython().run_line_magic('time', '')\n",
    "from sklearn.pipeline import make_pipeline\n",
    "from sklearn.neighbors import KNeighborsClassifier\n",
    "from sklearn.preprocessing import StandardScaler\n",
    "from sklearn.model_selection import GridSearchCV\n",
    "from sklearn.model_selection import ShuffleSplit\n",
    "from sklearn.pipeline import Pipeline\n",
    "\n",
    "\n",
    "#pipe = make_pipeline(('scale', StandardScaler()),  ('knn', KNeighborsClassifier()))\n",
    "\n",
    "pipe = Pipeline([('scale', StandardScaler()),  \n",
    "                         ('knn', KNeighborsClassifier())]) \n",
    "\n",
    "# Define a range of hyper parameters for grid search\n",
    "parameters = { 'knn__n_neighbors': [45]\n",
    "              , 'knn__algorithm' : [\"auto\"]\n",
    "             }\n",
    "\n",
    "#Perform the grid search using accuracy as a metric during cross validation.\n",
    "gridKnn = GridSearchCV(pipe, parameters, cv=cv, scoring='accuracy') # can try f1_micro, f1_maco accuracy....\n",
    "\n",
    "#Use the best features from recursive feature elimination during the grid search\n",
    "gridKnn.fit(X_train_scaled_cls, y_train_cls)\n",
    "\n",
    "#display the best pipeline model identified during the grid search\n",
    "gridKnn.best_estimator_"
   ]
  },
  {
   "cell_type": "markdown",
   "metadata": {},
   "source": [
    "# New"
   ]
  },
  {
   "cell_type": "code",
   "execution_count": 32,
   "metadata": {},
   "outputs": [
    {
     "data": {
      "text/plain": [
       "{'knn__algorithm': 'auto', 'knn__n_neighbors': 45}"
      ]
     },
     "execution_count": 32,
     "metadata": {},
     "output_type": "execute_result"
    }
   ],
   "source": [
    "gridKnn.best_params_"
   ]
  },
  {
   "cell_type": "code",
   "execution_count": 35,
   "metadata": {},
   "outputs": [],
   "source": [
    "#Logistic Regression\n",
    "KNNmodelFINAL = KNeighborsClassifier(algorithm = 'auto', n_neighbors = 45) # get object\n",
    "KNNmodelFINAL.fit(X_train_scaled_cls, y_train_cls)\n",
    "KNNy_hat = KNNmodelFINAL.predict(X_test_scaled_cls)"
   ]
  },
  {
   "cell_type": "code",
   "execution_count": 36,
   "metadata": {},
   "outputs": [
    {
     "name": "stdout",
     "output_type": "stream",
     "text": [
      "[0.74330801 0.75078901 0.74295733 0.74517826 0.7421391  0.74260666\n",
      " 0.74669784 0.74529515 0.74798364 0.74891876]\n"
     ]
    }
   ],
   "source": [
    "from sklearn.model_selection import cross_val_score\n",
    "KNNaccuracies = cross_val_score(KNNmodelFINAL, X_scaled_cls, y=y_cls, cv=cv) # this also can help with parallelism\n",
    "print(KNNaccuracies)"
   ]
  },
  {
   "cell_type": "code",
   "execution_count": 37,
   "metadata": {},
   "outputs": [
    {
     "name": "stdout",
     "output_type": "stream",
     "text": [
      "Training accuracy 0.754\n",
      "\n",
      "Testing accuracy 0.744\n",
      "\n",
      "Confusion Matrix\n"
     ]
    },
    {
     "data": {
      "image/png": "[encoded data removed]",
      "text/plain": [
       "<Figure size 432x288 with 2 Axes>"
      ]
     },
     "metadata": {
      "needs_background": "light"
     },
     "output_type": "display_data"
    },
    {
     "name": "stdout",
     "output_type": "stream",
     "text": [
      "None\n",
      "              precision    recall  f1-score   support\n",
      "\n",
      "           0       0.76      0.88      0.82      5523\n",
      "           1       0.69      0.49      0.58      3032\n",
      "\n",
      "    accuracy                           0.74      8555\n",
      "   macro avg       0.73      0.69      0.70      8555\n",
      "weighted avg       0.74      0.74      0.73      8555\n",
      "\n"
     ]
    }
   ],
   "source": [
    "from sklearn.metrics import classification_report, confusion_matrix\n",
    "\n",
    "## function to get confusion matrix in a proper format\n",
    "def draw_cm( actual, predicted ):\n",
    "    cm = confusion_matrix( actual, predicted)\n",
    "    sns.heatmap(cm, annot=True,  fmt='.2f', xticklabels = [0,1] , yticklabels = [0,1] )\n",
    "    plt.ylabel('Observed')\n",
    "    plt.xlabel('Predicted')\n",
    "    plt.show()\n",
    "\n",
    "print(\"Training accuracy\",round(KNNmodelFINAL.score(X_train_scaled_cls,y_train_cls),ndigits=3))\n",
    "print()\n",
    "print(\"Testing accuracy\",round(mt.accuracy_score(y_test_cls, KNNy_hat),ndigits=3))\n",
    "print()\n",
    "print('Confusion Matrix')\n",
    "print(draw_cm(y_test_cls,KNNy_hat))\n",
    "\n",
    "print(classification_report(y_test_cls,KNNy_hat))"
   ]
  },
  {
   "cell_type": "code",
   "execution_count": 40,
   "metadata": {},
   "outputs": [
    {
     "name": "stdout",
     "output_type": "stream",
     "text": [
      "0.744\n"
     ]
    }
   ],
   "source": [
    "KNN_ac = round(mt.accuracy_score(y_test_cls, KNNy_hat),ndigits=3)\n",
    "\n",
    "print(KNN_ac)"
   ]
  },
  {
   "cell_type": "markdown",
   "metadata": {},
   "source": [
    "##### 2.3.3 Logistic Regression "
   ]
  },
  {
   "cell_type": "code",
   "execution_count": 44,
   "metadata": {},
   "outputs": [],
   "source": [
    "#run a grid search to evaluate the parameters as part of hyperparameter tuning\n",
    "modelGRID = LogisticRegression()\n",
    "\n",
    "parameters = {'penalty': ['l2'],\n",
    "             'C': [.001,.75,10],\n",
    "             'solver': ['newton-cg','liblinear','sag','saga'],\n",
    "              'max_iter':[100],\n",
    "              'class_weight': ['balanced']\n",
    "            }"
   ]
  },
  {
   "cell_type": "code",
   "execution_count": null,
   "metadata": {},
   "outputs": [],
   "source": [
    "#identify the best parameters as determined by our grid search accuracy results\n",
    "from sklearn.model_selection import GridSearchCV\n",
    "gs = GridSearchCV(modelGRID,n_jobs=25,param_grid=parameters,cv=10,scoring='accuracy')\n",
    "gs.fit(X_train_scaled_cls, y_train_cls)"
   ]
  },
  {
   "cell_type": "code",
   "execution_count": null,
   "metadata": {},
   "outputs": [],
   "source": [
    "#mean test score values associated with each grid search parameter combination \n",
    "params = gs.cv_results_['params']\n",
    "result = gs.cv_results_['mean_test_score']\n",
    "for params,result in zip(params, result):\n",
    "    print(params, 'has an accuracy of', round(result,ndigits=2))"
   ]
  },
  {
   "cell_type": "code",
   "execution_count": null,
   "metadata": {},
   "outputs": [],
   "source": [
    "#parameter combination with the highest score\n",
    "gs.best_params_"
   ]
  },
  {
   "cell_type": "code",
   "execution_count": 53,
   "metadata": {},
   "outputs": [],
   "source": [
    "#Logistic Regression\n",
    "modelFINAL = LogisticRegression(penalty='l2', C=.75, class_weight='balanced', solver='newton-cg' ) # get object\n",
    "modelFINAL.fit(X_train_scaled_cls, y_train_cls)\n",
    "y_hat = modelFINAL.predict(X_test_scaled_cls)"
   ]
  },
  {
   "cell_type": "code",
   "execution_count": 48,
   "metadata": {},
   "outputs": [
    {
     "name": "stdout",
     "output_type": "stream",
     "text": [
      "[0.71127995 0.70660432 0.70952659 0.71209819 0.70718878 0.71630625\n",
      " 0.72004676 0.70707189 0.7131502  0.71934541]\n"
     ]
    }
   ],
   "source": [
    "from sklearn.model_selection import cross_val_score\n",
    "accuracies = cross_val_score(modelFINAL, X_scaled_cls, y=y_cls, cv=cv) # this also can help with parallelism\n",
    "print(accuracies)"
   ]
  },
  {
   "cell_type": "code",
   "execution_count": 49,
   "metadata": {},
   "outputs": [
    {
     "name": "stdout",
     "output_type": "stream",
     "text": [
      "Training accuracy 0.715\n",
      "\n",
      "Testing accuracy 0.71\n",
      "\n",
      "Confusion Matrix\n"
     ]
    },
    {
     "data": {
      "image/png": "[encoded data removed]",
      "text/plain": [
       "<Figure size 432x288 with 2 Axes>"
      ]
     },
     "metadata": {
      "needs_background": "light"
     },
     "output_type": "display_data"
    },
    {
     "name": "stdout",
     "output_type": "stream",
     "text": [
      "None\n",
      "              precision    recall  f1-score   support\n",
      "\n",
      "           0       0.81      0.72      0.76      5523\n",
      "           1       0.58      0.69      0.63      3032\n",
      "\n",
      "    accuracy                           0.71      8555\n",
      "   macro avg       0.69      0.71      0.70      8555\n",
      "weighted avg       0.73      0.71      0.71      8555\n",
      "\n"
     ]
    }
   ],
   "source": [
    "from sklearn.metrics import classification_report, confusion_matrix\n",
    "from sklearn.linear_model import LogisticRegression\n",
    "\n",
    "## function to get confusion matrix in a proper format\n",
    "def draw_cm( actual, predicted ):\n",
    "    cm = confusion_matrix( actual, predicted)\n",
    "    sns.heatmap(cm, annot=True,  fmt='.2f', xticklabels = [0,1] , yticklabels = [0,1] )\n",
    "    plt.ylabel('Observed')\n",
    "    plt.xlabel('Predicted')\n",
    "    plt.show()\n",
    "\n",
    "print(\"Training accuracy\",round(modelFINAL.score(X_train_scaled_cls,y_train_cls),ndigits=3))\n",
    "print()\n",
    "print(\"Testing accuracy\",round(mt.accuracy_score(y_test_cls, y_hat),ndigits=3))\n",
    "print()\n",
    "print('Confusion Matrix')\n",
    "print(draw_cm(y_test_cls,y_hat))\n",
    "\n",
    "print(classification_report(y_test_cls,y_hat))"
   ]
  },
  {
   "cell_type": "code",
   "execution_count": 50,
   "metadata": {},
   "outputs": [
    {
     "name": "stdout",
     "output_type": "stream",
     "text": [
      "0.71\n"
     ]
    }
   ],
   "source": [
    "LOG_ac = round(mt.accuracy_score(y_test_cls, y_hat),ndigits=3)\n",
    "\n",
    "print(LOG_ac)"
   ]
  },
  {
   "cell_type": "code",
   "execution_count": 82,
   "metadata": {},
   "outputs": [
    {
     "name": "stdout",
     "output_type": "stream",
     "text": [
      "log_price has weight of -0.1\n",
      "property_type has weight of 0.12\n",
      "accommodates has weight of 0.35\n",
      "bathrooms has weight of -0.05\n",
      "host_identity_verified has weight of -0.02\n",
      "instant_bookable has weight of 0.09\n",
      "number_of_reviews has weight of 0.14\n",
      "review_scores_rating has weight of 0.23\n",
      "bedrooms has weight of 0.14\n",
      "beds has weight of 0.53\n",
      "room_type_Private room has weight of 0.08\n",
      "room_type_Shared room has weight of -0.01\n",
      "bed_type_Couch has weight of 0.03\n",
      "bed_type_Futon has weight of 0.02\n",
      "bed_type_Pull-out Sofa has weight of 0.06\n",
      "bed_type_Real Bed has weight of -0.06\n",
      "city_Chicago has weight of 0.16\n",
      "city_DC has weight of 0.22\n",
      "city_LA has weight of -0.43\n",
      "city_NYC has weight of 0.08\n",
      "city_SF has weight of 0.0\n",
      "cancellation_policy_moderate has weight of -0.05\n",
      "cancellation_policy_strict has weight of -0.03\n",
      "cancellation_policy_super_strict_30 has weight of 0.11\n",
      "cancellation_policy_super_strict_60 has weight of -0.25\n"
     ]
    }
   ],
   "source": [
    "#coefficient output based on in-class example\n",
    "weights = modelFINAL.coef_.T\n",
    "x = pd.DataFrame(pdata_cls)\n",
    "variable_names = x.columns\n",
    "for coef,name in zip(weights, variable_names):\n",
    "    print(name, 'has weight of', round(coef[0],ndigits=2))"
   ]
  },
  {
   "cell_type": "code",
   "execution_count": 83,
   "metadata": {},
   "outputs": [
    {
     "data": {
      "image/png": "[encoded data removed]",
      "text/plain": [
       "<Figure size 432x288 with 1 Axes>"
      ]
     },
     "metadata": {},
     "output_type": "display_data"
    }
   ],
   "source": [
    "#coeffient plot from class example\n",
    "\n",
    "from matplotlib import pyplot as pyplot\n",
    "%matplotlib inline\n",
    "variable_names = list(pdata_cls)[0:-1]\n",
    "plt.style.use('ggplot')\n",
    "\n",
    "weights = pd.Series(modelFINAL.coef_[0],index=variable_names)\n",
    "weights.plot(kind='bar')\n",
    "plt.show()"
   ]
  },
  {
   "cell_type": "code",
   "execution_count": 84,
   "metadata": {},
   "outputs": [
    {
     "data": {
      "image/png": "[encoded data removed]",
      "text/plain": [
       "<Figure size 432x288 with 1 Axes>"
      ]
     },
     "metadata": {},
     "output_type": "display_data"
    }
   ],
   "source": [
    "#https://machinelearningmastery.com/roc-curves-and-precision-recall-curves-for-classification-in-python/\n",
    "\n",
    "from sklearn.metrics import roc_auc_score\n",
    "from sklearn.metrics import roc_curve\n",
    "\n",
    "log_roc_auc = roc_auc_score(y_test_cls, modelFINAL.predict(X_test_scaled_cls))\n",
    "fpr, tpr, thresholds = roc_curve(y_test_cls, modelFINAL.predict_proba(X_test_scaled_cls)[:,1])\n",
    "\n",
    "plt.figure()\n",
    "plt.plot(fpr, tpr, color='blue', label='Logistic Regression (area = %0.2f)' % log_roc_auc)\n",
    "plt.plot([0, 1], [0, 1],'r--')\n",
    "plt.xlim([0.0, 1.0])\n",
    "plt.ylim([0.0, 1.05])\n",
    "plt.xlabel('False Positive Rate')\n",
    "plt.ylabel('True Positive Rate')\n",
    "plt.title('Logistic Regression Performance')\n",
    "plt.legend(loc=\"lower right\")\n",
    "plt.show()"
   ]
  },
  {
   "cell_type": "code",
   "execution_count": 85,
   "metadata": {},
   "outputs": [
    {
     "data": {
      "image/png": "[encoded data removed]",
      "text/plain": [
       "<Figure size 432x288 with 1 Axes>"
      ]
     },
     "metadata": {},
     "output_type": "display_data"
    }
   ],
   "source": [
    "#https://machinelearningmastery.com/roc-curves-and-precision-recall-curves-for-classification-in-python/\n",
    "\n",
    "from sklearn.metrics import roc_auc_score\n",
    "from sklearn.metrics import roc_curve\n",
    "from sklearn.metrics import precision_recall_curve\n",
    "\n",
    "log_roc_auc = roc_auc_score(y_test_cls, modelFINAL.predict(X_test_scaled_cls))\n",
    "lr_precision, lr_recall, _ = precision_recall_curve(y_test_cls, modelFINAL.predict_proba(X_test_scaled_cls)[:,1])\n",
    "\n",
    "plt.figure()\n",
    "pyplot.plot(lr_recall, lr_precision, marker='.', label='Logistic',color='blue')\n",
    "plt.xlabel('Recall')\n",
    "plt.ylabel('Precision')\n",
    "plt.title('Precision vs Recall Curve')\n",
    "plt.legend(loc=\"lower right\")\n",
    "#plt.savefig('Log_PR')\n",
    "plt.show()"
   ]
  },
  {
   "cell_type": "markdown",
   "metadata": {},
   "source": [
    "#### 2.4 Regression Models (Model and Evaluation 3 Pt. 2)"
   ]
  },
  {
   "cell_type": "markdown",
   "metadata": {},
   "source": [
    "##### 2.4.1 LASSO Regression"
   ]
  },
  {
   "cell_type": "code",
   "execution_count": 31,
   "metadata": {},
   "outputs": [
    {
     "name": "stdout",
     "output_type": "stream",
     "text": [
      "Fitting 10 folds for each of 16 candidates, totalling 160 fits\n"
     ]
    },
    {
     "data": {
      "text/plain": [
       "GridSearchCV(cv=ShuffleSplit(n_splits=10, random_state=None, test_size=0.2, train_size=0.8),\n",
       "             estimator=Lasso(alpha=0.001, random_state=42, warm_start='True'),\n",
       "             n_jobs=25,\n",
       "             param_grid={'alpha': [0.001, 0.1, 1, 10],\n",
       "                         'selection': ['cyclic', 'random'],\n",
       "                         'warm_start': [True, False]},\n",
       "             verbose=1)"
      ]
     },
     "execution_count": 31,
     "metadata": {},
     "output_type": "execute_result"
    }
   ],
   "source": [
    "#Create a regression object and perform a grid search to find the best parameters\n",
    "from sklearn.linear_model import Lasso\n",
    "from sklearn.base import BaseEstimator, RegressorMixin\n",
    "\n",
    "reg = Lasso(alpha=.001, selection = 'cyclic', warm_start = 'True', random_state=42)\n",
    "\n",
    "#Test parameters \n",
    "alpha = [0.001, 0.1, 1, 10]\n",
    "selection = ['cyclic','random']\n",
    "warm_start = [True, False]\n",
    "parameters = {'alpha': alpha, 'selection': selection, 'warm_start': warm_start}\n",
    "\n",
    "#Create a grid search object using the parameters above\n",
    "from sklearn.model_selection import GridSearchCV\n",
    "regGridSearch = GridSearchCV(estimator=reg\n",
    "                   , n_jobs=25 # jobs to run in parallel\n",
    "                   , verbose=1 # low verbosity\n",
    "                   , param_grid=parameters\n",
    "                   , cv=cv_reg # KFolds = 10\n",
    "                   )\n",
    "\n",
    "#Perform hyperparameter search to find the best combination of parameters for our data\n",
    "regGridSearch.fit(X_scaled_reg, y_reg)"
   ]
  },
  {
   "cell_type": "code",
   "execution_count": 32,
   "metadata": {},
   "outputs": [
    {
     "data": {
      "text/plain": [
       "{'alpha': 0.001, 'selection': 'cyclic', 'warm_start': True}"
      ]
     },
     "execution_count": 32,
     "metadata": {},
     "output_type": "execute_result"
    }
   ],
   "source": [
    "regGridSearch.best_params_"
   ]
  },
  {
   "cell_type": "code",
   "execution_count": 33,
   "metadata": {},
   "outputs": [
    {
     "name": "stdout",
     "output_type": "stream",
     "text": [
      "Lasso model: [ 1.37220325e-01  8.24102393e-02  7.36801503e-03 -2.09594948e-02\n",
      "  4.70932473e-02 -0.00000000e+00 -1.08092949e-02  5.64657551e-02\n",
      "  1.18833931e-01 -8.41366652e-03 -3.02856339e-01 -1.69899074e-01\n",
      "  9.59426027e-04 -3.42536645e-03  6.66584234e-04  6.16445619e-03\n",
      " -7.16683205e-02 -1.35256306e-02 -0.00000000e+00  4.20742175e-03\n",
      "  9.72842357e-02  0.00000000e+00  2.09158202e-02  1.21492619e-02\n",
      "  8.03745386e-03  9.73814508e-03  4.59712652e-03  1.58948464e-03\n",
      " -1.57705078e-03 -4.11374646e-03 -9.22993074e-03  4.97393395e-03\n",
      "  9.52359686e-04 -0.00000000e+00  1.75310946e-02 -2.21544109e-02\n",
      " -0.00000000e+00 -3.88279756e-03 -8.71399014e-03 -2.07788771e-02\n",
      " -2.17374485e-02 -3.17979172e-03 -8.07898527e-03  2.15271942e-02\n",
      "  1.07700072e-04  4.33793940e-03 -4.41842078e-03  1.26828437e-02\n",
      "  4.02989206e-03 -2.89894337e-03  3.01923776e-03  2.91883658e-03\n",
      "  2.05326387e-03  4.76673927e-03 -5.26686096e-04]\n"
     ]
    }
   ],
   "source": [
    "reg = Lasso(alpha=.001, selection = 'cyclic', warm_start = 'True', random_state=42)\n",
    "reg.fit(X_train_scaled_reg, y_train_reg)\n",
    "print (\"Lasso model:\", (reg.coef_))\n",
    "#EvaluateRegressionEstimator(regEstimator, X_scaled_reg, y_reg, cv_reg)"
   ]
  },
  {
   "cell_type": "code",
   "execution_count": 34,
   "metadata": {},
   "outputs": [
    {
     "name": "stdout",
     "output_type": "stream",
     "text": [
      "0.6201060164961862\n",
      "0.6135599295413643\n"
     ]
    }
   ],
   "source": [
    "print(reg.score(X_train_scaled_reg, y_train_reg))\n",
    "print(reg.score(X_test_scaled_reg, y_test_reg))"
   ]
  },
  {
   "cell_type": "code",
   "execution_count": 35,
   "metadata": {},
   "outputs": [
    {
     "name": "stdout",
     "output_type": "stream",
     "text": [
      "log_price has weight of 0.14\n",
      "accommodates has weight of 0.08\n",
      "bathrooms has weight of 0.01\n",
      "host_identity_verified has weight of -0.02\n",
      "instant_bookable has weight of 0.05\n",
      "latitude has weight of -0.0\n",
      "longitude has weight of -0.01\n",
      "number_of_reviews has weight of 0.06\n",
      "review_scores_rating has weight of 0.12\n",
      "bedrooms has weight of -0.01\n",
      "beds has weight of -0.3\n",
      "room_type_Private room has weight of -0.17\n",
      "room_type_Shared room has weight of 0.0\n",
      "bed_type_Couch has weight of -0.0\n",
      "bed_type_Futon has weight of 0.0\n",
      "bed_type_Pull-out Sofa has weight of 0.01\n",
      "bed_type_Real Bed has weight of -0.07\n",
      "city_Chicago has weight of -0.01\n",
      "city_DC has weight of -0.0\n",
      "city_LA has weight of 0.0\n",
      "city_NYC has weight of 0.1\n",
      "city_SF has weight of 0.0\n",
      "cancellation_policy_moderate has weight of 0.02\n",
      "cancellation_policy_strict has weight of 0.01\n",
      "cancellation_policy_super_strict_30 has weight of 0.01\n",
      "cancellation_policy_super_strict_60 has weight of 0.01\n",
      "property_type_Bed & Breakfast has weight of 0.0\n",
      "property_type_Boat has weight of 0.0\n",
      "property_type_Boutique hotel has weight of -0.0\n",
      "property_type_Bungalow has weight of -0.0\n",
      "property_type_Cabin has weight of -0.01\n",
      "property_type_Camper/RV has weight of 0.0\n",
      "property_type_Castle has weight of 0.0\n",
      "property_type_Cave has weight of -0.0\n",
      "property_type_Chalet has weight of 0.02\n",
      "property_type_Condominium has weight of -0.02\n",
      "property_type_Dorm has weight of -0.0\n",
      "property_type_Earth House has weight of -0.0\n",
      "property_type_Guest suite has weight of -0.01\n",
      "property_type_Guesthouse has weight of -0.02\n",
      "property_type_Hostel has weight of -0.02\n",
      "property_type_House has weight of -0.0\n",
      "property_type_Hut has weight of -0.01\n",
      "property_type_In-law has weight of 0.02\n",
      "property_type_Loft has weight of 0.0\n",
      "property_type_Other has weight of 0.0\n",
      "property_type_Serviced apartment has weight of -0.0\n",
      "property_type_Tent has weight of 0.01\n",
      "property_type_Timeshare has weight of 0.0\n",
      "property_type_Tipi has weight of -0.0\n",
      "property_type_Townhouse has weight of 0.0\n",
      "property_type_Train has weight of 0.0\n",
      "property_type_Treehouse has weight of 0.0\n",
      "property_type_Vacation home has weight of 0.0\n",
      "property_type_Villa has weight of -0.0\n"
     ]
    }
   ],
   "source": [
    "#coefficient output based on in-class example\n",
    "weights_reg = reg.coef_.T\n",
    "variable_names = list(pdata_reg)[0:-1]\n",
    "\n",
    "#x = pd.DataFrame(pdata_reg)\n",
    "#variable_names_reg = x.columns\n",
    "for coef,name in zip(weights_reg, variable_names):\n",
    "    print(name, 'has weight of', round(coef, ndigits=2))"
   ]
  },
  {
   "cell_type": "markdown",
   "metadata": {},
   "source": [
    "When alpha is .001 as dictated by the grid search the predictions seem more aligned to the actuals"
   ]
  },
  {
   "cell_type": "code",
   "execution_count": 36,
   "metadata": {},
   "outputs": [
    {
     "data": {
      "image/png": "[encoded data removed]",
      "text/plain": [
       "<Figure size 432x288 with 1 Axes>"
      ]
     },
     "metadata": {
      "needs_background": "light"
     },
     "output_type": "display_data"
    }
   ],
   "source": [
    "#https://scikit-learn.org/stable/auto_examples/model_selection/plot_cv_predict.html#sphx-glr-auto-examples-model-selection-plot-cv-predict-py\n",
    "from sklearn.model_selection import cross_val_predict\n",
    "\n",
    "# cross_val_predict returns an array of the same size as `y` where each entry\n",
    "# is a prediction obtained by cross validation:\n",
    "predicted = cross_val_predict(reg, X_scaled_reg, y_reg, cv=10)\n",
    "\n",
    "fig, ax = plt.subplots()\n",
    "ax.scatter(y_reg, predicted, edgecolors=(0, 0, 0))\n",
    "ax.plot([y_reg.min(), y_reg.max()], [y_reg.min(), y_reg.max()], 'k--', lw=4)\n",
    "ax.set_xlabel('Measured')\n",
    "ax.set_ylabel('Predicted')\n",
    "plt.show()"
   ]
  },
  {
   "cell_type": "code",
   "execution_count": 38,
   "metadata": {},
   "outputs": [
    {
     "data": {
      "text/html": [
       "<div>\n",
       "<style scoped>\n",
       "    .dataframe tbody tr th:only-of-type {\n",
       "        vertical-align: middle;\n",
       "    }\n",
       "\n",
       "    .dataframe tbody tr th {\n",
       "        vertical-align: top;\n",
       "    }\n",
       "\n",
       "    .dataframe thead th {\n",
       "        text-align: right;\n",
       "    }\n",
       "</style>\n",
       "<table border=\"1\" class=\"dataframe\">\n",
       "  <thead>\n",
       "    <tr style=\"text-align: right;\">\n",
       "      <th></th>\n",
       "      <th>Scorer</th>\n",
       "      <th>Accuracy</th>\n",
       "    </tr>\n",
       "  </thead>\n",
       "  <tbody>\n",
       "    <tr>\n",
       "      <th>0</th>\n",
       "      <td>MSE</td>\n",
       "      <td>0.17</td>\n",
       "    </tr>\n",
       "    <tr>\n",
       "      <th>1</th>\n",
       "      <td>MAE</td>\n",
       "      <td>0.32</td>\n",
       "    </tr>\n",
       "    <tr>\n",
       "      <th>2</th>\n",
       "      <td>MAPE</td>\n",
       "      <td>0.07</td>\n",
       "    </tr>\n",
       "  </tbody>\n",
       "</table>\n",
       "</div>"
      ],
      "text/plain": [
       "  Scorer  Accuracy\n",
       "0    MSE      0.17\n",
       "1    MAE      0.32\n",
       "2   MAPE      0.07"
      ]
     },
     "execution_count": 38,
     "metadata": {},
     "output_type": "execute_result"
    }
   ],
   "source": [
    "#http://www.science.smith.edu/~jcrouser/SDS293/labs/lab10-py.html\n",
    "from sklearn.metrics import mean_squared_error, mean_absolute_error\n",
    "from sklearn.metrics import mean_absolute_percentage_error\n",
    "\n",
    "LASSO_MSE = round(mean_squared_error(y_test_reg, reg.predict(X_test_scaled_reg)), ndigits=2)\n",
    "\n",
    "LASSO_MAE = round(mean_absolute_error(y_test_reg, reg.predict(X_test_scaled_reg)),ndigits=2)\n",
    "\n",
    "LASSO_MAPE = round(mean_absolute_percentage_error(y_test_reg, reg.predict(X_test_scaled_reg)),ndigits=2)\n",
    "\n",
    "LASSO_stats = pd.DataFrame({'Scorer':['MSE','MAE','MAPE'], 'Accuracy':[LASSO_MSE,LASSO_MAE,LASSO_MAPE]})\n",
    "LASSO_stats"
   ]
  },
  {
   "cell_type": "markdown",
   "metadata": {},
   "source": [
    "When the alpha is .05, at the 95% confidence interval, the prediction MSE is higher"
   ]
  },
  {
   "cell_type": "code",
   "execution_count": 93,
   "metadata": {},
   "outputs": [
    {
     "data": {
      "image/png": "[encoded data removed]",
      "text/plain": [
       "<Figure size 432x288 with 1 Axes>"
      ]
     },
     "metadata": {},
     "output_type": "display_data"
    }
   ],
   "source": [
    "reg_05 = Lasso(alpha=.05, selection = 'cyclic', warm_start = 'True', random_state=42)\n",
    "# cross_val_predict returns an array of the same size as `y` where each entry\n",
    "# is a prediction obtained by cross validation:\n",
    "predicted = cross_val_predict(reg_05, X_scaled_reg, y_reg, cv=10)\n",
    "\n",
    "fig, ax = plt.subplots()\n",
    "ax.scatter(y_reg, predicted, edgecolors=(0, 0, 0))\n",
    "ax.plot([y_reg.min(), y_reg.max()], [y_reg.min(), y_reg.max()], 'k--', lw=4)\n",
    "ax.set_xlabel('Measured')\n",
    "ax.set_ylabel('Predicted')\n",
    "plt.show()"
   ]
  },
  {
   "cell_type": "code",
   "execution_count": 94,
   "metadata": {},
   "outputs": [
    {
     "name": "stdout",
     "output_type": "stream",
     "text": [
      "0.5677487564761738\n",
      "0.564327611345425\n"
     ]
    }
   ],
   "source": [
    "reg_05.fit(X_train_scaled_reg, y_train_reg)\n",
    "print(reg_05.score(X_train_scaled_reg, y_train_reg))\n",
    "print(reg_05.score(X_test_scaled_reg, y_test_reg))"
   ]
  },
  {
   "cell_type": "code",
   "execution_count": 95,
   "metadata": {},
   "outputs": [
    {
     "data": {
      "text/plain": [
       "0.2"
      ]
     },
     "execution_count": 95,
     "metadata": {},
     "output_type": "execute_result"
    }
   ],
   "source": [
    "round(mean_squared_error(y_test_reg, reg_05.predict(X_test_scaled_reg)), ndigits=2)"
   ]
  },
  {
   "cell_type": "markdown",
   "metadata": {},
   "source": [
    " Trying a different way"
   ]
  },
  {
   "cell_type": "code",
   "execution_count": 96,
   "metadata": {},
   "outputs": [
    {
     "data": {
      "text/plain": [
       "0.1733216148266688"
      ]
     },
     "execution_count": 96,
     "metadata": {},
     "output_type": "execute_result"
    }
   ],
   "source": [
    "from sklearn.linear_model import Ridge, RidgeCV, Lasso, LassoCV\n",
    "\n",
    "lasso = Lasso(max_iter = 10000, normalize = True)\n",
    "coefs = []\n",
    "\n",
    "lassocv = LassoCV(alphas = None, cv = 10, max_iter = 100000, normalize = True)\n",
    "lassocv.fit(X_train_scaled_reg, y_train_reg)\n",
    "\n",
    "lasso.set_params(alpha=lassocv.alpha_)\n",
    "lasso.fit(X_train_scaled_reg, y_train_reg)\n",
    "mean_squared_error(y_test_reg, lasso.predict(X_test_scaled_reg))"
   ]
  },
  {
   "cell_type": "code",
   "execution_count": 97,
   "metadata": {},
   "outputs": [
    {
     "name": "stdout",
     "output_type": "stream",
     "text": [
      "log_price has weight of 0.14\n",
      "accommodates has weight of 0.08\n",
      "bathrooms has weight of 0.01\n",
      "host_identity_verified has weight of -0.02\n",
      "instant_bookable has weight of 0.1\n",
      "latitude has weight of -0.06\n",
      "longitude has weight of -0.01\n",
      "number_of_reviews has weight of 0.06\n",
      "review_scores_rating has weight of 0.12\n",
      "bedrooms has weight of -0.01\n",
      "beds has weight of -0.3\n",
      "room_type_Private room has weight of -0.17\n",
      "room_type_Shared room has weight of 0.0\n",
      "bed_type_Couch has weight of -0.0\n",
      "bed_type_Futon has weight of 0.0\n",
      "bed_type_Pull-out Sofa has weight of 0.01\n",
      "bed_type_Real Bed has weight of -0.09\n",
      "city_Chicago has weight of -0.0\n",
      "city_DC has weight of -0.0\n",
      "city_LA has weight of 0.01\n",
      "city_NYC has weight of 0.08\n",
      "city_SF has weight of 0.0\n",
      "cancellation_policy_moderate has weight of 0.02\n",
      "cancellation_policy_strict has weight of 0.02\n",
      "cancellation_policy_super_strict_30 has weight of 0.01\n",
      "cancellation_policy_super_strict_60 has weight of 0.01\n",
      "property_type_Bed & Breakfast has weight of 0.0\n",
      "property_type_Boat has weight of 0.0\n",
      "property_type_Boutique hotel has weight of -0.0\n",
      "property_type_Bungalow has weight of -0.01\n",
      "property_type_Cabin has weight of -0.01\n",
      "property_type_Camper/RV has weight of 0.01\n",
      "property_type_Castle has weight of 0.0\n",
      "property_type_Cave has weight of 0.0\n",
      "property_type_Chalet has weight of 0.02\n",
      "property_type_Condominium has weight of -0.02\n",
      "property_type_Dorm has weight of 0.0\n",
      "property_type_Earth House has weight of -0.0\n",
      "property_type_Guest suite has weight of -0.01\n",
      "property_type_Guesthouse has weight of -0.02\n",
      "property_type_Hostel has weight of -0.02\n",
      "property_type_House has weight of -0.0\n",
      "property_type_Hut has weight of -0.01\n",
      "property_type_In-law has weight of 0.02\n",
      "property_type_Loft has weight of 0.0\n",
      "property_type_Other has weight of 0.0\n",
      "property_type_Serviced apartment has weight of -0.0\n",
      "property_type_Tent has weight of 0.01\n",
      "property_type_Timeshare has weight of -0.0\n",
      "property_type_Tipi has weight of -0.0\n",
      "property_type_Townhouse has weight of 0.0\n",
      "property_type_Train has weight of 0.01\n",
      "property_type_Treehouse has weight of 0.0\n",
      "property_type_Vacation home has weight of 0.0\n",
      "property_type_Villa has weight of -0.0\n"
     ]
    }
   ],
   "source": [
    "#coefficient output based on in-class example\n",
    "weights_reg = lasso.coef_.T\n",
    "variable_names = list(pdata_reg)[0:-1]\n",
    "\n",
    "#x = pd.DataFrame(pdata_reg)\n",
    "#variable_names_reg = x.columns\n",
    "for coef,name in zip(weights_reg, variable_names):\n",
    "    print(name, 'has weight of', round(coef, ndigits=2))"
   ]
  },
  {
   "cell_type": "markdown",
   "metadata": {},
   "source": [
    "##### 2.4.2 Random Forest Regression"
   ]
  },
  {
   "cell_type": "code",
   "execution_count": 60,
   "metadata": {},
   "outputs": [],
   "source": [
    "#Use mean absolute error (MAE) to score the regression models created \n",
    "#(the scale of MAE is identical to the response variable)\n",
    "from sklearn.metrics import mean_absolute_error, make_scorer, mean_squared_error\n",
    "\n",
    "#Function for Root mean squared error\n",
    "#https://stackoverflow.com/questions/17197492/root-mean-square-error-in-python\n",
    "def rmse(y_actual, y_predicted):\n",
    "    return np.sqrt(mean_squared_error(y_actual, y_predicted))\n",
    "\n",
    "#Function for Mean Absolute Percentage Error (MAPE) - Untested\n",
    "#Adapted from - https://stackoverflow.com/questions/42250958/how-to-optimize-mape-code-in-python\n",
    "def mape(y_actual, y_predicted): \n",
    "    mask = y_actual != 0\n",
    "    return (np.fabs(y_actual - y_predicted)/y_actual)[mask].mean() * 100\n",
    "\n",
    "#Create scorers for rmse and mape functions\n",
    "mae_scorer = make_scorer(score_func=mean_absolute_error, greater_is_better=False)\n",
    "rmse_scorer = make_scorer(score_func=rmse, greater_is_better=False)\n",
    "mape_scorer = make_scorer(score_func=mape, greater_is_better=False)\n",
    "\n",
    "#Make scorer array to pass into cross_validate() function for producing mutiple scores for each cv fold.\n",
    "errorScoring = {'MAE':  mae_scorer, \n",
    "                'RMSE': rmse_scorer,\n",
    "                'MAPE': mape_scorer\n",
    "               } "
   ]
  },
  {
   "cell_type": "code",
   "execution_count": 61,
   "metadata": {},
   "outputs": [],
   "source": [
    "from sklearn.model_selection import cross_validate\n",
    "\n",
    "def EvaluateRegressionEstimator(regEstimator, X, y, cv):\n",
    "    \n",
    "    scores = cross_validate(regEstimator, X, y, scoring=errorScoring, cv=cv, return_train_score=True)\n",
    "\n",
    "    #cross val score sign-flips the outputs of MAE\n",
    "    # https://github.com/scikit-learn/scikit-learn/issues/2439\n",
    "    scores['test_MAE'] = scores['test_MAE'] * -1\n",
    "    scores['test_MAPE'] = scores['test_MAPE'] * -1\n",
    "    scores['test_RMSE'] = scores['test_RMSE'] * -1\n",
    "\n",
    "    #print mean MAE for all folds \n",
    "    maeAvg = scores['test_MAE'].mean()\n",
    "    print_str = \"The average MAE for all cv folds is: \\t\\t\\t {maeAvg:.5}\"\n",
    "    print(print_str.format(maeAvg=maeAvg))\n",
    "\n",
    "    #print mean test_MAPE for all folds\n",
    "    scores['test_MAPE'] = scores['test_MAPE']\n",
    "    mape_avg = scores['test_MAPE'].mean()\n",
    "    print_str = \"The average MAE percentage (MAPE) for all cv folds is: \\t {mape_avg:.5}\"\n",
    "    print(print_str.format(mape_avg=mape_avg))\n",
    "\n",
    "    #print mean MAE for all folds \n",
    "    RMSEavg = scores['test_RMSE'].mean()\n",
    "    print_str = \"The average RMSE for all cv folds is: \\t\\t\\t {RMSEavg:.5}\"\n",
    "    print(print_str.format(RMSEavg=RMSEavg))\n",
    "    print('*********************************************************')\n",
    "\n",
    "    print('Cross Validation Fold Mean Error Scores')\n",
    "    scoresResults = pd.DataFrame()\n",
    "    scoresResults['MAE'] = scores['test_MAE']\n",
    "    scoresResults['MAPE'] = scores['test_MAPE']\n",
    "    scoresResults['RMSE'] = scores['test_RMSE']\n",
    "    return scoresResults"
   ]
  },
  {
   "cell_type": "code",
   "execution_count": null,
   "metadata": {},
   "outputs": [],
   "source": [
    ">>> from sklearn.ensemble import RandomForestRegressor\n",
    ">>> from sklearn.datasets import make_regression\n",
    "from sklearn.metrics import mean_absolute_error, make_scorer, mean_squared_error\n",
    "\n",
    "mae_scorer = make_scorer(score_func=mean_absolute_error, greater_is_better=False)\n",
    "#rmse_scorer = mean_squared_error(score_func=rmse, greater_is_better=False)\n",
    "#mape_scorer = mean_absolute_error(score_func=mape, greater_is_better=False)\n",
    "\n",
    "linreg = RandomForestRegressor()\n",
    "parameters = {'min_samples_split':[5,10],\n",
    "             'n_estimators':[100],\n",
    "             'min_samples_leaf':[1,5],\n",
    "             'criterion':['mae'],\n",
    "             'n_jobs':[14],\n",
    "             'random_state':[0],\n",
    "             'max_depth':[2]}\n",
    "\n",
    "from sklearn.model_selection import GridSearchCV\n",
    "regGridSearch = GridSearchCV(estimator=linreg\n",
    "                            , n_jobs=14\n",
    "                            , verbose=1\n",
    "                            ,param_grid=parameters\n",
    "                            ,cv=cv_reg\n",
    "                            ,scoring=mae_scorer)\n",
    "\n",
    "regGridSearch.fit(X_train_scaled_reg, y_train_reg)"
   ]
  },
  {
   "cell_type": "code",
   "execution_count": null,
   "metadata": {},
   "outputs": [],
   "source": [
    "#Display the best estimator parameters\n",
    "regGridSearch.best_estimator_"
   ]
  },
  {
   "cell_type": "code",
   "execution_count": null,
   "metadata": {},
   "outputs": [],
   "source": [
    ">>> from sklearn.ensemble import RandomForestRegressor\n",
    ">>> from sklearn.datasets import make_regression\n",
    "from sklearn.metrics import mean_absolute_error, make_scorer, mean_squared_error\n",
    "\n",
    "regEstimator = RandomForestRegressor(bootstrap=True, criterion='mae', max_depth=None, max_features='auto',\n",
    "                                    max_leaf_nodes=None, min_impurity_decrease=0.0, min_impurity_split=None,\n",
    "                                    min_samples_leaf=10, min_samples_split=5, min_weight_fraction_leaf=0.0,\n",
    "                                    n_estimators=100, n_jobs=14, oob_score=False, random_state=0, verbose=0, warm_start=False)\n",
    "\n",
    "EvaluateRegressionEstimator(regEstimator, X_train_scaled_reg, y_train_reg, cv_reg)"
   ]
  },
  {
   "cell_type": "code",
   "execution_count": null,
   "metadata": {},
   "outputs": [],
   "source": [
    "RF_MAE = round(mean_absolute_error(y_test_reg, regEstimator.predict(X_test_scaled_reg)),ndigits=2)"
   ]
  },
  {
   "cell_type": "markdown",
   "metadata": {},
   "source": [
    "Extra Trees Regression"
   ]
  },
  {
   "cell_type": "code",
   "execution_count": null,
   "metadata": {},
   "outputs": [],
   "source": [
    "cv = ShuffleSplit(n_splits=3, test_size = 0.1, train_size = 0.2)\n",
    "\n",
    "for train, test in cv.split(X_scaled_reg,y_reg):\n",
    "    # note that these are sparse matrices\n",
    "    X_train_scaled_reg = X_scaled_reg[trainidx]\n",
    "    X_test_scaled_reg = X_scaled_reg[testidx]\n",
    "    y_train_reg = y_reg[trainidx]\n",
    "    y_test_reg = y_reg[testidx]"
   ]
  },
  {
   "cell_type": "code",
   "execution_count": null,
   "metadata": {},
   "outputs": [],
   "source": [
    "from sklearn.ensemble import ExtraTreesRegressor\n",
    "\n",
    "extReg = RandomForestRegressor()\n",
    "parameters = {'min_samples_split':[2,5],\n",
    "             'n_estimators':[100],\n",
    "             'min_samples_leaf':[10,25],\n",
    "             'criterion':['mae'],\n",
    "             'n_jobs':[-1],\n",
    "             'random_state':[0]}\n",
    "\n",
    "from sklearn.model_selection import GridSearchCV\n",
    "extGridSearch = GridSearchCV(estimator=extReg\n",
    "                            , n_jobs=-1\n",
    "                            , verbose=1\n",
    "                            ,param_grid=parameters\n",
    "                            ,cv=cv_reg\n",
    "                            ,scoring=mae_scorer)\n",
    "\n",
    "extGridSearch.fit(X_train_scaled_reg, y_train_reg),"
   ]
  },
  {
   "cell_type": "code",
   "execution_count": null,
   "metadata": {},
   "outputs": [],
   "source": [
    "#Display the best estimator parameters\n",
    "extGridSearch.best_estimator_\n",
    "\n",
    "#Might need to change to .best_estimator_"
   ]
  },
  {
   "cell_type": "code",
   "execution_count": null,
   "metadata": {},
   "outputs": [],
   "source": [
    "#Create a regression estimator with best parameters for cross validation\n",
    "bestEstimator = regGridSearch.best_Estimator_\n",
    "\n",
    "#Evaluate the regression estimator above using our pre-defined cross validation and scoring metrics.\n",
    "EvaluateRegressionEstimator(bestEstimator, X_test_scaled_reg, y_test_reg, cv_reg)"
   ]
  },
  {
   "cell_type": "code",
   "execution_count": null,
   "metadata": {},
   "outputs": [],
   "source": [
    "ET_MAE = round(mean_absolute_error(y_test_reg, bestEstimator.predict(X_test_scaled_reg)),ndigits=2)"
   ]
  },
  {
   "cell_type": "markdown",
   "metadata": {},
   "source": [
    "#### 2.5 Comparison of Models (Model and Evaluation 4)"
   ]
  },
  {
   "cell_type": "markdown",
   "metadata": {},
   "source": [
    "##### 2.5.1 Classification Models"
   ]
  },
  {
   "cell_type": "code",
   "execution_count": 69,
   "metadata": {},
   "outputs": [
    {
     "data": {
      "text/html": [
       "<div>\n",
       "<style scoped>\n",
       "    .dataframe tbody tr th:only-of-type {\n",
       "        vertical-align: middle;\n",
       "    }\n",
       "\n",
       "    .dataframe tbody tr th {\n",
       "        vertical-align: top;\n",
       "    }\n",
       "\n",
       "    .dataframe thead th {\n",
       "        text-align: right;\n",
       "    }\n",
       "</style>\n",
       "<table border=\"1\" class=\"dataframe\">\n",
       "  <thead>\n",
       "    <tr style=\"text-align: right;\">\n",
       "      <th></th>\n",
       "      <th>Model</th>\n",
       "      <th>Accuracy</th>\n",
       "    </tr>\n",
       "  </thead>\n",
       "  <tbody>\n",
       "    <tr>\n",
       "      <th>0</th>\n",
       "      <td>Random Forest</td>\n",
       "      <td>0.754</td>\n",
       "    </tr>\n",
       "    <tr>\n",
       "      <th>1</th>\n",
       "      <td>KNN</td>\n",
       "      <td>0.744</td>\n",
       "    </tr>\n",
       "    <tr>\n",
       "      <th>2</th>\n",
       "      <td>Logistic Regression</td>\n",
       "      <td>0.710</td>\n",
       "    </tr>\n",
       "  </tbody>\n",
       "</table>\n",
       "</div>"
      ],
      "text/plain": [
       "                 Model  Accuracy\n",
       "0        Random Forest     0.754\n",
       "1                  KNN     0.744\n",
       "2  Logistic Regression     0.710"
      ]
     },
     "execution_count": 69,
     "metadata": {},
     "output_type": "execute_result"
    }
   ],
   "source": [
    "class_acc = pd.DataFrame({'Model':['Random Forest','KNN','Logistic Regression'], 'Accuracy':[RF_ac,KNN_ac,LOG_ac]})\n",
    "\n",
    "class_acc.head()"
   ]
  },
  {
   "cell_type": "code",
   "execution_count": 71,
   "metadata": {},
   "outputs": [
    {
     "data": {
      "text/plain": [
       "<matplotlib.axes._subplots.AxesSubplot at 0x7f7ed4c1b310>"
      ]
     },
     "execution_count": 71,
     "metadata": {},
     "output_type": "execute_result"
    },
    {
     "data": {
      "image/png": "[encoded data removed]",
      "text/plain": [
       "<Figure size 432x288 with 1 Axes>"
      ]
     },
     "metadata": {
      "needs_background": "light"
     },
     "output_type": "display_data"
    }
   ],
   "source": [
    "class_acc.plot.bar(x='Model', y='Accuracy', rot=0)"
   ]
  },
  {
   "cell_type": "markdown",
   "metadata": {},
   "source": [
    "After comparing the performance of all three classification models Random Forest performed best with an F1 accuracy of .754. This model ran fast and perfomed best when compared to the other classification models, making it a good candidate for future exploration and refinment. Though both KNN and Logistic Regression perfomed almost as well as Random Forest, the recall and precision for the models saw a slight drop while runtime increased."
   ]
  },
  {
   "cell_type": "markdown",
   "metadata": {},
   "source": [
    "##### 2.5.2 Regression Models"
   ]
  },
  {
   "cell_type": "code",
   "execution_count": null,
   "metadata": {},
   "outputs": [],
   "source": [
    "reg_acc = pd.DataFrame({'Model':['LASSO','Random Forest','Extra Trees'], 'MAE':[LASSO_MAE,RF_MAE,ET_MAE]})\n",
    "\n",
    "reg_acc.head()"
   ]
  },
  {
   "cell_type": "code",
   "execution_count": null,
   "metadata": {},
   "outputs": [],
   "source": [
    "reg_acc.plot.bar(x='Model', y='MAE', rot=0)"
   ]
  },
  {
   "cell_type": "markdown",
   "metadata": {},
   "source": [
    "#### 2.6 Advantages of Models (Model and Evaluation 5)"
   ]
  },
  {
   "cell_type": "markdown",
   "metadata": {},
   "source": [
    "##### 2.6.1 Classification Models"
   ]
  },
  {
   "cell_type": "markdown",
   "metadata": {},
   "source": [
    "##### 2.6.2 Regression Models"
   ]
  },
  {
   "cell_type": "markdown",
   "metadata": {},
   "source": [
    "#### 2.7 Attribute Importance"
   ]
  },
  {
   "cell_type": "markdown",
   "metadata": {},
   "source": [
    "##### 2.7.1 Classification Models"
   ]
  },
  {
   "cell_type": "code",
   "execution_count": 40,
   "metadata": {},
   "outputs": [],
   "source": [
    "#Random Forest Classification\n",
    "RFweights = modelFINAL_RFC_RS.feature_importances_\n",
    "x = pd.DataFrame(pdata_cls)\n",
    "variable_names = x.columns\n",
    "\n",
    "RFweights_df=pd.DataFrame(RFweights)\n",
    "variable_names_df=pd.DataFrame(variable_names)\n",
    "variable_names_df=variable_names_df.drop([1])\n",
    "variable_names_df=variable_names_df.reset_index(drop=True)"
   ]
  },
  {
   "cell_type": "code",
   "execution_count": 42,
   "metadata": {},
   "outputs": [
    {
     "data": {
      "text/html": [
       "<div>\n",
       "<style scoped>\n",
       "    .dataframe tbody tr th:only-of-type {\n",
       "        vertical-align: middle;\n",
       "    }\n",
       "\n",
       "    .dataframe tbody tr th {\n",
       "        vertical-align: top;\n",
       "    }\n",
       "\n",
       "    .dataframe thead th {\n",
       "        text-align: right;\n",
       "    }\n",
       "</style>\n",
       "<table border=\"1\" class=\"dataframe\">\n",
       "  <thead>\n",
       "    <tr style=\"text-align: right;\">\n",
       "      <th></th>\n",
       "      <th>Weight</th>\n",
       "      <th>Feature Name</th>\n",
       "    </tr>\n",
       "  </thead>\n",
       "  <tbody>\n",
       "    <tr>\n",
       "      <th>23</th>\n",
       "      <td>0.000033</td>\n",
       "      <td>cancellation_policy_super_strict_60</td>\n",
       "    </tr>\n",
       "    <tr>\n",
       "      <th>11</th>\n",
       "      <td>0.000469</td>\n",
       "      <td>bed_type_Couch</td>\n",
       "    </tr>\n",
       "    <tr>\n",
       "      <th>22</th>\n",
       "      <td>0.000621</td>\n",
       "      <td>cancellation_policy_super_strict_30</td>\n",
       "    </tr>\n",
       "    <tr>\n",
       "      <th>13</th>\n",
       "      <td>0.001363</td>\n",
       "      <td>bed_type_Pull-out Sofa</td>\n",
       "    </tr>\n",
       "    <tr>\n",
       "      <th>12</th>\n",
       "      <td>0.001539</td>\n",
       "      <td>bed_type_Futon</td>\n",
       "    </tr>\n",
       "    <tr>\n",
       "      <th>10</th>\n",
       "      <td>0.004079</td>\n",
       "      <td>room_type_Shared room</td>\n",
       "    </tr>\n",
       "    <tr>\n",
       "      <th>14</th>\n",
       "      <td>0.004276</td>\n",
       "      <td>bed_type_Real Bed</td>\n",
       "    </tr>\n",
       "    <tr>\n",
       "      <th>15</th>\n",
       "      <td>0.007993</td>\n",
       "      <td>city_Chicago</td>\n",
       "    </tr>\n",
       "    <tr>\n",
       "      <th>19</th>\n",
       "      <td>0.011756</td>\n",
       "      <td>city_SF</td>\n",
       "    </tr>\n",
       "    <tr>\n",
       "      <th>20</th>\n",
       "      <td>0.012719</td>\n",
       "      <td>cancellation_policy_moderate</td>\n",
       "    </tr>\n",
       "    <tr>\n",
       "      <th>21</th>\n",
       "      <td>0.014953</td>\n",
       "      <td>cancellation_policy_strict</td>\n",
       "    </tr>\n",
       "    <tr>\n",
       "      <th>3</th>\n",
       "      <td>0.016929</td>\n",
       "      <td>host_identity_verified</td>\n",
       "    </tr>\n",
       "    <tr>\n",
       "      <th>4</th>\n",
       "      <td>0.019119</td>\n",
       "      <td>instant_bookable</td>\n",
       "    </tr>\n",
       "    <tr>\n",
       "      <th>16</th>\n",
       "      <td>0.021363</td>\n",
       "      <td>city_DC</td>\n",
       "    </tr>\n",
       "    <tr>\n",
       "      <th>8</th>\n",
       "      <td>0.033938</td>\n",
       "      <td>beds</td>\n",
       "    </tr>\n",
       "    <tr>\n",
       "      <th>17</th>\n",
       "      <td>0.053687</td>\n",
       "      <td>city_LA</td>\n",
       "    </tr>\n",
       "    <tr>\n",
       "      <th>1</th>\n",
       "      <td>0.055004</td>\n",
       "      <td>accommodates</td>\n",
       "    </tr>\n",
       "    <tr>\n",
       "      <th>9</th>\n",
       "      <td>0.061234</td>\n",
       "      <td>room_type_Private room</td>\n",
       "    </tr>\n",
       "    <tr>\n",
       "      <th>7</th>\n",
       "      <td>0.062088</td>\n",
       "      <td>bedrooms</td>\n",
       "    </tr>\n",
       "    <tr>\n",
       "      <th>6</th>\n",
       "      <td>0.080914</td>\n",
       "      <td>review_scores_rating</td>\n",
       "    </tr>\n",
       "    <tr>\n",
       "      <th>24</th>\n",
       "      <td>0.082020</td>\n",
       "      <td>region_East</td>\n",
       "    </tr>\n",
       "    <tr>\n",
       "      <th>2</th>\n",
       "      <td>0.096814</td>\n",
       "      <td>bathrooms</td>\n",
       "    </tr>\n",
       "    <tr>\n",
       "      <th>5</th>\n",
       "      <td>0.100077</td>\n",
       "      <td>number_of_reviews</td>\n",
       "    </tr>\n",
       "    <tr>\n",
       "      <th>18</th>\n",
       "      <td>0.118009</td>\n",
       "      <td>city_NYC</td>\n",
       "    </tr>\n",
       "    <tr>\n",
       "      <th>0</th>\n",
       "      <td>0.139001</td>\n",
       "      <td>log_price</td>\n",
       "    </tr>\n",
       "  </tbody>\n",
       "</table>\n",
       "</div>"
      ],
      "text/plain": [
       "      Weight                         Feature Name\n",
       "23  0.000033  cancellation_policy_super_strict_60\n",
       "11  0.000469                       bed_type_Couch\n",
       "22  0.000621  cancellation_policy_super_strict_30\n",
       "13  0.001363               bed_type_Pull-out Sofa\n",
       "12  0.001539                       bed_type_Futon\n",
       "10  0.004079                room_type_Shared room\n",
       "14  0.004276                    bed_type_Real Bed\n",
       "15  0.007993                         city_Chicago\n",
       "19  0.011756                              city_SF\n",
       "20  0.012719         cancellation_policy_moderate\n",
       "21  0.014953           cancellation_policy_strict\n",
       "3   0.016929               host_identity_verified\n",
       "4   0.019119                     instant_bookable\n",
       "16  0.021363                              city_DC\n",
       "8   0.033938                                 beds\n",
       "17  0.053687                              city_LA\n",
       "1   0.055004                         accommodates\n",
       "9   0.061234               room_type_Private room\n",
       "7   0.062088                             bedrooms\n",
       "6   0.080914                 review_scores_rating\n",
       "24  0.082020                          region_East\n",
       "2   0.096814                            bathrooms\n",
       "5   0.100077                    number_of_reviews\n",
       "18  0.118009                             city_NYC\n",
       "0   0.139001                            log_price"
      ]
     },
     "execution_count": 42,
     "metadata": {},
     "output_type": "execute_result"
    }
   ],
   "source": [
    "RF_class_weights = pd.concat([RFweights_df, variable_names_df],axis=1)\n",
    "names = [\"Weight\", \"Feature Name\"]\n",
    "RF_class_weights.columns = names\n",
    "RF_class_weights.sort_values(by=['Weight'])"
   ]
  },
  {
   "cell_type": "markdown",
   "metadata": {},
   "source": [
    "For Random Forest Classification the top 5 most important features were: log_pirce, city_NYC, number_of_reviews, bathrooms, and region_East. These features are intuitive as the location, and bathrooms would certainly seem to influence the property type."
   ]
  },
  {
   "cell_type": "code",
   "execution_count": 139,
   "metadata": {},
   "outputs": [
    {
     "name": "stdout",
     "output_type": "stream",
     "text": [
      "log_price has weight of -0.1\n",
      "property_type has weight of 0.1\n",
      "accommodates has weight of 0.35\n",
      "bathrooms has weight of -0.05\n",
      "host_identity_verified has weight of -0.01\n",
      "instant_bookable has weight of 0.09\n",
      "number_of_reviews has weight of 0.14\n",
      "review_scores_rating has weight of 0.24\n",
      "bedrooms has weight of 0.16\n",
      "beds has weight of 0.53\n",
      "room_type_Private room has weight of 0.08\n",
      "room_type_Shared room has weight of -0.02\n",
      "bed_type_Couch has weight of 0.03\n",
      "bed_type_Futon has weight of 0.02\n",
      "bed_type_Pull-out Sofa has weight of 0.05\n",
      "bed_type_Real Bed has weight of -0.04\n",
      "city_Chicago has weight of 0.17\n",
      "city_DC has weight of 0.23\n",
      "city_LA has weight of -0.41\n",
      "city_NYC has weight of 0.07\n",
      "city_SF has weight of -0.0\n",
      "cancellation_policy_moderate has weight of -0.06\n",
      "cancellation_policy_strict has weight of -0.04\n",
      "cancellation_policy_super_strict_30 has weight of 0.12\n",
      "cancellation_policy_super_strict_60 has weight of -0.26\n"
     ]
    }
   ],
   "source": [
    "#Logistic Regression\n",
    "weights = modelFINAL.coef_.T\n",
    "x = pd.DataFrame(pdata_cls)\n",
    "variable_names = x.columns\n",
    "for coef,name in zip(weights, variable_names):\n",
    "    print(name, 'has weight of', round(coef[0],ndigits=2))"
   ]
  },
  {
   "cell_type": "markdown",
   "metadata": {},
   "source": [
    "Logistic Regression weighs different features more important than Random Forest did. We find that the number of Beds, the City of LA, the accommodation, and the city of DC are most important for Logistic Regression. "
   ]
  },
  {
   "cell_type": "markdown",
   "metadata": {},
   "source": [
    "##### 2.7.2 Regression Models"
   ]
  },
  {
   "cell_type": "code",
   "execution_count": 50,
   "metadata": {},
   "outputs": [
    {
     "name": "stdout",
     "output_type": "stream",
     "text": [
      "log_price has weight of 0.14\n",
      "accommodates has weight of 0.08\n",
      "bathrooms has weight of 0.01\n",
      "host_identity_verified has weight of -0.02\n",
      "instant_bookable has weight of 0.05\n",
      "latitude has weight of -0.0\n",
      "longitude has weight of -0.01\n",
      "number_of_reviews has weight of 0.06\n",
      "review_scores_rating has weight of 0.11\n",
      "bedrooms has weight of -0.01\n",
      "beds has weight of -0.3\n",
      "room_type_Private room has weight of -0.17\n",
      "room_type_Shared room has weight of 0.0\n",
      "bed_type_Couch has weight of -0.0\n",
      "bed_type_Futon has weight of 0.0\n",
      "bed_type_Pull-out Sofa has weight of 0.01\n",
      "bed_type_Real Bed has weight of -0.07\n",
      "city_Chicago has weight of -0.01\n",
      "city_DC has weight of -0.0\n",
      "city_LA has weight of 0.0\n",
      "city_NYC has weight of 0.1\n",
      "city_SF has weight of 0.0\n",
      "cancellation_policy_moderate has weight of 0.03\n",
      "cancellation_policy_strict has weight of 0.01\n",
      "cancellation_policy_super_strict_30 has weight of 0.01\n",
      "cancellation_policy_super_strict_60 has weight of 0.01\n",
      "property_type_Bed & Breakfast has weight of 0.0\n",
      "property_type_Boat has weight of 0.0\n",
      "property_type_Boutique hotel has weight of -0.0\n",
      "property_type_Bungalow has weight of -0.0\n",
      "property_type_Cabin has weight of -0.01\n",
      "property_type_Camper/RV has weight of 0.0\n",
      "property_type_Castle has weight of 0.0\n",
      "property_type_Cave has weight of -0.0\n",
      "property_type_Chalet has weight of 0.02\n",
      "property_type_Condominium has weight of -0.02\n",
      "property_type_Dorm has weight of 0.0\n",
      "property_type_Earth House has weight of -0.0\n",
      "property_type_Guest suite has weight of -0.01\n",
      "property_type_Guesthouse has weight of -0.02\n",
      "property_type_Hostel has weight of -0.02\n",
      "property_type_House has weight of -0.0\n",
      "property_type_Hut has weight of -0.01\n",
      "property_type_In-law has weight of 0.02\n",
      "property_type_Loft has weight of 0.0\n",
      "property_type_Other has weight of 0.0\n",
      "property_type_Serviced apartment has weight of -0.01\n",
      "property_type_Tent has weight of 0.01\n",
      "property_type_Timeshare has weight of 0.0\n",
      "property_type_Tipi has weight of -0.0\n",
      "property_type_Townhouse has weight of 0.0\n",
      "property_type_Train has weight of 0.0\n",
      "property_type_Treehouse has weight of 0.0\n",
      "property_type_Vacation home has weight of 0.0\n",
      "property_type_Villa has weight of -0.0\n"
     ]
    }
   ],
   "source": [
    "#LASSO\n",
    "weights_reg = reg.coef_.T\n",
    "variable_names = list(pdata_reg)[0:-1]\n",
    "\n",
    "#x = pd.DataFrame(pdata_reg)\n",
    "#variable_names_reg = x.columns\n",
    "for coef,name in zip(weights_reg, variable_names):\n",
    "    print(name, 'has weight of', round(coef, ndigits=2))"
   ]
  },
  {
   "cell_type": "markdown",
   "metadata": {},
   "source": [
    "LASSO weighed room_type_private, review_scores_rating, accommodates, and number_of_reviews as the top predictors for the price of an Airbnb property. All of these predictors would surely have an influence on the price."
   ]
  },
  {
   "cell_type": "code",
   "execution_count": null,
   "metadata": {},
   "outputs": [],
   "source": [
    "#Random Forest Regression\n",
    "RFweights_reg = modelFINAL_RFC_RS.feature_importances_\n",
    "x = pd.DataFrame(pdata_reg)\n",
    "variable_names_reg = x.columns\n",
    "\n",
    "RFweights_reg_df=pd.DataFrame(RFweights_reg)\n",
    "variable_names_reg_df=pd.DataFrame(variable_names_reg)\n",
    "variable_names_reg_df=variable_names_reg_df.drop([1])\n",
    "variable_names_reg_df=variable_names_reg_df.reset_index(drop=True)"
   ]
  },
  {
   "cell_type": "code",
   "execution_count": null,
   "metadata": {},
   "outputs": [],
   "source": [
    "RF_class_weights_reg = pd.concat([RFweights_reg_df, variable_names_reg_df],axis=1)\n",
    "names = [\"Weight\", \"Feature Name\"]\n",
    "RF_class_weights_reg.columns = names\n",
    "RF_class_weights_reg.sort_values(by=['Weight'])"
   ]
  },
  {
   "cell_type": "code",
   "execution_count": null,
   "metadata": {},
   "outputs": [],
   "source": [
    "#Extra Tree\n",
    "weights = extReg.feature_importances_.ravel()\n",
    "feature_names = X_train_scaled_reg.columns.values\n",
    "linreg_ft_imp_df = pd.DataFrame({'feature_names':feature_names, 'weights':weights, 'absolute_weights': np.abs(weights)})\n",
    "linreg_ft_imp_df.sort_values(by='absolute_weights', inplace=True, ascending=False )"
   ]
  },
  {
   "cell_type": "markdown",
   "metadata": {},
   "source": [
    "#### 3. Deployment"
   ]
  },
  {
   "cell_type": "markdown",
   "metadata": {},
   "source": [
    "Airbnb would be interested in our regression models because they can recommend a price to property owners for new listings in the service. The models can be improved upon with internal resources at Airbnb but knowing there is a possibility to predict the price of a listing, with the little information we had, would be insightful to determining price gouging. Airbnb has received negative critiques on the service’s price range for certain areas of the country.\n",
    "<br>\n",
    "<br>\n",
    "The classification models would be useful because there are 35 different property types in the dataset we found, so this model could streamline the classifications so users can filter easier when searching for a listing to stay in. If more data were available for us to use, we could have created multinominal classification models.\n",
    "<br>\n",
    "<br>\n",
    "Deploying the regression model would need to be an internal use so they can see how property owners are pricing their listings. The classification model would need to be added to their front-end development team to create a custom filter that can iterate through all the listings and classify them.\n",
    "<br>\n",
    "<br>\n",
    "More data is necessary for delivering effective predictions. Having more information around the physical features of the property such as square footage would alter the predictive power of the models.\n",
    "<br>\n",
    "<br>\n",
    "The models would need to be updated regularly to stay current on all new properties rolling out and new stays are being booked. Especially when prices change over time with correspondence to the trip a user is planning."
   ]
  },
  {
   "cell_type": "markdown",
   "metadata": {},
   "source": [
    "#### 4. Exceptional Work Explained"
   ]
  },
  {
   "cell_type": "code",
   "execution_count": null,
   "metadata": {},
   "outputs": [],
   "source": []
  }
 ],
 "metadata": {
  "kernelspec": {
   "display_name": "Python 3",
   "language": "python",
   "name": "python3"
  },
  "language_info": {
   "codemirror_mode": {
    "name": "ipython",
    "version": 3
   },
   "file_extension": ".py",
   "mimetype": "text/x-python",
   "name": "python",
   "nbconvert_exporter": "python",
   "pygments_lexer": "ipython3",
   "version": "3.8.3"
  }
 },
 "nbformat": 4,
 "nbformat_minor": 4
}
