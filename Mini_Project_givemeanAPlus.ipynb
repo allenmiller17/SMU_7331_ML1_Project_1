{
  "nbformat": 4,
  "nbformat_minor": 0,
  "metadata": {
    "colab": {
      "name": "Mini_Project Ana2.ipynb",
      "provenance": [],
      "machine_shape": "hm"
    },
    "kernelspec": {
      "display_name": "Python 3",
      "language": "python",
      "name": "python3"
    },
    "language_info": {
      "codemirror_mode": {
        "name": "ipython",
        "version": 3
      },
      "file_extension": ".py",
      "mimetype": "text/x-python",
      "name": "python",
      "nbconvert_exporter": "python",
      "pygments_lexer": "ipython3",
      "version": "3.8.8"
    }
  },
  "cells": [
    {
      "cell_type": "markdown",
      "metadata": {
        "id": "shBxlqWhtBMq"
      },
      "source": [
        "# DS-7331 Machine Learning Mini Project\n",
        "## Airbnb Price Data - Logistic and SVM\n",
        "### Allen Miller, Ana Glaser, Jake Harrison, Lola Awodipe\n",
        "\n",
        "https://nbviewer.jupyter.org/github/allenmiller17/SMU_7331_ML1_Project_1/blob/main/Project_1_Final_Write_Up.ipynb"
      ]
    },
    {
      "cell_type": "code",
      "metadata": {
        "id": "0UVfzQcEtBMv"
      },
      "source": [
        "import warnings\n",
        "warnings.filterwarnings('ignore')\n",
        "\n",
        "import pandas as pd\n",
        "from sklearn.linear_model import LogisticRegression\n",
        "\n",
        "import matplotlib.pyplot as plt\n",
        "%matplotlib inline\n",
        "\n",
        "import seaborn as sns\n",
        "\n",
        "from sklearn.model_selection import train_test_split\n",
        "\n",
        "import numpy as np\n",
        "from scipy import stats\n",
        "\n",
        "from sklearn import metrics"
      ],
      "execution_count": 1,
      "outputs": []
    },
    {
      "cell_type": "code",
      "metadata": {
        "id": "j9GlYNcqtGL0"
      },
      "source": [
        "from google.colab import drive"
      ],
      "execution_count": 2,
      "outputs": []
    },
    {
      "cell_type": "code",
      "metadata": {
        "colab": {
          "base_uri": "https://localhost:8080/"
        },
        "id": "nONEzeJqtJ-w",
        "outputId": "d3cd3d75-11a7-42dd-b6ff-9d4ea788ff53"
      },
      "source": [
        "drive.mount('/content/drive/')"
      ],
      "execution_count": 3,
      "outputs": [
        {
          "output_type": "stream",
          "text": [
            "Drive already mounted at /content/drive/; to attempt to forcibly remount, call drive.mount(\"/content/drive/\", force_remount=True).\n"
          ],
          "name": "stdout"
        }
      ]
    },
    {
      "cell_type": "code",
      "metadata": {
        "id": "2APcUIoQtPIU"
      },
      "source": [
        "data_path = \"/content/drive/My Drive/DLCP/airbnb.csv\""
      ],
      "execution_count": 4,
      "outputs": []
    },
    {
      "cell_type": "code",
      "metadata": {
        "id": "6gSIPG8s66K3"
      },
      "source": [
        "pdata = pd.read_csv(data_path)"
      ],
      "execution_count": 5,
      "outputs": []
    },
    {
      "cell_type": "code",
      "metadata": {
        "colab": {
          "base_uri": "https://localhost:8080/"
        },
        "id": "m7nEeG-gtBMw",
        "outputId": "3d6e5dc6-5ed5-47ef-c289-0599bed16e20"
      },
      "source": [
        "#importing the data\n",
        "#pdata = pd.read_csv(\"airbnb.csv\")\n",
        "pdata.info()"
      ],
      "execution_count": 6,
      "outputs": [
        {
          "output_type": "stream",
          "text": [
            "<class 'pandas.core.frame.DataFrame'>\n",
            "RangeIndex: 74111 entries, 0 to 74110\n",
            "Data columns (total 26 columns):\n",
            " #   Column                  Non-Null Count  Dtype  \n",
            "---  ------                  --------------  -----  \n",
            " 0   id                      74111 non-null  int64  \n",
            " 1   log_price               74111 non-null  float64\n",
            " 2   property_type           74111 non-null  object \n",
            " 3   room_type               74111 non-null  object \n",
            " 4   accommodates            74111 non-null  int64  \n",
            " 5   bathrooms               73911 non-null  float64\n",
            " 6   bed_type                74111 non-null  object \n",
            " 7   cancellation_policy     74111 non-null  object \n",
            " 8   cleaning_fee            74111 non-null  bool   \n",
            " 9   city                    74111 non-null  object \n",
            " 10  description             74111 non-null  object \n",
            " 11  first_review            58247 non-null  object \n",
            " 12  host_has_profile_pic    73923 non-null  object \n",
            " 13  host_identity_verified  73923 non-null  object \n",
            " 14  host_response_rate      55812 non-null  object \n",
            " 15  host_since              73923 non-null  object \n",
            " 16  instant_bookable        74111 non-null  object \n",
            " 17  last_review             58284 non-null  object \n",
            " 18  latitude                74111 non-null  float64\n",
            " 19  longitude               74111 non-null  float64\n",
            " 20  neighbourhood           67239 non-null  object \n",
            " 21  number_of_reviews       74111 non-null  int64  \n",
            " 22  review_scores_rating    57389 non-null  float64\n",
            " 23  zipcode                 73145 non-null  object \n",
            " 24  bedrooms                74020 non-null  float64\n",
            " 25  beds                    73980 non-null  float64\n",
            "dtypes: bool(1), float64(7), int64(3), object(15)\n",
            "memory usage: 14.2+ MB\n"
          ],
          "name": "stdout"
        }
      ]
    },
    {
      "cell_type": "markdown",
      "metadata": {
        "id": "9UmfOcVQtBMx"
      },
      "source": [
        "### Business Understanding"
      ]
    },
    {
      "cell_type": "code",
      "metadata": {
        "id": "qr9f9CXftBMx"
      },
      "source": [
        "pdata = pdata.dropna()"
      ],
      "execution_count": 7,
      "outputs": []
    },
    {
      "cell_type": "code",
      "metadata": {
        "colab": {
          "base_uri": "https://localhost:8080/"
        },
        "id": "ggpi4uHVncaL",
        "outputId": "7e3cb8fb-00a0-45fa-f52a-515947263311"
      },
      "source": [
        "pdata.skew()"
      ],
      "execution_count": 8,
      "outputs": [
        {
          "output_type": "execute_result",
          "data": {
            "text/plain": [
              "id                     -0.255823\n",
              "log_price               0.377120\n",
              "accommodates            2.119839\n",
              "bathrooms               3.705744\n",
              "cleaning_fee           -1.701312\n",
              "latitude               -0.649299\n",
              "longitude              -0.502707\n",
              "number_of_reviews       3.028550\n",
              "review_scores_rating   -3.325985\n",
              "bedrooms                1.874469\n",
              "beds                    3.138750\n",
              "dtype: float64"
            ]
          },
          "metadata": {
            "tags": []
          },
          "execution_count": 8
        }
      ]
    },
    {
      "cell_type": "code",
      "metadata": {
        "id": "0DyQP_DXQEYC"
      },
      "source": [
        "z = pdata[pdata['number_of_reviews']> 100]\n",
        "for i in list (z[z['number_of_reviews']> 100].index):\n",
        "    pdata.loc[i,'number_of_reviews'] = 100"
      ],
      "execution_count": 9,
      "outputs": []
    },
    {
      "cell_type": "code",
      "metadata": {
        "id": "6YwlnlAWQYna"
      },
      "source": [
        "y = pdata[pdata['review_scores_rating']< 80]\n",
        "for i in list (y[y['review_scores_rating']< 80].index):\n",
        "    pdata.loc[i,'review_scores_rating'] = 80"
      ],
      "execution_count": 10,
      "outputs": []
    },
    {
      "cell_type": "code",
      "metadata": {
        "id": "gPzCuBe3RT30"
      },
      "source": [
        "x = pdata[pdata['beds']> 5]\n",
        "for i in list (x[x['beds']> 5].index):\n",
        "    pdata.loc[i,'beds'] = 5"
      ],
      "execution_count": 11,
      "outputs": []
    },
    {
      "cell_type": "code",
      "metadata": {
        "id": "od-fD77wtBMx"
      },
      "source": [
        "value_list = [\"Apartment\"]\n",
        "boolean_series = ~pdata.property_type.isin(value_list)\n",
        "filtered_df = pdata[boolean_series]\n",
        "\n",
        "filtered_df.head(100)\n",
        "\n",
        "for i in list (filtered_df.index):\n",
        "    pdata.loc[i,'property_type'] = \"other\"\n",
        "\n",
        "pdata[\"region\"] = pd.cut(pdata.longitude,[-200,-100,0],2,labels=[\"West\",\"East\"])"
      ],
      "execution_count": 12,
      "outputs": []
    },
    {
      "cell_type": "code",
      "metadata": {
        "colab": {
          "base_uri": "https://localhost:8080/",
          "height": 535
        },
        "id": "4BA1AxqKtBMy",
        "outputId": "9ba3fe81-796f-470d-d290-edf72a342e74"
      },
      "source": [
        "pdata.head()"
      ],
      "execution_count": 13,
      "outputs": [
        {
          "output_type": "execute_result",
          "data": {
            "text/html": [
              "<div>\n",
              "<style scoped>\n",
              "    .dataframe tbody tr th:only-of-type {\n",
              "        vertical-align: middle;\n",
              "    }\n",
              "\n",
              "    .dataframe tbody tr th {\n",
              "        vertical-align: top;\n",
              "    }\n",
              "\n",
              "    .dataframe thead th {\n",
              "        text-align: right;\n",
              "    }\n",
              "</style>\n",
              "<table border=\"1\" class=\"dataframe\">\n",
              "  <thead>\n",
              "    <tr style=\"text-align: right;\">\n",
              "      <th></th>\n",
              "      <th>id</th>\n",
              "      <th>log_price</th>\n",
              "      <th>property_type</th>\n",
              "      <th>room_type</th>\n",
              "      <th>accommodates</th>\n",
              "      <th>bathrooms</th>\n",
              "      <th>bed_type</th>\n",
              "      <th>cancellation_policy</th>\n",
              "      <th>cleaning_fee</th>\n",
              "      <th>city</th>\n",
              "      <th>description</th>\n",
              "      <th>first_review</th>\n",
              "      <th>host_has_profile_pic</th>\n",
              "      <th>host_identity_verified</th>\n",
              "      <th>host_response_rate</th>\n",
              "      <th>host_since</th>\n",
              "      <th>instant_bookable</th>\n",
              "      <th>last_review</th>\n",
              "      <th>latitude</th>\n",
              "      <th>longitude</th>\n",
              "      <th>neighbourhood</th>\n",
              "      <th>number_of_reviews</th>\n",
              "      <th>review_scores_rating</th>\n",
              "      <th>zipcode</th>\n",
              "      <th>bedrooms</th>\n",
              "      <th>beds</th>\n",
              "      <th>region</th>\n",
              "    </tr>\n",
              "  </thead>\n",
              "  <tbody>\n",
              "    <tr>\n",
              "      <th>1</th>\n",
              "      <td>6304928</td>\n",
              "      <td>5.129899</td>\n",
              "      <td>Apartment</td>\n",
              "      <td>Entire home/apt</td>\n",
              "      <td>7</td>\n",
              "      <td>1.0</td>\n",
              "      <td>Real Bed</td>\n",
              "      <td>strict</td>\n",
              "      <td>True</td>\n",
              "      <td>NYC</td>\n",
              "      <td>Enjoy travelling during your stay in Manhattan...</td>\n",
              "      <td>8/5/2017</td>\n",
              "      <td>t</td>\n",
              "      <td>f</td>\n",
              "      <td>100%</td>\n",
              "      <td>6/19/2017</td>\n",
              "      <td>t</td>\n",
              "      <td>9/23/2017</td>\n",
              "      <td>40.766115</td>\n",
              "      <td>-73.989040</td>\n",
              "      <td>Hell's Kitchen</td>\n",
              "      <td>6</td>\n",
              "      <td>93.0</td>\n",
              "      <td>10019</td>\n",
              "      <td>3.0</td>\n",
              "      <td>3.0</td>\n",
              "      <td>East</td>\n",
              "    </tr>\n",
              "    <tr>\n",
              "      <th>2</th>\n",
              "      <td>7919400</td>\n",
              "      <td>4.976734</td>\n",
              "      <td>Apartment</td>\n",
              "      <td>Entire home/apt</td>\n",
              "      <td>5</td>\n",
              "      <td>1.0</td>\n",
              "      <td>Real Bed</td>\n",
              "      <td>moderate</td>\n",
              "      <td>True</td>\n",
              "      <td>NYC</td>\n",
              "      <td>The Oasis comes complete with a full backyard ...</td>\n",
              "      <td>4/30/2017</td>\n",
              "      <td>t</td>\n",
              "      <td>t</td>\n",
              "      <td>100%</td>\n",
              "      <td>10/25/2016</td>\n",
              "      <td>t</td>\n",
              "      <td>9/14/2017</td>\n",
              "      <td>40.808110</td>\n",
              "      <td>-73.943756</td>\n",
              "      <td>Harlem</td>\n",
              "      <td>10</td>\n",
              "      <td>92.0</td>\n",
              "      <td>10027</td>\n",
              "      <td>1.0</td>\n",
              "      <td>3.0</td>\n",
              "      <td>East</td>\n",
              "    </tr>\n",
              "    <tr>\n",
              "      <th>4</th>\n",
              "      <td>3808709</td>\n",
              "      <td>4.744932</td>\n",
              "      <td>Apartment</td>\n",
              "      <td>Entire home/apt</td>\n",
              "      <td>2</td>\n",
              "      <td>1.0</td>\n",
              "      <td>Real Bed</td>\n",
              "      <td>moderate</td>\n",
              "      <td>True</td>\n",
              "      <td>DC</td>\n",
              "      <td>Cool, cozy, and comfortable studio located in ...</td>\n",
              "      <td>5/12/2015</td>\n",
              "      <td>t</td>\n",
              "      <td>t</td>\n",
              "      <td>100%</td>\n",
              "      <td>3/1/2015</td>\n",
              "      <td>t</td>\n",
              "      <td>1/22/2017</td>\n",
              "      <td>38.925627</td>\n",
              "      <td>-77.034596</td>\n",
              "      <td>Columbia Heights</td>\n",
              "      <td>4</td>\n",
              "      <td>80.0</td>\n",
              "      <td>20009</td>\n",
              "      <td>0.0</td>\n",
              "      <td>1.0</td>\n",
              "      <td>East</td>\n",
              "    </tr>\n",
              "    <tr>\n",
              "      <th>5</th>\n",
              "      <td>12422935</td>\n",
              "      <td>4.442651</td>\n",
              "      <td>Apartment</td>\n",
              "      <td>Private room</td>\n",
              "      <td>2</td>\n",
              "      <td>1.0</td>\n",
              "      <td>Real Bed</td>\n",
              "      <td>strict</td>\n",
              "      <td>True</td>\n",
              "      <td>SF</td>\n",
              "      <td>Beautiful private room overlooking scenic view...</td>\n",
              "      <td>8/27/2017</td>\n",
              "      <td>t</td>\n",
              "      <td>t</td>\n",
              "      <td>100%</td>\n",
              "      <td>6/7/2017</td>\n",
              "      <td>t</td>\n",
              "      <td>9/5/2017</td>\n",
              "      <td>37.753164</td>\n",
              "      <td>-122.429526</td>\n",
              "      <td>Noe Valley</td>\n",
              "      <td>3</td>\n",
              "      <td>100.0</td>\n",
              "      <td>94131</td>\n",
              "      <td>1.0</td>\n",
              "      <td>1.0</td>\n",
              "      <td>West</td>\n",
              "    </tr>\n",
              "    <tr>\n",
              "      <th>7</th>\n",
              "      <td>13971273</td>\n",
              "      <td>4.787492</td>\n",
              "      <td>other</td>\n",
              "      <td>Entire home/apt</td>\n",
              "      <td>2</td>\n",
              "      <td>1.0</td>\n",
              "      <td>Real Bed</td>\n",
              "      <td>moderate</td>\n",
              "      <td>True</td>\n",
              "      <td>LA</td>\n",
              "      <td>Arguably the best location (and safest) in dow...</td>\n",
              "      <td>12/16/2016</td>\n",
              "      <td>t</td>\n",
              "      <td>t</td>\n",
              "      <td>100%</td>\n",
              "      <td>5/18/2013</td>\n",
              "      <td>f</td>\n",
              "      <td>4/12/2017</td>\n",
              "      <td>34.046737</td>\n",
              "      <td>-118.260439</td>\n",
              "      <td>Downtown</td>\n",
              "      <td>9</td>\n",
              "      <td>93.0</td>\n",
              "      <td>90015</td>\n",
              "      <td>1.0</td>\n",
              "      <td>1.0</td>\n",
              "      <td>West</td>\n",
              "    </tr>\n",
              "  </tbody>\n",
              "</table>\n",
              "</div>"
            ],
            "text/plain": [
              "         id  log_price property_type  ... bedrooms  beds  region\n",
              "1   6304928   5.129899     Apartment  ...      3.0   3.0    East\n",
              "2   7919400   4.976734     Apartment  ...      1.0   3.0    East\n",
              "4   3808709   4.744932     Apartment  ...      0.0   1.0    East\n",
              "5  12422935   4.442651     Apartment  ...      1.0   1.0    West\n",
              "7  13971273   4.787492         other  ...      1.0   1.0    West\n",
              "\n",
              "[5 rows x 27 columns]"
            ]
          },
          "metadata": {
            "tags": []
          },
          "execution_count": 13
        }
      ]
    },
    {
      "cell_type": "code",
      "metadata": {
        "colab": {
          "base_uri": "https://localhost:8080/",
          "height": 535
        },
        "id": "YjFDyE46tBMz",
        "outputId": "3dfd934d-19b2-454b-d4dc-11d05bb907a6"
      },
      "source": [
        "replaceStruct = {\n",
        "                \"cleaning_fee\":     {True: 1, False: 0},\n",
        "                \"instant_bookable\":     {\"t\": 1, \"f\": 0},\n",
        "                \"host_identity_verified\":     {\"t\": 1, \"f\": 0},\n",
        "                \"property_type\":     {\"Apartment\": 1, \"other\": 2},\n",
        "                    }\n",
        "\n",
        "pdata=pdata.replace(replaceStruct)\n",
        "pdata.head()"
      ],
      "execution_count": 14,
      "outputs": [
        {
          "output_type": "execute_result",
          "data": {
            "text/html": [
              "<div>\n",
              "<style scoped>\n",
              "    .dataframe tbody tr th:only-of-type {\n",
              "        vertical-align: middle;\n",
              "    }\n",
              "\n",
              "    .dataframe tbody tr th {\n",
              "        vertical-align: top;\n",
              "    }\n",
              "\n",
              "    .dataframe thead th {\n",
              "        text-align: right;\n",
              "    }\n",
              "</style>\n",
              "<table border=\"1\" class=\"dataframe\">\n",
              "  <thead>\n",
              "    <tr style=\"text-align: right;\">\n",
              "      <th></th>\n",
              "      <th>id</th>\n",
              "      <th>log_price</th>\n",
              "      <th>property_type</th>\n",
              "      <th>room_type</th>\n",
              "      <th>accommodates</th>\n",
              "      <th>bathrooms</th>\n",
              "      <th>bed_type</th>\n",
              "      <th>cancellation_policy</th>\n",
              "      <th>cleaning_fee</th>\n",
              "      <th>city</th>\n",
              "      <th>description</th>\n",
              "      <th>first_review</th>\n",
              "      <th>host_has_profile_pic</th>\n",
              "      <th>host_identity_verified</th>\n",
              "      <th>host_response_rate</th>\n",
              "      <th>host_since</th>\n",
              "      <th>instant_bookable</th>\n",
              "      <th>last_review</th>\n",
              "      <th>latitude</th>\n",
              "      <th>longitude</th>\n",
              "      <th>neighbourhood</th>\n",
              "      <th>number_of_reviews</th>\n",
              "      <th>review_scores_rating</th>\n",
              "      <th>zipcode</th>\n",
              "      <th>bedrooms</th>\n",
              "      <th>beds</th>\n",
              "      <th>region</th>\n",
              "    </tr>\n",
              "  </thead>\n",
              "  <tbody>\n",
              "    <tr>\n",
              "      <th>1</th>\n",
              "      <td>6304928</td>\n",
              "      <td>5.129899</td>\n",
              "      <td>1</td>\n",
              "      <td>Entire home/apt</td>\n",
              "      <td>7</td>\n",
              "      <td>1.0</td>\n",
              "      <td>Real Bed</td>\n",
              "      <td>strict</td>\n",
              "      <td>1</td>\n",
              "      <td>NYC</td>\n",
              "      <td>Enjoy travelling during your stay in Manhattan...</td>\n",
              "      <td>8/5/2017</td>\n",
              "      <td>t</td>\n",
              "      <td>0</td>\n",
              "      <td>100%</td>\n",
              "      <td>6/19/2017</td>\n",
              "      <td>1</td>\n",
              "      <td>9/23/2017</td>\n",
              "      <td>40.766115</td>\n",
              "      <td>-73.989040</td>\n",
              "      <td>Hell's Kitchen</td>\n",
              "      <td>6</td>\n",
              "      <td>93.0</td>\n",
              "      <td>10019</td>\n",
              "      <td>3.0</td>\n",
              "      <td>3.0</td>\n",
              "      <td>East</td>\n",
              "    </tr>\n",
              "    <tr>\n",
              "      <th>2</th>\n",
              "      <td>7919400</td>\n",
              "      <td>4.976734</td>\n",
              "      <td>1</td>\n",
              "      <td>Entire home/apt</td>\n",
              "      <td>5</td>\n",
              "      <td>1.0</td>\n",
              "      <td>Real Bed</td>\n",
              "      <td>moderate</td>\n",
              "      <td>1</td>\n",
              "      <td>NYC</td>\n",
              "      <td>The Oasis comes complete with a full backyard ...</td>\n",
              "      <td>4/30/2017</td>\n",
              "      <td>t</td>\n",
              "      <td>1</td>\n",
              "      <td>100%</td>\n",
              "      <td>10/25/2016</td>\n",
              "      <td>1</td>\n",
              "      <td>9/14/2017</td>\n",
              "      <td>40.808110</td>\n",
              "      <td>-73.943756</td>\n",
              "      <td>Harlem</td>\n",
              "      <td>10</td>\n",
              "      <td>92.0</td>\n",
              "      <td>10027</td>\n",
              "      <td>1.0</td>\n",
              "      <td>3.0</td>\n",
              "      <td>East</td>\n",
              "    </tr>\n",
              "    <tr>\n",
              "      <th>4</th>\n",
              "      <td>3808709</td>\n",
              "      <td>4.744932</td>\n",
              "      <td>1</td>\n",
              "      <td>Entire home/apt</td>\n",
              "      <td>2</td>\n",
              "      <td>1.0</td>\n",
              "      <td>Real Bed</td>\n",
              "      <td>moderate</td>\n",
              "      <td>1</td>\n",
              "      <td>DC</td>\n",
              "      <td>Cool, cozy, and comfortable studio located in ...</td>\n",
              "      <td>5/12/2015</td>\n",
              "      <td>t</td>\n",
              "      <td>1</td>\n",
              "      <td>100%</td>\n",
              "      <td>3/1/2015</td>\n",
              "      <td>1</td>\n",
              "      <td>1/22/2017</td>\n",
              "      <td>38.925627</td>\n",
              "      <td>-77.034596</td>\n",
              "      <td>Columbia Heights</td>\n",
              "      <td>4</td>\n",
              "      <td>80.0</td>\n",
              "      <td>20009</td>\n",
              "      <td>0.0</td>\n",
              "      <td>1.0</td>\n",
              "      <td>East</td>\n",
              "    </tr>\n",
              "    <tr>\n",
              "      <th>5</th>\n",
              "      <td>12422935</td>\n",
              "      <td>4.442651</td>\n",
              "      <td>1</td>\n",
              "      <td>Private room</td>\n",
              "      <td>2</td>\n",
              "      <td>1.0</td>\n",
              "      <td>Real Bed</td>\n",
              "      <td>strict</td>\n",
              "      <td>1</td>\n",
              "      <td>SF</td>\n",
              "      <td>Beautiful private room overlooking scenic view...</td>\n",
              "      <td>8/27/2017</td>\n",
              "      <td>t</td>\n",
              "      <td>1</td>\n",
              "      <td>100%</td>\n",
              "      <td>6/7/2017</td>\n",
              "      <td>1</td>\n",
              "      <td>9/5/2017</td>\n",
              "      <td>37.753164</td>\n",
              "      <td>-122.429526</td>\n",
              "      <td>Noe Valley</td>\n",
              "      <td>3</td>\n",
              "      <td>100.0</td>\n",
              "      <td>94131</td>\n",
              "      <td>1.0</td>\n",
              "      <td>1.0</td>\n",
              "      <td>West</td>\n",
              "    </tr>\n",
              "    <tr>\n",
              "      <th>7</th>\n",
              "      <td>13971273</td>\n",
              "      <td>4.787492</td>\n",
              "      <td>2</td>\n",
              "      <td>Entire home/apt</td>\n",
              "      <td>2</td>\n",
              "      <td>1.0</td>\n",
              "      <td>Real Bed</td>\n",
              "      <td>moderate</td>\n",
              "      <td>1</td>\n",
              "      <td>LA</td>\n",
              "      <td>Arguably the best location (and safest) in dow...</td>\n",
              "      <td>12/16/2016</td>\n",
              "      <td>t</td>\n",
              "      <td>1</td>\n",
              "      <td>100%</td>\n",
              "      <td>5/18/2013</td>\n",
              "      <td>0</td>\n",
              "      <td>4/12/2017</td>\n",
              "      <td>34.046737</td>\n",
              "      <td>-118.260439</td>\n",
              "      <td>Downtown</td>\n",
              "      <td>9</td>\n",
              "      <td>93.0</td>\n",
              "      <td>90015</td>\n",
              "      <td>1.0</td>\n",
              "      <td>1.0</td>\n",
              "      <td>West</td>\n",
              "    </tr>\n",
              "  </tbody>\n",
              "</table>\n",
              "</div>"
            ],
            "text/plain": [
              "         id  log_price  property_type  ... bedrooms  beds  region\n",
              "1   6304928   5.129899              1  ...      3.0   3.0    East\n",
              "2   7919400   4.976734              1  ...      1.0   3.0    East\n",
              "4   3808709   4.744932              1  ...      0.0   1.0    East\n",
              "5  12422935   4.442651              1  ...      1.0   1.0    West\n",
              "7  13971273   4.787492              2  ...      1.0   1.0    West\n",
              "\n",
              "[5 rows x 27 columns]"
            ]
          },
          "metadata": {
            "tags": []
          },
          "execution_count": 14
        }
      ]
    },
    {
      "cell_type": "code",
      "metadata": {
        "colab": {
          "base_uri": "https://localhost:8080/"
        },
        "id": "WJvXCpeXtBMz",
        "outputId": "aef1b16c-c43c-40d7-ee9b-02c76e170665"
      },
      "source": [
        "pdata.nunique()"
      ],
      "execution_count": 15,
      "outputs": [
        {
          "output_type": "execute_result",
          "data": {
            "text/plain": [
              "id                        42775\n",
              "log_price                   643\n",
              "property_type                 2\n",
              "room_type                     3\n",
              "accommodates                 16\n",
              "bathrooms                    17\n",
              "bed_type                      5\n",
              "cancellation_policy           5\n",
              "cleaning_fee                  2\n",
              "city                          6\n",
              "description               42424\n",
              "first_review               2489\n",
              "host_has_profile_pic          2\n",
              "host_identity_verified        2\n",
              "host_response_rate           77\n",
              "host_since                 3000\n",
              "instant_bookable              2\n",
              "last_review                1100\n",
              "latitude                  42758\n",
              "longitude                 42734\n",
              "neighbourhood               590\n",
              "number_of_reviews           100\n",
              "review_scores_rating         21\n",
              "zipcode                     577\n",
              "bedrooms                     11\n",
              "beds                          6\n",
              "region                        2\n",
              "dtype: int64"
            ]
          },
          "metadata": {
            "tags": []
          },
          "execution_count": 15
        }
      ]
    },
    {
      "cell_type": "code",
      "metadata": {
        "colab": {
          "base_uri": "https://localhost:8080/",
          "height": 398
        },
        "id": "_r7bp7i1tBM0",
        "outputId": "28f79835-661c-49a6-d4ae-514b2e0ad7c5"
      },
      "source": [
        "oneHotCols=[\"room_type\",\"bed_type\",\"city\",\"cancellation_policy\",\"region\"]\n",
        "pdata.drop(['description','host_response_rate','first_review','host_since','last_review','zipcode','id','latitude','longitude','neighbourhood','cleaning_fee','host_has_profile_pic'], axis=1, inplace=True)\n",
        "pdata=pd.get_dummies(pdata, columns=oneHotCols)\n",
        "pdata.head(10)"
      ],
      "execution_count": 16,
      "outputs": [
        {
          "output_type": "execute_result",
          "data": {
            "text/html": [
              "<div>\n",
              "<style scoped>\n",
              "    .dataframe tbody tr th:only-of-type {\n",
              "        vertical-align: middle;\n",
              "    }\n",
              "\n",
              "    .dataframe tbody tr th {\n",
              "        vertical-align: top;\n",
              "    }\n",
              "\n",
              "    .dataframe thead th {\n",
              "        text-align: right;\n",
              "    }\n",
              "</style>\n",
              "<table border=\"1\" class=\"dataframe\">\n",
              "  <thead>\n",
              "    <tr style=\"text-align: right;\">\n",
              "      <th></th>\n",
              "      <th>log_price</th>\n",
              "      <th>property_type</th>\n",
              "      <th>accommodates</th>\n",
              "      <th>bathrooms</th>\n",
              "      <th>host_identity_verified</th>\n",
              "      <th>instant_bookable</th>\n",
              "      <th>number_of_reviews</th>\n",
              "      <th>review_scores_rating</th>\n",
              "      <th>bedrooms</th>\n",
              "      <th>beds</th>\n",
              "      <th>room_type_Entire home/apt</th>\n",
              "      <th>room_type_Private room</th>\n",
              "      <th>room_type_Shared room</th>\n",
              "      <th>bed_type_Airbed</th>\n",
              "      <th>bed_type_Couch</th>\n",
              "      <th>bed_type_Futon</th>\n",
              "      <th>bed_type_Pull-out Sofa</th>\n",
              "      <th>bed_type_Real Bed</th>\n",
              "      <th>city_Boston</th>\n",
              "      <th>city_Chicago</th>\n",
              "      <th>city_DC</th>\n",
              "      <th>city_LA</th>\n",
              "      <th>city_NYC</th>\n",
              "      <th>city_SF</th>\n",
              "      <th>cancellation_policy_flexible</th>\n",
              "      <th>cancellation_policy_moderate</th>\n",
              "      <th>cancellation_policy_strict</th>\n",
              "      <th>cancellation_policy_super_strict_30</th>\n",
              "      <th>cancellation_policy_super_strict_60</th>\n",
              "      <th>region_West</th>\n",
              "      <th>region_East</th>\n",
              "    </tr>\n",
              "  </thead>\n",
              "  <tbody>\n",
              "    <tr>\n",
              "      <th>1</th>\n",
              "      <td>5.129899</td>\n",
              "      <td>1</td>\n",
              "      <td>7</td>\n",
              "      <td>1.0</td>\n",
              "      <td>0</td>\n",
              "      <td>1</td>\n",
              "      <td>6</td>\n",
              "      <td>93.0</td>\n",
              "      <td>3.0</td>\n",
              "      <td>3.0</td>\n",
              "      <td>1</td>\n",
              "      <td>0</td>\n",
              "      <td>0</td>\n",
              "      <td>0</td>\n",
              "      <td>0</td>\n",
              "      <td>0</td>\n",
              "      <td>0</td>\n",
              "      <td>1</td>\n",
              "      <td>0</td>\n",
              "      <td>0</td>\n",
              "      <td>0</td>\n",
              "      <td>0</td>\n",
              "      <td>1</td>\n",
              "      <td>0</td>\n",
              "      <td>0</td>\n",
              "      <td>0</td>\n",
              "      <td>1</td>\n",
              "      <td>0</td>\n",
              "      <td>0</td>\n",
              "      <td>0</td>\n",
              "      <td>1</td>\n",
              "    </tr>\n",
              "    <tr>\n",
              "      <th>2</th>\n",
              "      <td>4.976734</td>\n",
              "      <td>1</td>\n",
              "      <td>5</td>\n",
              "      <td>1.0</td>\n",
              "      <td>1</td>\n",
              "      <td>1</td>\n",
              "      <td>10</td>\n",
              "      <td>92.0</td>\n",
              "      <td>1.0</td>\n",
              "      <td>3.0</td>\n",
              "      <td>1</td>\n",
              "      <td>0</td>\n",
              "      <td>0</td>\n",
              "      <td>0</td>\n",
              "      <td>0</td>\n",
              "      <td>0</td>\n",
              "      <td>0</td>\n",
              "      <td>1</td>\n",
              "      <td>0</td>\n",
              "      <td>0</td>\n",
              "      <td>0</td>\n",
              "      <td>0</td>\n",
              "      <td>1</td>\n",
              "      <td>0</td>\n",
              "      <td>0</td>\n",
              "      <td>1</td>\n",
              "      <td>0</td>\n",
              "      <td>0</td>\n",
              "      <td>0</td>\n",
              "      <td>0</td>\n",
              "      <td>1</td>\n",
              "    </tr>\n",
              "    <tr>\n",
              "      <th>4</th>\n",
              "      <td>4.744932</td>\n",
              "      <td>1</td>\n",
              "      <td>2</td>\n",
              "      <td>1.0</td>\n",
              "      <td>1</td>\n",
              "      <td>1</td>\n",
              "      <td>4</td>\n",
              "      <td>80.0</td>\n",
              "      <td>0.0</td>\n",
              "      <td>1.0</td>\n",
              "      <td>1</td>\n",
              "      <td>0</td>\n",
              "      <td>0</td>\n",
              "      <td>0</td>\n",
              "      <td>0</td>\n",
              "      <td>0</td>\n",
              "      <td>0</td>\n",
              "      <td>1</td>\n",
              "      <td>0</td>\n",
              "      <td>0</td>\n",
              "      <td>1</td>\n",
              "      <td>0</td>\n",
              "      <td>0</td>\n",
              "      <td>0</td>\n",
              "      <td>0</td>\n",
              "      <td>1</td>\n",
              "      <td>0</td>\n",
              "      <td>0</td>\n",
              "      <td>0</td>\n",
              "      <td>0</td>\n",
              "      <td>1</td>\n",
              "    </tr>\n",
              "    <tr>\n",
              "      <th>5</th>\n",
              "      <td>4.442651</td>\n",
              "      <td>1</td>\n",
              "      <td>2</td>\n",
              "      <td>1.0</td>\n",
              "      <td>1</td>\n",
              "      <td>1</td>\n",
              "      <td>3</td>\n",
              "      <td>100.0</td>\n",
              "      <td>1.0</td>\n",
              "      <td>1.0</td>\n",
              "      <td>0</td>\n",
              "      <td>1</td>\n",
              "      <td>0</td>\n",
              "      <td>0</td>\n",
              "      <td>0</td>\n",
              "      <td>0</td>\n",
              "      <td>0</td>\n",
              "      <td>1</td>\n",
              "      <td>0</td>\n",
              "      <td>0</td>\n",
              "      <td>0</td>\n",
              "      <td>0</td>\n",
              "      <td>0</td>\n",
              "      <td>1</td>\n",
              "      <td>0</td>\n",
              "      <td>0</td>\n",
              "      <td>1</td>\n",
              "      <td>0</td>\n",
              "      <td>0</td>\n",
              "      <td>1</td>\n",
              "      <td>0</td>\n",
              "    </tr>\n",
              "    <tr>\n",
              "      <th>7</th>\n",
              "      <td>4.787492</td>\n",
              "      <td>2</td>\n",
              "      <td>2</td>\n",
              "      <td>1.0</td>\n",
              "      <td>1</td>\n",
              "      <td>0</td>\n",
              "      <td>9</td>\n",
              "      <td>93.0</td>\n",
              "      <td>1.0</td>\n",
              "      <td>1.0</td>\n",
              "      <td>1</td>\n",
              "      <td>0</td>\n",
              "      <td>0</td>\n",
              "      <td>0</td>\n",
              "      <td>0</td>\n",
              "      <td>0</td>\n",
              "      <td>0</td>\n",
              "      <td>1</td>\n",
              "      <td>0</td>\n",
              "      <td>0</td>\n",
              "      <td>0</td>\n",
              "      <td>1</td>\n",
              "      <td>0</td>\n",
              "      <td>0</td>\n",
              "      <td>0</td>\n",
              "      <td>1</td>\n",
              "      <td>0</td>\n",
              "      <td>0</td>\n",
              "      <td>0</td>\n",
              "      <td>1</td>\n",
              "      <td>0</td>\n",
              "    </tr>\n",
              "    <tr>\n",
              "      <th>8</th>\n",
              "      <td>4.787492</td>\n",
              "      <td>2</td>\n",
              "      <td>2</td>\n",
              "      <td>1.0</td>\n",
              "      <td>0</td>\n",
              "      <td>0</td>\n",
              "      <td>100</td>\n",
              "      <td>99.0</td>\n",
              "      <td>1.0</td>\n",
              "      <td>1.0</td>\n",
              "      <td>0</td>\n",
              "      <td>1</td>\n",
              "      <td>0</td>\n",
              "      <td>0</td>\n",
              "      <td>0</td>\n",
              "      <td>0</td>\n",
              "      <td>0</td>\n",
              "      <td>1</td>\n",
              "      <td>0</td>\n",
              "      <td>0</td>\n",
              "      <td>0</td>\n",
              "      <td>0</td>\n",
              "      <td>0</td>\n",
              "      <td>1</td>\n",
              "      <td>0</td>\n",
              "      <td>1</td>\n",
              "      <td>0</td>\n",
              "      <td>0</td>\n",
              "      <td>0</td>\n",
              "      <td>1</td>\n",
              "      <td>0</td>\n",
              "    </tr>\n",
              "    <tr>\n",
              "      <th>10</th>\n",
              "      <td>4.605170</td>\n",
              "      <td>1</td>\n",
              "      <td>2</td>\n",
              "      <td>1.0</td>\n",
              "      <td>1</td>\n",
              "      <td>0</td>\n",
              "      <td>82</td>\n",
              "      <td>93.0</td>\n",
              "      <td>1.0</td>\n",
              "      <td>1.0</td>\n",
              "      <td>0</td>\n",
              "      <td>1</td>\n",
              "      <td>0</td>\n",
              "      <td>0</td>\n",
              "      <td>0</td>\n",
              "      <td>0</td>\n",
              "      <td>0</td>\n",
              "      <td>1</td>\n",
              "      <td>0</td>\n",
              "      <td>0</td>\n",
              "      <td>0</td>\n",
              "      <td>0</td>\n",
              "      <td>1</td>\n",
              "      <td>0</td>\n",
              "      <td>0</td>\n",
              "      <td>0</td>\n",
              "      <td>1</td>\n",
              "      <td>0</td>\n",
              "      <td>0</td>\n",
              "      <td>0</td>\n",
              "      <td>1</td>\n",
              "    </tr>\n",
              "    <tr>\n",
              "      <th>11</th>\n",
              "      <td>5.010635</td>\n",
              "      <td>2</td>\n",
              "      <td>4</td>\n",
              "      <td>1.5</td>\n",
              "      <td>1</td>\n",
              "      <td>0</td>\n",
              "      <td>29</td>\n",
              "      <td>97.0</td>\n",
              "      <td>2.0</td>\n",
              "      <td>2.0</td>\n",
              "      <td>1</td>\n",
              "      <td>0</td>\n",
              "      <td>0</td>\n",
              "      <td>0</td>\n",
              "      <td>0</td>\n",
              "      <td>0</td>\n",
              "      <td>0</td>\n",
              "      <td>1</td>\n",
              "      <td>0</td>\n",
              "      <td>0</td>\n",
              "      <td>0</td>\n",
              "      <td>1</td>\n",
              "      <td>0</td>\n",
              "      <td>0</td>\n",
              "      <td>0</td>\n",
              "      <td>0</td>\n",
              "      <td>1</td>\n",
              "      <td>0</td>\n",
              "      <td>0</td>\n",
              "      <td>1</td>\n",
              "      <td>0</td>\n",
              "    </tr>\n",
              "    <tr>\n",
              "      <th>13</th>\n",
              "      <td>5.298317</td>\n",
              "      <td>1</td>\n",
              "      <td>6</td>\n",
              "      <td>1.5</td>\n",
              "      <td>1</td>\n",
              "      <td>1</td>\n",
              "      <td>13</td>\n",
              "      <td>89.0</td>\n",
              "      <td>2.0</td>\n",
              "      <td>3.0</td>\n",
              "      <td>1</td>\n",
              "      <td>0</td>\n",
              "      <td>0</td>\n",
              "      <td>0</td>\n",
              "      <td>0</td>\n",
              "      <td>0</td>\n",
              "      <td>0</td>\n",
              "      <td>1</td>\n",
              "      <td>0</td>\n",
              "      <td>0</td>\n",
              "      <td>1</td>\n",
              "      <td>0</td>\n",
              "      <td>0</td>\n",
              "      <td>0</td>\n",
              "      <td>0</td>\n",
              "      <td>0</td>\n",
              "      <td>1</td>\n",
              "      <td>0</td>\n",
              "      <td>0</td>\n",
              "      <td>0</td>\n",
              "      <td>1</td>\n",
              "    </tr>\n",
              "    <tr>\n",
              "      <th>17</th>\n",
              "      <td>4.595120</td>\n",
              "      <td>2</td>\n",
              "      <td>2</td>\n",
              "      <td>2.0</td>\n",
              "      <td>1</td>\n",
              "      <td>0</td>\n",
              "      <td>12</td>\n",
              "      <td>88.0</td>\n",
              "      <td>1.0</td>\n",
              "      <td>1.0</td>\n",
              "      <td>0</td>\n",
              "      <td>1</td>\n",
              "      <td>0</td>\n",
              "      <td>0</td>\n",
              "      <td>0</td>\n",
              "      <td>0</td>\n",
              "      <td>0</td>\n",
              "      <td>1</td>\n",
              "      <td>1</td>\n",
              "      <td>0</td>\n",
              "      <td>0</td>\n",
              "      <td>0</td>\n",
              "      <td>0</td>\n",
              "      <td>0</td>\n",
              "      <td>0</td>\n",
              "      <td>0</td>\n",
              "      <td>1</td>\n",
              "      <td>0</td>\n",
              "      <td>0</td>\n",
              "      <td>0</td>\n",
              "      <td>1</td>\n",
              "    </tr>\n",
              "  </tbody>\n",
              "</table>\n",
              "</div>"
            ],
            "text/plain": [
              "    log_price  property_type  ...  region_West  region_East\n",
              "1    5.129899              1  ...            0            1\n",
              "2    4.976734              1  ...            0            1\n",
              "4    4.744932              1  ...            0            1\n",
              "5    4.442651              1  ...            1            0\n",
              "7    4.787492              2  ...            1            0\n",
              "8    4.787492              2  ...            1            0\n",
              "10   4.605170              1  ...            0            1\n",
              "11   5.010635              2  ...            1            0\n",
              "13   5.298317              1  ...            0            1\n",
              "17   4.595120              2  ...            0            1\n",
              "\n",
              "[10 rows x 31 columns]"
            ]
          },
          "metadata": {
            "tags": []
          },
          "execution_count": 16
        }
      ]
    },
    {
      "cell_type": "code",
      "metadata": {
        "colab": {
          "base_uri": "https://localhost:8080/",
          "height": 242
        },
        "id": "frpRdqONtBM1",
        "outputId": "8f443282-dd63-4896-a223-8cd8f6725145"
      },
      "source": [
        "\n",
        "X = pdata.drop('property_type',axis=1)     \n",
        "Y = pdata['property_type']\n",
        "\n",
        "x_train, x_test, y_train, y_test = train_test_split(X, Y, test_size=0.2, random_state=1)\n",
        "\n",
        "x_train.head()"
      ],
      "execution_count": 17,
      "outputs": [
        {
          "output_type": "execute_result",
          "data": {
            "text/html": [
              "<div>\n",
              "<style scoped>\n",
              "    .dataframe tbody tr th:only-of-type {\n",
              "        vertical-align: middle;\n",
              "    }\n",
              "\n",
              "    .dataframe tbody tr th {\n",
              "        vertical-align: top;\n",
              "    }\n",
              "\n",
              "    .dataframe thead th {\n",
              "        text-align: right;\n",
              "    }\n",
              "</style>\n",
              "<table border=\"1\" class=\"dataframe\">\n",
              "  <thead>\n",
              "    <tr style=\"text-align: right;\">\n",
              "      <th></th>\n",
              "      <th>log_price</th>\n",
              "      <th>accommodates</th>\n",
              "      <th>bathrooms</th>\n",
              "      <th>host_identity_verified</th>\n",
              "      <th>instant_bookable</th>\n",
              "      <th>number_of_reviews</th>\n",
              "      <th>review_scores_rating</th>\n",
              "      <th>bedrooms</th>\n",
              "      <th>beds</th>\n",
              "      <th>room_type_Entire home/apt</th>\n",
              "      <th>room_type_Private room</th>\n",
              "      <th>room_type_Shared room</th>\n",
              "      <th>bed_type_Airbed</th>\n",
              "      <th>bed_type_Couch</th>\n",
              "      <th>bed_type_Futon</th>\n",
              "      <th>bed_type_Pull-out Sofa</th>\n",
              "      <th>bed_type_Real Bed</th>\n",
              "      <th>city_Boston</th>\n",
              "      <th>city_Chicago</th>\n",
              "      <th>city_DC</th>\n",
              "      <th>city_LA</th>\n",
              "      <th>city_NYC</th>\n",
              "      <th>city_SF</th>\n",
              "      <th>cancellation_policy_flexible</th>\n",
              "      <th>cancellation_policy_moderate</th>\n",
              "      <th>cancellation_policy_strict</th>\n",
              "      <th>cancellation_policy_super_strict_30</th>\n",
              "      <th>cancellation_policy_super_strict_60</th>\n",
              "      <th>region_West</th>\n",
              "      <th>region_East</th>\n",
              "    </tr>\n",
              "  </thead>\n",
              "  <tbody>\n",
              "    <tr>\n",
              "      <th>36694</th>\n",
              "      <td>4.521789</td>\n",
              "      <td>2</td>\n",
              "      <td>1.0</td>\n",
              "      <td>1</td>\n",
              "      <td>0</td>\n",
              "      <td>100</td>\n",
              "      <td>99.0</td>\n",
              "      <td>1.0</td>\n",
              "      <td>1.0</td>\n",
              "      <td>0</td>\n",
              "      <td>1</td>\n",
              "      <td>0</td>\n",
              "      <td>0</td>\n",
              "      <td>0</td>\n",
              "      <td>0</td>\n",
              "      <td>0</td>\n",
              "      <td>1</td>\n",
              "      <td>0</td>\n",
              "      <td>0</td>\n",
              "      <td>0</td>\n",
              "      <td>1</td>\n",
              "      <td>0</td>\n",
              "      <td>0</td>\n",
              "      <td>1</td>\n",
              "      <td>0</td>\n",
              "      <td>0</td>\n",
              "      <td>0</td>\n",
              "      <td>0</td>\n",
              "      <td>1</td>\n",
              "      <td>0</td>\n",
              "    </tr>\n",
              "    <tr>\n",
              "      <th>50548</th>\n",
              "      <td>5.010635</td>\n",
              "      <td>3</td>\n",
              "      <td>1.0</td>\n",
              "      <td>1</td>\n",
              "      <td>0</td>\n",
              "      <td>10</td>\n",
              "      <td>100.0</td>\n",
              "      <td>1.0</td>\n",
              "      <td>2.0</td>\n",
              "      <td>1</td>\n",
              "      <td>0</td>\n",
              "      <td>0</td>\n",
              "      <td>0</td>\n",
              "      <td>0</td>\n",
              "      <td>0</td>\n",
              "      <td>0</td>\n",
              "      <td>1</td>\n",
              "      <td>0</td>\n",
              "      <td>0</td>\n",
              "      <td>1</td>\n",
              "      <td>0</td>\n",
              "      <td>0</td>\n",
              "      <td>0</td>\n",
              "      <td>0</td>\n",
              "      <td>1</td>\n",
              "      <td>0</td>\n",
              "      <td>0</td>\n",
              "      <td>0</td>\n",
              "      <td>0</td>\n",
              "      <td>1</td>\n",
              "    </tr>\n",
              "    <tr>\n",
              "      <th>7142</th>\n",
              "      <td>4.094345</td>\n",
              "      <td>2</td>\n",
              "      <td>1.0</td>\n",
              "      <td>1</td>\n",
              "      <td>0</td>\n",
              "      <td>34</td>\n",
              "      <td>92.0</td>\n",
              "      <td>1.0</td>\n",
              "      <td>1.0</td>\n",
              "      <td>0</td>\n",
              "      <td>1</td>\n",
              "      <td>0</td>\n",
              "      <td>0</td>\n",
              "      <td>0</td>\n",
              "      <td>0</td>\n",
              "      <td>0</td>\n",
              "      <td>1</td>\n",
              "      <td>0</td>\n",
              "      <td>0</td>\n",
              "      <td>0</td>\n",
              "      <td>0</td>\n",
              "      <td>1</td>\n",
              "      <td>0</td>\n",
              "      <td>0</td>\n",
              "      <td>1</td>\n",
              "      <td>0</td>\n",
              "      <td>0</td>\n",
              "      <td>0</td>\n",
              "      <td>0</td>\n",
              "      <td>1</td>\n",
              "    </tr>\n",
              "    <tr>\n",
              "      <th>36775</th>\n",
              "      <td>5.634790</td>\n",
              "      <td>2</td>\n",
              "      <td>1.0</td>\n",
              "      <td>0</td>\n",
              "      <td>1</td>\n",
              "      <td>3</td>\n",
              "      <td>87.0</td>\n",
              "      <td>0.0</td>\n",
              "      <td>1.0</td>\n",
              "      <td>1</td>\n",
              "      <td>0</td>\n",
              "      <td>0</td>\n",
              "      <td>0</td>\n",
              "      <td>0</td>\n",
              "      <td>0</td>\n",
              "      <td>0</td>\n",
              "      <td>1</td>\n",
              "      <td>1</td>\n",
              "      <td>0</td>\n",
              "      <td>0</td>\n",
              "      <td>0</td>\n",
              "      <td>0</td>\n",
              "      <td>0</td>\n",
              "      <td>1</td>\n",
              "      <td>0</td>\n",
              "      <td>0</td>\n",
              "      <td>0</td>\n",
              "      <td>0</td>\n",
              "      <td>0</td>\n",
              "      <td>1</td>\n",
              "    </tr>\n",
              "    <tr>\n",
              "      <th>65349</th>\n",
              "      <td>5.393628</td>\n",
              "      <td>4</td>\n",
              "      <td>1.0</td>\n",
              "      <td>1</td>\n",
              "      <td>0</td>\n",
              "      <td>3</td>\n",
              "      <td>100.0</td>\n",
              "      <td>1.0</td>\n",
              "      <td>1.0</td>\n",
              "      <td>0</td>\n",
              "      <td>1</td>\n",
              "      <td>0</td>\n",
              "      <td>0</td>\n",
              "      <td>0</td>\n",
              "      <td>1</td>\n",
              "      <td>0</td>\n",
              "      <td>0</td>\n",
              "      <td>0</td>\n",
              "      <td>0</td>\n",
              "      <td>0</td>\n",
              "      <td>0</td>\n",
              "      <td>1</td>\n",
              "      <td>0</td>\n",
              "      <td>0</td>\n",
              "      <td>1</td>\n",
              "      <td>0</td>\n",
              "      <td>0</td>\n",
              "      <td>0</td>\n",
              "      <td>0</td>\n",
              "      <td>1</td>\n",
              "    </tr>\n",
              "  </tbody>\n",
              "</table>\n",
              "</div>"
            ],
            "text/plain": [
              "       log_price  accommodates  ...  region_West  region_East\n",
              "36694   4.521789             2  ...            1            0\n",
              "50548   5.010635             3  ...            0            1\n",
              "7142    4.094345             2  ...            0            1\n",
              "36775   5.634790             2  ...            0            1\n",
              "65349   5.393628             4  ...            0            1\n",
              "\n",
              "[5 rows x 30 columns]"
            ]
          },
          "metadata": {
            "tags": []
          },
          "execution_count": 17
        }
      ]
    },
    {
      "cell_type": "code",
      "metadata": {
        "id": "PQhxGSyltBM2"
      },
      "source": [
        "from sklearn.preprocessing import StandardScaler\n",
        "ScaleObj = StandardScaler()\n",
        "ScaleObj.fit(x_train)\n",
        "\n",
        "X_train_scaled = ScaleObj.transform(x_train)\n",
        "X_test_scaled = ScaleObj.transform(x_test)"
      ],
      "execution_count": 18,
      "outputs": []
    },
    {
      "cell_type": "code",
      "metadata": {
        "colab": {
          "base_uri": "https://localhost:8080/"
        },
        "id": "D_C7avMrtBM2",
        "outputId": "ae48f343-5a00-44cc-bb86-e32907510816"
      },
      "source": [
        "print(\"{0:0.2f}% data is in training set\".format((len(x_train)/len(pdata.index)) * 100))\n",
        "print(\"{0:0.2f}% data is in test set\".format((len(x_test)/len(pdata.index)) * 100))"
      ],
      "execution_count": 19,
      "outputs": [
        {
          "output_type": "stream",
          "text": [
            "80.00% data is in training set\n",
            "20.00% data is in test set\n"
          ],
          "name": "stdout"
        }
      ]
    },
    {
      "cell_type": "code",
      "metadata": {
        "id": "KZ3cIueUtBM6"
      },
      "source": [
        "modelGRID = LogisticRegression()\n",
        "\n",
        "parameters = {'penalty': ['l2'],\n",
        "             'C': [.001,.75,10],\n",
        "             'solver': ['newton-cg','liblinear','sag','saga'],\n",
        "              'max_iter':[100,500]\n",
        "            }"
      ],
      "execution_count": 20,
      "outputs": []
    },
    {
      "cell_type": "code",
      "metadata": {
        "colab": {
          "base_uri": "https://localhost:8080/"
        },
        "id": "linQ84S1tBM6",
        "outputId": "3d688979-46c3-4017-f12e-93329ca36c20"
      },
      "source": [
        "from sklearn.model_selection import GridSearchCV\n",
        "gs = GridSearchCV(modelGRID,n_jobs=25,param_grid=parameters,cv=3,scoring='accuracy')\n",
        "gs.fit(X_train_scaled, y_train)\n",
        "gs.best_params_"
      ],
      "execution_count": 21,
      "outputs": [
        {
          "output_type": "execute_result",
          "data": {
            "text/plain": [
              "{'C': 0.001, 'max_iter': 100, 'penalty': 'l2', 'solver': 'liblinear'}"
            ]
          },
          "metadata": {
            "tags": []
          },
          "execution_count": 21
        }
      ]
    },
    {
      "cell_type": "code",
      "metadata": {
        "colab": {
          "base_uri": "https://localhost:8080/"
        },
        "id": "I_kLCddOtBM7",
        "outputId": "76f6a0c5-f0eb-43ec-a170-9a6babfd2823"
      },
      "source": [
        "gs.cv_results_['params']"
      ],
      "execution_count": 22,
      "outputs": [
        {
          "output_type": "execute_result",
          "data": {
            "text/plain": [
              "[{'C': 0.001, 'max_iter': 100, 'penalty': 'l2', 'solver': 'newton-cg'},\n",
              " {'C': 0.001, 'max_iter': 100, 'penalty': 'l2', 'solver': 'liblinear'},\n",
              " {'C': 0.001, 'max_iter': 100, 'penalty': 'l2', 'solver': 'sag'},\n",
              " {'C': 0.001, 'max_iter': 100, 'penalty': 'l2', 'solver': 'saga'},\n",
              " {'C': 0.001, 'max_iter': 500, 'penalty': 'l2', 'solver': 'newton-cg'},\n",
              " {'C': 0.001, 'max_iter': 500, 'penalty': 'l2', 'solver': 'liblinear'},\n",
              " {'C': 0.001, 'max_iter': 500, 'penalty': 'l2', 'solver': 'sag'},\n",
              " {'C': 0.001, 'max_iter': 500, 'penalty': 'l2', 'solver': 'saga'},\n",
              " {'C': 0.75, 'max_iter': 100, 'penalty': 'l2', 'solver': 'newton-cg'},\n",
              " {'C': 0.75, 'max_iter': 100, 'penalty': 'l2', 'solver': 'liblinear'},\n",
              " {'C': 0.75, 'max_iter': 100, 'penalty': 'l2', 'solver': 'sag'},\n",
              " {'C': 0.75, 'max_iter': 100, 'penalty': 'l2', 'solver': 'saga'},\n",
              " {'C': 0.75, 'max_iter': 500, 'penalty': 'l2', 'solver': 'newton-cg'},\n",
              " {'C': 0.75, 'max_iter': 500, 'penalty': 'l2', 'solver': 'liblinear'},\n",
              " {'C': 0.75, 'max_iter': 500, 'penalty': 'l2', 'solver': 'sag'},\n",
              " {'C': 0.75, 'max_iter': 500, 'penalty': 'l2', 'solver': 'saga'},\n",
              " {'C': 10, 'max_iter': 100, 'penalty': 'l2', 'solver': 'newton-cg'},\n",
              " {'C': 10, 'max_iter': 100, 'penalty': 'l2', 'solver': 'liblinear'},\n",
              " {'C': 10, 'max_iter': 100, 'penalty': 'l2', 'solver': 'sag'},\n",
              " {'C': 10, 'max_iter': 100, 'penalty': 'l2', 'solver': 'saga'},\n",
              " {'C': 10, 'max_iter': 500, 'penalty': 'l2', 'solver': 'newton-cg'},\n",
              " {'C': 10, 'max_iter': 500, 'penalty': 'l2', 'solver': 'liblinear'},\n",
              " {'C': 10, 'max_iter': 500, 'penalty': 'l2', 'solver': 'sag'},\n",
              " {'C': 10, 'max_iter': 500, 'penalty': 'l2', 'solver': 'saga'}]"
            ]
          },
          "metadata": {
            "tags": []
          },
          "execution_count": 22
        }
      ]
    },
    {
      "cell_type": "code",
      "metadata": {
        "colab": {
          "base_uri": "https://localhost:8080/"
        },
        "id": "fm73POAXtBM7",
        "outputId": "b21ad5be-caa8-4b0a-95be-ad4d6bcd5ea6"
      },
      "source": [
        "gs.cv_results_['mean_test_score']"
      ],
      "execution_count": 23,
      "outputs": [
        {
          "output_type": "execute_result",
          "data": {
            "text/plain": [
              "array([0.73416124, 0.73734649, 0.73416124, 0.73416124, 0.73416124,\n",
              "       0.73734649, 0.73416124, 0.73416124, 0.73603149, 0.73603149,\n",
              "       0.73603149, 0.73603149, 0.73603149, 0.73603149, 0.73603149,\n",
              "       0.73603149, 0.73603149, 0.73603149, 0.73603149, 0.73603149,\n",
              "       0.73603149, 0.73603149, 0.73603149, 0.73603149])"
            ]
          },
          "metadata": {
            "tags": []
          },
          "execution_count": 23
        }
      ]
    },
    {
      "cell_type": "code",
      "metadata": {
        "colab": {
          "base_uri": "https://localhost:8080/"
        },
        "id": "yBSacK-itBM8",
        "outputId": "b24c9337-1563-47da-8a08-030964b9abc2"
      },
      "source": [
        "train_score=[]\n",
        "test_score=[]\n",
        "solver = ['newton-cg','liblinear','sag','saga']\n",
        "for i in solver:\n",
        "    model = LogisticRegression(random_state=42,penalty='l2', C = 0.001,solver=i, max_iter=100)  # changing values of solver\n",
        "    model.fit(X_train_scaled, y_train) \n",
        "    y_predict = model.predict(X_test_scaled)     \n",
        "    train_score.append(round(model.score(X_train_scaled, y_train),3))\n",
        "    test_score.append(round(model.score(X_test_scaled, y_test),3))\n",
        "    \n",
        "print(solver)\n",
        "print()\n",
        "print(train_score)\n",
        "print()\n",
        "print(test_score)"
      ],
      "execution_count": 24,
      "outputs": [
        {
          "output_type": "stream",
          "text": [
            "['newton-cg', 'liblinear', 'sag', 'saga']\n",
            "\n",
            "[0.736, 0.738, 0.736, 0.736]\n",
            "\n",
            "[0.733, 0.735, 0.733, 0.733]\n"
          ],
          "name": "stdout"
        }
      ]
    },
    {
      "cell_type": "code",
      "metadata": {
        "colab": {
          "base_uri": "https://localhost:8080/"
        },
        "id": "oDH9wIHItBM3",
        "outputId": "583c9c30-ab16-409a-b9b0-75ba4c2306ef"
      },
      "source": [
        "\n",
        "# Fit the model on train\n",
        "modelFINAL = LogisticRegression(random_state=42,penalty='l2', C = 0.001,solver='liblinear', max_iter=100)\n",
        "modelFINAL.fit(X_train_scaled, y_train)\n",
        "#predict on test\n",
        "y_predict = modelFINAL.predict(X_test_scaled)\n",
        "model_score = round(modelFINAL.score(X_test_scaled,y_test),ndigits=3)\n",
        "print(model_score)\n"
      ],
      "execution_count": 33,
      "outputs": [
        {
          "output_type": "stream",
          "text": [
            "0.735\n"
          ],
          "name": "stdout"
        }
      ]
    },
    {
      "cell_type": "code",
      "metadata": {
        "colab": {
          "base_uri": "https://localhost:8080/"
        },
        "id": "uhS8JkJXtBM4",
        "outputId": "462b75be-267f-4da1-c664-cbb134487ea0"
      },
      "source": [
        "modelFINAL.get_params()"
      ],
      "execution_count": 27,
      "outputs": [
        {
          "output_type": "execute_result",
          "data": {
            "text/plain": [
              "{'C': 0.001,\n",
              " 'class_weight': None,\n",
              " 'dual': False,\n",
              " 'fit_intercept': True,\n",
              " 'intercept_scaling': 1,\n",
              " 'l1_ratio': None,\n",
              " 'max_iter': 100,\n",
              " 'multi_class': 'auto',\n",
              " 'n_jobs': None,\n",
              " 'penalty': 'l2',\n",
              " 'random_state': 42,\n",
              " 'solver': 'liblinear',\n",
              " 'tol': 0.0001,\n",
              " 'verbose': 0,\n",
              " 'warm_start': False}"
            ]
          },
          "metadata": {
            "tags": []
          },
          "execution_count": 27
        }
      ]
    },
    {
      "cell_type": "code",
      "metadata": {
        "id": "WI1VoySqtBM8",
        "colab": {
          "base_uri": "https://localhost:8080/"
        },
        "outputId": "3467a3f8-2afa-4a43-c105-c185cb469ae0"
      },
      "source": [
        "#class example\n",
        "weights = modelFINAL.coef_.T\n",
        "variable_names = x_train.columns\n",
        "for coef,name in zip(weights, variable_names):\n",
        "    print(name, 'has weight of', round(coef[0],ndigits=2))"
      ],
      "execution_count": 26,
      "outputs": [
        {
          "output_type": "stream",
          "text": [
            "log_price has weight of -0.06\n",
            "accommodates has weight of 0.1\n",
            "bathrooms has weight of 0.29\n",
            "host_identity_verified has weight of -0.03\n",
            "instant_bookable has weight of -0.03\n",
            "number_of_reviews has weight of 0.07\n",
            "review_scores_rating has weight of 0.11\n",
            "bedrooms has weight of 0.22\n",
            "beds has weight of 0.11\n",
            "room_type_Entire home/apt has weight of -0.23\n",
            "room_type_Private room has weight of 0.23\n",
            "room_type_Shared room has weight of 0.01\n",
            "bed_type_Airbed has weight of -0.01\n",
            "bed_type_Couch has weight of -0.03\n",
            "bed_type_Futon has weight of 0.0\n",
            "bed_type_Pull-out Sofa has weight of -0.0\n",
            "bed_type_Real Bed has weight of 0.01\n",
            "city_Boston has weight of 0.05\n",
            "city_Chicago has weight of -0.0\n",
            "city_DC has weight of 0.19\n",
            "city_LA has weight of 0.17\n",
            "city_NYC has weight of -0.29\n",
            "city_SF has weight of 0.04\n",
            "cancellation_policy_flexible has weight of 0.01\n",
            "cancellation_policy_moderate has weight of 0.03\n",
            "cancellation_policy_strict has weight of -0.03\n",
            "cancellation_policy_super_strict_30 has weight of -0.03\n",
            "cancellation_policy_super_strict_60 has weight of 0.04\n",
            "region_West has weight of 0.18\n",
            "region_East has weight of -0.18\n"
          ],
          "name": "stdout"
        }
      ]
    },
    {
      "cell_type": "code",
      "metadata": {
        "colab": {
          "base_uri": "https://localhost:8080/",
          "height": 543
        },
        "id": "oVcTwKH3tBM5",
        "outputId": "37d7b5c8-4cff-44be-8ab6-44bdd134907a"
      },
      "source": [
        "from sklearn.metrics import classification_report, confusion_matrix\n",
        "from sklearn.linear_model import LogisticRegression\n",
        "\n",
        "## function to get confusion matrix in a proper format\n",
        "def draw_cm( actual, predicted ):\n",
        "    cm = confusion_matrix( actual, predicted)\n",
        "    sns.heatmap(cm, annot=True,  fmt='.2f', xticklabels = [0,1] , yticklabels = [0,1] )\n",
        "    plt.ylabel('Observed')\n",
        "    plt.xlabel('Predicted')\n",
        "    plt.show()\n",
        "\n",
        "print(\"Trainig accuracy\",round(modelFINAL.score(X_train_scaled,y_train),ndigits=2))\n",
        "print()\n",
        "print(\"Testing accuracy\",round(modelFINAL.score(X_test_scaled, y_test),ndigits=2))\n",
        "print()\n",
        "print('Confusion Matrix')\n",
        "print(draw_cm(y_test,y_predict))\n",
        "\n",
        "print(classification_report(y_test,y_predict))"
      ],
      "execution_count": 28,
      "outputs": [
        {
          "output_type": "stream",
          "text": [
            "Trainig accuracy 0.74\n",
            "\n",
            "Testing accuracy 0.73\n",
            "\n",
            "Confusion Matrix\n"
          ],
          "name": "stdout"
        },
        {
          "output_type": "display_data",
          "data": {
            "image/png": "[encoded data removed]",
            "text/plain": [
              "<Figure size 432x288 with 2 Axes>"
            ]
          },
          "metadata": {
            "tags": [],
            "needs_background": "light"
          }
        },
        {
          "output_type": "stream",
          "text": [
            "None\n",
            "              precision    recall  f1-score   support\n",
            "\n",
            "           1       0.76      0.86      0.81      5494\n",
            "           2       0.67      0.51      0.58      3061\n",
            "\n",
            "    accuracy                           0.73      8555\n",
            "   macro avg       0.71      0.69      0.69      8555\n",
            "weighted avg       0.73      0.73      0.73      8555\n",
            "\n"
          ],
          "name": "stdout"
        }
      ]
    },
    {
      "cell_type": "code",
      "metadata": {
        "colab": {
          "base_uri": "https://localhost:8080/"
        },
        "id": "1DvARD9btBM-",
        "outputId": "ea08a90e-31b7-488a-d953-1a072fadaf92"
      },
      "source": [
        "#https://michael-fuchs-python.netlify.app/2019/11/11/introduction-to-sgd-classifier/\n",
        "\n",
        "from sklearn.linear_model import SGDClassifier\n",
        "from sklearn.metrics import accuracy_score\n",
        "from sklearn.model_selection import GridSearchCV\n",
        "params = {\n",
        "    \"loss\" : [\"hinge\", \"log\", \"squared_hinge\", \"modified_huber\", \"perceptron\"],\n",
        "    \"alpha\" : [0.0001, 0.001, 0.01, 0.1],\n",
        "    \"penalty\" : [\"l2\"],\n",
        "}\n",
        "clf = SGDClassifier()\n",
        "grid = GridSearchCV(clf, param_grid=params, cv=3)\n",
        "grid.fit(X_train_scaled, y_train)\n",
        "print(grid.best_params_)"
      ],
      "execution_count": 29,
      "outputs": [
        {
          "output_type": "stream",
          "text": [
            "{'alpha': 0.001, 'loss': 'hinge', 'penalty': 'l2'}\n"
          ],
          "name": "stdout"
        }
      ]
    },
    {
      "cell_type": "code",
      "metadata": {
        "colab": {
          "base_uri": "https://localhost:8080/",
          "height": 313
        },
        "id": "5AQOYZpB-JYf",
        "outputId": "f29f8a33-9fb4-43c7-d9ff-c71e90884f8a"
      },
      "source": [
        "losses = [\"hinge\", \"log\", \"modified_huber\", \"perceptron\", \"squared_hinge\"]\n",
        "scores = []\n",
        "for loss in losses:\n",
        "    clf = SGDClassifier(loss='hinge', penalty=\"l2\", alpha=0.001, max_iter=1000)\n",
        "    clf.fit(X_train_scaled, y_train)\n",
        "    scores.append(clf.score(X_test_scaled, y_test))\n",
        "plt.title(\"Effect of loss\")\n",
        "plt.xlabel(\"loss\")\n",
        "plt.ylabel(\"score\")\n",
        "x = np.arange(len(losses))\n",
        "plt.xticks(x, losses)\n",
        "plt.plot(x, scores)"
      ],
      "execution_count": 46,
      "outputs": [
        {
          "output_type": "execute_result",
          "data": {
            "text/plain": [
              "[<matplotlib.lines.Line2D at 0x7f2962b01450>]"
            ]
          },
          "metadata": {
            "tags": []
          },
          "execution_count": 46
        },
        {
          "output_type": "display_data",
          "data": {
            "image/png": "[encoded data removed]",
            "text/plain": [
              "<Figure size 432x288 with 1 Axes>"
            ]
          },
          "metadata": {
            "tags": [],
            "needs_background": "light"
          }
        }
      ]
    },
    {
      "cell_type": "code",
      "metadata": {
        "colab": {
          "base_uri": "https://localhost:8080/"
        },
        "id": "moDVUhXJtBM9",
        "outputId": "62364e42-26d2-4293-96bf-11b4ec0c2b0e"
      },
      "source": [
        "svm_model = SGDClassifier(alpha= 0.001, loss= 'hinge', penalty='l2')\n",
        "svm_model.fit(X_train_scaled, y_train)\n",
        "grid_predictions = svm_model.predict(X_test_scaled)\n",
        "print('Accuracy: {:.2f}'.format(accuracy_score(y_test, grid_predictions)))"
      ],
      "execution_count": 31,
      "outputs": [
        {
          "output_type": "stream",
          "text": [
            "Accuracy: 0.73\n"
          ],
          "name": "stdout"
        }
      ]
    },
    {
      "cell_type": "code",
      "metadata": {
        "colab": {
          "base_uri": "https://localhost:8080/",
          "height": 455
        },
        "id": "vjrTdGHRBCbY",
        "outputId": "44c814c5-1011-4075-a55d-835f2f7bbc83"
      },
      "source": [
        "print(draw_cm(y_test, grid_predictions))\n",
        "print(classification_report(y_test, grid_predictions))"
      ],
      "execution_count": 32,
      "outputs": [
        {
          "output_type": "display_data",
          "data": {
            "image/png": "[encoded data removed]",
            "text/plain": [
              "<Figure size 432x288 with 2 Axes>"
            ]
          },
          "metadata": {
            "tags": [],
            "needs_background": "light"
          }
        },
        {
          "output_type": "stream",
          "text": [
            "None\n",
            "              precision    recall  f1-score   support\n",
            "\n",
            "           1       0.76      0.85      0.80      5494\n",
            "           2       0.66      0.52      0.58      3061\n",
            "\n",
            "    accuracy                           0.73      8555\n",
            "   macro avg       0.71      0.68      0.69      8555\n",
            "weighted avg       0.72      0.73      0.72      8555\n",
            "\n"
          ],
          "name": "stdout"
        }
      ]
    }
  ]
}